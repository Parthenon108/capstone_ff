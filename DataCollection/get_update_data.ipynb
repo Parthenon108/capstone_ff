{
 "cells": [
  {
   "cell_type": "code",
   "execution_count": 2,
   "metadata": {},
   "outputs": [],
   "source": [
    "import pandas as pd\n",
    "import numpy as np \n",
    "import json\n",
    "import xml.etree.ElementTree as ET\n",
    "\n",
    "# Set the notebook to display all columns of a dataframe\n",
    "pd.set_option('display.max_columns', None)\n",
    "\n",
    "# Import the event data \n",
    "files = ['Persist_EventRawResultItem_1.parquet', 'Persist_EventRawResultItem_2.parquet']\n",
    "\n",
    "df = pd.DataFrame()\n",
    "for file in files:\n",
    "\n",
    "    # Read in parquet file \n",
    "    in_df = pd.read_parquet('assets/' + file)\n",
    "\n",
    "    # Filter for update data\n",
    "    in_df = in_df[in_df['ProviderName'] == 'Microsoft-Windows-WindowsUpdateClient']\n",
    "\n",
    "    # Add dataset to df \n",
    "    df = pd.concat([df, in_df], axis=0)"
   ]
  },
  {
   "cell_type": "code",
   "execution_count": 16,
   "metadata": {},
   "outputs": [],
   "source": [
    "def clean_xml(in_str):\n",
    "\n",
    "    # Clean the XML string\n",
    "    xml_str2 = in_str.replace(' xmlns=\"http://schemas.microsoft.com/win/2004/08/events/event\"','').replace('&lt;', '<').replace('&gt;', '>').replace('<![CDATA[', '').replace(']]>', '')\n",
    "\n",
    "    #Blank dict to add data\n",
    "    out_dict = {}\n",
    "\n",
    "    # Parse the xml \n",
    "    root = ET.fromstring(xml_str2)\n",
    "\n",
    "    # Get the update data \n",
    "    out_dict = {val.attrib[\"Name\"]: val.text for val in root.find('.//EventData')}\n",
    "\n",
    "    return out_dict\n",
    "\n",
    "def expand_dict_values(in_df):\n",
    "\n",
    "    # only get fields that are non-null\n",
    "    expanded_fields = in_df['dict_EventData'][in_df['dict_EventData'].notnull()]\n",
    "\n",
    "    # expand attributes\n",
    "    expanded_fields = expanded_fields.apply(pd.Series)\n",
    "        \n",
    "    # Join with remaining data      \n",
    "    result = pd.merge(in_df, expanded_fields, \n",
    "                        how = 'left', right_index = True, left_index=True)\n",
    "\n",
    "    return result"
   ]
  },
  {
   "cell_type": "code",
   "execution_count": 17,
   "metadata": {},
   "outputs": [],
   "source": [
    "df['dict_EventData'] = df['EventDataXML'].apply(lambda x: clean_xml(x))\n",
    "out_df = expand_dict_values(df)"
   ]
  },
  {
   "cell_type": "code",
   "execution_count": null,
   "metadata": {},
   "outputs": [],
   "source": [
    "def anonymize_field(in_df, in_field):\n",
    "\n",
    "    # Get unique values for the field \n",
    "    out_values = list(in_df[in_field].unique())\n",
    "\n",
    "    # Define an output dataframe for ID mapping \n",
    "    output_df = pd.DataFrame({\"Value\": out_values, \n",
    "                                \"id\": list(range(1, len(out_values)+1))})\n",
    "\n",
    "    # Convert data to dictionary\n",
    "    output_df = output_df.set_index(\"Value\")\n",
    "    out_dict = output_df.to_dict(orient='index')\n",
    "\n",
    "    # Apply the dictionary to the data to anonymize softwares\n",
    "    in_df[in_field] = in_df[in_field].apply(lambda x: out_dict[x]['id'] if pd.notnull(x) else np.nan)\n",
    "\n",
    "    # Save attribute-id mapping to json\n",
    "    with open('assets/'+in_field +'.json', 'w') as f:\n",
    "        json.dump(out_dict, f)\n",
    "\n",
    "    return in_df\n",
    "\n",
    "a = anonymize_field(out_df, 'updateTitle')"
   ]
  },
  {
   "cell_type": "code",
   "execution_count": 32,
   "metadata": {},
   "outputs": [],
   "source": [
    "# Remove unneeded columns\n",
    "unneeded = ['EventDataXML', 'dict_EventData']\n",
    "out_df = out_df[[col for col in out_df.columns if col not in unneeded]]"
   ]
  },
  {
   "cell_type": "code",
   "execution_count": 35,
   "metadata": {},
   "outputs": [],
   "source": [
    "out_df.to_parquet('assets/update_events.parquet', index=False)"
   ]
  }
 ],
 "metadata": {
  "kernelspec": {
   "display_name": "Python 3",
   "language": "python",
   "name": "python3"
  },
  "language_info": {
   "codemirror_mode": {
    "name": "ipython",
    "version": 3
   },
   "file_extension": ".py",
   "mimetype": "text/x-python",
   "name": "python",
   "nbconvert_exporter": "python",
   "pygments_lexer": "ipython3",
   "version": "3.11.3"
  },
  "orig_nbformat": 4
 },
 "nbformat": 4,
 "nbformat_minor": 2
}

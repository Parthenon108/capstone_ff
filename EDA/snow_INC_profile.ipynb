{
 "cells": [
  {
   "cell_type": "code",
   "execution_count": 3,
   "metadata": {},
   "outputs": [
    {
     "name": "stderr",
     "output_type": "stream",
     "text": [
      "C:\\Users\\JRankin\\AppData\\Local\\Temp\\ipykernel_4920\\3670244283.py:9: DtypeWarning: Columns (0,2,3,4,8,23,37,42,47,48,49,57,67,74,80,86,91,92,94,97,101,103) have mixed types. Specify dtype option on import or set low_memory=False.\n",
      "  inc_df = pd.read_csv(r'do_not_commit\\Datasets\\SerivceNow_Incident.csv')\n"
     ]
    }
   ],
   "source": [
    "import pandas as pd\n",
    "import numpy as np\n",
    "import altair as alt\n",
    "\n",
    "# Set the notebook to display all columns of a dataframe\n",
    "pd.set_option('display.max_columns', None)\n",
    "\n",
    "# import service now data \n",
    "inc_df = pd.read_csv(r'do_not_commit\\Datasets\\SerivceNow_Incident.csv')\n"
   ]
  },
  {
   "cell_type": "code",
   "execution_count": 8,
   "metadata": {},
   "outputs": [],
   "source": [
    "# Reformat date time to date \n",
    "inc_df['opened_at'] = pd.to_datetime(inc_df['opened_at'])\n",
    "inc_df['opened_at_formatted'] = inc_df['opened_at'].dt.strftime('%Y-%m-%d')"
   ]
  },
  {
   "cell_type": "code",
   "execution_count": 10,
   "metadata": {},
   "outputs": [
    {
     "name": "stdout",
     "output_type": "stream",
     "text": [
      "416\n"
     ]
    },
    {
     "data": {
      "text/plain": [
       "opened_at_formatted  configuration_item\n",
       "2023-01-03           CHI-L-U33511          2\n",
       "                     LOE-D-U25294          2\n",
       "                     MWE-L-U29955          2\n",
       "2023-01-04           MIL-L-U21470          2\n",
       "                     MIL-L-U30749          2\n",
       "                                          ..\n",
       "2023-07-05           MIL-L-U34247          2\n",
       "                     TCF-L-U34494          2\n",
       "2023-07-06           MIL-D-U25226          2\n",
       "2023-07-10           CHI-L-U34590          2\n",
       "                     PIT-L-U33237          2\n",
       "Length: 200, dtype: int64"
      ]
     },
     "execution_count": 10,
     "metadata": {},
     "output_type": "execute_result"
    }
   ],
   "source": [
    "grouped_counts = inc_df.groupby(['opened_at_formatted', 'configuration_item']).size()\n",
    "print(grouped_counts[grouped_counts > 1].sum())\n",
    "grouped_counts[grouped_counts > 1]"
   ]
  },
  {
   "cell_type": "code",
   "execution_count": null,
   "metadata": {},
   "outputs": [],
   "source": []
  }
 ],
 "metadata": {
  "kernelspec": {
   "display_name": "Python 3",
   "language": "python",
   "name": "python3"
  },
  "language_info": {
   "codemirror_mode": {
    "name": "ipython",
    "version": 3
   },
   "file_extension": ".py",
   "mimetype": "text/x-python",
   "name": "python",
   "nbconvert_exporter": "python",
   "pygments_lexer": "ipython3",
   "version": "3.11.3"
  },
  "orig_nbformat": 4
 },
 "nbformat": 4,
 "nbformat_minor": 2
}

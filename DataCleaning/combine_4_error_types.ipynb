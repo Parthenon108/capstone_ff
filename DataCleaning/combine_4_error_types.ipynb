{
 "cells": [
  {
   "cell_type": "code",
   "execution_count": 323,
   "metadata": {
    "collapsed": true,
    "ExecuteTime": {
     "end_time": "2023-08-09T00:30:18.290617404Z",
     "start_time": "2023-08-09T00:30:17.900385328Z"
    }
   },
   "outputs": [],
   "source": [
    "import pandas as pd\n",
    "import numpy as np\n",
    "from functools import reduce\n",
    "import pytz\n",
    "import missingno as msno\n",
    "import altair as alt"
   ]
  },
  {
   "cell_type": "markdown",
   "source": [
    "\n",
    "[Shift time for TimeCreatedSystemTime to UTC](#timeshift)\n",
    "[Join machines to events](#machines_events)\n"
   ],
   "metadata": {
    "collapsed": false
   }
  },
  {
   "cell_type": "code",
   "execution_count": 324,
   "outputs": [],
   "source": [
    "# These are the datasets uploaded by Jacob to blob storage:\n",
    "df_app = pd.read_parquet('../do_not_commit/Datasets/AppErrorEvents.parquet')\n",
    "df_win = pd.read_parquet('../do_not_commit/Datasets/WindowsErrorEvents.parquet')\n",
    "df_hang = pd.read_parquet('../do_not_commit/Datasets/AppHangEvents.parquet')"
   ],
   "metadata": {
    "collapsed": false,
    "ExecuteTime": {
     "end_time": "2023-08-09T00:30:19.196990305Z",
     "start_time": "2023-08-09T00:30:17.943128292Z"
    }
   }
  },
  {
   "cell_type": "code",
   "execution_count": 325,
   "outputs": [
    {
     "name": "stdout",
     "output_type": "stream",
     "text": [
      "268149\n",
      "9836\n",
      "40811\n"
     ]
    }
   ],
   "source": [
    "print(len(df_app))\n",
    "print(len(df_win))\n",
    "print(len(df_hang))"
   ],
   "metadata": {
    "collapsed": false,
    "ExecuteTime": {
     "end_time": "2023-08-09T00:30:19.218516312Z",
     "start_time": "2023-08-09T00:30:18.277875685Z"
    }
   }
  },
  {
   "cell_type": "code",
   "execution_count": 326,
   "outputs": [],
   "source": [
    "df_app['error_type'] = \"Application\"\n",
    "df_win['error_type'] = 'Windows'\n",
    "df_hang['error_type'] = 'Hang'"
   ],
   "metadata": {
    "collapsed": false,
    "ExecuteTime": {
     "end_time": "2023-08-09T00:30:19.218627438Z",
     "start_time": "2023-08-09T00:30:18.278073462Z"
    }
   }
  },
  {
   "cell_type": "markdown",
   "source": [
    "\n",
    "Do this in one or two ways:\n",
    "1. Add use suffixes= in pd.merge() to explicitly assign each column/variable to its original error type.\n",
    "2. Combine values for common columns into the same column, add a new column for each of the 4 for its error type, e.g. \"Hang\", and not assign column suffixes (use pd.concat([dataframes])).\n",
    "\n",
    "Given from the original XML exercise columns with the same name in different sets represented the same variable, preferred approach is #2.\n"
   ],
   "metadata": {
    "collapsed": false
   }
  },
  {
   "cell_type": "code",
   "execution_count": 327,
   "outputs": [],
   "source": [
    "def get_compare_chart(in_data, in_col, in_title):\n",
    "    \"\"\"\n",
    "    # Visualize codes by EventName in df_win['EventName'].\n",
    "\n",
    "    :param in_data:\n",
    "    :param in_col:\n",
    "    :param in_title:\n",
    "    :return:\n",
    "    \"\"\"\n",
    "\n",
    "    count_df2 = in_data.groupby(in_col).size().reset_index().rename(columns={0: 'count'})\n",
    "    # Sort order for chart\n",
    "    count_df2.sort_values('count', ascending=False, inplace=True)\n",
    "    sort_order = [val for val in count_df2[in_col].unique()]\n",
    "    out_chart = alt.Chart(count_df2).mark_bar().encode(\n",
    "        x=alt.X('count:Q'),\n",
    "        y=alt.Y(in_col + ':N', sort=sort_order),\n",
    "        tooltip='count:Q'\n",
    "    ).properties(title=in_title)\n",
    "    return out_chart\n",
    "\n",
    "\n",
    "def show_bar_for_win_event(eventname_list, in_df, visualize_attr):\n",
    "    for eventname in eventname_list:\n",
    "        current_df = in_df[in_df['EventName'] == eventname]\n",
    "        out_chart = get_compare_chart(current_df, visualize_attr,\n",
    "                                      f'Counts of {visualize_attr} types for {eventname} events')\n",
    "        yield out_chart"
   ],
   "metadata": {
    "collapsed": false,
    "ExecuteTime": {
     "end_time": "2023-08-09T00:30:19.218685575Z",
     "start_time": "2023-08-09T00:30:18.278199764Z"
    }
   }
  },
  {
   "cell_type": "code",
   "execution_count": 328,
   "outputs": [],
   "source": [
    "# Get the event names\n",
    "eventnames = df_win['EventName'].unique()\n",
    "charts = show_bar_for_win_event(eventnames, df_win, 'ProblemSignatureP3')"
   ],
   "metadata": {
    "collapsed": false,
    "ExecuteTime": {
     "end_time": "2023-08-09T00:30:19.218738464Z",
     "start_time": "2023-08-09T00:30:18.278346898Z"
    }
   }
  },
  {
   "cell_type": "code",
   "execution_count": 329,
   "outputs": [],
   "source": [
    "# current_chart = next(charts)\n",
    "# current_chart"
   ],
   "metadata": {
    "collapsed": false,
    "ExecuteTime": {
     "end_time": "2023-08-09T00:30:19.219090883Z",
     "start_time": "2023-08-09T00:30:18.321506617Z"
    }
   }
  },
  {
   "cell_type": "code",
   "execution_count": 330,
   "outputs": [
    {
     "data": {
      "text/plain": "array(['crashpad_exp', 'APPCRASH', 'AppHangB1', 'MoAppHang', 'BEX64',\n       'MoAppCrash', 'MoBEX', 'CLR20r3', 'BEX', 'AppHangXProcB1',\n       'LiveKernelEvent', 'MoAppHangXProc', 'POFContextAppCrash',\n       'ServiceHang', 'CbsPackageServicingFailure2',\n       'CriticalProcessFault2', 'crashpad_jserror', 'WUDFVerifierFailure'],\n      dtype=object)"
     },
     "execution_count": 330,
     "metadata": {},
     "output_type": "execute_result"
    }
   ],
   "source": [
    "eventnames"
   ],
   "metadata": {
    "collapsed": false,
    "ExecuteTime": {
     "end_time": "2023-08-09T00:30:19.219259759Z",
     "start_time": "2023-08-09T00:30:18.321691800Z"
    }
   }
  },
  {
   "cell_type": "code",
   "execution_count": 331,
   "outputs": [
    {
     "name": "stdout",
     "output_type": "stream",
     "text": [
      "1569\n",
      "9836\n"
     ]
    }
   ],
   "source": [
    "print(df_win['ProblemSignatureP3'].str.contains('.dll').sum())\n",
    "print(len(df_win))"
   ],
   "metadata": {
    "collapsed": false,
    "ExecuteTime": {
     "end_time": "2023-08-09T00:30:19.219364400Z",
     "start_time": "2023-08-09T00:30:18.321817077Z"
    }
   }
  },
  {
   "cell_type": "markdown",
   "source": [
    "\n",
    "-  crashpad_exp has only .dll EventItems\n",
    "-  APPCRASH has 1 .dll and many alphanumeric codes\n",
    "-  AppHangB1 has only hexadecimal codes\n",
    "-  MoAppHang has IP-style codes\n",
    "-  BEX64 has only alphanumeric codes\n",
    "-  MoAppCrash has IP-style codes\n",
    "-  MoBEX has IP-style codes\n",
    "-  CLR20r3 has hexadecimal codes\n",
    "-  BEX has hexadecimal codes\n",
    "-  AppHangXProcB1 has hexadecimal codes\n",
    "-  LiveKernelEvent has single numbers, single letters, and (many) alphanumeric codes\n",
    "-  MoAppHangXProc events has 2 IP-style codes\n",
    "-  POFContextAppCrash has IP-style codes\n",
    "-  ServiceHang has IP-style codes\n",
    "-  CbsPackageServicingFailure2 has IP-style codes\n",
    "-  CriticalProcessFault2 has 1 alphanumeric code and 1 00000000 code\n",
    "-  crashpad_jserror has webui-pdf code\n",
    "-  WUDFVerifierFailure has 'Driver 'code\n"
   ],
   "metadata": {
    "collapsed": false
   }
  },
  {
   "cell_type": "code",
   "execution_count": 332,
   "outputs": [],
   "source": [
    "# COALESCE() in order: https://www.statology.org/pandas-coalesce/\n",
    "df_win['Combined_dll'] = df_win[['ProblemSignatureP3', 'ProblemSignatureP6']].bfill(axis=1).iloc[:, 0]\n",
    "df_win['Combined_dll'] = df_win['Combined_dll'].apply(lambda x: x if '.dll' in str(x) else np.nan)\n",
    "df_win.drop(columns=['ProblemSignatureP3', 'ProblemSignatureP6'], inplace=True)"
   ],
   "metadata": {
    "collapsed": false,
    "ExecuteTime": {
     "end_time": "2023-08-09T00:30:19.219422744Z",
     "start_time": "2023-08-09T00:30:18.321952043Z"
    }
   }
  },
  {
   "cell_type": "code",
   "execution_count": 333,
   "outputs": [],
   "source": [
    "df_app.rename(\n",
    "    columns={\n",
    "        'FaultingApplicationName':'Combined_Application',\n",
    "        'ProgramId':'ProgramID',\n",
    "        'FileId':'FileID',\n",
    "        'AppVersion':'Combined_Version',\n",
    "        'ExceptionCode':'Combined_Exception',\n",
    "        'FaultingProcessId':'Combined_ProcessID',\n",
    "        'ReportId':'Combined_ReportID',\n",
    "        'FaultingApplicationStartTime':'Combined_StartTime',\n",
    "        'FaultingModuleName':'Combined_dll'\n",
    "    },\n",
    "    inplace=True\n",
    ")\n",
    "\n",
    "df_win.rename(\n",
    "    columns={\n",
    "        'ProblemSignatureP1_Application':'Combined_Application',\n",
    "        'ProblemSignatureP2_AppVersion':'Combined_Version',\n",
    "        'ProblemSignatureP7_ExceptionCode':'Combined_Exception',\n",
    "        'ReportID':'Combined_ReportID',\n",
    "        'CabGuid':'CabGUID'\n",
    "    },\n",
    "    inplace=True\n",
    ")\n",
    "\n",
    "df_hang.rename(\n",
    "    columns={\n",
    "        'ProgramId':'ProgramID',\n",
    "        'FileId':'FileID',\n",
    "        'Program':'Combined_Application',\n",
    "        'ProgramVersion':'Combined_Version',\n",
    "        'ProcessID':'Combined_ProcessID',\n",
    "        'ReportID':'Combined_ReportID',\n",
    "        'StartTime':'Combined_StartTime'\n",
    "    },\n",
    "    inplace=True\n",
    ")"
   ],
   "metadata": {
    "collapsed": false,
    "ExecuteTime": {
     "end_time": "2023-08-09T00:30:19.219473459Z",
     "start_time": "2023-08-09T00:30:18.322072647Z"
    }
   }
  },
  {
   "cell_type": "code",
   "execution_count": 334,
   "outputs": [],
   "source": [
    "events = pd.concat([df_app, df_win, df_hang])\n",
    "events.reset_index(inplace=True)\n",
    "events.dropna(axis=1, how='all', inplace=True) # Dropping columns with nothing in them.\n",
    "# msno.matrix(events.iloc[:, 20:], labels=True, fontsize=8)"
   ],
   "metadata": {
    "collapsed": false,
    "ExecuteTime": {
     "end_time": "2023-08-09T00:30:19.887027223Z",
     "start_time": "2023-08-09T00:30:18.322182931Z"
    }
   }
  },
  {
   "cell_type": "code",
   "execution_count": 335,
   "outputs": [
    {
     "data": {
      "text/plain": "318796"
     },
     "execution_count": 335,
     "metadata": {},
     "output_type": "execute_result"
    }
   ],
   "source": [
    "len(events)"
   ],
   "metadata": {
    "collapsed": false,
    "ExecuteTime": {
     "end_time": "2023-08-09T00:30:19.893029392Z",
     "start_time": "2023-08-09T00:30:19.887528045Z"
    }
   }
  },
  {
   "cell_type": "markdown",
   "source": [
    "\n",
    "<a id=\"machines_events\"></a>\n",
    "# Join events with machines.\n"
   ],
   "metadata": {
    "collapsed": false
   }
  },
  {
   "cell_type": "code",
   "execution_count": 336,
   "outputs": [],
   "source": [
    "machines = pd.read_parquet('../do_not_commit/Datasets/Persist_System_DISC.pq')"
   ],
   "metadata": {
    "collapsed": false,
    "ExecuteTime": {
     "end_time": "2023-08-09T00:30:22.654923452Z",
     "start_time": "2023-08-09T00:30:19.890734032Z"
    }
   }
  },
  {
   "cell_type": "code",
   "execution_count": 337,
   "outputs": [],
   "source": [
    "# msno.matrix(incs, labels=True, fontsize=8)"
   ],
   "metadata": {
    "collapsed": false,
    "ExecuteTime": {
     "end_time": "2023-08-09T00:30:22.660182678Z",
     "start_time": "2023-08-09T00:30:22.654534508Z"
    }
   }
  },
  {
   "cell_type": "code",
   "execution_count": 338,
   "outputs": [],
   "source": [
    "machines['ClientItemKey'] = machines['ItemKey'].copy()"
   ],
   "metadata": {
    "collapsed": false,
    "ExecuteTime": {
     "end_time": "2023-08-09T00:30:22.665617469Z",
     "start_time": "2023-08-09T00:30:22.655905967Z"
    }
   }
  },
  {
   "cell_type": "code",
   "execution_count": 339,
   "outputs": [],
   "source": [
    "# Join machine name ('Name0') to events by internal date and ClientItemKey (a different, but similar ID for a machine).\n",
    "# Because events is left, every row will have a TimeCreatedSystemTime.\n",
    "machines_events = events.merge(machines[['RWB_EFFECTIVE_DATE', 'ClientItemKey', 'Name0']], on=['RWB_EFFECTIVE_DATE', 'ClientItemKey'], how='left')"
   ],
   "metadata": {
    "collapsed": false,
    "ExecuteTime": {
     "end_time": "2023-08-09T00:30:23.228263936Z",
     "start_time": "2023-08-09T00:30:22.662578443Z"
    }
   }
  },
  {
   "cell_type": "code",
   "execution_count": 340,
   "outputs": [],
   "source": [
    "# Convert the TimeCreatedSystemTime CST column from Datetime to a date datatype (formatted like YYYY-MM-DD).\n",
    "machines_events['TimeCreatedSystemTimeFormatted'] = machines_events['TimeCreatedSystemTime'].dt.strftime('%Y-%m-%d')"
   ],
   "metadata": {
    "collapsed": false,
    "ExecuteTime": {
     "end_time": "2023-08-09T00:30:24.331613979Z",
     "start_time": "2023-08-09T00:30:23.229603281Z"
    }
   }
  },
  {
   "cell_type": "code",
   "execution_count": 341,
   "outputs": [],
   "source": [
    "# msno.matrix(machines_events, labels=True, fontsize=8)"
   ],
   "metadata": {
    "collapsed": false,
    "ExecuteTime": {
     "end_time": "2023-08-09T00:30:24.336772224Z",
     "start_time": "2023-08-09T00:30:24.332740765Z"
    }
   }
  },
  {
   "cell_type": "code",
   "execution_count": 342,
   "outputs": [],
   "source": [
    "# Convert local time values to Central.\n",
    "def convert_to_cst(df:pd.DataFrame, utc_column_name:str, cst_column_name:str):\n",
    "    \"\"\"\n",
    "    Create a new column in the events dataframe that converts the TimeCreatedSystemTime from UTC to CST.\n",
    "    (this is necessary because RWB_EFFECTIVE_DATE is in CST)\n",
    "    \"\"\"\n",
    "\n",
    "    # Make sure the UTC column is in datetime format\n",
    "    df[utc_column_name] = pd.to_datetime(df[utc_column_name])\n",
    "\n",
    "    # Convert to UTC timezone\n",
    "    utc_timezone = pytz.timezone('UTC')\n",
    "    df[utc_column_name] = df[utc_column_name].dt.tz_localize(utc_timezone)\n",
    "\n",
    "    # Convert to Central Standard Time (CST) timezone\n",
    "    cst_timezone = pytz.timezone('America/Chicago')\n",
    "    df[cst_column_name] = df[utc_column_name].dt.tz_convert(cst_timezone)\n",
    "\n",
    "    # Drop the original UTC column if desired (optional)\n",
    "    # df.drop(columns=[utc_column_name], inplace=True)\n",
    "\n",
    "    return df"
   ],
   "metadata": {
    "collapsed": false,
    "ExecuteTime": {
     "end_time": "2023-08-09T00:30:24.341625992Z",
     "start_time": "2023-08-09T00:30:24.335469207Z"
    }
   }
  },
  {
   "cell_type": "code",
   "execution_count": 343,
   "outputs": [
    {
     "data": {
      "text/plain": "                  TimeCreatedSystemTime            CreatedSystemTime_CST\n78154  2023-02-17 15:25:45.087000+00:00 2023-02-17 09:25:45.087000-06:00\n75440  2023-02-24 15:56:49.313000+00:00 2023-02-24 09:56:49.313000-06:00\n223257 2023-05-12 20:43:11.260000+00:00 2023-05-12 15:43:11.260000-05:00\n111639 2023-01-31 14:19:44.390000+00:00 2023-01-31 08:19:44.390000-06:00\n146781 2023-01-08 06:00:12.657000+00:00 2023-01-08 00:00:12.657000-06:00",
      "text/html": "<div>\n<style scoped>\n    .dataframe tbody tr th:only-of-type {\n        vertical-align: middle;\n    }\n\n    .dataframe tbody tr th {\n        vertical-align: top;\n    }\n\n    .dataframe thead th {\n        text-align: right;\n    }\n</style>\n<table border=\"1\" class=\"dataframe\">\n  <thead>\n    <tr style=\"text-align: right;\">\n      <th></th>\n      <th>TimeCreatedSystemTime</th>\n      <th>CreatedSystemTime_CST</th>\n    </tr>\n  </thead>\n  <tbody>\n    <tr>\n      <th>78154</th>\n      <td>2023-02-17 15:25:45.087000+00:00</td>\n      <td>2023-02-17 09:25:45.087000-06:00</td>\n    </tr>\n    <tr>\n      <th>75440</th>\n      <td>2023-02-24 15:56:49.313000+00:00</td>\n      <td>2023-02-24 09:56:49.313000-06:00</td>\n    </tr>\n    <tr>\n      <th>223257</th>\n      <td>2023-05-12 20:43:11.260000+00:00</td>\n      <td>2023-05-12 15:43:11.260000-05:00</td>\n    </tr>\n    <tr>\n      <th>111639</th>\n      <td>2023-01-31 14:19:44.390000+00:00</td>\n      <td>2023-01-31 08:19:44.390000-06:00</td>\n    </tr>\n    <tr>\n      <th>146781</th>\n      <td>2023-01-08 06:00:12.657000+00:00</td>\n      <td>2023-01-08 00:00:12.657000-06:00</td>\n    </tr>\n  </tbody>\n</table>\n</div>"
     },
     "execution_count": 343,
     "metadata": {},
     "output_type": "execute_result"
    }
   ],
   "source": [
    "machines_events = convert_to_cst(machines_events, utc_column_name='TimeCreatedSystemTime', cst_column_name='CreatedSystemTime_CST')\n",
    "machines_events[['TimeCreatedSystemTime', 'CreatedSystemTime_CST']].sample(5) # Check all times are -05:00 or -06:00 from UTC (Daylight Savings Time)."
   ],
   "metadata": {
    "collapsed": false,
    "ExecuteTime": {
     "end_time": "2023-08-09T00:30:24.548965129Z",
     "start_time": "2023-08-09T00:30:24.338505882Z"
    }
   }
  },
  {
   "cell_type": "code",
   "execution_count": 344,
   "outputs": [
    {
     "data": {
      "text/plain": "'2023-04-10'"
     },
     "execution_count": 344,
     "metadata": {},
     "output_type": "execute_result"
    }
   ],
   "source": [
    "# Convert the TimeCreatedSystemTime CST column from Datetime to a date datatype (formatted like YYYY-MM-DD).\n",
    "machines_events['CreatedSystemTime_CST_formatted'] = machines_events['CreatedSystemTime_CST'].dt.strftime('%Y-%m-%d')\n",
    "machines_events['CreatedSystemTime_CST_formatted'][0]"
   ],
   "metadata": {
    "collapsed": false,
    "ExecuteTime": {
     "end_time": "2023-08-09T00:30:27.157941567Z",
     "start_time": "2023-08-09T00:30:24.826720206Z"
    }
   }
  },
  {
   "cell_type": "code",
   "execution_count": 345,
   "outputs": [
    {
     "data": {
      "text/plain": "datetime.date"
     },
     "execution_count": 345,
     "metadata": {},
     "output_type": "execute_result"
    }
   ],
   "source": [
    "type(pd.to_datetime('2023-07-23 00:01:00').date())"
   ],
   "metadata": {
    "collapsed": false,
    "ExecuteTime": {
     "end_time": "2023-08-09T00:30:27.158248431Z",
     "start_time": "2023-08-09T00:30:27.152667107Z"
    }
   }
  },
  {
   "cell_type": "markdown",
   "source": [
    "\n",
    "# Join Boot events with machines separately.\n"
   ],
   "metadata": {
    "collapsed": false
   }
  },
  {
   "cell_type": "code",
   "execution_count": 346,
   "outputs": [
    {
     "name": "stdout",
     "output_type": "stream",
     "text": [
      "1593485\n"
     ]
    }
   ],
   "source": [
    "df_boot = pd.read_parquet('../do_not_commit/Datasets/BootEvents.parquet')\n",
    "print(len(df_boot))"
   ],
   "metadata": {
    "collapsed": false,
    "ExecuteTime": {
     "end_time": "2023-08-09T00:30:28.284896916Z",
     "start_time": "2023-08-09T00:30:27.155144347Z"
    }
   }
  },
  {
   "cell_type": "code",
   "execution_count": 347,
   "outputs": [],
   "source": [
    "df_boot['error_type'] = 'Boot'"
   ],
   "metadata": {
    "collapsed": false,
    "ExecuteTime": {
     "end_time": "2023-08-09T00:30:28.290786419Z",
     "start_time": "2023-08-09T00:30:28.281949523Z"
    }
   }
  },
  {
   "cell_type": "code",
   "execution_count": 348,
   "outputs": [
    {
     "data": {
      "text/plain": "array(['ClientItemKey', 'ID', 'RWB_CREATE_TIMESTAMP',\n       'RWB_EFFECTIVE_DATE', 'RWB_ETL_EVENT_DESTINATION_IDENTIFIER',\n       'SchemaVersion', 'error_type'], dtype=object)"
     },
     "execution_count": 348,
     "metadata": {},
     "output_type": "execute_result"
    }
   ],
   "source": [
    "# What columns do all four event types have in common?\n",
    "common_columns = reduce(np.intersect1d, (df_app.columns, df_boot.columns, df_hang.columns, df_win.columns))\n",
    "common_columns"
   ],
   "metadata": {
    "collapsed": false,
    "ExecuteTime": {
     "end_time": "2023-08-09T00:30:28.300368216Z",
     "start_time": "2023-08-09T00:30:28.290317991Z"
    }
   }
  },
  {
   "cell_type": "code",
   "execution_count": 349,
   "outputs": [],
   "source": [
    "df_boot.rename(\n",
    "    columns={\n",
    "        'BootId':'BootID',\n",
    "        'ProgramId':'ProgramID',\n",
    "        'FileId':'FileID',\n",
    "        'AppVersion':'Combined_Version',\n",
    "        'ExceptionCode':'Combined_Exception',\n",
    "        'ReportId':'ReportID'\n",
    "    },\n",
    "    inplace=True\n",
    ")"
   ],
   "metadata": {
    "collapsed": false,
    "ExecuteTime": {
     "end_time": "2023-08-09T00:30:28.300471907Z",
     "start_time": "2023-08-09T00:30:28.293320388Z"
    }
   }
  },
  {
   "cell_type": "code",
   "execution_count": 350,
   "outputs": [],
   "source": [
    "# Needs to be a str to join later w/ 'opened_at_formatted'.\n",
    "# BootID is synonymous with 'TimeCreatedSystemTime'\n",
    "# since it is the time on the machine when the boot event occurred.\n",
    "df_boot['BootID_formatted'] = df_boot['BootID'].dt.strftime('%Y-%m-%d')"
   ],
   "metadata": {
    "collapsed": false,
    "ExecuteTime": {
     "end_time": "2023-08-09T00:30:33.595432657Z",
     "start_time": "2023-08-09T00:30:28.298047440Z"
    }
   }
  },
  {
   "cell_type": "code",
   "execution_count": 351,
   "outputs": [],
   "source": [
    "# Join machine name to boot events, similar to other section.\n",
    "machines_boot = df_boot.merge(machines[['RWB_EFFECTIVE_DATE', 'ClientItemKey', 'Name0']], on=['RWB_EFFECTIVE_DATE', 'ClientItemKey'])"
   ],
   "metadata": {
    "collapsed": false,
    "ExecuteTime": {
     "end_time": "2023-08-09T00:30:34.813026948Z",
     "start_time": "2023-08-09T00:30:33.598247036Z"
    }
   }
  },
  {
   "cell_type": "markdown",
   "source": [
    "\n",
    "# Join machines and events with INCs.\n"
   ],
   "metadata": {
    "collapsed": false
   }
  },
  {
   "cell_type": "code",
   "execution_count": 352,
   "outputs": [],
   "source": [
    "# From blob storage:\n",
    "# incs = pd.read_csv('../do_not_commit/Datasets/ServiceNow_Incident.csv', low_memory=False)\n",
    "incs = pd.read_csv('../do_not_commit/Datasets/ServiceNow_INC_20230730.csv', low_memory=False)"
   ],
   "metadata": {
    "collapsed": false,
    "ExecuteTime": {
     "end_time": "2023-08-09T00:30:34.920584119Z",
     "start_time": "2023-08-09T00:30:34.815044564Z"
    }
   }
  },
  {
   "cell_type": "code",
   "execution_count": 353,
   "outputs": [],
   "source": [
    "# DateTime formatting.\n",
    "incs['opened_at'] = pd.to_datetime(incs['opened_at'])\n",
    "incs['opened_at_formatted'] = incs['opened_at'].dt.strftime('%Y-%m-%d')"
   ],
   "metadata": {
    "collapsed": false,
    "ExecuteTime": {
     "end_time": "2023-08-09T00:30:34.976721938Z",
     "start_time": "2023-08-09T00:30:34.925866830Z"
    }
   }
  },
  {
   "cell_type": "code",
   "execution_count": 354,
   "outputs": [
    {
     "name": "stdout",
     "output_type": "stream",
     "text": [
      "320374\n"
     ]
    }
   ],
   "source": [
    "# Join INCs to events on:\n",
    "# 1. Machine name, and\n",
    "# 2. The event and the INC both occurred on the same day, using %Y-%m-%d format (YYYY-MM-DD).\n",
    "incs_merged = machines_events.merge(incs, left_on=['Name0', 'CreatedSystemTime_CST_formatted'], right_on=['configuration_item', 'opened_at_formatted'], how='left')\n",
    "print(len(incs_merged))"
   ],
   "metadata": {
    "collapsed": false,
    "ExecuteTime": {
     "end_time": "2023-08-09T00:30:35.458732569Z",
     "start_time": "2023-08-09T00:30:34.953662160Z"
    }
   }
  },
  {
   "cell_type": "code",
   "execution_count": 355,
   "outputs": [],
   "source": [
    "# Drop columns with nothing in them.\n",
    "incs_merged.dropna(axis=1, how='all', inplace=True)"
   ],
   "metadata": {
    "collapsed": false,
    "ExecuteTime": {
     "end_time": "2023-08-09T00:30:39.031170133Z",
     "start_time": "2023-08-09T00:30:35.455675814Z"
    }
   }
  },
  {
   "cell_type": "code",
   "execution_count": 356,
   "outputs": [],
   "source": [
    "# msno.matrix(incs_merged, labels=True, fontsize=7)"
   ],
   "metadata": {
    "collapsed": false,
    "ExecuteTime": {
     "end_time": "2023-08-09T00:30:39.036243441Z",
     "start_time": "2023-08-09T00:30:39.032024268Z"
    }
   }
  },
  {
   "cell_type": "code",
   "execution_count": 357,
   "outputs": [
    {
     "name": "stdout",
     "output_type": "stream",
     "text": [
      "6104 INC rows originally\n",
      "Now 5134\n"
     ]
    }
   ],
   "source": [
    "# Should be many more. Why only still 4,000?\n",
    "print(len(incs), \"INC rows originally\")\n",
    "print(\"Now\", incs_merged['number'].notnull().sum())"
   ],
   "metadata": {
    "collapsed": false,
    "ExecuteTime": {
     "end_time": "2023-08-09T00:30:39.048750989Z",
     "start_time": "2023-08-09T00:30:39.034926372Z"
    }
   }
  },
  {
   "cell_type": "markdown",
   "source": [
    "\n",
    "#### Remove INCs assc. w/ events *after* the INC was already filed.\n"
   ],
   "metadata": {
    "collapsed": false
   }
  },
  {
   "cell_type": "code",
   "execution_count": 358,
   "outputs": [
    {
     "data": {
      "text/plain": "       CreatedSystemTime_CST_formatted            CreatedSystemTime_CST  \\\n74                          2023-04-10 2023-04-10 08:28:18.740000-05:00   \n75                          2023-04-10 2023-04-10 15:23:56.900000-05:00   \n269500                      2023-04-10 2023-04-10 12:35:27.050000-05:00   \n\n                 opened_at opened_at_formatted         Name0  \\\n74     2023-04-10 11:20:00          2023-04-10  TIB-L-U32432   \n75     2023-04-10 11:20:00          2023-04-10  TIB-L-U32432   \n269500 2023-04-10 11:20:00          2023-04-10  TIB-L-U32432   \n\n       configuration_item      number                  short_description_NER  \n74           TIB-L-U32432  INC0515837  URGENT| Repeated Blue Screen of Death  \n75           TIB-L-U32432  INC0515837  URGENT| Repeated Blue Screen of Death  \n269500       TIB-L-U32432  INC0515837  URGENT| Repeated Blue Screen of Death  ",
      "text/html": "<div>\n<style scoped>\n    .dataframe tbody tr th:only-of-type {\n        vertical-align: middle;\n    }\n\n    .dataframe tbody tr th {\n        vertical-align: top;\n    }\n\n    .dataframe thead th {\n        text-align: right;\n    }\n</style>\n<table border=\"1\" class=\"dataframe\">\n  <thead>\n    <tr style=\"text-align: right;\">\n      <th></th>\n      <th>CreatedSystemTime_CST_formatted</th>\n      <th>CreatedSystemTime_CST</th>\n      <th>opened_at</th>\n      <th>opened_at_formatted</th>\n      <th>Name0</th>\n      <th>configuration_item</th>\n      <th>number</th>\n      <th>short_description_NER</th>\n    </tr>\n  </thead>\n  <tbody>\n    <tr>\n      <th>74</th>\n      <td>2023-04-10</td>\n      <td>2023-04-10 08:28:18.740000-05:00</td>\n      <td>2023-04-10 11:20:00</td>\n      <td>2023-04-10</td>\n      <td>TIB-L-U32432</td>\n      <td>TIB-L-U32432</td>\n      <td>INC0515837</td>\n      <td>URGENT| Repeated Blue Screen of Death</td>\n    </tr>\n    <tr>\n      <th>75</th>\n      <td>2023-04-10</td>\n      <td>2023-04-10 15:23:56.900000-05:00</td>\n      <td>2023-04-10 11:20:00</td>\n      <td>2023-04-10</td>\n      <td>TIB-L-U32432</td>\n      <td>TIB-L-U32432</td>\n      <td>INC0515837</td>\n      <td>URGENT| Repeated Blue Screen of Death</td>\n    </tr>\n    <tr>\n      <th>269500</th>\n      <td>2023-04-10</td>\n      <td>2023-04-10 12:35:27.050000-05:00</td>\n      <td>2023-04-10 11:20:00</td>\n      <td>2023-04-10</td>\n      <td>TIB-L-U32432</td>\n      <td>TIB-L-U32432</td>\n      <td>INC0515837</td>\n      <td>URGENT| Repeated Blue Screen of Death</td>\n    </tr>\n  </tbody>\n</table>\n</div>"
     },
     "execution_count": 358,
     "metadata": {},
     "output_type": "execute_result"
    }
   ],
   "source": [
    "# INCs w/ multiple events assc. may attribute the event to the INC\n",
    "# despite the event occurring *after* the INC was already filed.\n",
    "incs_merged[incs_merged['number'] == 'INC0515837'][[\n",
    "    'CreatedSystemTime_CST_formatted',\n",
    "    'CreatedSystemTime_CST',\n",
    "    'opened_at',\n",
    "    'opened_at_formatted',\n",
    "    'Name0',\n",
    "    'configuration_item',\n",
    "    'number',\n",
    "    # 'FaultingApplicationName',\n",
    "    # 'FaultingModuleName',\n",
    "    'short_description_NER'\n",
    "]]"
   ],
   "metadata": {
    "collapsed": false,
    "ExecuteTime": {
     "end_time": "2023-08-09T00:30:39.070732537Z",
     "start_time": "2023-08-09T00:30:39.050471592Z"
    }
   }
  },
  {
   "cell_type": "code",
   "execution_count": 359,
   "outputs": [],
   "source": [
    "incs_merged['opened_at_cst_not_utc'] = incs_merged['opened_at'].dt.tz_localize('US/Central')"
   ],
   "metadata": {
    "collapsed": false,
    "ExecuteTime": {
     "end_time": "2023-08-09T00:30:39.096587113Z",
     "start_time": "2023-08-09T00:30:39.060573871Z"
    }
   }
  },
  {
   "cell_type": "code",
   "execution_count": 360,
   "outputs": [
    {
     "name": "stdout",
     "output_type": "stream",
     "text": [
      "CreatedSystemTime_CST: 2023-04-10 08:28:18.740000-05:00\n",
      "INC file time CST:     2023-04-10 11:20:00-05:00\n",
      "CreatedCST-opened_at:  -1 days +21:08:18.740000\n"
     ]
    }
   ],
   "source": [
    "print(\"CreatedSystemTime_CST:\", incs_merged.loc[74, 'CreatedSystemTime_CST'])\n",
    "print(\"INC file time CST:    \", incs_merged.loc[74, 'opened_at_cst_not_utc'])\n",
    "print(\"CreatedCST-opened_at: \", incs_merged.loc[74, 'CreatedSystemTime_CST'] - incs_merged.loc[74, 'opened_at_cst_not_utc'])\n",
    "# This event happened before the INC was filed, at 13:28 UTC vs 16:20 UTC (2h 52m):"
   ],
   "metadata": {
    "collapsed": false,
    "ExecuteTime": {
     "end_time": "2023-08-09T00:30:39.153574012Z",
     "start_time": "2023-08-09T00:30:39.076951759Z"
    }
   }
  },
  {
   "cell_type": "code",
   "execution_count": 361,
   "outputs": [
    {
     "name": "stdout",
     "output_type": "stream",
     "text": [
      "CreatedSystemTime_CST: 2023-04-10 15:23:56.900000-05:00\n",
      "INC file time CST:     2023-04-10 11:20:00-05:00\n",
      "CreatedCST-opened_at:  0 days 04:03:56.900000\n"
     ]
    }
   ],
   "source": [
    "print(\"CreatedSystemTime_CST:\", incs_merged.loc[75, 'CreatedSystemTime_CST'])\n",
    "print(\"INC file time CST:    \", incs_merged.loc[75, 'opened_at_cst_not_utc'])\n",
    "print(\"CreatedCST-opened_at: \", incs_merged.loc[75, 'CreatedSystemTime_CST'] - incs_merged.loc[74, 'opened_at_cst_not_utc'])\n",
    "# This event happened after the INC was filed, at 20:23 UTC vs 16:20 UTC (4h 3m):"
   ],
   "metadata": {
    "collapsed": false,
    "ExecuteTime": {
     "end_time": "2023-08-09T00:30:39.153766233Z",
     "start_time": "2023-08-09T00:30:39.121539238Z"
    }
   }
  },
  {
   "cell_type": "code",
   "execution_count": 362,
   "outputs": [
    {
     "data": {
      "text/plain": "True"
     },
     "execution_count": 362,
     "metadata": {},
     "output_type": "execute_result"
    }
   ],
   "source": [
    "'opened_at_formatted' in incs.columns"
   ],
   "metadata": {
    "collapsed": false,
    "ExecuteTime": {
     "end_time": "2023-08-09T00:30:39.153895370Z",
     "start_time": "2023-08-09T00:30:39.121678005Z"
    }
   }
  },
  {
   "cell_type": "code",
   "execution_count": 363,
   "outputs": [
    {
     "data": {
      "text/plain": "                  CreatedSystemTime_CST           opened_at      number\n74     2023-04-10 08:28:18.740000-05:00 2023-04-10 11:20:00  INC0515837\n502    2023-04-10 07:47:01.750000-05:00 2023-04-10 20:43:00  INC0516099\n570    2023-04-10 07:29:33.643000-05:00 2023-04-10 17:39:00  INC0516019\n571    2023-04-10 07:51:04.520000-05:00 2023-04-10 17:39:00  INC0516019\n572    2023-04-10 10:59:19.490000-05:00 2023-04-10 17:39:00  INC0516019\n...                                 ...                 ...         ...\n320202 2023-04-11 10:28:02.510000-05:00 2023-04-11 15:52:00  INC0516309\n320346 2023-04-13 04:29:30.073000-05:00 2023-04-13 11:37:00  INC0516805\n320347 2023-04-13 05:25:58.367000-05:00 2023-04-13 11:37:00  INC0516805\n320348 2023-04-13 05:26:29.357000-05:00 2023-04-13 11:37:00  INC0516805\n320349 2023-04-13 07:24:37.237000-05:00 2023-04-13 11:37:00  INC0516805\n\n[4540 rows x 3 columns]",
      "text/html": "<div>\n<style scoped>\n    .dataframe tbody tr th:only-of-type {\n        vertical-align: middle;\n    }\n\n    .dataframe tbody tr th {\n        vertical-align: top;\n    }\n\n    .dataframe thead th {\n        text-align: right;\n    }\n</style>\n<table border=\"1\" class=\"dataframe\">\n  <thead>\n    <tr style=\"text-align: right;\">\n      <th></th>\n      <th>CreatedSystemTime_CST</th>\n      <th>opened_at</th>\n      <th>number</th>\n    </tr>\n  </thead>\n  <tbody>\n    <tr>\n      <th>74</th>\n      <td>2023-04-10 08:28:18.740000-05:00</td>\n      <td>2023-04-10 11:20:00</td>\n      <td>INC0515837</td>\n    </tr>\n    <tr>\n      <th>502</th>\n      <td>2023-04-10 07:47:01.750000-05:00</td>\n      <td>2023-04-10 20:43:00</td>\n      <td>INC0516099</td>\n    </tr>\n    <tr>\n      <th>570</th>\n      <td>2023-04-10 07:29:33.643000-05:00</td>\n      <td>2023-04-10 17:39:00</td>\n      <td>INC0516019</td>\n    </tr>\n    <tr>\n      <th>571</th>\n      <td>2023-04-10 07:51:04.520000-05:00</td>\n      <td>2023-04-10 17:39:00</td>\n      <td>INC0516019</td>\n    </tr>\n    <tr>\n      <th>572</th>\n      <td>2023-04-10 10:59:19.490000-05:00</td>\n      <td>2023-04-10 17:39:00</td>\n      <td>INC0516019</td>\n    </tr>\n    <tr>\n      <th>...</th>\n      <td>...</td>\n      <td>...</td>\n      <td>...</td>\n    </tr>\n    <tr>\n      <th>320202</th>\n      <td>2023-04-11 10:28:02.510000-05:00</td>\n      <td>2023-04-11 15:52:00</td>\n      <td>INC0516309</td>\n    </tr>\n    <tr>\n      <th>320346</th>\n      <td>2023-04-13 04:29:30.073000-05:00</td>\n      <td>2023-04-13 11:37:00</td>\n      <td>INC0516805</td>\n    </tr>\n    <tr>\n      <th>320347</th>\n      <td>2023-04-13 05:25:58.367000-05:00</td>\n      <td>2023-04-13 11:37:00</td>\n      <td>INC0516805</td>\n    </tr>\n    <tr>\n      <th>320348</th>\n      <td>2023-04-13 05:26:29.357000-05:00</td>\n      <td>2023-04-13 11:37:00</td>\n      <td>INC0516805</td>\n    </tr>\n    <tr>\n      <th>320349</th>\n      <td>2023-04-13 07:24:37.237000-05:00</td>\n      <td>2023-04-13 11:37:00</td>\n      <td>INC0516805</td>\n    </tr>\n  </tbody>\n</table>\n<p>4540 rows × 3 columns</p>\n</div>"
     },
     "execution_count": 363,
     "metadata": {},
     "output_type": "execute_result"
    }
   ],
   "source": [
    "# Delete INCs across rows when the event occurs before the INC on the same day.\n",
    "mask = incs_merged['CreatedSystemTime_CST'] >= incs_merged['opened_at_cst_not_utc']\n",
    "columns_to_set_none = incs.columns\n",
    "incs_merged.loc[mask, columns_to_set_none] = None\n",
    "\n",
    "# Looks like no 'CreatedSystemTime_CST value is > 'opened_at'.\n",
    "incs_merged[incs_merged['number'].notnull()][['CreatedSystemTime_CST', 'opened_at', 'number']]"
   ],
   "metadata": {
    "collapsed": false,
    "ExecuteTime": {
     "end_time": "2023-08-09T00:30:39.704719780Z",
     "start_time": "2023-08-09T00:30:39.121769976Z"
    }
   }
  },
  {
   "cell_type": "code",
   "execution_count": 364,
   "outputs": [
    {
     "data": {
      "text/plain": "74       -1 days +21:08:18.740000\n75         0 days 04:03:56.900000\n502      -1 days +11:04:01.750000\n570      -1 days +13:50:33.643000\n571      -1 days +14:12:04.520000\n                   ...           \n320202   -1 days +18:36:02.510000\n320346   -1 days +16:52:30.073000\n320347   -1 days +17:48:58.367000\n320348   -1 days +17:49:29.357000\n320349   -1 days +19:47:37.237000\nLength: 5134, dtype: timedelta64[ns]"
     },
     "execution_count": 364,
     "metadata": {},
     "output_type": "execute_result"
    }
   ],
   "source": [
    "# Check to make sure. Positive = delete. Negative = keep.\n",
    "(incs_merged['CreatedSystemTime_CST'] - incs_merged['opened_at_cst_not_utc']).dropna()"
   ],
   "metadata": {
    "collapsed": false,
    "ExecuteTime": {
     "end_time": "2023-08-09T00:30:39.710283368Z",
     "start_time": "2023-08-09T00:30:39.704585848Z"
    }
   }
  },
  {
   "cell_type": "code",
   "execution_count": 365,
   "outputs": [
    {
     "data": {
      "text/plain": "CreatedSystemTime_CST    2023-04-10 07:47:01.750000-05:00\nopened_at_utc                   2023-04-10 20:43:00-05:00\nName: 502, dtype: object"
     },
     "execution_count": 365,
     "metadata": {},
     "output_type": "execute_result"
    }
   ],
   "source": [
    "# Timedelta of -1 days (24h) + 16:04 = 8h 04m difference in true time.\n",
    "incs_merged.loc[502, ['CreatedSystemTime_CST', 'opened_at_cst_not_utc']]"
   ],
   "metadata": {
    "collapsed": false,
    "ExecuteTime": {
     "end_time": "2023-08-09T00:30:39.720717889Z",
     "start_time": "2023-08-09T00:30:39.712824820Z"
    }
   }
  },
  {
   "cell_type": "markdown",
   "source": [
    "\n",
    "# Join machines and boot events with INCs separately.\n"
   ],
   "metadata": {
    "collapsed": false
   }
  },
  {
   "cell_type": "code",
   "execution_count": 366,
   "outputs": [],
   "source": [
    "incs_boot = machines_boot.merge(incs, left_on=['Name0', 'BootID_formatted'], right_on=['configuration_item', 'opened_at_formatted'], how='left')"
   ],
   "metadata": {
    "collapsed": false,
    "ExecuteTime": {
     "end_time": "2023-08-09T00:30:41.464351409Z",
     "start_time": "2023-08-09T00:30:39.771184623Z"
    }
   }
  },
  {
   "cell_type": "code",
   "execution_count": 367,
   "outputs": [
    {
     "name": "stdout",
     "output_type": "stream",
     "text": [
      "7154 Boot INCs\n"
     ]
    }
   ],
   "source": [
    "print(incs_boot['number'].notnull().sum(), \"Boot INCs\")"
   ],
   "metadata": {
    "collapsed": false,
    "ExecuteTime": {
     "end_time": "2023-08-09T00:30:41.494280403Z",
     "start_time": "2023-08-09T00:30:41.489095214Z"
    }
   }
  },
  {
   "cell_type": "code",
   "execution_count": 368,
   "outputs": [],
   "source": [
    "# Dropping columns with nothing in them.\n",
    "incs_boot.dropna(axis=1, how='all', inplace=True)"
   ],
   "metadata": {
    "collapsed": false,
    "ExecuteTime": {
     "end_time": "2023-08-09T00:30:54.522448850Z",
     "start_time": "2023-08-09T00:30:41.493748906Z"
    }
   }
  },
  {
   "cell_type": "code",
   "execution_count": 369,
   "outputs": [
    {
     "name": "stdout",
     "output_type": "stream",
     "text": [
      "0\n"
     ]
    },
    {
     "data": {
      "text/plain": "Series([], dtype: int64)"
     },
     "execution_count": 369,
     "metadata": {},
     "output_type": "execute_result"
    }
   ],
   "source": [
    "# How many multiple INCs were filed on the same day for a given machine?\n",
    "grouped_counts = incs.groupby(['opened_at_formatted', 'configuration_item']).size()\n",
    "print(grouped_counts[grouped_counts > 1].sum())\n",
    "grouped_counts[grouped_counts > 1]"
   ],
   "metadata": {
    "collapsed": false,
    "ExecuteTime": {
     "end_time": "2023-08-09T00:30:54.574765118Z",
     "start_time": "2023-08-09T00:30:54.569546159Z"
    }
   }
  },
  {
   "cell_type": "code",
   "execution_count": 370,
   "outputs": [
    {
     "data": {
      "text/plain": "         RWB_EVENTBOOTRESULT_ID  RWB_ETL_EVENT_DESTINATION_IDENTIFIER  \\\n86                       949656                                  1251   \n87                       949657                                  1251   \n88                       949659                                  1251   \n89                       949655                                  1251   \n90                       949660                                  1251   \n...                         ...                                   ...   \n1527830                 1691933                                 10903   \n1527834                 1691938                                 10903   \n1527835                 1691939                                 10903   \n1528126                 1692269                                 10903   \n1528127                 1692270                                 10903   \n\n               RWB_CREATE_TIMESTAMP RWB_EFFECTIVE_DATE                 ID  \\\n86       2023-02-01 09:02:13 -06:00         2023-02-01  72057594043080687   \n87       2023-02-01 09:02:13 -06:00         2023-02-01  72057594043080688   \n88       2023-02-01 09:02:13 -06:00         2023-02-01  72057594043080690   \n89       2023-02-01 09:02:13 -06:00         2023-02-01  72057594043080686   \n90       2023-02-01 09:02:13 -06:00         2023-02-01  72057594043080691   \n...                             ...                ...                ...   \n1527830  2023-07-04 08:35:26 -05:00         2023-07-04  72057594043849976   \n1527834  2023-07-04 08:35:26 -05:00         2023-07-04  72057594043849981   \n1527835  2023-07-04 08:35:26 -05:00         2023-07-04  72057594043849982   \n1528126  2023-07-04 08:35:26 -05:00         2023-07-04  72057594043850312   \n1528127  2023-07-04 08:35:26 -05:00         2023-07-04  72057594043850313   \n\n         EventListID  ClientItemKey           GeneratedTime  \\\n86                 3       16792948 2023-02-01 09:22:37.737   \n87                 3       16792948 2023-02-01 09:22:37.737   \n88                 3       16792948 2023-02-01 09:22:37.737   \n89                 3       16792948 2023-02-01 09:22:37.737   \n90                 3       16792948 2023-02-01 09:22:37.737   \n...              ...            ...                     ...   \n1527830            3       16809497 2023-07-04 09:13:57.197   \n1527834            3       16811719 2023-07-04 09:14:59.450   \n1527835            3       16811719 2023-07-04 09:14:59.450   \n1528126            3       16813708 2023-07-04 11:57:56.087   \n1528127            3       16813708 2023-07-04 11:57:56.087   \n\n         UpdateDurationInMilliseconds  GPDurationInMilliseconds  ...  \\\n86                                  0                         0  ...   \n87                                  0                         0  ...   \n88                                  0                         0  ...   \n89                                  0                     13514  ...   \n90                                  0                     11379  ...   \n...                               ...                       ...  ...   \n1527830                             0                     17795  ...   \n1527834                             0                     13923  ...   \n1527835                             0                     15521  ...   \n1528126                             0                     16158  ...   \n1528127                             0                     15772  ...   \n\n         is_server                              short_description_NER  \\\n86             0.0                       pc not connecting to network   \n87             0.0                       pc not connecting to network   \n88             0.0                       pc not connecting to network   \n89             0.0                       pc not connecting to network   \n90             0.0                       pc not connecting to network   \n...            ...                                                ...   \n1527830        0.0    Thomson One / Start menu unresponsive in Citrix   \n1527834        0.0                              AD account locked out   \n1527835        0.0                              AD account locked out   \n1528126        0.0  User is stating that her entitlements are inco...   \n1528127        0.0  User is stating that her entitlements are inco...   \n\n        configuration_item  calling_user_id  opened_at_date  \\\n86            ASH-D-U25377           1521.0      2023-01-31   \n87            ASH-D-U25377           1521.0      2023-01-31   \n88            ASH-D-U25377           1521.0      2023-01-31   \n89            ASH-D-U25377           1521.0      2023-01-31   \n90            ASH-D-U25377           1521.0      2023-01-31   \n...                    ...              ...             ...   \n1527830       ECL-L-U32327           1456.0      2023-07-03   \n1527834       PIT-L-U33237          13468.0      2023-07-03   \n1527835       PIT-L-U33237          13468.0      2023-07-03   \n1528126       HDV-L-U33839          10020.0      2023-07-03   \n1528127       HDV-L-U33839          10020.0      2023-07-03   \n\n         machine_user_test  opened_at_formatted count  dup group_index_orig  \n86            ASH-D-U25377           2023-01-31   1.0  0.0           1018.0  \n87            ASH-D-U25377           2023-01-31   1.0  0.0           1018.0  \n88            ASH-D-U25377           2023-01-31   1.0  0.0           1018.0  \n89            ASH-D-U25377           2023-01-31   1.0  0.0           1018.0  \n90            ASH-D-U25377           2023-01-31   1.0  0.0           1018.0  \n...                    ...                  ...   ...  ...              ...  \n1527830       ECL-L-U32327           2023-07-03   1.0  0.0           5907.0  \n1527834       PIT-L-U33237           2023-07-03   1.0  0.0           5925.0  \n1527835       PIT-L-U33237           2023-07-03   1.0  0.0           5925.0  \n1528126       HDV-L-U33839           2023-07-03   1.0  0.0           5910.0  \n1528127       HDV-L-U33839           2023-07-03   1.0  0.0           5910.0  \n\n[7154 rows x 124 columns]",
      "text/html": "<div>\n<style scoped>\n    .dataframe tbody tr th:only-of-type {\n        vertical-align: middle;\n    }\n\n    .dataframe tbody tr th {\n        vertical-align: top;\n    }\n\n    .dataframe thead th {\n        text-align: right;\n    }\n</style>\n<table border=\"1\" class=\"dataframe\">\n  <thead>\n    <tr style=\"text-align: right;\">\n      <th></th>\n      <th>RWB_EVENTBOOTRESULT_ID</th>\n      <th>RWB_ETL_EVENT_DESTINATION_IDENTIFIER</th>\n      <th>RWB_CREATE_TIMESTAMP</th>\n      <th>RWB_EFFECTIVE_DATE</th>\n      <th>ID</th>\n      <th>EventListID</th>\n      <th>ClientItemKey</th>\n      <th>GeneratedTime</th>\n      <th>UpdateDurationInMilliseconds</th>\n      <th>GPDurationInMilliseconds</th>\n      <th>...</th>\n      <th>is_server</th>\n      <th>short_description_NER</th>\n      <th>configuration_item</th>\n      <th>calling_user_id</th>\n      <th>opened_at_date</th>\n      <th>machine_user_test</th>\n      <th>opened_at_formatted</th>\n      <th>count</th>\n      <th>dup</th>\n      <th>group_index_orig</th>\n    </tr>\n  </thead>\n  <tbody>\n    <tr>\n      <th>86</th>\n      <td>949656</td>\n      <td>1251</td>\n      <td>2023-02-01 09:02:13 -06:00</td>\n      <td>2023-02-01</td>\n      <td>72057594043080687</td>\n      <td>3</td>\n      <td>16792948</td>\n      <td>2023-02-01 09:22:37.737</td>\n      <td>0</td>\n      <td>0</td>\n      <td>...</td>\n      <td>0.0</td>\n      <td>pc not connecting to network</td>\n      <td>ASH-D-U25377</td>\n      <td>1521.0</td>\n      <td>2023-01-31</td>\n      <td>ASH-D-U25377</td>\n      <td>2023-01-31</td>\n      <td>1.0</td>\n      <td>0.0</td>\n      <td>1018.0</td>\n    </tr>\n    <tr>\n      <th>87</th>\n      <td>949657</td>\n      <td>1251</td>\n      <td>2023-02-01 09:02:13 -06:00</td>\n      <td>2023-02-01</td>\n      <td>72057594043080688</td>\n      <td>3</td>\n      <td>16792948</td>\n      <td>2023-02-01 09:22:37.737</td>\n      <td>0</td>\n      <td>0</td>\n      <td>...</td>\n      <td>0.0</td>\n      <td>pc not connecting to network</td>\n      <td>ASH-D-U25377</td>\n      <td>1521.0</td>\n      <td>2023-01-31</td>\n      <td>ASH-D-U25377</td>\n      <td>2023-01-31</td>\n      <td>1.0</td>\n      <td>0.0</td>\n      <td>1018.0</td>\n    </tr>\n    <tr>\n      <th>88</th>\n      <td>949659</td>\n      <td>1251</td>\n      <td>2023-02-01 09:02:13 -06:00</td>\n      <td>2023-02-01</td>\n      <td>72057594043080690</td>\n      <td>3</td>\n      <td>16792948</td>\n      <td>2023-02-01 09:22:37.737</td>\n      <td>0</td>\n      <td>0</td>\n      <td>...</td>\n      <td>0.0</td>\n      <td>pc not connecting to network</td>\n      <td>ASH-D-U25377</td>\n      <td>1521.0</td>\n      <td>2023-01-31</td>\n      <td>ASH-D-U25377</td>\n      <td>2023-01-31</td>\n      <td>1.0</td>\n      <td>0.0</td>\n      <td>1018.0</td>\n    </tr>\n    <tr>\n      <th>89</th>\n      <td>949655</td>\n      <td>1251</td>\n      <td>2023-02-01 09:02:13 -06:00</td>\n      <td>2023-02-01</td>\n      <td>72057594043080686</td>\n      <td>3</td>\n      <td>16792948</td>\n      <td>2023-02-01 09:22:37.737</td>\n      <td>0</td>\n      <td>13514</td>\n      <td>...</td>\n      <td>0.0</td>\n      <td>pc not connecting to network</td>\n      <td>ASH-D-U25377</td>\n      <td>1521.0</td>\n      <td>2023-01-31</td>\n      <td>ASH-D-U25377</td>\n      <td>2023-01-31</td>\n      <td>1.0</td>\n      <td>0.0</td>\n      <td>1018.0</td>\n    </tr>\n    <tr>\n      <th>90</th>\n      <td>949660</td>\n      <td>1251</td>\n      <td>2023-02-01 09:02:13 -06:00</td>\n      <td>2023-02-01</td>\n      <td>72057594043080691</td>\n      <td>3</td>\n      <td>16792948</td>\n      <td>2023-02-01 09:22:37.737</td>\n      <td>0</td>\n      <td>11379</td>\n      <td>...</td>\n      <td>0.0</td>\n      <td>pc not connecting to network</td>\n      <td>ASH-D-U25377</td>\n      <td>1521.0</td>\n      <td>2023-01-31</td>\n      <td>ASH-D-U25377</td>\n      <td>2023-01-31</td>\n      <td>1.0</td>\n      <td>0.0</td>\n      <td>1018.0</td>\n    </tr>\n    <tr>\n      <th>...</th>\n      <td>...</td>\n      <td>...</td>\n      <td>...</td>\n      <td>...</td>\n      <td>...</td>\n      <td>...</td>\n      <td>...</td>\n      <td>...</td>\n      <td>...</td>\n      <td>...</td>\n      <td>...</td>\n      <td>...</td>\n      <td>...</td>\n      <td>...</td>\n      <td>...</td>\n      <td>...</td>\n      <td>...</td>\n      <td>...</td>\n      <td>...</td>\n      <td>...</td>\n      <td>...</td>\n    </tr>\n    <tr>\n      <th>1527830</th>\n      <td>1691933</td>\n      <td>10903</td>\n      <td>2023-07-04 08:35:26 -05:00</td>\n      <td>2023-07-04</td>\n      <td>72057594043849976</td>\n      <td>3</td>\n      <td>16809497</td>\n      <td>2023-07-04 09:13:57.197</td>\n      <td>0</td>\n      <td>17795</td>\n      <td>...</td>\n      <td>0.0</td>\n      <td>Thomson One / Start menu unresponsive in Citrix</td>\n      <td>ECL-L-U32327</td>\n      <td>1456.0</td>\n      <td>2023-07-03</td>\n      <td>ECL-L-U32327</td>\n      <td>2023-07-03</td>\n      <td>1.0</td>\n      <td>0.0</td>\n      <td>5907.0</td>\n    </tr>\n    <tr>\n      <th>1527834</th>\n      <td>1691938</td>\n      <td>10903</td>\n      <td>2023-07-04 08:35:26 -05:00</td>\n      <td>2023-07-04</td>\n      <td>72057594043849981</td>\n      <td>3</td>\n      <td>16811719</td>\n      <td>2023-07-04 09:14:59.450</td>\n      <td>0</td>\n      <td>13923</td>\n      <td>...</td>\n      <td>0.0</td>\n      <td>AD account locked out</td>\n      <td>PIT-L-U33237</td>\n      <td>13468.0</td>\n      <td>2023-07-03</td>\n      <td>PIT-L-U33237</td>\n      <td>2023-07-03</td>\n      <td>1.0</td>\n      <td>0.0</td>\n      <td>5925.0</td>\n    </tr>\n    <tr>\n      <th>1527835</th>\n      <td>1691939</td>\n      <td>10903</td>\n      <td>2023-07-04 08:35:26 -05:00</td>\n      <td>2023-07-04</td>\n      <td>72057594043849982</td>\n      <td>3</td>\n      <td>16811719</td>\n      <td>2023-07-04 09:14:59.450</td>\n      <td>0</td>\n      <td>15521</td>\n      <td>...</td>\n      <td>0.0</td>\n      <td>AD account locked out</td>\n      <td>PIT-L-U33237</td>\n      <td>13468.0</td>\n      <td>2023-07-03</td>\n      <td>PIT-L-U33237</td>\n      <td>2023-07-03</td>\n      <td>1.0</td>\n      <td>0.0</td>\n      <td>5925.0</td>\n    </tr>\n    <tr>\n      <th>1528126</th>\n      <td>1692269</td>\n      <td>10903</td>\n      <td>2023-07-04 08:35:26 -05:00</td>\n      <td>2023-07-04</td>\n      <td>72057594043850312</td>\n      <td>3</td>\n      <td>16813708</td>\n      <td>2023-07-04 11:57:56.087</td>\n      <td>0</td>\n      <td>16158</td>\n      <td>...</td>\n      <td>0.0</td>\n      <td>User is stating that her entitlements are inco...</td>\n      <td>HDV-L-U33839</td>\n      <td>10020.0</td>\n      <td>2023-07-03</td>\n      <td>HDV-L-U33839</td>\n      <td>2023-07-03</td>\n      <td>1.0</td>\n      <td>0.0</td>\n      <td>5910.0</td>\n    </tr>\n    <tr>\n      <th>1528127</th>\n      <td>1692270</td>\n      <td>10903</td>\n      <td>2023-07-04 08:35:26 -05:00</td>\n      <td>2023-07-04</td>\n      <td>72057594043850313</td>\n      <td>3</td>\n      <td>16813708</td>\n      <td>2023-07-04 11:57:56.087</td>\n      <td>0</td>\n      <td>15772</td>\n      <td>...</td>\n      <td>0.0</td>\n      <td>User is stating that her entitlements are inco...</td>\n      <td>HDV-L-U33839</td>\n      <td>10020.0</td>\n      <td>2023-07-03</td>\n      <td>HDV-L-U33839</td>\n      <td>2023-07-03</td>\n      <td>1.0</td>\n      <td>0.0</td>\n      <td>5910.0</td>\n    </tr>\n  </tbody>\n</table>\n<p>7154 rows × 124 columns</p>\n</div>"
     },
     "execution_count": 370,
     "metadata": {},
     "output_type": "execute_result"
    }
   ],
   "source": [
    "incs_boot[incs_boot['number'].notnull()]"
   ],
   "metadata": {
    "collapsed": false,
    "ExecuteTime": {
     "end_time": "2023-08-09T00:30:54.642001321Z",
     "start_time": "2023-08-09T00:30:54.569700670Z"
    }
   }
  },
  {
   "cell_type": "markdown",
   "source": [
    "\n",
    "# Bring machines, events, and INCs together for both regular events and Boot events.\n"
   ],
   "metadata": {
    "collapsed": false
   }
  },
  {
   "cell_type": "code",
   "execution_count": 371,
   "outputs": [],
   "source": [
    "df = pd.concat([incs_merged, incs_boot])\n",
    "df.reset_index(inplace=True)\n",
    "\n",
    "# Dropping columns with nothing in them.\n",
    "df.dropna(axis=1, how='all', inplace=True)\n",
    "\n",
    "# Drop all data for May 20th, 2023.\n",
    "df = df[df['RWB_EFFECTIVE_DATE'] != '2023-05-20']"
   ],
   "metadata": {
    "collapsed": false,
    "ExecuteTime": {
     "end_time": "2023-08-09T00:31:19.757078368Z",
     "start_time": "2023-08-09T00:30:54.608984161Z"
    }
   }
  },
  {
   "cell_type": "code",
   "execution_count": 372,
   "outputs": [
    {
     "data": {
      "text/plain": "317218"
     },
     "execution_count": 372,
     "metadata": {},
     "output_type": "execute_result"
    }
   ],
   "source": [
    "len(df[df['error_type'].isin(['Application', 'Hang', 'Windows'])])"
   ],
   "metadata": {
    "collapsed": false,
    "ExecuteTime": {
     "end_time": "2023-08-09T00:31:20.121536941Z",
     "start_time": "2023-08-09T00:31:19.788552630Z"
    }
   }
  },
  {
   "cell_type": "code",
   "execution_count": 373,
   "outputs": [
    {
     "data": {
      "text/plain": "317218"
     },
     "execution_count": 373,
     "metadata": {},
     "output_type": "execute_result"
    }
   ],
   "source": [
    "len(df[df['error_type'] != 'Boot'])"
   ],
   "metadata": {
    "collapsed": false,
    "ExecuteTime": {
     "end_time": "2023-08-09T00:31:20.507746526Z",
     "start_time": "2023-08-09T00:31:20.176123973Z"
    }
   }
  },
  {
   "cell_type": "code",
   "execution_count": 374,
   "outputs": [
    {
     "data": {
      "text/plain": "<AxesSubplot:>"
     },
     "execution_count": 374,
     "metadata": {},
     "output_type": "execute_result"
    },
    {
     "data": {
      "text/plain": "<Figure size 432x288 with 1 Axes>",
      "image/png": "[encoded data removed]"
     },
     "metadata": {
      "needs_background": "light"
     },
     "output_type": "display_data"
    }
   ],
   "source": [
    "df['error_type'].hist()"
   ],
   "metadata": {
    "collapsed": false,
    "ExecuteTime": {
     "end_time": "2023-08-09T00:31:20.891801456Z",
     "start_time": "2023-08-09T00:31:20.510662599Z"
    }
   }
  },
  {
   "cell_type": "code",
   "execution_count": 375,
   "outputs": [
    {
     "name": "stdout",
     "output_type": "stream",
     "text": [
      "(1835089, 173)\n"
     ]
    },
    {
     "data": {
      "text/plain": "level_0                                   int64\nindex                                   float64\nRWB_EVENTRAWRESULTITEM_ID               float64\nRWB_ETL_EVENT_DESTINATION_IDENTIFIER      int64\nRWB_CREATE_TIMESTAMP                     object\n                                         ...   \nMachineName                              object\nReason                                   object\nparam5                                   object\nActionDescription                        object\nBootID_formatted                         object\nLength: 173, dtype: object"
     },
     "execution_count": 375,
     "metadata": {},
     "output_type": "execute_result"
    }
   ],
   "source": [
    "print(df.shape)\n",
    "df.dtypes"
   ],
   "metadata": {
    "collapsed": false,
    "ExecuteTime": {
     "end_time": "2023-08-09T00:31:20.903414531Z",
     "start_time": "2023-08-09T00:31:20.889762294Z"
    }
   }
  },
  {
   "cell_type": "code",
   "execution_count": 376,
   "outputs": [],
   "source": [
    "# How many boot events occurred after an INC was filed?\n",
    "# df[df['error_type'] == 'Boot']['BootID'] - df[df['error_type'] == 'Boot']['opened_at_cst_not_utc']"
   ],
   "metadata": {
    "collapsed": false,
    "ExecuteTime": {
     "end_time": "2023-08-09T00:31:20.903695870Z",
     "start_time": "2023-08-09T00:31:20.892694849Z"
    }
   }
  },
  {
   "cell_type": "markdown",
   "source": [
    "\n",
    "# Create 'num_events' feature.\n"
   ],
   "metadata": {
    "collapsed": false
   }
  },
  {
   "cell_type": "code",
   "execution_count": 377,
   "outputs": [
    {
     "data": {
      "text/plain": "True"
     },
     "execution_count": 377,
     "metadata": {},
     "output_type": "execute_result"
    }
   ],
   "source": [
    "'CreatedSystemTime_CST_formatted' in list(df.columns)"
   ],
   "metadata": {
    "collapsed": false,
    "ExecuteTime": {
     "end_time": "2023-08-09T00:31:20.903843252Z",
     "start_time": "2023-08-09T00:31:20.896291355Z"
    }
   }
  },
  {
   "cell_type": "code",
   "execution_count": 378,
   "outputs": [
    {
     "data": {
      "text/plain": "<DatetimeArray>\n['NaT']\nLength: 1, dtype: datetime64[ns, America/Chicago]"
     },
     "execution_count": 378,
     "metadata": {},
     "output_type": "execute_result"
    }
   ],
   "source": [
    "# Because 'TimeCreatedSystemTime' never exists in 'df_boot',\n",
    "# 'CreatedSystemTime_CST_formatted' will always be pd.NaT for Boot events,\n",
    "# because it is unique to the regular events only.\n",
    "df[df['error_type'] == 'Boot']['CreatedSystemTime_CST'].unique()"
   ],
   "metadata": {
    "collapsed": false,
    "ExecuteTime": {
     "end_time": "2023-08-09T00:31:22.507265223Z",
     "start_time": "2023-08-09T00:31:20.953842913Z"
    }
   }
  },
  {
   "cell_type": "code",
   "execution_count": 379,
   "outputs": [
    {
     "data": {
      "text/plain": "        ClientItemKey CreatedSystemTime_CST_formatted  events\n0            16783564                      2023-03-13       1\n1            16783564                      2023-04-03       2\n2            16783835                      2023-01-10       1\n3            16783835                      2023-01-20       1\n4            16783835                      2023-02-10       1\n...               ...                             ...     ...\n188461       16819018                      2023-05-15       1\n188462       16819018                      2023-06-28       1\n188463       16819018                      2023-06-30       3\n188464       16819021                      2023-06-30       1\n188465       16819028                      2023-07-03       1\n\n[188466 rows x 3 columns]",
      "text/html": "<div>\n<style scoped>\n    .dataframe tbody tr th:only-of-type {\n        vertical-align: middle;\n    }\n\n    .dataframe tbody tr th {\n        vertical-align: top;\n    }\n\n    .dataframe thead th {\n        text-align: right;\n    }\n</style>\n<table border=\"1\" class=\"dataframe\">\n  <thead>\n    <tr style=\"text-align: right;\">\n      <th></th>\n      <th>ClientItemKey</th>\n      <th>CreatedSystemTime_CST_formatted</th>\n      <th>events</th>\n    </tr>\n  </thead>\n  <tbody>\n    <tr>\n      <th>0</th>\n      <td>16783564</td>\n      <td>2023-03-13</td>\n      <td>1</td>\n    </tr>\n    <tr>\n      <th>1</th>\n      <td>16783564</td>\n      <td>2023-04-03</td>\n      <td>2</td>\n    </tr>\n    <tr>\n      <th>2</th>\n      <td>16783835</td>\n      <td>2023-01-10</td>\n      <td>1</td>\n    </tr>\n    <tr>\n      <th>3</th>\n      <td>16783835</td>\n      <td>2023-01-20</td>\n      <td>1</td>\n    </tr>\n    <tr>\n      <th>4</th>\n      <td>16783835</td>\n      <td>2023-02-10</td>\n      <td>1</td>\n    </tr>\n    <tr>\n      <th>...</th>\n      <td>...</td>\n      <td>...</td>\n      <td>...</td>\n    </tr>\n    <tr>\n      <th>188461</th>\n      <td>16819018</td>\n      <td>2023-05-15</td>\n      <td>1</td>\n    </tr>\n    <tr>\n      <th>188462</th>\n      <td>16819018</td>\n      <td>2023-06-28</td>\n      <td>1</td>\n    </tr>\n    <tr>\n      <th>188463</th>\n      <td>16819018</td>\n      <td>2023-06-30</td>\n      <td>3</td>\n    </tr>\n    <tr>\n      <th>188464</th>\n      <td>16819021</td>\n      <td>2023-06-30</td>\n      <td>1</td>\n    </tr>\n    <tr>\n      <th>188465</th>\n      <td>16819028</td>\n      <td>2023-07-03</td>\n      <td>1</td>\n    </tr>\n  </tbody>\n</table>\n<p>188466 rows × 3 columns</p>\n</div>"
     },
     "execution_count": 379,
     "metadata": {},
     "output_type": "execute_result"
    }
   ],
   "source": [
    "# Create the events feature by grouping by ClientItemKey and the TimeCreatedSystemTime CST date column,\n",
    "# and get the count of events for each machine each day.\n",
    "# Boot events excluded by default on basis of the .groupby() columns.\n",
    "\n",
    "# num_events = df.groupby(['RWB_EFFECTIVE_DATE', 'ClientItemKey']).agg('size').reset_index().rename(columns={0:'events'})\n",
    "num_events = df[df['error_type'] != 'Boot'].groupby(['ClientItemKey', 'CreatedSystemTime_CST_formatted']).agg('size').reset_index().rename(columns={0:'events'})\n",
    "num_events"
   ],
   "metadata": {
    "collapsed": false,
    "ExecuteTime": {
     "end_time": "2023-08-09T00:31:22.956177860Z",
     "start_time": "2023-08-09T00:31:22.561788168Z"
    }
   }
  },
  {
   "cell_type": "code",
   "execution_count": 380,
   "outputs": [
    {
     "data": {
      "text/plain": "<AxesSubplot:>"
     },
     "execution_count": 380,
     "metadata": {},
     "output_type": "execute_result"
    },
    {
     "data": {
      "text/plain": "<Figure size 432x288 with 1 Axes>",
      "image/png": "[encoded data removed]"
     },
     "metadata": {
      "needs_background": "light"
     },
     "output_type": "display_data"
    }
   ],
   "source": [
    "num_events['events'].hist(bins=30)"
   ],
   "metadata": {
    "collapsed": false,
    "ExecuteTime": {
     "end_time": "2023-08-09T00:31:23.172737758Z",
     "start_time": "2023-08-09T00:31:23.039254709Z"
    }
   }
  },
  {
   "cell_type": "code",
   "execution_count": 381,
   "outputs": [
    {
     "name": "stdout",
     "output_type": "stream",
     "text": [
      "317218\n"
     ]
    }
   ],
   "source": [
    "check_this_df = pd.read_parquet('../do_not_commit/FeatureDatasets/num_events.pq')\n",
    "print(check_this_df['events'].sum())\n",
    "check_this_df"
   ],
   "metadata": {
    "collapsed": false,
    "ExecuteTime": {
     "end_time": "2023-08-09T00:31:23.183309572Z",
     "start_time": "2023-08-09T00:31:23.152067134Z"
    }
   }
  },
  {
   "cell_type": "code",
   "execution_count": 382,
   "outputs": [],
   "source": [
    "# Export the result to parquet and save to blob storage.\n",
    "num_events.to_parquet('../do_not_commit/FeatureDatasets/num_events.pq')"
   ],
   "metadata": {
    "collapsed": false,
    "ExecuteTime": {
     "end_time": "2023-08-09T00:31:23.211324269Z",
     "start_time": "2023-08-09T00:31:23.172904243Z"
    }
   }
  },
  {
   "cell_type": "markdown",
   "source": [
    "\n",
    "# Create 'num_events_incs' feature.\n"
   ],
   "metadata": {
    "collapsed": false
   }
  },
  {
   "cell_type": "code",
   "execution_count": 383,
   "outputs": [
    {
     "data": {
      "text/plain": "      ClientItemKey CreatedSystemTime_CST_formatted  events\n0          16787905                      2023-01-23       2\n1          16787905                      2023-05-01       1\n2          16787935                      2023-03-06       2\n3          16787935                      2023-03-30       1\n4          16787935                      2023-06-06       1\n...             ...                             ...     ...\n1903       16818798                      2023-06-27       1\n1904       16818818                      2023-06-20       1\n1905       16818828                      2023-06-27       1\n1906       16818878                      2023-06-27       3\n1907       16818988                      2023-06-29       6\n\n[1908 rows x 3 columns]",
      "text/html": "<div>\n<style scoped>\n    .dataframe tbody tr th:only-of-type {\n        vertical-align: middle;\n    }\n\n    .dataframe tbody tr th {\n        vertical-align: top;\n    }\n\n    .dataframe thead th {\n        text-align: right;\n    }\n</style>\n<table border=\"1\" class=\"dataframe\">\n  <thead>\n    <tr style=\"text-align: right;\">\n      <th></th>\n      <th>ClientItemKey</th>\n      <th>CreatedSystemTime_CST_formatted</th>\n      <th>events</th>\n    </tr>\n  </thead>\n  <tbody>\n    <tr>\n      <th>0</th>\n      <td>16787905</td>\n      <td>2023-01-23</td>\n      <td>2</td>\n    </tr>\n    <tr>\n      <th>1</th>\n      <td>16787905</td>\n      <td>2023-05-01</td>\n      <td>1</td>\n    </tr>\n    <tr>\n      <th>2</th>\n      <td>16787935</td>\n      <td>2023-03-06</td>\n      <td>2</td>\n    </tr>\n    <tr>\n      <th>3</th>\n      <td>16787935</td>\n      <td>2023-03-30</td>\n      <td>1</td>\n    </tr>\n    <tr>\n      <th>4</th>\n      <td>16787935</td>\n      <td>2023-06-06</td>\n      <td>1</td>\n    </tr>\n    <tr>\n      <th>...</th>\n      <td>...</td>\n      <td>...</td>\n      <td>...</td>\n    </tr>\n    <tr>\n      <th>1903</th>\n      <td>16818798</td>\n      <td>2023-06-27</td>\n      <td>1</td>\n    </tr>\n    <tr>\n      <th>1904</th>\n      <td>16818818</td>\n      <td>2023-06-20</td>\n      <td>1</td>\n    </tr>\n    <tr>\n      <th>1905</th>\n      <td>16818828</td>\n      <td>2023-06-27</td>\n      <td>1</td>\n    </tr>\n    <tr>\n      <th>1906</th>\n      <td>16818878</td>\n      <td>2023-06-27</td>\n      <td>3</td>\n    </tr>\n    <tr>\n      <th>1907</th>\n      <td>16818988</td>\n      <td>2023-06-29</td>\n      <td>6</td>\n    </tr>\n  </tbody>\n</table>\n<p>1908 rows × 3 columns</p>\n</div>"
     },
     "execution_count": 383,
     "metadata": {},
     "output_type": "execute_result"
    }
   ],
   "source": [
    "# 'opened_at_formatted' was wiped for all events (rows) after an INC was filed on same day\n",
    "# in the join machines + events + incs section. If no value exists for any events\n",
    "# after an INC was filed, subsetting with .notnull() should give us what we need.\n",
    "\n",
    "num_events_inc = df[\n",
    "    (df['error_type'] != 'Boot') &\n",
    "    (df['opened_at_formatted'].notnull())\n",
    "].groupby(['ClientItemKey', 'CreatedSystemTime_CST_formatted']).agg('size').reset_index().rename(columns={0:'events'})\n",
    "num_events_inc"
   ],
   "metadata": {
    "collapsed": false,
    "ExecuteTime": {
     "end_time": "2023-08-09T00:31:23.321551762Z",
     "start_time": "2023-08-09T00:31:23.276420071Z"
    }
   }
  },
  {
   "cell_type": "code",
   "execution_count": 384,
   "outputs": [
    {
     "data": {
      "text/plain": "                  CreatedSystemTime_CST           opened_at\n288909 2023-02-22 15:10:37.167000-06:00 2023-02-22 21:31:00\n288910 2023-02-22 15:11:38.777000-06:00 2023-02-22 21:31:00\n288911 2023-02-22 15:12:22.523000-06:00 2023-02-22 21:31:00\n288912 2023-02-22 15:12:47.290000-06:00 2023-02-22 21:31:00\n288913 2023-02-22 15:16:09.427000-06:00 2023-02-22 21:31:00\n288914 2023-02-22 15:24:32.457000-06:00 2023-02-22 21:31:00\n288915 2023-02-22 15:29:28.760000-06:00 2023-02-22 21:31:00\n288916 2023-02-22 15:31:15.080000-06:00 2023-02-22 21:31:00\n288917 2023-02-22 15:36:11.057000-06:00 2023-02-22 21:31:00\n288918 2023-02-22 15:36:30.607000-06:00 2023-02-22 21:31:00",
      "text/html": "<div>\n<style scoped>\n    .dataframe tbody tr th:only-of-type {\n        vertical-align: middle;\n    }\n\n    .dataframe tbody tr th {\n        vertical-align: top;\n    }\n\n    .dataframe thead th {\n        text-align: right;\n    }\n</style>\n<table border=\"1\" class=\"dataframe\">\n  <thead>\n    <tr style=\"text-align: right;\">\n      <th></th>\n      <th>CreatedSystemTime_CST</th>\n      <th>opened_at</th>\n    </tr>\n  </thead>\n  <tbody>\n    <tr>\n      <th>288909</th>\n      <td>2023-02-22 15:10:37.167000-06:00</td>\n      <td>2023-02-22 21:31:00</td>\n    </tr>\n    <tr>\n      <th>288910</th>\n      <td>2023-02-22 15:11:38.777000-06:00</td>\n      <td>2023-02-22 21:31:00</td>\n    </tr>\n    <tr>\n      <th>288911</th>\n      <td>2023-02-22 15:12:22.523000-06:00</td>\n      <td>2023-02-22 21:31:00</td>\n    </tr>\n    <tr>\n      <th>288912</th>\n      <td>2023-02-22 15:12:47.290000-06:00</td>\n      <td>2023-02-22 21:31:00</td>\n    </tr>\n    <tr>\n      <th>288913</th>\n      <td>2023-02-22 15:16:09.427000-06:00</td>\n      <td>2023-02-22 21:31:00</td>\n    </tr>\n    <tr>\n      <th>288914</th>\n      <td>2023-02-22 15:24:32.457000-06:00</td>\n      <td>2023-02-22 21:31:00</td>\n    </tr>\n    <tr>\n      <th>288915</th>\n      <td>2023-02-22 15:29:28.760000-06:00</td>\n      <td>2023-02-22 21:31:00</td>\n    </tr>\n    <tr>\n      <th>288916</th>\n      <td>2023-02-22 15:31:15.080000-06:00</td>\n      <td>2023-02-22 21:31:00</td>\n    </tr>\n    <tr>\n      <th>288917</th>\n      <td>2023-02-22 15:36:11.057000-06:00</td>\n      <td>2023-02-22 21:31:00</td>\n    </tr>\n    <tr>\n      <th>288918</th>\n      <td>2023-02-22 15:36:30.607000-06:00</td>\n      <td>2023-02-22 21:31:00</td>\n    </tr>\n  </tbody>\n</table>\n</div>"
     },
     "execution_count": 384,
     "metadata": {},
     "output_type": "execute_result"
    }
   ],
   "source": [
    "# 'CreatedSystemTime_CST' is in CST, 'opened_at' is in UTC, a difference of 6 hours.\n",
    "df[(df['ClientItemKey'] == 16790461) & (df['CreatedSystemTime_CST_formatted'] == '2023-02-22')][['CreatedSystemTime_CST', 'opened_at']]"
   ],
   "metadata": {
    "collapsed": false,
    "ExecuteTime": {
     "end_time": "2023-08-09T00:31:23.386913117Z",
     "start_time": "2023-08-09T00:31:23.317607213Z"
    }
   }
  },
  {
   "cell_type": "code",
   "execution_count": 385,
   "outputs": [
    {
     "data": {
      "text/plain": "<AxesSubplot:>"
     },
     "execution_count": 385,
     "metadata": {},
     "output_type": "execute_result"
    },
    {
     "data": {
      "text/plain": "<Figure size 432x288 with 1 Axes>",
      "image/png": "[encoded data removed]"
     },
     "metadata": {
      "needs_background": "light"
     },
     "output_type": "display_data"
    }
   ],
   "source": [
    "num_events_inc['events'].hist(bins=30)"
   ],
   "metadata": {
    "collapsed": false,
    "ExecuteTime": {
     "end_time": "2023-08-09T00:31:23.507884525Z",
     "start_time": "2023-08-09T00:31:23.361532821Z"
    }
   }
  },
  {
   "cell_type": "code",
   "execution_count": 386,
   "outputs": [
    {
     "name": "stdout",
     "output_type": "stream",
     "text": [
      "4494\n"
     ]
    },
    {
     "data": {
      "text/plain": "      ClientItemKey CreatedSystemTime_CST_formatted  events\n0          16787905                      2023-01-23       2\n1          16787905                      2023-05-01       1\n2          16787935                      2023-03-06       2\n3          16787935                      2023-03-30       1\n4          16787935                      2023-06-06       1\n...             ...                             ...     ...\n1903       16818798                      2023-06-27       1\n1904       16818818                      2023-06-20       1\n1905       16818828                      2023-06-27       1\n1906       16818878                      2023-06-27       3\n1907       16818988                      2023-06-29       6\n\n[1908 rows x 3 columns]",
      "text/html": "<div>\n<style scoped>\n    .dataframe tbody tr th:only-of-type {\n        vertical-align: middle;\n    }\n\n    .dataframe tbody tr th {\n        vertical-align: top;\n    }\n\n    .dataframe thead th {\n        text-align: right;\n    }\n</style>\n<table border=\"1\" class=\"dataframe\">\n  <thead>\n    <tr style=\"text-align: right;\">\n      <th></th>\n      <th>ClientItemKey</th>\n      <th>CreatedSystemTime_CST_formatted</th>\n      <th>events</th>\n    </tr>\n  </thead>\n  <tbody>\n    <tr>\n      <th>0</th>\n      <td>16787905</td>\n      <td>2023-01-23</td>\n      <td>2</td>\n    </tr>\n    <tr>\n      <th>1</th>\n      <td>16787905</td>\n      <td>2023-05-01</td>\n      <td>1</td>\n    </tr>\n    <tr>\n      <th>2</th>\n      <td>16787935</td>\n      <td>2023-03-06</td>\n      <td>2</td>\n    </tr>\n    <tr>\n      <th>3</th>\n      <td>16787935</td>\n      <td>2023-03-30</td>\n      <td>1</td>\n    </tr>\n    <tr>\n      <th>4</th>\n      <td>16787935</td>\n      <td>2023-06-06</td>\n      <td>1</td>\n    </tr>\n    <tr>\n      <th>...</th>\n      <td>...</td>\n      <td>...</td>\n      <td>...</td>\n    </tr>\n    <tr>\n      <th>1903</th>\n      <td>16818798</td>\n      <td>2023-06-27</td>\n      <td>1</td>\n    </tr>\n    <tr>\n      <th>1904</th>\n      <td>16818818</td>\n      <td>2023-06-20</td>\n      <td>1</td>\n    </tr>\n    <tr>\n      <th>1905</th>\n      <td>16818828</td>\n      <td>2023-06-27</td>\n      <td>1</td>\n    </tr>\n    <tr>\n      <th>1906</th>\n      <td>16818878</td>\n      <td>2023-06-27</td>\n      <td>3</td>\n    </tr>\n    <tr>\n      <th>1907</th>\n      <td>16818988</td>\n      <td>2023-06-29</td>\n      <td>6</td>\n    </tr>\n  </tbody>\n</table>\n<p>1908 rows × 3 columns</p>\n</div>"
     },
     "execution_count": 386,
     "metadata": {},
     "output_type": "execute_result"
    }
   ],
   "source": [
    "check_this_df = pd.read_parquet('../do_not_commit/FeatureDatasets/num_events_inc.pq')\n",
    "print(check_this_df['events'].sum())\n",
    "check_this_df"
   ],
   "metadata": {
    "collapsed": false,
    "ExecuteTime": {
     "end_time": "2023-08-09T00:31:23.508155065Z",
     "start_time": "2023-08-09T00:31:23.493510715Z"
    }
   }
  },
  {
   "cell_type": "code",
   "execution_count": 387,
   "outputs": [],
   "source": [
    "# Export the result to parquet and save to blob storage.\n",
    "num_events_inc.to_parquet('../do_not_commit/FeatureDatasets/num_events_inc.pq')"
   ],
   "metadata": {
    "collapsed": false,
    "ExecuteTime": {
     "end_time": "2023-08-09T00:31:23.508235311Z",
     "start_time": "2023-08-09T00:31:23.493661121Z"
    }
   }
  },
  {
   "cell_type": "markdown",
   "source": [
    "\n",
    "#### How many INCs contain direct reference to BSOD?\n"
   ],
   "metadata": {
    "collapsed": false
   }
  },
  {
   "cell_type": "code",
   "execution_count": 388,
   "outputs": [
    {
     "data": {
      "text/plain": "array([nan, 'URGENT| Repeated Blue Screen of Death', None, ...,\n       \"Computer was n't working\", 'Fidessa + TradeWeb install',\n       'Thomson One / Start menu unresponsive in Citrix'], dtype=object)"
     },
     "execution_count": 388,
     "metadata": {},
     "output_type": "execute_result"
    }
   ],
   "source": [
    "df['short_description_NER'].unique()"
   ],
   "metadata": {
    "collapsed": false,
    "ExecuteTime": {
     "end_time": "2023-08-09T00:31:23.595843778Z",
     "start_time": "2023-08-09T00:31:23.493743818Z"
    }
   }
  },
  {
   "cell_type": "code",
   "execution_count": 389,
   "outputs": [
    {
     "data": {
      "text/plain": "62"
     },
     "execution_count": 389,
     "metadata": {},
     "output_type": "execute_result"
    }
   ],
   "source": [
    "# How many short descriptions talk about BSODs?\n",
    "len(df.dropna(subset='short_description_NER')[df.dropna(subset='short_description_NER')['short_description_NER'].str.contains(\"(?i)Blue Screen|BSOD|[Dd]eath\")]['number'].unique())"
   ],
   "metadata": {
    "collapsed": false,
    "ExecuteTime": {
     "end_time": "2023-08-09T00:31:24.003719080Z",
     "start_time": "2023-08-09T00:31:23.541509105Z"
    }
   }
  },
  {
   "cell_type": "code",
   "execution_count": 390,
   "outputs": [
    {
     "data": {
      "text/plain": "<AxesSubplot:>"
     },
     "execution_count": 390,
     "metadata": {},
     "output_type": "execute_result"
    },
    {
     "data": {
      "text/plain": "<Figure size 432x288 with 1 Axes>",
      "image/png": "[encoded data removed]"
     },
     "metadata": {
      "needs_background": "light"
     },
     "output_type": "display_data"
    }
   ],
   "source": [
    "# What is the frequency of each error type for BSOD tickets?\n",
    "df.dropna(subset='short_description_NER')[df.dropna(subset='short_description_NER')['short_description_NER'].str.contains(\"(?i)Blue Screen|BSOD|[Dd]eath\")].drop_duplicates('number', keep='first')['error_type'].hist()"
   ],
   "metadata": {
    "collapsed": false,
    "ExecuteTime": {
     "end_time": "2023-08-09T00:31:24.598375711Z",
     "start_time": "2023-08-09T00:31:24.003890333Z"
    }
   }
  },
  {
   "cell_type": "code",
   "execution_count": 391,
   "outputs": [
    {
     "data": {
      "text/plain": "          error_type   Combined_Application       Combined_dll  \\\n74       Application         powershell.exe       BIOSIntf.dll   \n9237     Application         powershell.exe       BIOSIntf.dll   \n25428    Application         powershell.exe       BIOSIntf.dll   \n40784    Application  IntelAudioService.exe  ControlModule.dll   \n46501    Application         powershell.exe       BIOSIntf.dll   \n...              ...                    ...                ...   \n1775603         Boot                    NaN                NaN   \n1794407         Boot                    NaN                NaN   \n1797687         Boot                    NaN                NaN   \n1806773         Boot                    NaN                NaN   \n1820716         Boot                    NaN                NaN   \n\n        Combined_Exception  \n74                c0000005  \n9237              c0000005  \n25428             c0000005  \n40784             c0000005  \n46501             c0000005  \n...                    ...  \n1775603                0x0  \n1794407                0x0  \n1797687                0x0  \n1806773                0x0  \n1820716         0x80020003  \n\n[62 rows x 4 columns]",
      "text/html": "<div>\n<style scoped>\n    .dataframe tbody tr th:only-of-type {\n        vertical-align: middle;\n    }\n\n    .dataframe tbody tr th {\n        vertical-align: top;\n    }\n\n    .dataframe thead th {\n        text-align: right;\n    }\n</style>\n<table border=\"1\" class=\"dataframe\">\n  <thead>\n    <tr style=\"text-align: right;\">\n      <th></th>\n      <th>error_type</th>\n      <th>Combined_Application</th>\n      <th>Combined_dll</th>\n      <th>Combined_Exception</th>\n    </tr>\n  </thead>\n  <tbody>\n    <tr>\n      <th>74</th>\n      <td>Application</td>\n      <td>powershell.exe</td>\n      <td>BIOSIntf.dll</td>\n      <td>c0000005</td>\n    </tr>\n    <tr>\n      <th>9237</th>\n      <td>Application</td>\n      <td>powershell.exe</td>\n      <td>BIOSIntf.dll</td>\n      <td>c0000005</td>\n    </tr>\n    <tr>\n      <th>25428</th>\n      <td>Application</td>\n      <td>powershell.exe</td>\n      <td>BIOSIntf.dll</td>\n      <td>c0000005</td>\n    </tr>\n    <tr>\n      <th>40784</th>\n      <td>Application</td>\n      <td>IntelAudioService.exe</td>\n      <td>ControlModule.dll</td>\n      <td>c0000005</td>\n    </tr>\n    <tr>\n      <th>46501</th>\n      <td>Application</td>\n      <td>powershell.exe</td>\n      <td>BIOSIntf.dll</td>\n      <td>c0000005</td>\n    </tr>\n    <tr>\n      <th>...</th>\n      <td>...</td>\n      <td>...</td>\n      <td>...</td>\n      <td>...</td>\n    </tr>\n    <tr>\n      <th>1775603</th>\n      <td>Boot</td>\n      <td>NaN</td>\n      <td>NaN</td>\n      <td>0x0</td>\n    </tr>\n    <tr>\n      <th>1794407</th>\n      <td>Boot</td>\n      <td>NaN</td>\n      <td>NaN</td>\n      <td>0x0</td>\n    </tr>\n    <tr>\n      <th>1797687</th>\n      <td>Boot</td>\n      <td>NaN</td>\n      <td>NaN</td>\n      <td>0x0</td>\n    </tr>\n    <tr>\n      <th>1806773</th>\n      <td>Boot</td>\n      <td>NaN</td>\n      <td>NaN</td>\n      <td>0x0</td>\n    </tr>\n    <tr>\n      <th>1820716</th>\n      <td>Boot</td>\n      <td>NaN</td>\n      <td>NaN</td>\n      <td>0x80020003</td>\n    </tr>\n  </tbody>\n</table>\n<p>62 rows × 4 columns</p>\n</div>"
     },
     "execution_count": 391,
     "metadata": {},
     "output_type": "execute_result"
    }
   ],
   "source": [
    "df.dropna(subset='short_description_NER')[(df.dropna(subset='short_description_NER')['short_description_NER'].str.contains(\"(?i)Blue Screen|BSOD|[Dd]eath\"))].drop_duplicates('number', keep='first')[['error_type', 'Combined_Application', 'Combined_dll', 'Combined_Exception']]"
   ],
   "metadata": {
    "collapsed": false,
    "ExecuteTime": {
     "end_time": "2023-08-09T00:31:25.086006008Z",
     "start_time": "2023-08-09T00:31:24.599786184Z"
    }
   }
  },
  {
   "cell_type": "code",
   "execution_count": 392,
   "outputs": [
    {
     "name": "stderr",
     "output_type": "stream",
     "text": [
      "/tmp/ipykernel_13369/1312422880.py:1: UserWarning: Boolean Series key will be reindexed to match DataFrame index.\n",
      "  df.dropna(subset='short_description_NER')[(df.dropna(subset='short_description_NER')['short_description_NER'].str.contains(\"(?i)Blue Screen|BSOD|[Dd]eath\")) & (df['error_type'] == 'Application')].drop_duplicates('number', keep='first')['Combined_Application']\n"
     ]
    },
    {
     "data": {
      "text/plain": "74                          powershell.exe\n9237                        powershell.exe\n25428                       powershell.exe\n40784                IntelAudioService.exe\n46501                       powershell.exe\n47697                       powershell.exe\n48187                 RtkAudUService64.exe\n51341                          OUTLOOK.EXE\n64927                       powershell.exe\n68205                              dwm.exe\n75252                       powershell.exe\n81591                IntelAudioService.exe\n83756                       powershell.exe\n84440                       powershell.exe\n89599                       WavesSvc64.exe\n89952                       powershell.exe\n93779     svchost.exe_BrokerInfrastructure\n97864                       powershell.exe\n108639                      powershell.exe\n113451                      powershell.exe\n145464                RtkAudUService64.exe\n183199                      powershell.exe\n221248                      powershell.exe\n267120                 Thomson One 5.0.exe\nName: Combined_Application, dtype: object"
     },
     "execution_count": 392,
     "metadata": {},
     "output_type": "execute_result"
    }
   ],
   "source": [
    "df.dropna(subset='short_description_NER')[(df.dropna(subset='short_description_NER')['short_description_NER'].str.contains(\"(?i)Blue Screen|BSOD|[Dd]eath\")) & (df['error_type'] == 'Application')].drop_duplicates('number', keep='first')['Combined_Application']"
   ],
   "metadata": {
    "collapsed": false,
    "ExecuteTime": {
     "end_time": "2023-08-09T00:31:26.635168852Z",
     "start_time": "2023-08-09T00:31:25.086646571Z"
    }
   }
  },
  {
   "cell_type": "code",
   "execution_count": 393,
   "outputs": [
    {
     "name": "stderr",
     "output_type": "stream",
     "text": [
      "/tmp/ipykernel_13369/4070623319.py:1: UserWarning: Boolean Series key will be reindexed to match DataFrame index.\n",
      "  df.dropna(subset='short_description_NER')[(df.dropna(subset='short_description_NER')['short_description_NER'].str.contains(\"(?i)Blue Screen|BSOD|[Dd]eath\")) & (df['error_type'] == 'Boot')].drop_duplicates('number', keep='first')['short_description_NER']\n"
     ]
    },
    {
     "data": {
      "text/plain": "374952                              BSOD- No stop code error\n461611                                                  BSOD\n474646                                                  BSOD\n482939                  Plugging in headphones prompted BSOD\n1165139    BSOD at Startup- Stop Code WHEA- uncorrectable...\n1176000    Received the blue screen of death <CARDINAL> t...\n1179787                                                 BSOD\n1207184                             Laptop BSOD'd 5/10/20223\n1218035    Laptop Overheating, Blue Screen Crashing- Unit...\n1223350    Repeated Blue Screen Error: Device did not sta...\n1236559    BSOD at Startup- Get stuck at Dell logo before...\n1241536                        Blue Screen Crashes on laptop\n1241659                  Laptop Blue Screening Every Morning\n1262377                                        BSOD- Startup\n1266596                                Laptop BSOD on U30366\n1267463               BSOD- Device did not startup correctly\n1275289                   Multiple BSODs over past few weeks\n1276681                                       BSOD on laptop\n1282445        CHI- Blue Screen; desktop app will not launch\n1290429                   Users Laptop displayed Blue Screen\n1307145    BSOD continuously happening on Baird laptop; U...\n1319613                         Computer BSOD- Update Failed\n1327881                                                 BSOD\n1331712                                                 BSOD\n1334043                                          Blue screen\n1334341                 Ndis.sys Blue Screen Error on Laptop\n1339220                                  BSOD- loaner laptop\n1341975                                                 BSOD\n1342872    Continuous BSOD 's, screen randomly goes black...\n1343010    <PERSON> has been having a higher frequency of...\n1345463                                 OnCall Support- BSOD\n1370361    Blue Screen; Error: Faulty Hardware Corrupted ...\n1382815                                 BSOD frequent errors\n1384597                       Laptop unresponsive after BSOD\n1387807     BSOD( STOP CODE ERROR: WHEA_UNCORRECTABLE_ERROR)\n1396534           PowerPoint recovery post blue screen crash\n1405957      Laptop Blue Screen Issue; OneNote on MobileIron\n1427531           Attempted Write to Read- Only: Blue Screen\n1452050                                   Laptop blue screen\n1453572    Laptop Performance Issues- Blue Screen Boot Issue\n1494865                             BSOD startup screen loop\n1499987    Blue screen of death restart machine; Laptop b...\n1516069                URGENT| Repeated Blue Screen of Death\n1529768                                                 BSOD\n1575245                                                 BSOD\n1583820    Laptop lid close display onto external monitor...\n1589500          BSOD: Microsoft ran into a problem- Storage\n1608378                                                 BSOD\n1638144                                                 BSOD\n1638427    <PERSON> Laptop, working from home, getting bl...\n1673007      User is getting the BSOD multiple times a week.\n1702694                               Blue Screen Boot Error\n1727868                                                 BSOD\n1759363                         Running into BSOD new laptop\n1775603         Blue Screen Error: Device ran into a problem\n1794407                    Blue Screen Updates not completed\n1797687              User Experiencing Constant Blue Screens\n1806773                                                 BSOD\n1820716                                                 BSOD\nName: short_description_NER, dtype: object"
     },
     "execution_count": 393,
     "metadata": {},
     "output_type": "execute_result"
    }
   ],
   "source": [
    "df.dropna(subset='short_description_NER')[(df.dropna(subset='short_description_NER')['short_description_NER'].str.contains(\"(?i)Blue Screen|BSOD|[Dd]eath\")) & (df['error_type'] == 'Boot')].drop_duplicates('number', keep='first')['short_description_NER']"
   ],
   "metadata": {
    "collapsed": false,
    "ExecuteTime": {
     "end_time": "2023-08-09T00:31:28.027364035Z",
     "start_time": "2023-08-09T00:31:26.636953168Z"
    }
   }
  },
  {
   "cell_type": "markdown",
   "source": [
    "\n",
    "#### What is the distribution of FaultApplicationName among INCs?\n"
   ],
   "metadata": {
    "collapsed": false
   }
  },
  {
   "cell_type": "code",
   "execution_count": 394,
   "outputs": [],
   "source": [
    "df_check = df[df['error_type'] == 'Application']"
   ],
   "metadata": {
    "collapsed": false,
    "ExecuteTime": {
     "end_time": "2023-08-09T00:31:28.374937897Z",
     "start_time": "2023-08-09T00:31:28.089943418Z"
    }
   }
  },
  {
   "cell_type": "code",
   "execution_count": 395,
   "outputs": [
    {
     "data": {
      "text/plain": "powershell.exe          69017\nEXCEL.EXE               21941\nAcrobat.exe             20938\nWavesSvc64.exe          14684\nRtkAudUService64.exe    13580\n                        ...  \nsvchost.exe_UsoSvc          1\nUpfc.exe                    1\nRaptorExporter.exe          1\nNWMSysDialog.exe            1\nEikonBoxNet.exe             1\nName: Combined_Application, Length: 736, dtype: int64"
     },
     "execution_count": 395,
     "metadata": {},
     "output_type": "execute_result"
    }
   ],
   "source": [
    "df_check['Combined_Application'].value_counts()"
   ],
   "metadata": {
    "collapsed": false,
    "ExecuteTime": {
     "end_time": "2023-08-09T00:31:28.387004297Z",
     "start_time": "2023-08-09T00:31:28.381984677Z"
    }
   }
  },
  {
   "cell_type": "markdown",
   "source": [
    "\n",
    "#### What is the distribution of modules among INCs?\n"
   ],
   "metadata": {
    "collapsed": false
   }
  },
  {
   "cell_type": "code",
   "execution_count": 396,
   "outputs": [
    {
     "data": {
      "text/plain": "BIOSIntf.dll            68893\nKERNELBASE.dll          42027\nntdll.dll               24195\nWavesSvc64.exe          14631\nRtkAudUService64.exe    13449\n                        ...  \nr_wrsfmkja.dll              1\nw_wobvwihq.dll              1\nm_omqxqggo.dll              1\nu_wwxgcujv.dll              1\nu_lwawedzn.dll              1\nName: Combined_dll, Length: 18061, dtype: int64"
     },
     "execution_count": 396,
     "metadata": {},
     "output_type": "execute_result"
    }
   ],
   "source": [
    "df_check['Combined_dll'].value_counts()"
   ],
   "metadata": {
    "collapsed": false,
    "ExecuteTime": {
     "end_time": "2023-08-09T00:31:28.407208970Z",
     "start_time": "2023-08-09T00:31:28.395111637Z"
    }
   }
  },
  {
   "cell_type": "markdown",
   "source": [
    "\n",
    "#### Which exception codes are most common among INCs?\n"
   ],
   "metadata": {
    "collapsed": false
   }
  },
  {
   "cell_type": "code",
   "execution_count": 397,
   "outputs": [
    {
     "data": {
      "text/plain": "Combined_Application       Combined_Exception\npowershell.exe             c0000005              68899\nWavesSvc64.exe             c0000005              14663\nRtkAudUService64.exe       c0000005              13466\nAcrobat.exe                c0000005               9437\n                           e06d7363               9315\n                                                 ...  \nSSFolderPrev.exe           c0000005                  1\nSSHPdf2Jpg.exe             c0000094                  1\nSSMS-Setup-ENU.exe         c00000fd                  1\nSage.NA.AT_AU.SysTray.exe  c000041d                  1\nzt.exe                     c0000005                  1\nLength: 1702, dtype: int64"
     },
     "execution_count": 397,
     "metadata": {},
     "output_type": "execute_result"
    }
   ],
   "source": [
    "df_check[['Combined_Application', 'Combined_Exception']].value_counts()"
   ],
   "metadata": {
    "collapsed": false,
    "ExecuteTime": {
     "end_time": "2023-08-09T00:31:28.438007775Z",
     "start_time": "2023-08-09T00:31:28.401990330Z"
    }
   }
  }
 ],
 "metadata": {
  "kernelspec": {
   "display_name": "Python 3",
   "language": "python",
   "name": "python3"
  },
  "language_info": {
   "codemirror_mode": {
    "name": "ipython",
    "version": 2
   },
   "file_extension": ".py",
   "mimetype": "text/x-python",
   "name": "python",
   "nbconvert_exporter": "python",
   "pygments_lexer": "ipython2",
   "version": "2.7.6"
  }
 },
 "nbformat": 4,
 "nbformat_minor": 0
}

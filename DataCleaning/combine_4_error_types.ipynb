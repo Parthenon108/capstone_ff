{
 "cells": [
  {
   "cell_type": "code",
   "execution_count": 1,
   "metadata": {
    "collapsed": true,
    "ExecuteTime": {
     "end_time": "2023-08-03T14:54:37.317285831Z",
     "start_time": "2023-08-03T14:54:35.680832659Z"
    }
   },
   "outputs": [],
   "source": [
    "import pandas as pd\n",
    "import numpy as np\n",
    "from functools import reduce\n",
    "import pytz\n",
    "import missingno as msno\n",
    "import altair as alt"
   ]
  },
  {
   "cell_type": "markdown",
   "source": [
    "\n",
    "[Shift time for TimeCreatedSystemTime to UTC](#timeshift)\n",
    "[Join machines to events](#machines_events)\n"
   ],
   "metadata": {
    "collapsed": false
   }
  },
  {
   "cell_type": "code",
   "execution_count": 2,
   "outputs": [],
   "source": [
    "# These are the datasets uploaded by Jacob to blob storage:\n",
    "df_app = pd.read_parquet('../do_not_commit/Datasets/AppErrorEvents.parquet')\n",
    "df_win = pd.read_parquet('../do_not_commit/Datasets/WindowsErrorEvents.parquet')\n",
    "df_hang = pd.read_parquet('../do_not_commit/Datasets/AppHangEvents.parquet')"
   ],
   "metadata": {
    "collapsed": false,
    "ExecuteTime": {
     "end_time": "2023-08-03T14:54:37.740075671Z",
     "start_time": "2023-08-03T14:54:37.361949445Z"
    }
   }
  },
  {
   "cell_type": "code",
   "execution_count": 3,
   "outputs": [
    {
     "name": "stdout",
     "output_type": "stream",
     "text": [
      "268149\n",
      "9836\n",
      "40811\n"
     ]
    }
   ],
   "source": [
    "print(len(df_app))\n",
    "print(len(df_win))\n",
    "print(len(df_hang))"
   ],
   "metadata": {
    "collapsed": false,
    "ExecuteTime": {
     "end_time": "2023-08-03T14:54:37.741344499Z",
     "start_time": "2023-08-03T14:54:37.730250440Z"
    }
   }
  },
  {
   "cell_type": "code",
   "execution_count": 4,
   "outputs": [],
   "source": [
    "df_app['error_type'] = \"Application\"\n",
    "df_win['error_type'] = 'Windows'\n",
    "df_hang['error_type'] = 'Hang'"
   ],
   "metadata": {
    "collapsed": false,
    "ExecuteTime": {
     "end_time": "2023-08-03T14:54:37.741613478Z",
     "start_time": "2023-08-03T14:54:37.732940104Z"
    }
   }
  },
  {
   "cell_type": "markdown",
   "source": [
    "\n",
    "Do this in one or two ways:\n",
    "1. Add use suffixes= in pd.merge() to explicitly assign each column/variable to its original error type.\n",
    "2. Combine values for common columns into the same column, add a new column for each of the 4 for its error type, e.g. \"Hang\", and not assign column suffixes (use pd.concat([dataframes])).\n",
    "\n",
    "Given from the original XML exercise columns with the same name in different sets represented the same variable, preferred approach is #2.\n"
   ],
   "metadata": {
    "collapsed": false
   }
  },
  {
   "cell_type": "code",
   "execution_count": 5,
   "outputs": [],
   "source": [
    "# Visualize codes by EventName in df_win['EventName'].\n",
    "def get_compare_chart(in_data, in_col, in_title):\n",
    " count_df2 = in_data.groupby(in_col).size().reset_index().rename(columns={0:'count'})\n",
    " # Sort order for chart\n",
    " count_df2.sort_values('count', ascending = False, inplace=True)\n",
    " sort_order = [val for val in count_df2[in_col].unique()]\n",
    " out_chart = alt.Chart(count_df2).mark_bar().encode(\n",
    "     x = alt.X('count:Q'),\n",
    "     y = alt.Y(in_col+':N', sort=sort_order),\n",
    "     tooltip ='count:Q'\n",
    " ).properties(title = in_title)\n",
    " return out_chart\n",
    "\n",
    "\n",
    "def show_bar_for_win_event(eventname_list, in_df, visualize_attr):\n",
    "  for eventname in eventname_list:\n",
    "    current_df = in_df[in_df['EventName'] == eventname]\n",
    "    out_chart = get_compare_chart(current_df, visualize_attr, f'Counts of {visualize_attr} types for {eventname} events')\n",
    "    yield out_chart\n",
    "# Get the event names\n",
    "eventnames = df_win['EventName'].unique()\n",
    "charts = show_bar_for_win_event(eventnames, df_win, 'ProblemSignatureP3')"
   ],
   "metadata": {
    "collapsed": false,
    "ExecuteTime": {
     "end_time": "2023-08-03T14:54:37.746160638Z",
     "start_time": "2023-08-03T14:54:37.742583284Z"
    }
   }
  },
  {
   "cell_type": "code",
   "execution_count": 6,
   "outputs": [],
   "source": [
    "# current_chart = next(charts)\n",
    "# current_chart"
   ],
   "metadata": {
    "collapsed": false,
    "ExecuteTime": {
     "end_time": "2023-08-03T14:54:37.821690697Z",
     "start_time": "2023-08-03T14:54:37.746434373Z"
    }
   }
  },
  {
   "cell_type": "code",
   "execution_count": 7,
   "outputs": [
    {
     "data": {
      "text/plain": "array(['crashpad_exp', 'APPCRASH', 'AppHangB1', 'MoAppHang', 'BEX64',\n       'MoAppCrash', 'MoBEX', 'CLR20r3', 'BEX', 'AppHangXProcB1',\n       'LiveKernelEvent', 'MoAppHangXProc', 'POFContextAppCrash',\n       'ServiceHang', 'CbsPackageServicingFailure2',\n       'CriticalProcessFault2', 'crashpad_jserror', 'WUDFVerifierFailure'],\n      dtype=object)"
     },
     "execution_count": 7,
     "metadata": {},
     "output_type": "execute_result"
    }
   ],
   "source": [
    "eventnames"
   ],
   "metadata": {
    "collapsed": false,
    "ExecuteTime": {
     "end_time": "2023-08-03T14:54:37.835210726Z",
     "start_time": "2023-08-03T14:54:37.791183756Z"
    }
   }
  },
  {
   "cell_type": "code",
   "execution_count": 8,
   "outputs": [
    {
     "name": "stdout",
     "output_type": "stream",
     "text": [
      "1569\n",
      "9836\n"
     ]
    }
   ],
   "source": [
    "print(df_win['ProblemSignatureP3'].str.contains('.dll').sum())\n",
    "print(len(df_win))"
   ],
   "metadata": {
    "collapsed": false,
    "ExecuteTime": {
     "end_time": "2023-08-03T14:54:37.835666392Z",
     "start_time": "2023-08-03T14:54:37.791605865Z"
    }
   }
  },
  {
   "cell_type": "markdown",
   "source": [
    "\n",
    "-  crashpad_exp has only .dll EventItems\n",
    "-  APPCRASH has 1 .dll and many alphanumeric codes\n",
    "-  AppHangB1 has only hexadecimal codes\n",
    "-  MoAppHang has IP-style codes\n",
    "-  BEX64 has only alphanumeric codes\n",
    "-  MoAppCrash has IP-style codes\n",
    "-  MoBEX has IP-style codes\n",
    "-  CLR20r3 has hexadecimal codes\n",
    "-  BEX has hexadecimal codes\n",
    "-  AppHangXProcB1 has hexadecimal codes\n",
    "-  LiveKernelEvent has single numbers, single letters, and (many) alphanumeric codes\n",
    "-  MoAppHangXProc events has 2 IP-style codes\n",
    "-  POFContextAppCrash has IP-style codes\n",
    "-  ServiceHang has IP-style codes\n",
    "-  CbsPackageServicingFailure2 has IP-style codes\n",
    "-  CriticalProcessFault2 has 1 alphanumeric code and 1 00000000 code\n",
    "-  crashpad_jserror has webui-pdf code\n",
    "-  WUDFVerifierFailure has 'Driver 'code\n"
   ],
   "metadata": {
    "collapsed": false
   }
  },
  {
   "cell_type": "code",
   "execution_count": 9,
   "outputs": [],
   "source": [
    "# COALESCE() in order: https://www.statology.org/pandas-coalesce/\n",
    "df_win['Combined_dll'] = df_win[['ProblemSignatureP3', 'ProblemSignatureP6']].bfill(axis=1).iloc[:, 0]\n",
    "df_win['Combined_dll'] = df_win['Combined_dll'].apply(lambda x: x if '.dll' in str(x) else np.nan)\n",
    "df_win.drop(columns=['ProblemSignatureP3', 'ProblemSignatureP6'], inplace=True)"
   ],
   "metadata": {
    "collapsed": false,
    "ExecuteTime": {
     "end_time": "2023-08-03T14:54:37.835876796Z",
     "start_time": "2023-08-03T14:54:37.791951348Z"
    }
   }
  },
  {
   "cell_type": "code",
   "execution_count": 10,
   "outputs": [],
   "source": [
    "df_app.rename(\n",
    "    columns={\n",
    "        'FaultingApplicationName':'Combined_Application',\n",
    "        'ProgramId':'ProgramID',\n",
    "        'FileId':'FileID',\n",
    "        'AppVersion':'Combined_Version',\n",
    "        'ExceptionCode':'Combined_Exception',\n",
    "        'FaultingProcessId':'Combined_ProcessID',\n",
    "        'ReportId':'Combined_ReportID',\n",
    "        'FaultingApplicationStartTime':'Combined_StartTime',\n",
    "        'FaultingModuleName':'Combined_dll'\n",
    "    },\n",
    "    inplace=True\n",
    ")\n",
    "\n",
    "df_win.rename(\n",
    "    columns={\n",
    "        'ProblemSignatureP1_Application':'Combined_Application',\n",
    "        'ProblemSignatureP2_AppVersion':'Combined_Version',\n",
    "        'ProblemSignatureP7_ExceptionCode':'Combined_Exception',\n",
    "        'ReportID':'Combined_ReportID',\n",
    "        'CabGuid':'CabGUID'\n",
    "    },\n",
    "    inplace=True\n",
    ")\n",
    "\n",
    "df_hang.rename(\n",
    "    columns={\n",
    "        'ProgramId':'ProgramID',\n",
    "        'FileId':'FileID',\n",
    "        'Program':'Combined_Application',\n",
    "        'ProgramVersion':'Combined_Version',\n",
    "        'ProcessID':'Combined_ProcessID',\n",
    "        'ReportID':'Combined_ReportID',\n",
    "        'StartTime':'Combined_StartTime'\n",
    "    },\n",
    "    inplace=True\n",
    ")"
   ],
   "metadata": {
    "collapsed": false,
    "ExecuteTime": {
     "end_time": "2023-08-03T14:54:37.836126376Z",
     "start_time": "2023-08-03T14:54:37.792221287Z"
    }
   }
  },
  {
   "cell_type": "code",
   "execution_count": 11,
   "outputs": [],
   "source": [
    "events = pd.concat([df_app, df_win, df_hang])"
   ],
   "metadata": {
    "collapsed": false,
    "ExecuteTime": {
     "end_time": "2023-08-03T14:54:38.004689808Z",
     "start_time": "2023-08-03T14:54:37.792514720Z"
    }
   }
  },
  {
   "cell_type": "code",
   "execution_count": 12,
   "outputs": [],
   "source": [
    "# Dropping columns with nothing in them.\n",
    "events.dropna(axis=1, how='all', inplace=True)"
   ],
   "metadata": {
    "collapsed": false,
    "ExecuteTime": {
     "end_time": "2023-08-03T14:54:39.325575019Z",
     "start_time": "2023-08-03T14:54:38.000888749Z"
    }
   }
  },
  {
   "cell_type": "code",
   "execution_count": 13,
   "outputs": [
    {
     "data": {
      "text/plain": "<AxesSubplot:>"
     },
     "execution_count": 13,
     "metadata": {},
     "output_type": "execute_result"
    },
    {
     "data": {
      "text/plain": "<Figure size 1800x720 with 2 Axes>",
      "image/png": "[encoded data removed]"
     },
     "metadata": {
      "needs_background": "light"
     },
     "output_type": "display_data"
    }
   ],
   "source": [
    "msno.matrix(events.iloc[:, 20:], labels=True, fontsize=8)"
   ],
   "metadata": {
    "collapsed": false,
    "ExecuteTime": {
     "end_time": "2023-08-03T14:54:42.751143559Z",
     "start_time": "2023-08-03T14:54:39.382484446Z"
    }
   }
  },
  {
   "cell_type": "markdown",
   "source": [
    "\n",
    "<a id='timeshift'></a>\n",
    "# Shift TimeCreatedSystemTime to Central time to match INCs.\n"
   ],
   "metadata": {
    "collapsed": false
   }
  },
  {
   "cell_type": "code",
   "execution_count": 14,
   "outputs": [],
   "source": [
    "# Convert local time values to Central.\n",
    "def convert_to_cst(df, utc_column_name, cst_column_name):\n",
    "\n",
    "    # Make sure the UTC column is in datetime format\n",
    "    df[utc_column_name] = pd.to_datetime(df[utc_column_name])\n",
    "\n",
    "    # Convert to UTC timezone\n",
    "    utc_timezone = pytz.timezone('UTC')\n",
    "    df[utc_column_name] = df[utc_column_name].dt.tz_localize(utc_timezone)\n",
    "\n",
    "    # Convert to Central Standard Time (CST) timezone\n",
    "    cst_timezone = pytz.timezone('America/Chicago')\n",
    "    df[cst_column_name] = df[utc_column_name].dt.tz_convert(cst_timezone)\n",
    "\n",
    "    # Drop the original UTC column if desired (optional)\n",
    "    # df.drop(columns=[utc_column_name], inplace=True)\n",
    "\n",
    "    return df\n",
    "\n",
    "events = convert_to_cst(events, utc_column_name='TimeCreatedSystemTime', cst_column_name='CreatedSystemTime_CST')"
   ],
   "metadata": {
    "collapsed": false,
    "ExecuteTime": {
     "end_time": "2023-08-03T14:54:42.803729670Z",
     "start_time": "2023-08-03T14:54:42.779993538Z"
    }
   }
  },
  {
   "cell_type": "code",
   "execution_count": 15,
   "outputs": [
    {
     "data": {
      "text/plain": "                TimeCreatedSystemTime            CreatedSystemTime_CST\n8993 2023-03-24 15:28:11.323000+00:00 2023-03-24 10:28:11.323000-05:00\n5701 2023-01-23 13:52:57.873000+00:00 2023-01-23 07:52:57.873000-06:00\n8291 2023-05-22 14:57:51.340000+00:00 2023-05-22 09:57:51.340000-05:00\n8288 2023-04-15 05:01:22.097000+00:00 2023-04-15 00:01:22.097000-05:00\n3961 2023-05-14 17:44:35.403000+00:00 2023-05-14 12:44:35.403000-05:00",
      "text/html": "<div>\n<style scoped>\n    .dataframe tbody tr th:only-of-type {\n        vertical-align: middle;\n    }\n\n    .dataframe tbody tr th {\n        vertical-align: top;\n    }\n\n    .dataframe thead th {\n        text-align: right;\n    }\n</style>\n<table border=\"1\" class=\"dataframe\">\n  <thead>\n    <tr style=\"text-align: right;\">\n      <th></th>\n      <th>TimeCreatedSystemTime</th>\n      <th>CreatedSystemTime_CST</th>\n    </tr>\n  </thead>\n  <tbody>\n    <tr>\n      <th>8993</th>\n      <td>2023-03-24 15:28:11.323000+00:00</td>\n      <td>2023-03-24 10:28:11.323000-05:00</td>\n    </tr>\n    <tr>\n      <th>5701</th>\n      <td>2023-01-23 13:52:57.873000+00:00</td>\n      <td>2023-01-23 07:52:57.873000-06:00</td>\n    </tr>\n    <tr>\n      <th>8291</th>\n      <td>2023-05-22 14:57:51.340000+00:00</td>\n      <td>2023-05-22 09:57:51.340000-05:00</td>\n    </tr>\n    <tr>\n      <th>8288</th>\n      <td>2023-04-15 05:01:22.097000+00:00</td>\n      <td>2023-04-15 00:01:22.097000-05:00</td>\n    </tr>\n    <tr>\n      <th>3961</th>\n      <td>2023-05-14 17:44:35.403000+00:00</td>\n      <td>2023-05-14 12:44:35.403000-05:00</td>\n    </tr>\n  </tbody>\n</table>\n</div>"
     },
     "execution_count": 15,
     "metadata": {},
     "output_type": "execute_result"
    }
   ],
   "source": [
    "# Check all times are -05:00 or -06:00 from UTC (Daylight Savings Time).\n",
    "events[['TimeCreatedSystemTime', 'CreatedSystemTime_CST']].sample(5)"
   ],
   "metadata": {
    "collapsed": false,
    "ExecuteTime": {
     "end_time": "2023-08-03T14:54:42.943253604Z",
     "start_time": "2023-08-03T14:54:42.794744317Z"
    }
   }
  },
  {
   "cell_type": "code",
   "execution_count": 16,
   "outputs": [],
   "source": [
    "events['CreatedSystemTime_CST_formatted'] = events['CreatedSystemTime_CST'].dt.strftime('%Y-%m-%d')"
   ],
   "metadata": {
    "collapsed": false,
    "ExecuteTime": {
     "end_time": "2023-08-03T14:54:45.630794277Z",
     "start_time": "2023-08-03T14:54:43.335743392Z"
    }
   }
  },
  {
   "cell_type": "markdown",
   "source": [
    "\n",
    "<a id=\"machines_events\"></a>\n",
    "# Join Machine data with Events data.\n"
   ],
   "metadata": {
    "collapsed": false
   }
  },
  {
   "cell_type": "code",
   "execution_count": 17,
   "outputs": [],
   "source": [
    "machines = pd.read_parquet('../do_not_commit/Datasets/Persist_System_DISC.pq')"
   ],
   "metadata": {
    "collapsed": false,
    "ExecuteTime": {
     "end_time": "2023-08-03T14:54:46.825063061Z",
     "start_time": "2023-08-03T14:54:45.632556603Z"
    }
   }
  },
  {
   "cell_type": "code",
   "execution_count": 18,
   "outputs": [],
   "source": [
    "# msno.matrix(incs, labels=True, fontsize=8)"
   ],
   "metadata": {
    "collapsed": false,
    "ExecuteTime": {
     "end_time": "2023-08-03T14:54:46.825614281Z",
     "start_time": "2023-08-03T14:54:46.808961517Z"
    }
   }
  },
  {
   "cell_type": "code",
   "execution_count": 19,
   "outputs": [],
   "source": [
    "machines['ClientItemKey'] = machines['ItemKey'].copy()"
   ],
   "metadata": {
    "collapsed": false,
    "ExecuteTime": {
     "end_time": "2023-08-03T14:54:46.825964050Z",
     "start_time": "2023-08-03T14:54:46.811961837Z"
    }
   }
  },
  {
   "cell_type": "code",
   "execution_count": 20,
   "outputs": [],
   "source": [
    "# Join machine name to events by internal date and item key.\n",
    "machines_events = events.merge(machines[['RWB_EFFECTIVE_DATE', 'ClientItemKey', 'Name0']], on=['RWB_EFFECTIVE_DATE', 'ClientItemKey'], how='left')"
   ],
   "metadata": {
    "collapsed": false,
    "ExecuteTime": {
     "end_time": "2023-08-03T14:54:47.285256552Z",
     "start_time": "2023-08-03T14:54:46.817033123Z"
    }
   }
  },
  {
   "cell_type": "code",
   "execution_count": 21,
   "outputs": [],
   "source": [
    "machines_events['TimeCreatedSystemTimeFormatted'] = machines_events['TimeCreatedSystemTime'].dt.strftime('%Y-%m-%d')"
   ],
   "metadata": {
    "collapsed": false,
    "ExecuteTime": {
     "end_time": "2023-08-03T14:54:48.583212308Z",
     "start_time": "2023-08-03T14:54:47.327462849Z"
    }
   }
  },
  {
   "cell_type": "code",
   "execution_count": 22,
   "outputs": [
    {
     "data": {
      "text/plain": "<AxesSubplot:>"
     },
     "execution_count": 22,
     "metadata": {},
     "output_type": "execute_result"
    },
    {
     "data": {
      "text/plain": "<Figure size 1800x720 with 2 Axes>",
      "image/png": "[encoded data removed]"
     },
     "metadata": {
      "needs_background": "light"
     },
     "output_type": "display_data"
    }
   ],
   "source": [
    "msno.matrix(machines_events, labels=True, fontsize=8)"
   ],
   "metadata": {
    "collapsed": false,
    "ExecuteTime": {
     "end_time": "2023-08-03T14:54:54.212204918Z",
     "start_time": "2023-08-03T14:54:48.584711428Z"
    }
   }
  },
  {
   "cell_type": "code",
   "execution_count": 23,
   "outputs": [
    {
     "data": {
      "text/plain": "        RWB_EVENTRAWRESULTITEM_ID  RWB_ETL_EVENT_DESTINATION_IDENTIFIER  \\\n61390                     3102907                                  3191   \n294391                    1519628                                  1163   \n40547                     3734368                                  4059   \n254573                    5505694                                  6291   \n250290                    5630442                                  6477   \n\n              RWB_CREATE_TIMESTAMP RWB_EFFECTIVE_DATE                 ID  \\\n61390   2023-03-03 08:46:17 -06:00         2023-03-03  72057594082954012   \n294391  2023-01-30 09:09:03 -06:00         2023-01-30  72057594081365168   \n40547   2023-03-17 08:46:11 -05:00         2023-03-17  72057594083619224   \n254573  2023-04-22 08:46:21 -05:00         2023-04-22  72057594085409146   \n250290  2023-04-25 08:46:22 -05:00         2023-04-25  72057594085534556   \n\n        ClientItemKey       ProviderName  \\\n61390        16802201  Application Error   \n294391       16814761   Application Hang   \n40547        16816005  Application Error   \n254573       16814662  Application Error   \n250290       16809018  Application Error   \n\n                                ProviderGUID  EventID  EventIDQualifiers  ...  \\\n61390   {00000000-0000-0000-0000-00000000000     1000                  0  ...   \n294391  {00000000-0000-0000-0000-00000000000     1002                  0  ...   \n40547   {00000000-0000-0000-0000-00000000000     1000                  0  ...   \n254573  {00000000-0000-0000-0000-00000000000     1000                  0  ...   \n250290  {00000000-0000-0000-0000-00000000000     1000                  0  ...   \n\n        RecheckingForSolution  HashedBucket  CabGUID  TerminationType  \\\n61390                     NaN           NaN      NaN              NaN   \n294391                    NaN           NaN      NaN       4294967295   \n40547                     NaN           NaN      NaN              NaN   \n254573                    NaN           NaN      NaN              NaN   \n250290                    NaN           NaN      NaN              NaN   \n\n       HangType                           BinaryValue  \\\n61390       NaN                                   NaN   \n294391  Quiesce  510075006900650073006300650000000000   \n40547       NaN                                   NaN   \n254573      NaN                                   NaN   \n250290      NaN                                   NaN   \n\n                  CreatedSystemTime_CST CreatedSystemTime_CST_formatted  \\\n61390  2023-02-26 22:36:08.807000-06:00                      2023-02-26   \n294391 2023-01-30 06:33:12.890000-06:00                      2023-01-30   \n40547  2023-03-15 07:54:10.380000-05:00                      2023-03-15   \n254573 2023-04-19 02:30:02.717000-05:00                      2023-04-19   \n250290 2023-04-19 17:15:10.030000-05:00                      2023-04-19   \n\n               Name0 TimeCreatedSystemTimeFormatted  \n61390   MIL-L-U29810                     2023-02-27  \n294391  MIL-L-U32750                     2023-01-30  \n40547   MIL-L-U32085                     2023-03-15  \n254573  CHI-L-U31118                     2023-04-19  \n250290  MIL-L-U32029                     2023-04-19  \n\n[5 rows x 61 columns]",
      "text/html": "<div>\n<style scoped>\n    .dataframe tbody tr th:only-of-type {\n        vertical-align: middle;\n    }\n\n    .dataframe tbody tr th {\n        vertical-align: top;\n    }\n\n    .dataframe thead th {\n        text-align: right;\n    }\n</style>\n<table border=\"1\" class=\"dataframe\">\n  <thead>\n    <tr style=\"text-align: right;\">\n      <th></th>\n      <th>RWB_EVENTRAWRESULTITEM_ID</th>\n      <th>RWB_ETL_EVENT_DESTINATION_IDENTIFIER</th>\n      <th>RWB_CREATE_TIMESTAMP</th>\n      <th>RWB_EFFECTIVE_DATE</th>\n      <th>ID</th>\n      <th>ClientItemKey</th>\n      <th>ProviderName</th>\n      <th>ProviderGUID</th>\n      <th>EventID</th>\n      <th>EventIDQualifiers</th>\n      <th>...</th>\n      <th>RecheckingForSolution</th>\n      <th>HashedBucket</th>\n      <th>CabGUID</th>\n      <th>TerminationType</th>\n      <th>HangType</th>\n      <th>BinaryValue</th>\n      <th>CreatedSystemTime_CST</th>\n      <th>CreatedSystemTime_CST_formatted</th>\n      <th>Name0</th>\n      <th>TimeCreatedSystemTimeFormatted</th>\n    </tr>\n  </thead>\n  <tbody>\n    <tr>\n      <th>61390</th>\n      <td>3102907</td>\n      <td>3191</td>\n      <td>2023-03-03 08:46:17 -06:00</td>\n      <td>2023-03-03</td>\n      <td>72057594082954012</td>\n      <td>16802201</td>\n      <td>Application Error</td>\n      <td>{00000000-0000-0000-0000-00000000000</td>\n      <td>1000</td>\n      <td>0</td>\n      <td>...</td>\n      <td>NaN</td>\n      <td>NaN</td>\n      <td>NaN</td>\n      <td>NaN</td>\n      <td>NaN</td>\n      <td>NaN</td>\n      <td>2023-02-26 22:36:08.807000-06:00</td>\n      <td>2023-02-26</td>\n      <td>MIL-L-U29810</td>\n      <td>2023-02-27</td>\n    </tr>\n    <tr>\n      <th>294391</th>\n      <td>1519628</td>\n      <td>1163</td>\n      <td>2023-01-30 09:09:03 -06:00</td>\n      <td>2023-01-30</td>\n      <td>72057594081365168</td>\n      <td>16814761</td>\n      <td>Application Hang</td>\n      <td>{00000000-0000-0000-0000-00000000000</td>\n      <td>1002</td>\n      <td>0</td>\n      <td>...</td>\n      <td>NaN</td>\n      <td>NaN</td>\n      <td>NaN</td>\n      <td>4294967295</td>\n      <td>Quiesce</td>\n      <td>510075006900650073006300650000000000</td>\n      <td>2023-01-30 06:33:12.890000-06:00</td>\n      <td>2023-01-30</td>\n      <td>MIL-L-U32750</td>\n      <td>2023-01-30</td>\n    </tr>\n    <tr>\n      <th>40547</th>\n      <td>3734368</td>\n      <td>4059</td>\n      <td>2023-03-17 08:46:11 -05:00</td>\n      <td>2023-03-17</td>\n      <td>72057594083619224</td>\n      <td>16816005</td>\n      <td>Application Error</td>\n      <td>{00000000-0000-0000-0000-00000000000</td>\n      <td>1000</td>\n      <td>0</td>\n      <td>...</td>\n      <td>NaN</td>\n      <td>NaN</td>\n      <td>NaN</td>\n      <td>NaN</td>\n      <td>NaN</td>\n      <td>NaN</td>\n      <td>2023-03-15 07:54:10.380000-05:00</td>\n      <td>2023-03-15</td>\n      <td>MIL-L-U32085</td>\n      <td>2023-03-15</td>\n    </tr>\n    <tr>\n      <th>254573</th>\n      <td>5505694</td>\n      <td>6291</td>\n      <td>2023-04-22 08:46:21 -05:00</td>\n      <td>2023-04-22</td>\n      <td>72057594085409146</td>\n      <td>16814662</td>\n      <td>Application Error</td>\n      <td>{00000000-0000-0000-0000-00000000000</td>\n      <td>1000</td>\n      <td>0</td>\n      <td>...</td>\n      <td>NaN</td>\n      <td>NaN</td>\n      <td>NaN</td>\n      <td>NaN</td>\n      <td>NaN</td>\n      <td>NaN</td>\n      <td>2023-04-19 02:30:02.717000-05:00</td>\n      <td>2023-04-19</td>\n      <td>CHI-L-U31118</td>\n      <td>2023-04-19</td>\n    </tr>\n    <tr>\n      <th>250290</th>\n      <td>5630442</td>\n      <td>6477</td>\n      <td>2023-04-25 08:46:22 -05:00</td>\n      <td>2023-04-25</td>\n      <td>72057594085534556</td>\n      <td>16809018</td>\n      <td>Application Error</td>\n      <td>{00000000-0000-0000-0000-00000000000</td>\n      <td>1000</td>\n      <td>0</td>\n      <td>...</td>\n      <td>NaN</td>\n      <td>NaN</td>\n      <td>NaN</td>\n      <td>NaN</td>\n      <td>NaN</td>\n      <td>NaN</td>\n      <td>2023-04-19 17:15:10.030000-05:00</td>\n      <td>2023-04-19</td>\n      <td>MIL-L-U32029</td>\n      <td>2023-04-19</td>\n    </tr>\n  </tbody>\n</table>\n<p>5 rows × 61 columns</p>\n</div>"
     },
     "execution_count": 23,
     "metadata": {},
     "output_type": "execute_result"
    }
   ],
   "source": [
    "machines_events[machines_events['error_type'].isin(['Application', 'Hang'])].sample(5)"
   ],
   "metadata": {
    "collapsed": false,
    "ExecuteTime": {
     "end_time": "2023-08-03T14:54:54.625110802Z",
     "start_time": "2023-08-03T14:54:54.372716332Z"
    }
   }
  },
  {
   "cell_type": "markdown",
   "source": [
    "\n",
    "# Join INCs to machine + event.\n"
   ],
   "metadata": {
    "collapsed": false
   }
  },
  {
   "cell_type": "code",
   "execution_count": 24,
   "outputs": [],
   "source": [
    "# From blob storage:\n",
    "# incs = pd.read_csv('../do_not_commit/Datasets/ServiceNow_Incident.csv', low_memory=False)\n",
    "incs = pd.read_csv('../do_not_commit/Datasets/ServiceNow_INC_20230730.csv', low_memory=False)"
   ],
   "metadata": {
    "collapsed": false,
    "ExecuteTime": {
     "end_time": "2023-08-03T14:54:54.682210764Z",
     "start_time": "2023-08-03T14:54:54.565902728Z"
    }
   }
  },
  {
   "cell_type": "code",
   "execution_count": 25,
   "outputs": [],
   "source": [
    "# DateTime formatting.\n",
    "incs['opened_at'] = pd.to_datetime(incs['opened_at'])\n",
    "incs['opened_at_formatted'] = incs['opened_at'].dt.strftime('%Y-%m-%d')"
   ],
   "metadata": {
    "collapsed": false,
    "ExecuteTime": {
     "end_time": "2023-08-03T14:54:54.716297023Z",
     "start_time": "2023-08-03T14:54:54.641908445Z"
    }
   }
  },
  {
   "cell_type": "code",
   "execution_count": 26,
   "outputs": [],
   "source": [
    "# Join INCs to events on 1. Machine name, and 2. The event and the INC both occurred on the same day.\n",
    "incs_merged = machines_events.merge(incs, left_on=['Name0', 'CreatedSystemTime_CST_formatted'], right_on=['configuration_item', 'opened_at_formatted'], how='left')"
   ],
   "metadata": {
    "collapsed": false,
    "ExecuteTime": {
     "end_time": "2023-08-03T14:54:54.989634893Z",
     "start_time": "2023-08-03T14:54:54.691685628Z"
    }
   }
  },
  {
   "cell_type": "code",
   "execution_count": 27,
   "outputs": [
    {
     "name": "stdout",
     "output_type": "stream",
     "text": [
      "320374\n"
     ]
    }
   ],
   "source": [
    "print(len(incs_merged))"
   ],
   "metadata": {
    "collapsed": false,
    "ExecuteTime": {
     "end_time": "2023-08-03T14:54:54.994561939Z",
     "start_time": "2023-08-03T14:54:54.991373163Z"
    }
   }
  },
  {
   "cell_type": "code",
   "execution_count": 28,
   "outputs": [],
   "source": [
    "# Dropping columns with nothing in them.\n",
    "incs_merged.dropna(axis=1, how='all', inplace=True)"
   ],
   "metadata": {
    "collapsed": false,
    "ExecuteTime": {
     "end_time": "2023-08-03T14:54:58.635676681Z",
     "start_time": "2023-08-03T14:54:54.993984280Z"
    }
   }
  },
  {
   "cell_type": "code",
   "execution_count": 29,
   "outputs": [],
   "source": [
    "# msno.matrix(incs_merged, labels=True, fontsize=7)"
   ],
   "metadata": {
    "collapsed": false,
    "ExecuteTime": {
     "end_time": "2023-08-03T14:54:58.638719849Z",
     "start_time": "2023-08-03T14:54:58.637052618Z"
    }
   }
  },
  {
   "cell_type": "code",
   "execution_count": 30,
   "outputs": [
    {
     "name": "stdout",
     "output_type": "stream",
     "text": [
      "6104 INC rows originally\n",
      "Now 4083\n"
     ]
    }
   ],
   "source": [
    "# Should be many more. Why only still 4,000?\n",
    "print(len(incs), \"INC rows originally\")\n",
    "print(\"Now\", incs_merged['number'].notnull().sum())"
   ],
   "metadata": {
    "collapsed": false,
    "ExecuteTime": {
     "end_time": "2023-08-03T14:54:58.649833965Z",
     "start_time": "2023-08-03T14:54:58.639520736Z"
    }
   }
  },
  {
   "cell_type": "code",
   "execution_count": 31,
   "outputs": [
    {
     "data": {
      "text/plain": "         error_type                               Combined_Application  \\\n121703  Application                                       POWERPNT.EXE   \n67959   Application                                        AUDIODG.EXE   \n117487  Application                                     WavesSvc64.exe   \n270485      Windows  Microsoft.YourPhone_1.23012.155.0_x64__8wekyb3...   \n100810  Application                                          EXCEL.EXE   \n54620   Application                                     powershell.exe   \n292079         Hang                                        svchost.exe   \n144584  Application                                32BitMAPIBroker.exe   \n258674  Application                                     WavesSvc64.exe   \n82525   Application                              IntelAudioService.exe   \n\n                    Combined_dll                           ProductName  \\\n121703           igd10iumd32.dll                      Microsoft Office   \n67959   MaxxAudioRenderAVX64.dll  Microsoft® Windows® Operating System   \n117487            WavesSvc64.exe                       Waves MaxxAudio   \n270485                       NaN                                   NaN   \n100810            b_pciuoeal.dll                      Microsoft Office   \n54620               BIOSIntf.dll  Microsoft® Windows® Operating System   \n292079                       NaN  Microsoft® Windows® Operating System   \n144584              ucrtbase.dll         Adobe Acrobat 32BitMAPIBroker   \n258674            WavesSvc64.exe                       Waves MaxxAudio   \n82525             KERNELBASE.dll                     IntelAudioService   \n\n       category subcategory short_description_NER  \n121703      NaN         NaN                   NaN  \n67959       NaN         NaN                   NaN  \n117487      NaN         NaN                   NaN  \n270485      NaN         NaN                   NaN  \n100810      NaN         NaN                   NaN  \n54620       NaN         NaN                   NaN  \n292079      NaN         NaN                   NaN  \n144584      NaN         NaN                   NaN  \n258674      NaN         NaN                   NaN  \n82525       NaN         NaN                   NaN  ",
      "text/html": "<div>\n<style scoped>\n    .dataframe tbody tr th:only-of-type {\n        vertical-align: middle;\n    }\n\n    .dataframe tbody tr th {\n        vertical-align: top;\n    }\n\n    .dataframe thead th {\n        text-align: right;\n    }\n</style>\n<table border=\"1\" class=\"dataframe\">\n  <thead>\n    <tr style=\"text-align: right;\">\n      <th></th>\n      <th>error_type</th>\n      <th>Combined_Application</th>\n      <th>Combined_dll</th>\n      <th>ProductName</th>\n      <th>category</th>\n      <th>subcategory</th>\n      <th>short_description_NER</th>\n    </tr>\n  </thead>\n  <tbody>\n    <tr>\n      <th>121703</th>\n      <td>Application</td>\n      <td>POWERPNT.EXE</td>\n      <td>igd10iumd32.dll</td>\n      <td>Microsoft Office</td>\n      <td>NaN</td>\n      <td>NaN</td>\n      <td>NaN</td>\n    </tr>\n    <tr>\n      <th>67959</th>\n      <td>Application</td>\n      <td>AUDIODG.EXE</td>\n      <td>MaxxAudioRenderAVX64.dll</td>\n      <td>Microsoft® Windows® Operating System</td>\n      <td>NaN</td>\n      <td>NaN</td>\n      <td>NaN</td>\n    </tr>\n    <tr>\n      <th>117487</th>\n      <td>Application</td>\n      <td>WavesSvc64.exe</td>\n      <td>WavesSvc64.exe</td>\n      <td>Waves MaxxAudio</td>\n      <td>NaN</td>\n      <td>NaN</td>\n      <td>NaN</td>\n    </tr>\n    <tr>\n      <th>270485</th>\n      <td>Windows</td>\n      <td>Microsoft.YourPhone_1.23012.155.0_x64__8wekyb3...</td>\n      <td>NaN</td>\n      <td>NaN</td>\n      <td>NaN</td>\n      <td>NaN</td>\n      <td>NaN</td>\n    </tr>\n    <tr>\n      <th>100810</th>\n      <td>Application</td>\n      <td>EXCEL.EXE</td>\n      <td>b_pciuoeal.dll</td>\n      <td>Microsoft Office</td>\n      <td>NaN</td>\n      <td>NaN</td>\n      <td>NaN</td>\n    </tr>\n    <tr>\n      <th>54620</th>\n      <td>Application</td>\n      <td>powershell.exe</td>\n      <td>BIOSIntf.dll</td>\n      <td>Microsoft® Windows® Operating System</td>\n      <td>NaN</td>\n      <td>NaN</td>\n      <td>NaN</td>\n    </tr>\n    <tr>\n      <th>292079</th>\n      <td>Hang</td>\n      <td>svchost.exe</td>\n      <td>NaN</td>\n      <td>Microsoft® Windows® Operating System</td>\n      <td>NaN</td>\n      <td>NaN</td>\n      <td>NaN</td>\n    </tr>\n    <tr>\n      <th>144584</th>\n      <td>Application</td>\n      <td>32BitMAPIBroker.exe</td>\n      <td>ucrtbase.dll</td>\n      <td>Adobe Acrobat 32BitMAPIBroker</td>\n      <td>NaN</td>\n      <td>NaN</td>\n      <td>NaN</td>\n    </tr>\n    <tr>\n      <th>258674</th>\n      <td>Application</td>\n      <td>WavesSvc64.exe</td>\n      <td>WavesSvc64.exe</td>\n      <td>Waves MaxxAudio</td>\n      <td>NaN</td>\n      <td>NaN</td>\n      <td>NaN</td>\n    </tr>\n    <tr>\n      <th>82525</th>\n      <td>Application</td>\n      <td>IntelAudioService.exe</td>\n      <td>KERNELBASE.dll</td>\n      <td>IntelAudioService</td>\n      <td>NaN</td>\n      <td>NaN</td>\n      <td>NaN</td>\n    </tr>\n  </tbody>\n</table>\n</div>"
     },
     "execution_count": 31,
     "metadata": {},
     "output_type": "execute_result"
    }
   ],
   "source": [
    "incs_merged.sample(10)[[\n",
    "    'error_type',\n",
    "    # 'OSVersion',\n",
    "    'Combined_Application',\n",
    "    'Combined_dll',\n",
    "    # 'FaultingPackageFullName',\n",
    "    'ProductName',\n",
    "    'category',\n",
    "    'subcategory',\n",
    "    'short_description_NER'\n",
    "]]"
   ],
   "metadata": {
    "collapsed": false,
    "ExecuteTime": {
     "end_time": "2023-08-03T14:54:58.708466142Z",
     "start_time": "2023-08-03T14:54:58.650214096Z"
    }
   }
  },
  {
   "cell_type": "code",
   "execution_count": 32,
   "outputs": [
    {
     "data": {
      "text/plain": "       CreatedSystemTime_CST_formatted            CreatedSystemTime_CST  \\\n74                          2023-04-10 2023-04-10 08:28:18.740000-05:00   \n75                          2023-04-10 2023-04-10 15:23:56.900000-05:00   \n269500                      2023-04-10 2023-04-10 12:35:27.050000-05:00   \n\n                 opened_at opened_at_formatted         Name0  \\\n74     2023-04-10 11:20:00          2023-04-10  TIB-L-U32432   \n75     2023-04-10 11:20:00          2023-04-10  TIB-L-U32432   \n269500 2023-04-10 11:20:00          2023-04-10  TIB-L-U32432   \n\n       configuration_item      number                  short_description_NER  \n74           TIB-L-U32432  INC0515837  URGENT| Repeated Blue Screen of Death  \n75           TIB-L-U32432  INC0515837  URGENT| Repeated Blue Screen of Death  \n269500       TIB-L-U32432  INC0515837  URGENT| Repeated Blue Screen of Death  ",
      "text/html": "<div>\n<style scoped>\n    .dataframe tbody tr th:only-of-type {\n        vertical-align: middle;\n    }\n\n    .dataframe tbody tr th {\n        vertical-align: top;\n    }\n\n    .dataframe thead th {\n        text-align: right;\n    }\n</style>\n<table border=\"1\" class=\"dataframe\">\n  <thead>\n    <tr style=\"text-align: right;\">\n      <th></th>\n      <th>CreatedSystemTime_CST_formatted</th>\n      <th>CreatedSystemTime_CST</th>\n      <th>opened_at</th>\n      <th>opened_at_formatted</th>\n      <th>Name0</th>\n      <th>configuration_item</th>\n      <th>number</th>\n      <th>short_description_NER</th>\n    </tr>\n  </thead>\n  <tbody>\n    <tr>\n      <th>74</th>\n      <td>2023-04-10</td>\n      <td>2023-04-10 08:28:18.740000-05:00</td>\n      <td>2023-04-10 11:20:00</td>\n      <td>2023-04-10</td>\n      <td>TIB-L-U32432</td>\n      <td>TIB-L-U32432</td>\n      <td>INC0515837</td>\n      <td>URGENT| Repeated Blue Screen of Death</td>\n    </tr>\n    <tr>\n      <th>75</th>\n      <td>2023-04-10</td>\n      <td>2023-04-10 15:23:56.900000-05:00</td>\n      <td>2023-04-10 11:20:00</td>\n      <td>2023-04-10</td>\n      <td>TIB-L-U32432</td>\n      <td>TIB-L-U32432</td>\n      <td>INC0515837</td>\n      <td>URGENT| Repeated Blue Screen of Death</td>\n    </tr>\n    <tr>\n      <th>269500</th>\n      <td>2023-04-10</td>\n      <td>2023-04-10 12:35:27.050000-05:00</td>\n      <td>2023-04-10 11:20:00</td>\n      <td>2023-04-10</td>\n      <td>TIB-L-U32432</td>\n      <td>TIB-L-U32432</td>\n      <td>INC0515837</td>\n      <td>URGENT| Repeated Blue Screen of Death</td>\n    </tr>\n  </tbody>\n</table>\n</div>"
     },
     "execution_count": 32,
     "metadata": {},
     "output_type": "execute_result"
    }
   ],
   "source": [
    "# INCs w/ multiple events assc. may attribute the event to the INC\n",
    "# despite the event occurring *after* the INC was already filed.\n",
    "incs_merged[incs_merged['number'] == 'INC0515837'][[\n",
    "    'CreatedSystemTime_CST_formatted',\n",
    "    'CreatedSystemTime_CST',\n",
    "    'opened_at',\n",
    "    'opened_at_formatted',\n",
    "    'Name0',\n",
    "    'configuration_item',\n",
    "    'number',\n",
    "    # 'FaultingApplicationName',\n",
    "    # 'FaultingModuleName',\n",
    "    'short_description_NER'\n",
    "]]"
   ],
   "metadata": {
    "collapsed": false,
    "ExecuteTime": {
     "end_time": "2023-08-03T14:54:58.743035506Z",
     "start_time": "2023-08-03T14:54:58.676118317Z"
    }
   }
  },
  {
   "cell_type": "code",
   "execution_count": 33,
   "outputs": [
    {
     "data": {
      "text/plain": "0        2023-04-10 09:27:47.370000-05:00\n1        2023-04-11 07:41:53.913000-05:00\n2        2023-04-10 14:09:04.523000-05:00\n3        2023-04-10 07:58:45.063000-05:00\n4        2023-04-10 07:58:54.250000-05:00\n                       ...               \n320369   2023-04-10 15:37:12.363000-05:00\n320370   2023-04-12 10:50:18.360000-05:00\n320371   2023-04-11 17:09:58.767000-05:00\n320372   2023-04-05 09:13:37.730000-05:00\n320373   2023-04-13 08:16:49.137000-05:00\nName: CreatedSystemTime_CST, Length: 320374, dtype: datetime64[ns, America/Chicago]"
     },
     "execution_count": 33,
     "metadata": {},
     "output_type": "execute_result"
    }
   ],
   "source": [
    "incs_merged['CreatedSystemTime_CST']"
   ],
   "metadata": {
    "collapsed": false,
    "ExecuteTime": {
     "end_time": "2023-08-03T14:54:58.743415688Z",
     "start_time": "2023-08-03T14:54:58.721985839Z"
    }
   }
  },
  {
   "cell_type": "code",
   "execution_count": 34,
   "outputs": [],
   "source": [
    "incs_merged['opened_at_utc'] = incs_merged['opened_at'].dt.tz_localize('UTC')"
   ],
   "metadata": {
    "collapsed": false,
    "ExecuteTime": {
     "end_time": "2023-08-03T14:54:58.743585865Z",
     "start_time": "2023-08-03T14:54:58.722254300Z"
    }
   }
  },
  {
   "cell_type": "code",
   "execution_count": 35,
   "outputs": [
    {
     "data": {
      "text/plain": "Timestamp('2023-04-10 08:28:18.740000-0500', tz='America/Chicago')"
     },
     "execution_count": 35,
     "metadata": {},
     "output_type": "execute_result"
    }
   ],
   "source": [
    "incs_merged.loc[74, 'CreatedSystemTime_CST']"
   ],
   "metadata": {
    "collapsed": false,
    "ExecuteTime": {
     "end_time": "2023-08-03T14:54:58.743864302Z",
     "start_time": "2023-08-03T14:54:58.722473796Z"
    }
   }
  },
  {
   "cell_type": "code",
   "execution_count": 36,
   "outputs": [
    {
     "data": {
      "text/plain": "Timestamp('2023-04-10 11:20:00+0000', tz='UTC')"
     },
     "execution_count": 36,
     "metadata": {},
     "output_type": "execute_result"
    }
   ],
   "source": [
    "incs_merged.loc[74, 'opened_at_utc']"
   ],
   "metadata": {
    "collapsed": false,
    "ExecuteTime": {
     "end_time": "2023-08-03T14:54:58.744707487Z",
     "start_time": "2023-08-03T14:54:58.722681001Z"
    }
   }
  },
  {
   "cell_type": "code",
   "execution_count": 37,
   "outputs": [
    {
     "data": {
      "text/plain": "Timedelta('0 days 02:08:18.740000')"
     },
     "execution_count": 37,
     "metadata": {},
     "output_type": "execute_result"
    }
   ],
   "source": [
    "# This event happened after the INC was filed, at 13:28 UTC.\n",
    "incs_merged.loc[74, 'CreatedSystemTime_CST'] - incs_merged.loc[74, 'opened_at_utc']"
   ],
   "metadata": {
    "collapsed": false,
    "ExecuteTime": {
     "end_time": "2023-08-03T14:54:58.745027203Z",
     "start_time": "2023-08-03T14:54:58.723017420Z"
    }
   }
  },
  {
   "cell_type": "code",
   "execution_count": 38,
   "outputs": [],
   "source": [
    "# Delete INCs across rows when the event occurs before the INC on the same day.\n",
    "mask = incs_merged['CreatedSystemTime_CST'] >= incs_merged['opened_at_utc']\n",
    "columns_to_set_none = incs.columns\n",
    "incs_merged.loc[mask, columns_to_set_none] = None"
   ],
   "metadata": {
    "collapsed": false,
    "ExecuteTime": {
     "end_time": "2023-08-03T14:54:58.909434080Z",
     "start_time": "2023-08-03T14:54:58.723239419Z"
    }
   }
  },
  {
   "cell_type": "code",
   "execution_count": 39,
   "outputs": [
    {
     "data": {
      "text/plain": "                  CreatedSystemTime_CST           opened_at      number\n502    2023-04-10 07:47:01.750000-05:00 2023-04-10 20:43:00  INC0516099\n570    2023-04-10 07:29:33.643000-05:00 2023-04-10 17:39:00  INC0516019\n571    2023-04-10 07:51:04.520000-05:00 2023-04-10 17:39:00  INC0516019\n572    2023-04-10 10:59:19.490000-05:00 2023-04-10 17:39:00  INC0516019\n635    2023-04-11 05:04:46.600000-05:00 2023-04-11 17:45:00  INC0516374\n...                                 ...                 ...         ...\n320201 2023-04-11 10:27:57.903000-05:00 2023-04-11 15:52:00  INC0516309\n320202 2023-04-11 10:28:02.510000-05:00 2023-04-11 15:52:00  INC0516309\n320346 2023-04-13 04:29:30.073000-05:00 2023-04-13 11:37:00  INC0516805\n320347 2023-04-13 05:25:58.367000-05:00 2023-04-13 11:37:00  INC0516805\n320348 2023-04-13 05:26:29.357000-05:00 2023-04-13 11:37:00  INC0516805\n\n[2393 rows x 3 columns]",
      "text/html": "<div>\n<style scoped>\n    .dataframe tbody tr th:only-of-type {\n        vertical-align: middle;\n    }\n\n    .dataframe tbody tr th {\n        vertical-align: top;\n    }\n\n    .dataframe thead th {\n        text-align: right;\n    }\n</style>\n<table border=\"1\" class=\"dataframe\">\n  <thead>\n    <tr style=\"text-align: right;\">\n      <th></th>\n      <th>CreatedSystemTime_CST</th>\n      <th>opened_at</th>\n      <th>number</th>\n    </tr>\n  </thead>\n  <tbody>\n    <tr>\n      <th>502</th>\n      <td>2023-04-10 07:47:01.750000-05:00</td>\n      <td>2023-04-10 20:43:00</td>\n      <td>INC0516099</td>\n    </tr>\n    <tr>\n      <th>570</th>\n      <td>2023-04-10 07:29:33.643000-05:00</td>\n      <td>2023-04-10 17:39:00</td>\n      <td>INC0516019</td>\n    </tr>\n    <tr>\n      <th>571</th>\n      <td>2023-04-10 07:51:04.520000-05:00</td>\n      <td>2023-04-10 17:39:00</td>\n      <td>INC0516019</td>\n    </tr>\n    <tr>\n      <th>572</th>\n      <td>2023-04-10 10:59:19.490000-05:00</td>\n      <td>2023-04-10 17:39:00</td>\n      <td>INC0516019</td>\n    </tr>\n    <tr>\n      <th>635</th>\n      <td>2023-04-11 05:04:46.600000-05:00</td>\n      <td>2023-04-11 17:45:00</td>\n      <td>INC0516374</td>\n    </tr>\n    <tr>\n      <th>...</th>\n      <td>...</td>\n      <td>...</td>\n      <td>...</td>\n    </tr>\n    <tr>\n      <th>320201</th>\n      <td>2023-04-11 10:27:57.903000-05:00</td>\n      <td>2023-04-11 15:52:00</td>\n      <td>INC0516309</td>\n    </tr>\n    <tr>\n      <th>320202</th>\n      <td>2023-04-11 10:28:02.510000-05:00</td>\n      <td>2023-04-11 15:52:00</td>\n      <td>INC0516309</td>\n    </tr>\n    <tr>\n      <th>320346</th>\n      <td>2023-04-13 04:29:30.073000-05:00</td>\n      <td>2023-04-13 11:37:00</td>\n      <td>INC0516805</td>\n    </tr>\n    <tr>\n      <th>320347</th>\n      <td>2023-04-13 05:25:58.367000-05:00</td>\n      <td>2023-04-13 11:37:00</td>\n      <td>INC0516805</td>\n    </tr>\n    <tr>\n      <th>320348</th>\n      <td>2023-04-13 05:26:29.357000-05:00</td>\n      <td>2023-04-13 11:37:00</td>\n      <td>INC0516805</td>\n    </tr>\n  </tbody>\n</table>\n<p>2393 rows × 3 columns</p>\n</div>"
     },
     "execution_count": 39,
     "metadata": {},
     "output_type": "execute_result"
    }
   ],
   "source": [
    "# Looks like no 'CreatedSystemTime_CST value is > 'opened_at'.\n",
    "incs_merged[incs_merged['number'].notnull()][['CreatedSystemTime_CST', 'opened_at', 'number']]"
   ],
   "metadata": {
    "collapsed": false,
    "ExecuteTime": {
     "end_time": "2023-08-03T14:54:59.276602662Z",
     "start_time": "2023-08-03T14:54:58.782401798Z"
    }
   }
  },
  {
   "cell_type": "code",
   "execution_count": 40,
   "outputs": [
    {
     "data": {
      "text/plain": "74         0 days 02:08:18.740000\n75         0 days 09:03:56.900000\n502      -1 days +16:04:01.750000\n570      -1 days +18:50:33.643000\n571      -1 days +19:12:04.520000\n                   ...           \n320202   -1 days +23:36:02.510000\n320346   -1 days +21:52:30.073000\n320347   -1 days +22:48:58.367000\n320348   -1 days +22:49:29.357000\n320349     0 days 00:47:37.237000\nLength: 4083, dtype: timedelta64[ns]"
     },
     "execution_count": 40,
     "metadata": {},
     "output_type": "execute_result"
    }
   ],
   "source": [
    "# Check to make sure. Positive = delete. Negative = keep.\n",
    "(incs_merged['CreatedSystemTime_CST'] - incs_merged['opened_at_utc']).dropna()"
   ],
   "metadata": {
    "collapsed": false,
    "ExecuteTime": {
     "end_time": "2023-08-03T14:54:59.285084498Z",
     "start_time": "2023-08-03T14:54:59.276904995Z"
    }
   }
  },
  {
   "cell_type": "code",
   "execution_count": 41,
   "outputs": [
    {
     "data": {
      "text/plain": "CreatedSystemTime_CST    2023-04-10 07:47:01.750000-05:00\nopened_at_utc                   2023-04-10 20:43:00+00:00\nName: 502, dtype: object"
     },
     "execution_count": 41,
     "metadata": {},
     "output_type": "execute_result"
    }
   ],
   "source": [
    "# Timedelta of -1 days (24h) + 16:04 = 8h 04m difference in true time.\n",
    "incs_merged.loc[502, ['CreatedSystemTime_CST', 'opened_at_utc']]"
   ],
   "metadata": {
    "collapsed": false,
    "ExecuteTime": {
     "end_time": "2023-08-03T14:54:59.292304568Z",
     "start_time": "2023-08-03T14:54:59.288837209Z"
    }
   }
  },
  {
   "cell_type": "markdown",
   "source": [
    "\n",
    "# Join Machines data with Boot data.\n"
   ],
   "metadata": {
    "collapsed": false
   }
  },
  {
   "cell_type": "code",
   "execution_count": 42,
   "outputs": [
    {
     "name": "stdout",
     "output_type": "stream",
     "text": [
      "1593485\n"
     ]
    }
   ],
   "source": [
    "df_boot = pd.read_parquet('../do_not_commit/Datasets/BootEvents.parquet')\n",
    "print(len(df_boot))"
   ],
   "metadata": {
    "collapsed": false,
    "ExecuteTime": {
     "end_time": "2023-08-03T14:55:00.501631059Z",
     "start_time": "2023-08-03T14:54:59.291720230Z"
    }
   }
  },
  {
   "cell_type": "code",
   "execution_count": 43,
   "outputs": [],
   "source": [
    "df_boot['error_type'] = 'Boot'"
   ],
   "metadata": {
    "collapsed": false,
    "ExecuteTime": {
     "end_time": "2023-08-03T14:55:00.507754946Z",
     "start_time": "2023-08-03T14:55:00.502406674Z"
    }
   }
  },
  {
   "cell_type": "code",
   "execution_count": 44,
   "outputs": [
    {
     "data": {
      "text/plain": "array(['ClientItemKey', 'ID', 'RWB_CREATE_TIMESTAMP',\n       'RWB_EFFECTIVE_DATE', 'RWB_ETL_EVENT_DESTINATION_IDENTIFIER',\n       'SchemaVersion', 'error_type'], dtype=object)"
     },
     "execution_count": 44,
     "metadata": {},
     "output_type": "execute_result"
    }
   ],
   "source": [
    "# What columns do all four event types have in common?\n",
    "common_columns = reduce(np.intersect1d, (df_app.columns, df_boot.columns, df_hang.columns, df_win.columns))\n",
    "common_columns"
   ],
   "metadata": {
    "collapsed": false,
    "ExecuteTime": {
     "end_time": "2023-08-03T14:55:00.512597633Z",
     "start_time": "2023-08-03T14:55:00.509785587Z"
    }
   }
  },
  {
   "cell_type": "code",
   "execution_count": 45,
   "outputs": [],
   "source": [
    "df_boot.rename(\n",
    "    columns={\n",
    "        'BootId':'BootID',\n",
    "        'ProgramId':'ProgramID',\n",
    "        'FileId':'FileID',\n",
    "        'AppVersion':'Combined_Version',\n",
    "        'ExceptionCode':'Combined_Exception',\n",
    "        'ReportId':'ReportID'\n",
    "    },\n",
    "    inplace=True\n",
    ")"
   ],
   "metadata": {
    "collapsed": false,
    "ExecuteTime": {
     "end_time": "2023-08-03T14:55:00.515564129Z",
     "start_time": "2023-08-03T14:55:00.513736289Z"
    }
   }
  },
  {
   "cell_type": "code",
   "execution_count": 46,
   "outputs": [],
   "source": [
    "# Needs to be a str to join later w/ 'opened_at_formatted'.\n",
    "df_boot['BootID_formatted'] = df_boot['BootID'].dt.strftime('%Y-%m-%d')"
   ],
   "metadata": {
    "collapsed": false,
    "ExecuteTime": {
     "end_time": "2023-08-03T14:55:05.964459011Z",
     "start_time": "2023-08-03T14:55:00.516872703Z"
    }
   }
  },
  {
   "cell_type": "code",
   "execution_count": 47,
   "outputs": [],
   "source": [
    "# Join machine name to boot events, similar to other section.\n",
    "machines_boot = df_boot.merge(machines[['RWB_EFFECTIVE_DATE', 'ClientItemKey', 'Name0']], on=['RWB_EFFECTIVE_DATE', 'ClientItemKey'])"
   ],
   "metadata": {
    "collapsed": false,
    "ExecuteTime": {
     "end_time": "2023-08-03T14:55:06.766654285Z",
     "start_time": "2023-08-03T14:55:06.005912240Z"
    }
   }
  },
  {
   "cell_type": "markdown",
   "source": [
    "\n",
    "# Join INCs to machine + boot.\n"
   ],
   "metadata": {
    "collapsed": false
   }
  },
  {
   "cell_type": "code",
   "execution_count": 48,
   "outputs": [],
   "source": [
    "incs_boot = machines_boot.merge(incs, left_on=['Name0', 'BootID_formatted'], right_on=['configuration_item', 'opened_at_formatted'], how='left')"
   ],
   "metadata": {
    "collapsed": false,
    "ExecuteTime": {
     "end_time": "2023-08-03T14:55:07.523984383Z",
     "start_time": "2023-08-03T14:55:06.794868670Z"
    }
   }
  },
  {
   "cell_type": "code",
   "execution_count": 49,
   "outputs": [
    {
     "name": "stdout",
     "output_type": "stream",
     "text": [
      "5069 Boot INCs\n"
     ]
    }
   ],
   "source": [
    "print(incs_boot['number'].notnull().sum(), \"Boot INCs\")"
   ],
   "metadata": {
    "collapsed": false,
    "ExecuteTime": {
     "end_time": "2023-08-03T14:55:07.545973967Z",
     "start_time": "2023-08-03T14:55:07.541235497Z"
    }
   }
  },
  {
   "cell_type": "code",
   "execution_count": 50,
   "outputs": [],
   "source": [
    "# Dropping columns with nothing in them.\n",
    "incs_boot.dropna(axis=1, how='all', inplace=True)"
   ],
   "metadata": {
    "collapsed": false,
    "ExecuteTime": {
     "end_time": "2023-08-03T14:55:14.732493198Z",
     "start_time": "2023-08-03T14:55:07.546374699Z"
    }
   }
  },
  {
   "cell_type": "markdown",
   "source": [
    "\n",
    "#### How many multiple INCs were filed on the same day for a given machine?\n"
   ],
   "metadata": {
    "collapsed": false
   }
  },
  {
   "cell_type": "code",
   "execution_count": 51,
   "outputs": [
    {
     "name": "stdout",
     "output_type": "stream",
     "text": [
      "0\n"
     ]
    },
    {
     "data": {
      "text/plain": "Series([], dtype: int64)"
     },
     "execution_count": 51,
     "metadata": {},
     "output_type": "execute_result"
    }
   ],
   "source": [
    "grouped_counts = incs.groupby(['opened_at_formatted', 'configuration_item']).size()\n",
    "print(grouped_counts[grouped_counts > 1].sum())\n",
    "grouped_counts[grouped_counts > 1]"
   ],
   "metadata": {
    "collapsed": false,
    "ExecuteTime": {
     "end_time": "2023-08-03T14:55:14.741813235Z",
     "start_time": "2023-08-03T14:55:14.735399328Z"
    }
   }
  },
  {
   "cell_type": "markdown",
   "source": [
    "\n",
    "# Bring both DataFrames together.\n"
   ],
   "metadata": {
    "collapsed": false
   }
  },
  {
   "cell_type": "code",
   "execution_count": 52,
   "outputs": [
    {
     "data": {
      "text/plain": "        RWB_EVENTBOOTRESULT_ID  RWB_ETL_EVENT_DESTINATION_IDENTIFIER  \\\n86                      949656                                  1251   \n87                      949657                                  1251   \n88                      949659                                  1251   \n89                      949655                                  1251   \n90                      949660                                  1251   \n...                        ...                                   ...   \n845889                 1484152                                  8025   \n845890                 1484152                                  8025   \n847673                 1485125                                  8025   \n847674                 1485125                                  8025   \n848567                 1486117                                  8149   \n\n              RWB_CREATE_TIMESTAMP RWB_EFFECTIVE_DATE                 ID  \\\n86      2023-02-01 09:02:13 -06:00         2023-02-01  72057594043080687   \n87      2023-02-01 09:02:13 -06:00         2023-02-01  72057594043080688   \n88      2023-02-01 09:02:13 -06:00         2023-02-01  72057594043080690   \n89      2023-02-01 09:02:13 -06:00         2023-02-01  72057594043080686   \n90      2023-02-01 09:02:13 -06:00         2023-02-01  72057594043080691   \n...                            ...                ...                ...   \n845889  2023-05-20 08:35:27 -05:00         2023-05-20  72057594043642172   \n845890  2023-05-20 08:35:27 -05:00         2023-05-20  72057594043642172   \n847673  2023-05-20 08:35:27 -05:00         2023-05-20  72057594043643145   \n847674  2023-05-20 08:35:27 -05:00         2023-05-20  72057594043643145   \n848567  2023-05-21 08:35:27 -05:00         2023-05-21  72057594043644137   \n\n        EventListID  ClientItemKey           GeneratedTime  \\\n86                3       16792948 2023-02-01 09:22:37.737   \n87                3       16792948 2023-02-01 09:22:37.737   \n88                3       16792948 2023-02-01 09:22:37.737   \n89                3       16792948 2023-02-01 09:22:37.737   \n90                3       16792948 2023-02-01 09:22:37.737   \n...             ...            ...                     ...   \n845889            3       16795890 2023-05-20 04:24:55.647   \n845890            3       16795890 2023-05-20 04:24:55.647   \n847673            3       16792903 2023-05-20 11:23:57.840   \n847674            3       16792903 2023-05-20 11:23:57.840   \n848567            3       16793334 2023-05-20 18:09:47.767   \n\n        UpdateDurationInMilliseconds  GPDurationInMilliseconds  ...  \\\n86                                 0                         0  ...   \n87                                 0                         0  ...   \n88                                 0                         0  ...   \n89                                 0                     13514  ...   \n90                                 0                     11379  ...   \n...                              ...                       ...  ...   \n845889                             0                     18555  ...   \n845890                             0                     18555  ...   \n847673                             0                     14226  ...   \n847674                             0                     14226  ...   \n848567                             0                     13507  ...   \n\n        is_server                             short_description_NER  \\\n86            0.0                      pc not connecting to network   \n87            0.0                      pc not connecting to network   \n88            0.0                      pc not connecting to network   \n89            0.0                      pc not connecting to network   \n90            0.0                      pc not connecting to network   \n...           ...                                               ...   \n845889        0.0          Citrix VDA needed asap- CHE - D - U27461   \n845890        0.0          Citrix VDA needed asap- CHE - D - U27461   \n847673        0.0                             missing teams install   \n847674        0.0                             missing teams install   \n848567        0.0  Google Chrome icon on task bar is a blank square   \n\n       configuration_item  calling_user_id  opened_at_date  machine_user_test  \\\n86           ASH-D-U25377           1521.0      2023-01-31       ASH-D-U25377   \n87           ASH-D-U25377           1521.0      2023-01-31       ASH-D-U25377   \n88           ASH-D-U25377           1521.0      2023-01-31       ASH-D-U25377   \n89           ASH-D-U25377           1521.0      2023-01-31       ASH-D-U25377   \n90           ASH-D-U25377           1521.0      2023-01-31       ASH-D-U25377   \n...                   ...              ...             ...                ...   \n845889       CHE-D-U27461          12384.0      2023-05-19       CHE-D-U27461   \n845890       CHE-D-U27461          12384.0      2023-05-19       CHE-D-U27461   \n847673       CLM-D-U25402             78.0      2023-05-19                NaN   \n847674       CLM-D-U25402             78.0      2023-05-19                NaN   \n848567       MDV-D-U25817           1114.0      2023-05-19       MDV-D-U25817   \n\n        opened_at_formatted count  dup group_index_orig  \n86               2023-01-31   1.0  0.0           1018.0  \n87               2023-01-31   1.0  0.0           1018.0  \n88               2023-01-31   1.0  0.0           1018.0  \n89               2023-01-31   1.0  0.0           1018.0  \n90               2023-01-31   1.0  0.0           1018.0  \n...                     ...   ...  ...              ...  \n845889           2023-05-19   1.0  0.0           4362.0  \n845890           2023-05-19   1.0  0.0           4362.0  \n847673           2023-05-19   1.0  0.0           4368.0  \n847674           2023-05-19   1.0  0.0           4368.0  \n848567           2023-05-19   1.0  0.0           4382.0  \n\n[5069 rows x 124 columns]",
      "text/html": "<div>\n<style scoped>\n    .dataframe tbody tr th:only-of-type {\n        vertical-align: middle;\n    }\n\n    .dataframe tbody tr th {\n        vertical-align: top;\n    }\n\n    .dataframe thead th {\n        text-align: right;\n    }\n</style>\n<table border=\"1\" class=\"dataframe\">\n  <thead>\n    <tr style=\"text-align: right;\">\n      <th></th>\n      <th>RWB_EVENTBOOTRESULT_ID</th>\n      <th>RWB_ETL_EVENT_DESTINATION_IDENTIFIER</th>\n      <th>RWB_CREATE_TIMESTAMP</th>\n      <th>RWB_EFFECTIVE_DATE</th>\n      <th>ID</th>\n      <th>EventListID</th>\n      <th>ClientItemKey</th>\n      <th>GeneratedTime</th>\n      <th>UpdateDurationInMilliseconds</th>\n      <th>GPDurationInMilliseconds</th>\n      <th>...</th>\n      <th>is_server</th>\n      <th>short_description_NER</th>\n      <th>configuration_item</th>\n      <th>calling_user_id</th>\n      <th>opened_at_date</th>\n      <th>machine_user_test</th>\n      <th>opened_at_formatted</th>\n      <th>count</th>\n      <th>dup</th>\n      <th>group_index_orig</th>\n    </tr>\n  </thead>\n  <tbody>\n    <tr>\n      <th>86</th>\n      <td>949656</td>\n      <td>1251</td>\n      <td>2023-02-01 09:02:13 -06:00</td>\n      <td>2023-02-01</td>\n      <td>72057594043080687</td>\n      <td>3</td>\n      <td>16792948</td>\n      <td>2023-02-01 09:22:37.737</td>\n      <td>0</td>\n      <td>0</td>\n      <td>...</td>\n      <td>0.0</td>\n      <td>pc not connecting to network</td>\n      <td>ASH-D-U25377</td>\n      <td>1521.0</td>\n      <td>2023-01-31</td>\n      <td>ASH-D-U25377</td>\n      <td>2023-01-31</td>\n      <td>1.0</td>\n      <td>0.0</td>\n      <td>1018.0</td>\n    </tr>\n    <tr>\n      <th>87</th>\n      <td>949657</td>\n      <td>1251</td>\n      <td>2023-02-01 09:02:13 -06:00</td>\n      <td>2023-02-01</td>\n      <td>72057594043080688</td>\n      <td>3</td>\n      <td>16792948</td>\n      <td>2023-02-01 09:22:37.737</td>\n      <td>0</td>\n      <td>0</td>\n      <td>...</td>\n      <td>0.0</td>\n      <td>pc not connecting to network</td>\n      <td>ASH-D-U25377</td>\n      <td>1521.0</td>\n      <td>2023-01-31</td>\n      <td>ASH-D-U25377</td>\n      <td>2023-01-31</td>\n      <td>1.0</td>\n      <td>0.0</td>\n      <td>1018.0</td>\n    </tr>\n    <tr>\n      <th>88</th>\n      <td>949659</td>\n      <td>1251</td>\n      <td>2023-02-01 09:02:13 -06:00</td>\n      <td>2023-02-01</td>\n      <td>72057594043080690</td>\n      <td>3</td>\n      <td>16792948</td>\n      <td>2023-02-01 09:22:37.737</td>\n      <td>0</td>\n      <td>0</td>\n      <td>...</td>\n      <td>0.0</td>\n      <td>pc not connecting to network</td>\n      <td>ASH-D-U25377</td>\n      <td>1521.0</td>\n      <td>2023-01-31</td>\n      <td>ASH-D-U25377</td>\n      <td>2023-01-31</td>\n      <td>1.0</td>\n      <td>0.0</td>\n      <td>1018.0</td>\n    </tr>\n    <tr>\n      <th>89</th>\n      <td>949655</td>\n      <td>1251</td>\n      <td>2023-02-01 09:02:13 -06:00</td>\n      <td>2023-02-01</td>\n      <td>72057594043080686</td>\n      <td>3</td>\n      <td>16792948</td>\n      <td>2023-02-01 09:22:37.737</td>\n      <td>0</td>\n      <td>13514</td>\n      <td>...</td>\n      <td>0.0</td>\n      <td>pc not connecting to network</td>\n      <td>ASH-D-U25377</td>\n      <td>1521.0</td>\n      <td>2023-01-31</td>\n      <td>ASH-D-U25377</td>\n      <td>2023-01-31</td>\n      <td>1.0</td>\n      <td>0.0</td>\n      <td>1018.0</td>\n    </tr>\n    <tr>\n      <th>90</th>\n      <td>949660</td>\n      <td>1251</td>\n      <td>2023-02-01 09:02:13 -06:00</td>\n      <td>2023-02-01</td>\n      <td>72057594043080691</td>\n      <td>3</td>\n      <td>16792948</td>\n      <td>2023-02-01 09:22:37.737</td>\n      <td>0</td>\n      <td>11379</td>\n      <td>...</td>\n      <td>0.0</td>\n      <td>pc not connecting to network</td>\n      <td>ASH-D-U25377</td>\n      <td>1521.0</td>\n      <td>2023-01-31</td>\n      <td>ASH-D-U25377</td>\n      <td>2023-01-31</td>\n      <td>1.0</td>\n      <td>0.0</td>\n      <td>1018.0</td>\n    </tr>\n    <tr>\n      <th>...</th>\n      <td>...</td>\n      <td>...</td>\n      <td>...</td>\n      <td>...</td>\n      <td>...</td>\n      <td>...</td>\n      <td>...</td>\n      <td>...</td>\n      <td>...</td>\n      <td>...</td>\n      <td>...</td>\n      <td>...</td>\n      <td>...</td>\n      <td>...</td>\n      <td>...</td>\n      <td>...</td>\n      <td>...</td>\n      <td>...</td>\n      <td>...</td>\n      <td>...</td>\n      <td>...</td>\n    </tr>\n    <tr>\n      <th>845889</th>\n      <td>1484152</td>\n      <td>8025</td>\n      <td>2023-05-20 08:35:27 -05:00</td>\n      <td>2023-05-20</td>\n      <td>72057594043642172</td>\n      <td>3</td>\n      <td>16795890</td>\n      <td>2023-05-20 04:24:55.647</td>\n      <td>0</td>\n      <td>18555</td>\n      <td>...</td>\n      <td>0.0</td>\n      <td>Citrix VDA needed asap- CHE - D - U27461</td>\n      <td>CHE-D-U27461</td>\n      <td>12384.0</td>\n      <td>2023-05-19</td>\n      <td>CHE-D-U27461</td>\n      <td>2023-05-19</td>\n      <td>1.0</td>\n      <td>0.0</td>\n      <td>4362.0</td>\n    </tr>\n    <tr>\n      <th>845890</th>\n      <td>1484152</td>\n      <td>8025</td>\n      <td>2023-05-20 08:35:27 -05:00</td>\n      <td>2023-05-20</td>\n      <td>72057594043642172</td>\n      <td>3</td>\n      <td>16795890</td>\n      <td>2023-05-20 04:24:55.647</td>\n      <td>0</td>\n      <td>18555</td>\n      <td>...</td>\n      <td>0.0</td>\n      <td>Citrix VDA needed asap- CHE - D - U27461</td>\n      <td>CHE-D-U27461</td>\n      <td>12384.0</td>\n      <td>2023-05-19</td>\n      <td>CHE-D-U27461</td>\n      <td>2023-05-19</td>\n      <td>1.0</td>\n      <td>0.0</td>\n      <td>4362.0</td>\n    </tr>\n    <tr>\n      <th>847673</th>\n      <td>1485125</td>\n      <td>8025</td>\n      <td>2023-05-20 08:35:27 -05:00</td>\n      <td>2023-05-20</td>\n      <td>72057594043643145</td>\n      <td>3</td>\n      <td>16792903</td>\n      <td>2023-05-20 11:23:57.840</td>\n      <td>0</td>\n      <td>14226</td>\n      <td>...</td>\n      <td>0.0</td>\n      <td>missing teams install</td>\n      <td>CLM-D-U25402</td>\n      <td>78.0</td>\n      <td>2023-05-19</td>\n      <td>NaN</td>\n      <td>2023-05-19</td>\n      <td>1.0</td>\n      <td>0.0</td>\n      <td>4368.0</td>\n    </tr>\n    <tr>\n      <th>847674</th>\n      <td>1485125</td>\n      <td>8025</td>\n      <td>2023-05-20 08:35:27 -05:00</td>\n      <td>2023-05-20</td>\n      <td>72057594043643145</td>\n      <td>3</td>\n      <td>16792903</td>\n      <td>2023-05-20 11:23:57.840</td>\n      <td>0</td>\n      <td>14226</td>\n      <td>...</td>\n      <td>0.0</td>\n      <td>missing teams install</td>\n      <td>CLM-D-U25402</td>\n      <td>78.0</td>\n      <td>2023-05-19</td>\n      <td>NaN</td>\n      <td>2023-05-19</td>\n      <td>1.0</td>\n      <td>0.0</td>\n      <td>4368.0</td>\n    </tr>\n    <tr>\n      <th>848567</th>\n      <td>1486117</td>\n      <td>8149</td>\n      <td>2023-05-21 08:35:27 -05:00</td>\n      <td>2023-05-21</td>\n      <td>72057594043644137</td>\n      <td>3</td>\n      <td>16793334</td>\n      <td>2023-05-20 18:09:47.767</td>\n      <td>0</td>\n      <td>13507</td>\n      <td>...</td>\n      <td>0.0</td>\n      <td>Google Chrome icon on task bar is a blank square</td>\n      <td>MDV-D-U25817</td>\n      <td>1114.0</td>\n      <td>2023-05-19</td>\n      <td>MDV-D-U25817</td>\n      <td>2023-05-19</td>\n      <td>1.0</td>\n      <td>0.0</td>\n      <td>4382.0</td>\n    </tr>\n  </tbody>\n</table>\n<p>5069 rows × 124 columns</p>\n</div>"
     },
     "execution_count": 52,
     "metadata": {},
     "output_type": "execute_result"
    }
   ],
   "source": [
    "incs_boot[incs_boot['number'].notnull()]"
   ],
   "metadata": {
    "collapsed": false,
    "ExecuteTime": {
     "end_time": "2023-08-03T14:55:14.824664229Z",
     "start_time": "2023-08-03T14:55:14.759090734Z"
    }
   }
  },
  {
   "cell_type": "code",
   "execution_count": 53,
   "outputs": [],
   "source": [
    "df = pd.concat([incs_merged, incs_boot])\n",
    "df.reset_index(inplace=True)"
   ],
   "metadata": {
    "collapsed": false,
    "ExecuteTime": {
     "end_time": "2023-08-03T14:55:15.827815373Z",
     "start_time": "2023-08-03T14:55:14.800411856Z"
    }
   }
  },
  {
   "cell_type": "code",
   "execution_count": 54,
   "outputs": [],
   "source": [
    "# Dropping columns with nothing in them.\n",
    "df.dropna(axis=1, how='all', inplace=True)"
   ],
   "metadata": {
    "collapsed": false,
    "ExecuteTime": {
     "end_time": "2023-08-03T14:55:28.769080098Z",
     "start_time": "2023-08-03T14:55:15.828588136Z"
    }
   }
  },
  {
   "cell_type": "code",
   "execution_count": 55,
   "outputs": [],
   "source": [
    "# Drop all data for May 20th, 2023.\n",
    "df = df[df['RWB_EFFECTIVE_DATE'] != '2023-05-20']"
   ],
   "metadata": {
    "collapsed": false,
    "ExecuteTime": {
     "end_time": "2023-08-03T14:55:29.931947577Z",
     "start_time": "2023-08-03T14:55:28.814275465Z"
    }
   }
  },
  {
   "cell_type": "code",
   "execution_count": 56,
   "outputs": [
    {
     "data": {
      "text/plain": "<AxesSubplot:>"
     },
     "execution_count": 56,
     "metadata": {},
     "output_type": "execute_result"
    },
    {
     "data": {
      "text/plain": "<Figure size 432x288 with 1 Axes>",
      "image/png": "[encoded data removed]"
     },
     "metadata": {
      "needs_background": "light"
     },
     "output_type": "display_data"
    }
   ],
   "source": [
    "df['error_type'].hist()"
   ],
   "metadata": {
    "collapsed": false,
    "ExecuteTime": {
     "end_time": "2023-08-03T14:55:30.200975648Z",
     "start_time": "2023-08-03T14:55:29.933803829Z"
    }
   }
  },
  {
   "cell_type": "code",
   "execution_count": 57,
   "outputs": [
    {
     "data": {
      "text/plain": "index                                     int64\nRWB_EVENTRAWRESULTITEM_ID               float64\nRWB_ETL_EVENT_DESTINATION_IDENTIFIER      int64\nRWB_CREATE_TIMESTAMP                     object\nRWB_EFFECTIVE_DATE                       object\n                                         ...   \nMachineName                              object\nReason                                   object\nparam5                                   object\nActionDescription                        object\nBootID_formatted                         object\nLength: 172, dtype: object"
     },
     "execution_count": 57,
     "metadata": {},
     "output_type": "execute_result"
    }
   ],
   "source": [
    "df.dtypes"
   ],
   "metadata": {
    "collapsed": false,
    "ExecuteTime": {
     "end_time": "2023-08-03T14:55:30.204828657Z",
     "start_time": "2023-08-03T14:55:30.201238587Z"
    }
   }
  },
  {
   "cell_type": "code",
   "execution_count": 58,
   "outputs": [],
   "source": [
    "# How many boot events occurred after an INC was filed?\n",
    "# df[df['error_type'] == 'Boot']['BootID'] - df[df['error_type'] == 'Boot']['opened_at_utc']"
   ],
   "metadata": {
    "collapsed": false,
    "ExecuteTime": {
     "end_time": "2023-08-03T14:55:30.208192777Z",
     "start_time": "2023-08-03T14:55:30.203418907Z"
    }
   }
  },
  {
   "cell_type": "code",
   "execution_count": 59,
   "outputs": [
    {
     "data": {
      "text/plain": "(1155349, 172)"
     },
     "execution_count": 59,
     "metadata": {},
     "output_type": "execute_result"
    }
   ],
   "source": [
    "df.shape"
   ],
   "metadata": {
    "collapsed": false,
    "ExecuteTime": {
     "end_time": "2023-08-03T14:55:30.253144613Z",
     "start_time": "2023-08-03T14:55:30.206145146Z"
    }
   }
  },
  {
   "cell_type": "markdown",
   "source": [
    "\n",
    "# Create num_events feature.\n"
   ],
   "metadata": {
    "collapsed": false
   }
  },
  {
   "cell_type": "code",
   "execution_count": 60,
   "outputs": [],
   "source": [
    "# num_events_df = pd.concat([machines_events, machines_boot])\n",
    "num_events_df = events.copy()"
   ],
   "metadata": {
    "collapsed": false,
    "ExecuteTime": {
     "end_time": "2023-08-03T14:56:13.424012461Z",
     "start_time": "2023-08-03T14:56:13.320272557Z"
    }
   }
  },
  {
   "cell_type": "code",
   "execution_count": 61,
   "outputs": [
    {
     "data": {
      "text/plain": "Index(['RWB_EVENTRAWRESULTITEM_ID', 'RWB_ETL_EVENT_DESTINATION_IDENTIFIER',\n       'RWB_CREATE_TIMESTAMP', 'RWB_EFFECTIVE_DATE', 'ID', 'ClientItemKey',\n       'ProviderName', 'ProviderGUID', 'EventID', 'EventIDQualifiers', 'Level',\n       'Task', 'Opcode', 'Keywords', 'TimeCreatedSystemTime', 'EventRecordID',\n       'ActivityID', 'RelatedActivityID', 'Channel', 'UserSID',\n       'SchemaVersion', 'Combined_Application', 'Combined_Version',\n       'AppTimestamp', 'Combined_dll', 'ModuleVersion', 'ModuleTimestamp',\n       'Combined_Exception', 'FaultOffset', 'Combined_ProcessID',\n       'Combined_StartTime', 'Combined_ReportID', 'FaultingPackageFullName',\n       'FaultingPackageRelativeApplicationID', 'ProductVersion', 'ProductName',\n       'Publisher', 'ProgramID', 'FileID', 'FileVersion', 'error_type',\n       'Data_1', 'FaultBucketType', 'EventName', 'Response', 'CabID',\n       'ProblemSignatureP4_Module', 'ProblemSignatureP5_ModuleVersion',\n       'ProblemSignatureP8', 'ProblemSignatureP9', 'ProblemSignatureP10',\n       'RecheckingForSolution', 'HashedBucket', 'CabGUID', 'TerminationType',\n       'HangType', 'BinaryValue', 'CreatedSystemTime_CST',\n       'CreatedSystemTime_CST_formatted'],\n      dtype='object')"
     },
     "execution_count": 61,
     "metadata": {},
     "output_type": "execute_result"
    }
   ],
   "source": [
    "num_events_df.columns"
   ],
   "metadata": {
    "collapsed": false,
    "ExecuteTime": {
     "end_time": "2023-08-03T14:56:14.561529363Z",
     "start_time": "2023-08-03T14:56:14.560024856Z"
    }
   }
  },
  {
   "cell_type": "code",
   "execution_count": 63,
   "outputs": [
    {
     "data": {
      "text/plain": "<AxesSubplot:>"
     },
     "execution_count": 63,
     "metadata": {},
     "output_type": "execute_result"
    },
    {
     "data": {
      "text/plain": "<Figure size 1800x720 with 2 Axes>",
      "image/png": "[encoded data removed]"
     },
     "metadata": {
      "needs_background": "light"
     },
     "output_type": "display_data"
    }
   ],
   "source": [
    "# msno.matrix(num_events_df[['RWB_EFFECTIVE_DATE', 'Name0', 'MachineName']], labels=True, fontsize=10)\n",
    "msno.matrix(num_events_df[['RWB_EFFECTIVE_DATE', 'ClientItemKey']], labels=True, fontsize=10)"
   ],
   "metadata": {
    "collapsed": false,
    "ExecuteTime": {
     "end_time": "2023-08-03T14:56:32.336593477Z",
     "start_time": "2023-08-03T14:56:32.006806464Z"
    }
   }
  },
  {
   "cell_type": "code",
   "execution_count": 64,
   "outputs": [
    {
     "data": {
      "text/plain": "Empty DataFrame\nColumns: [RWB_EVENTRAWRESULTITEM_ID, RWB_ETL_EVENT_DESTINATION_IDENTIFIER, RWB_CREATE_TIMESTAMP, RWB_EFFECTIVE_DATE, ID, ClientItemKey, ProviderName, ProviderGUID, EventID, EventIDQualifiers, Level, Task, Opcode, Keywords, TimeCreatedSystemTime, EventRecordID, ActivityID, RelatedActivityID, Channel, UserSID, SchemaVersion, Combined_Application, Combined_Version, AppTimestamp, Combined_dll, ModuleVersion, ModuleTimestamp, Combined_Exception, FaultOffset, Combined_ProcessID, Combined_StartTime, Combined_ReportID, FaultingPackageFullName, FaultingPackageRelativeApplicationID, ProductVersion, ProductName, Publisher, ProgramID, FileID, FileVersion, error_type, Data_1, FaultBucketType, EventName, Response, CabID, ProblemSignatureP4_Module, ProblemSignatureP5_ModuleVersion, ProblemSignatureP8, ProblemSignatureP9, ProblemSignatureP10, RecheckingForSolution, HashedBucket, CabGUID, TerminationType, HangType, BinaryValue, CreatedSystemTime_CST, CreatedSystemTime_CST_formatted]\nIndex: []\n\n[0 rows x 59 columns]",
      "text/html": "<div>\n<style scoped>\n    .dataframe tbody tr th:only-of-type {\n        vertical-align: middle;\n    }\n\n    .dataframe tbody tr th {\n        vertical-align: top;\n    }\n\n    .dataframe thead th {\n        text-align: right;\n    }\n</style>\n<table border=\"1\" class=\"dataframe\">\n  <thead>\n    <tr style=\"text-align: right;\">\n      <th></th>\n      <th>RWB_EVENTRAWRESULTITEM_ID</th>\n      <th>RWB_ETL_EVENT_DESTINATION_IDENTIFIER</th>\n      <th>RWB_CREATE_TIMESTAMP</th>\n      <th>RWB_EFFECTIVE_DATE</th>\n      <th>ID</th>\n      <th>ClientItemKey</th>\n      <th>ProviderName</th>\n      <th>ProviderGUID</th>\n      <th>EventID</th>\n      <th>EventIDQualifiers</th>\n      <th>...</th>\n      <th>ProblemSignatureP9</th>\n      <th>ProblemSignatureP10</th>\n      <th>RecheckingForSolution</th>\n      <th>HashedBucket</th>\n      <th>CabGUID</th>\n      <th>TerminationType</th>\n      <th>HangType</th>\n      <th>BinaryValue</th>\n      <th>CreatedSystemTime_CST</th>\n      <th>CreatedSystemTime_CST_formatted</th>\n    </tr>\n  </thead>\n  <tbody>\n  </tbody>\n</table>\n<p>0 rows × 59 columns</p>\n</div>"
     },
     "execution_count": 64,
     "metadata": {},
     "output_type": "execute_result"
    }
   ],
   "source": [
    "# Some events didn't have a machine successfully join.\n",
    "num_events_df[num_events_df['ClientItemKey'].isnull()]"
   ],
   "metadata": {
    "collapsed": false,
    "ExecuteTime": {
     "end_time": "2023-08-03T14:56:52.724046367Z",
     "start_time": "2023-08-03T14:56:52.702367699Z"
    }
   }
  },
  {
   "cell_type": "code",
   "execution_count": 65,
   "outputs": [
    {
     "data": {
      "text/plain": "       RWB_EFFECTIVE_DATE  ClientItemKey  events\n0              2022-08-30       16783564      11\n1              2022-08-30       16783835      22\n2              2022-08-30       16784042      32\n3              2022-08-30       16784339       5\n4              2022-08-30       16784657       5\n...                   ...            ...     ...\n532942         2023-07-04       16818858       2\n532943         2023-07-04       16818889       1\n532944         2023-07-04       16818928       8\n532945         2023-07-04       16819002       1\n532946         2023-07-04       16819028       1\n\n[532947 rows x 3 columns]",
      "text/html": "<div>\n<style scoped>\n    .dataframe tbody tr th:only-of-type {\n        vertical-align: middle;\n    }\n\n    .dataframe tbody tr th {\n        vertical-align: top;\n    }\n\n    .dataframe thead th {\n        text-align: right;\n    }\n</style>\n<table border=\"1\" class=\"dataframe\">\n  <thead>\n    <tr style=\"text-align: right;\">\n      <th></th>\n      <th>RWB_EFFECTIVE_DATE</th>\n      <th>ClientItemKey</th>\n      <th>events</th>\n    </tr>\n  </thead>\n  <tbody>\n    <tr>\n      <th>0</th>\n      <td>2022-08-30</td>\n      <td>16783564</td>\n      <td>11</td>\n    </tr>\n    <tr>\n      <th>1</th>\n      <td>2022-08-30</td>\n      <td>16783835</td>\n      <td>22</td>\n    </tr>\n    <tr>\n      <th>2</th>\n      <td>2022-08-30</td>\n      <td>16784042</td>\n      <td>32</td>\n    </tr>\n    <tr>\n      <th>3</th>\n      <td>2022-08-30</td>\n      <td>16784339</td>\n      <td>5</td>\n    </tr>\n    <tr>\n      <th>4</th>\n      <td>2022-08-30</td>\n      <td>16784657</td>\n      <td>5</td>\n    </tr>\n    <tr>\n      <th>...</th>\n      <td>...</td>\n      <td>...</td>\n      <td>...</td>\n    </tr>\n    <tr>\n      <th>532942</th>\n      <td>2023-07-04</td>\n      <td>16818858</td>\n      <td>2</td>\n    </tr>\n    <tr>\n      <th>532943</th>\n      <td>2023-07-04</td>\n      <td>16818889</td>\n      <td>1</td>\n    </tr>\n    <tr>\n      <th>532944</th>\n      <td>2023-07-04</td>\n      <td>16818928</td>\n      <td>8</td>\n    </tr>\n    <tr>\n      <th>532945</th>\n      <td>2023-07-04</td>\n      <td>16819002</td>\n      <td>1</td>\n    </tr>\n    <tr>\n      <th>532946</th>\n      <td>2023-07-04</td>\n      <td>16819028</td>\n      <td>1</td>\n    </tr>\n  </tbody>\n</table>\n<p>532947 rows × 3 columns</p>\n</div>"
     },
     "execution_count": 65,
     "metadata": {},
     "output_type": "execute_result"
    }
   ],
   "source": [
    "num_events = df.groupby(['RWB_EFFECTIVE_DATE', 'ClientItemKey']).agg('size').reset_index().rename(columns={0:'events'})\n",
    "num_events"
   ],
   "metadata": {
    "collapsed": false,
    "ExecuteTime": {
     "end_time": "2023-08-03T14:56:54.727364315Z",
     "start_time": "2023-08-03T14:56:54.568699427Z"
    }
   }
  },
  {
   "cell_type": "code",
   "execution_count": 66,
   "outputs": [],
   "source": [
    "num_events.to_parquet('../do_not_commit/Datasets/num_events.pq')"
   ],
   "metadata": {
    "collapsed": false,
    "ExecuteTime": {
     "end_time": "2023-08-03T14:57:00.017820074Z",
     "start_time": "2023-08-03T14:56:59.943113854Z"
    }
   }
  },
  {
   "cell_type": "markdown",
   "source": [
    "\n",
    "#### How many INCs contain direct reference to BSOD?\n"
   ],
   "metadata": {
    "collapsed": false
   }
  },
  {
   "cell_type": "code",
   "execution_count": null,
   "outputs": [],
   "source": [
    "df['short_description_NER'].unique()"
   ],
   "metadata": {
    "collapsed": false,
    "ExecuteTime": {
     "start_time": "2023-08-01T17:33:19.865801900Z"
    }
   }
  },
  {
   "cell_type": "code",
   "execution_count": null,
   "outputs": [],
   "source": [
    "# How many short descriptions talk about BSODs?\n",
    "len(df.dropna(subset='short_description_NER')[df.dropna(subset='short_description_NER')['short_description_NER'].str.contains(\"(?i)Blue Screen|BSOD|[Dd]eath\")]['number'].unique())"
   ],
   "metadata": {
    "collapsed": false
   }
  },
  {
   "cell_type": "code",
   "execution_count": null,
   "outputs": [],
   "source": [
    "# What is the frequency of each error type for BSOD tickets?\n",
    "df.dropna(subset='short_description_NER')[df.dropna(subset='short_description_NER')['short_description_NER'].str.contains(\"(?i)Blue Screen|BSOD|[Dd]eath\")].drop_duplicates('number', keep='first')['error_type'].hist()"
   ],
   "metadata": {
    "collapsed": false
   }
  },
  {
   "cell_type": "code",
   "execution_count": null,
   "outputs": [],
   "source": [
    "df.dropna(subset='short_description_NER')[(df.dropna(subset='short_description_NER')['short_description_NER'].str.contains(\"(?i)Blue Screen|BSOD|[Dd]eath\"))].drop_duplicates('number', keep='first')[['error_type', 'Combined_Application', 'Combined_dll', 'Combined_Exception']]"
   ],
   "metadata": {
    "collapsed": false
   }
  },
  {
   "cell_type": "code",
   "execution_count": null,
   "outputs": [],
   "source": [
    "df.dropna(subset='short_description_NER')[(df.dropna(subset='short_description_NER')['short_description_NER'].str.contains(\"(?i)Blue Screen|BSOD|[Dd]eath\")) & (df['error_type'] == 'Application')].drop_duplicates('number', keep='first')['Combined_Application']"
   ],
   "metadata": {
    "collapsed": false
   }
  },
  {
   "cell_type": "code",
   "execution_count": null,
   "outputs": [],
   "source": [
    "df.dropna(subset='short_description_NER')[(df.dropna(subset='short_description_NER')['short_description_NER'].str.contains(\"(?i)Blue Screen|BSOD|[Dd]eath\")) & (df['error_type'] == 'Boot')].drop_duplicates('number', keep='first')['short_description_NER']"
   ],
   "metadata": {
    "collapsed": false
   }
  },
  {
   "cell_type": "markdown",
   "source": [
    "\n",
    "#### What is the distribution of FaultApplicationName among INCs?\n"
   ],
   "metadata": {
    "collapsed": false
   }
  },
  {
   "cell_type": "code",
   "execution_count": null,
   "outputs": [],
   "source": [
    "df_check = df[df['error_type'] == 'Application']"
   ],
   "metadata": {
    "collapsed": false
   }
  },
  {
   "cell_type": "code",
   "execution_count": null,
   "outputs": [],
   "source": [
    "df_check['Combined_Application'].value_counts()"
   ],
   "metadata": {
    "collapsed": false
   }
  },
  {
   "cell_type": "markdown",
   "source": [
    "\n",
    "#### What is the distribution of modules among INCs?\n"
   ],
   "metadata": {
    "collapsed": false
   }
  },
  {
   "cell_type": "code",
   "execution_count": null,
   "outputs": [],
   "source": [
    "df_check['Combined_dll'].value_counts()"
   ],
   "metadata": {
    "collapsed": false
   }
  },
  {
   "cell_type": "markdown",
   "source": [
    "\n",
    "#### Which exception codes are most common among INCs?\n"
   ],
   "metadata": {
    "collapsed": false
   }
  },
  {
   "cell_type": "code",
   "execution_count": null,
   "outputs": [],
   "source": [
    "df_check[['Combined_Application', 'Combined_Exception']].value_counts()"
   ],
   "metadata": {
    "collapsed": false
   }
  }
 ],
 "metadata": {
  "kernelspec": {
   "display_name": "Python 3",
   "language": "python",
   "name": "python3"
  },
  "language_info": {
   "codemirror_mode": {
    "name": "ipython",
    "version": 2
   },
   "file_extension": ".py",
   "mimetype": "text/x-python",
   "name": "python",
   "nbconvert_exporter": "python",
   "pygments_lexer": "ipython2",
   "version": "2.7.6"
  }
 },
 "nbformat": 4,
 "nbformat_minor": 0
}

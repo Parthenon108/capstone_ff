{
 "cells": [
  {
   "cell_type": "code",
   "execution_count": 1,
   "metadata": {
    "collapsed": true,
    "ExecuteTime": {
     "end_time": "2023-08-06T20:00:33.230154850Z",
     "start_time": "2023-08-06T20:00:31.743640722Z"
    }
   },
   "outputs": [],
   "source": [
    "import pandas as pd\n",
    "import numpy as np\n",
    "from functools import reduce\n",
    "import pytz\n",
    "import missingno as msno\n",
    "import altair as alt"
   ]
  },
  {
   "cell_type": "markdown",
   "source": [
    "\n",
    "[Shift time for TimeCreatedSystemTime to UTC](#timeshift)\n",
    "[Join machines to events](#machines_events)\n"
   ],
   "metadata": {
    "collapsed": false
   }
  },
  {
   "cell_type": "code",
   "execution_count": 2,
   "outputs": [],
   "source": [
    "# These are the datasets uploaded by Jacob to blob storage:\n",
    "df_app = pd.read_parquet('../do_not_commit/Datasets/AppErrorEvents.parquet')\n",
    "df_win = pd.read_parquet('../do_not_commit/Datasets/WindowsErrorEvents.parquet')\n",
    "df_hang = pd.read_parquet('../do_not_commit/Datasets/AppHangEvents.parquet')"
   ],
   "metadata": {
    "collapsed": false,
    "ExecuteTime": {
     "end_time": "2023-08-06T20:00:33.630178067Z",
     "start_time": "2023-08-06T20:00:33.274531351Z"
    }
   }
  },
  {
   "cell_type": "code",
   "execution_count": 3,
   "outputs": [
    {
     "name": "stdout",
     "output_type": "stream",
     "text": [
      "268149\n",
      "9836\n",
      "40811\n"
     ]
    }
   ],
   "source": [
    "print(len(df_app))\n",
    "print(len(df_win))\n",
    "print(len(df_hang))"
   ],
   "metadata": {
    "collapsed": false,
    "ExecuteTime": {
     "end_time": "2023-08-06T20:00:33.635647924Z",
     "start_time": "2023-08-06T20:00:33.631776156Z"
    }
   }
  },
  {
   "cell_type": "code",
   "execution_count": 4,
   "outputs": [],
   "source": [
    "df_app['error_type'] = \"Application\"\n",
    "df_win['error_type'] = 'Windows'\n",
    "df_hang['error_type'] = 'Hang'"
   ],
   "metadata": {
    "collapsed": false,
    "ExecuteTime": {
     "end_time": "2023-08-06T20:00:33.640447369Z",
     "start_time": "2023-08-06T20:00:33.634476523Z"
    }
   }
  },
  {
   "cell_type": "markdown",
   "source": [
    "\n",
    "Do this in one or two ways:\n",
    "1. Add use suffixes= in pd.merge() to explicitly assign each column/variable to its original error type.\n",
    "2. Combine values for common columns into the same column, add a new column for each of the 4 for its error type, e.g. \"Hang\", and not assign column suffixes (use pd.concat([dataframes])).\n",
    "\n",
    "Given from the original XML exercise columns with the same name in different sets represented the same variable, preferred approach is #2.\n"
   ],
   "metadata": {
    "collapsed": false
   }
  },
  {
   "cell_type": "code",
   "execution_count": 5,
   "outputs": [],
   "source": [
    "def get_compare_chart(in_data, in_col, in_title):\n",
    "    \"\"\"\n",
    "    # Visualize codes by EventName in df_win['EventName'].\n",
    "\n",
    "    :param in_data:\n",
    "    :param in_col:\n",
    "    :param in_title:\n",
    "    :return:\n",
    "    \"\"\"\n",
    "\n",
    "    count_df2 = in_data.groupby(in_col).size().reset_index().rename(columns={0: 'count'})\n",
    "    # Sort order for chart\n",
    "    count_df2.sort_values('count', ascending=False, inplace=True)\n",
    "    sort_order = [val for val in count_df2[in_col].unique()]\n",
    "    out_chart = alt.Chart(count_df2).mark_bar().encode(\n",
    "        x=alt.X('count:Q'),\n",
    "        y=alt.Y(in_col + ':N', sort=sort_order),\n",
    "        tooltip='count:Q'\n",
    "    ).properties(title=in_title)\n",
    "    return out_chart\n",
    "\n",
    "\n",
    "def show_bar_for_win_event(eventname_list, in_df, visualize_attr):\n",
    "    for eventname in eventname_list:\n",
    "        current_df = in_df[in_df['EventName'] == eventname]\n",
    "        out_chart = get_compare_chart(current_df, visualize_attr,\n",
    "                                      f'Counts of {visualize_attr} types for {eventname} events')\n",
    "        yield out_chart"
   ],
   "metadata": {
    "collapsed": false,
    "ExecuteTime": {
     "end_time": "2023-08-06T20:00:33.645348891Z",
     "start_time": "2023-08-06T20:00:33.640794616Z"
    }
   }
  },
  {
   "cell_type": "code",
   "execution_count": 6,
   "outputs": [],
   "source": [
    "# Get the event names\n",
    "eventnames = df_win['EventName'].unique()\n",
    "charts = show_bar_for_win_event(eventnames, df_win, 'ProblemSignatureP3')"
   ],
   "metadata": {
    "collapsed": false,
    "ExecuteTime": {
     "end_time": "2023-08-06T20:00:33.650207683Z",
     "start_time": "2023-08-06T20:00:33.644530848Z"
    }
   }
  },
  {
   "cell_type": "code",
   "execution_count": 7,
   "outputs": [],
   "source": [
    "# current_chart = next(charts)\n",
    "# current_chart"
   ],
   "metadata": {
    "collapsed": false,
    "ExecuteTime": {
     "end_time": "2023-08-06T20:00:33.650349974Z",
     "start_time": "2023-08-06T20:00:33.646838970Z"
    }
   }
  },
  {
   "cell_type": "code",
   "execution_count": 8,
   "outputs": [
    {
     "data": {
      "text/plain": "array(['crashpad_exp', 'APPCRASH', 'AppHangB1', 'MoAppHang', 'BEX64',\n       'MoAppCrash', 'MoBEX', 'CLR20r3', 'BEX', 'AppHangXProcB1',\n       'LiveKernelEvent', 'MoAppHangXProc', 'POFContextAppCrash',\n       'ServiceHang', 'CbsPackageServicingFailure2',\n       'CriticalProcessFault2', 'crashpad_jserror', 'WUDFVerifierFailure'],\n      dtype=object)"
     },
     "execution_count": 8,
     "metadata": {},
     "output_type": "execute_result"
    }
   ],
   "source": [
    "eventnames"
   ],
   "metadata": {
    "collapsed": false,
    "ExecuteTime": {
     "end_time": "2023-08-06T20:00:33.696946726Z",
     "start_time": "2023-08-06T20:00:33.650612343Z"
    }
   }
  },
  {
   "cell_type": "code",
   "execution_count": 9,
   "outputs": [
    {
     "name": "stdout",
     "output_type": "stream",
     "text": [
      "1569\n",
      "9836\n"
     ]
    }
   ],
   "source": [
    "print(df_win['ProblemSignatureP3'].str.contains('.dll').sum())\n",
    "print(len(df_win))"
   ],
   "metadata": {
    "collapsed": false,
    "ExecuteTime": {
     "end_time": "2023-08-06T20:00:33.697138370Z",
     "start_time": "2023-08-06T20:00:33.694627520Z"
    }
   }
  },
  {
   "cell_type": "markdown",
   "source": [
    "\n",
    "-  crashpad_exp has only .dll EventItems\n",
    "-  APPCRASH has 1 .dll and many alphanumeric codes\n",
    "-  AppHangB1 has only hexadecimal codes\n",
    "-  MoAppHang has IP-style codes\n",
    "-  BEX64 has only alphanumeric codes\n",
    "-  MoAppCrash has IP-style codes\n",
    "-  MoBEX has IP-style codes\n",
    "-  CLR20r3 has hexadecimal codes\n",
    "-  BEX has hexadecimal codes\n",
    "-  AppHangXProcB1 has hexadecimal codes\n",
    "-  LiveKernelEvent has single numbers, single letters, and (many) alphanumeric codes\n",
    "-  MoAppHangXProc events has 2 IP-style codes\n",
    "-  POFContextAppCrash has IP-style codes\n",
    "-  ServiceHang has IP-style codes\n",
    "-  CbsPackageServicingFailure2 has IP-style codes\n",
    "-  CriticalProcessFault2 has 1 alphanumeric code and 1 00000000 code\n",
    "-  crashpad_jserror has webui-pdf code\n",
    "-  WUDFVerifierFailure has 'Driver 'code\n"
   ],
   "metadata": {
    "collapsed": false
   }
  },
  {
   "cell_type": "code",
   "execution_count": 10,
   "outputs": [],
   "source": [
    "# COALESCE() in order: https://www.statology.org/pandas-coalesce/\n",
    "df_win['Combined_dll'] = df_win[['ProblemSignatureP3', 'ProblemSignatureP6']].bfill(axis=1).iloc[:, 0]\n",
    "df_win['Combined_dll'] = df_win['Combined_dll'].apply(lambda x: x if '.dll' in str(x) else np.nan)\n",
    "df_win.drop(columns=['ProblemSignatureP3', 'ProblemSignatureP6'], inplace=True)"
   ],
   "metadata": {
    "collapsed": false,
    "ExecuteTime": {
     "end_time": "2023-08-06T20:00:33.697216847Z",
     "start_time": "2023-08-06T20:00:33.694779822Z"
    }
   }
  },
  {
   "cell_type": "code",
   "execution_count": 11,
   "outputs": [],
   "source": [
    "df_app.rename(\n",
    "    columns={\n",
    "        'FaultingApplicationName':'Combined_Application',\n",
    "        'ProgramId':'ProgramID',\n",
    "        'FileId':'FileID',\n",
    "        'AppVersion':'Combined_Version',\n",
    "        'ExceptionCode':'Combined_Exception',\n",
    "        'FaultingProcessId':'Combined_ProcessID',\n",
    "        'ReportId':'Combined_ReportID',\n",
    "        'FaultingApplicationStartTime':'Combined_StartTime',\n",
    "        'FaultingModuleName':'Combined_dll'\n",
    "    },\n",
    "    inplace=True\n",
    ")\n",
    "\n",
    "df_win.rename(\n",
    "    columns={\n",
    "        'ProblemSignatureP1_Application':'Combined_Application',\n",
    "        'ProblemSignatureP2_AppVersion':'Combined_Version',\n",
    "        'ProblemSignatureP7_ExceptionCode':'Combined_Exception',\n",
    "        'ReportID':'Combined_ReportID',\n",
    "        'CabGuid':'CabGUID'\n",
    "    },\n",
    "    inplace=True\n",
    ")\n",
    "\n",
    "df_hang.rename(\n",
    "    columns={\n",
    "        'ProgramId':'ProgramID',\n",
    "        'FileId':'FileID',\n",
    "        'Program':'Combined_Application',\n",
    "        'ProgramVersion':'Combined_Version',\n",
    "        'ProcessID':'Combined_ProcessID',\n",
    "        'ReportID':'Combined_ReportID',\n",
    "        'StartTime':'Combined_StartTime'\n",
    "    },\n",
    "    inplace=True\n",
    ")"
   ],
   "metadata": {
    "collapsed": false,
    "ExecuteTime": {
     "end_time": "2023-08-06T20:00:33.697286052Z",
     "start_time": "2023-08-06T20:00:33.694868188Z"
    }
   }
  },
  {
   "cell_type": "code",
   "execution_count": 12,
   "outputs": [],
   "source": [
    "events = pd.concat([df_app, df_win, df_hang])\n",
    "events.reset_index(inplace=True)\n",
    "events.dropna(axis=1, how='all', inplace=True) # Dropping columns with nothing in them.\n",
    "# msno.matrix(events.iloc[:, 20:], labels=True, fontsize=8)"
   ],
   "metadata": {
    "collapsed": false,
    "ExecuteTime": {
     "end_time": "2023-08-06T20:00:35.185997068Z",
     "start_time": "2023-08-06T20:00:33.694953564Z"
    }
   }
  },
  {
   "cell_type": "markdown",
   "source": [
    "\n",
    "<a id=\"machines_events\"></a>\n",
    "# Join events with machines.\n"
   ],
   "metadata": {
    "collapsed": false
   }
  },
  {
   "cell_type": "code",
   "execution_count": 13,
   "outputs": [],
   "source": [
    "machines = pd.read_parquet('../do_not_commit/Datasets/Persist_System_DISC.pq')"
   ],
   "metadata": {
    "collapsed": false,
    "ExecuteTime": {
     "end_time": "2023-08-06T20:00:37.631245163Z",
     "start_time": "2023-08-06T20:00:35.187529947Z"
    }
   }
  },
  {
   "cell_type": "code",
   "execution_count": 14,
   "outputs": [],
   "source": [
    "# msno.matrix(incs, labels=True, fontsize=8)"
   ],
   "metadata": {
    "collapsed": false,
    "ExecuteTime": {
     "end_time": "2023-08-06T20:00:37.636706643Z",
     "start_time": "2023-08-06T20:00:37.633057099Z"
    }
   }
  },
  {
   "cell_type": "code",
   "execution_count": 15,
   "outputs": [],
   "source": [
    "machines['ClientItemKey'] = machines['ItemKey'].copy()"
   ],
   "metadata": {
    "collapsed": false,
    "ExecuteTime": {
     "end_time": "2023-08-06T20:00:37.641555419Z",
     "start_time": "2023-08-06T20:00:37.634721242Z"
    }
   }
  },
  {
   "cell_type": "code",
   "execution_count": 16,
   "outputs": [],
   "source": [
    "# Join machine name ('Name0') to events by internal date and ClientItemKey (a different, but similar ID for a machine).\n",
    "# Because events is left, every row will have a TimeCreatedSystemTime.\n",
    "machines_events = events.merge(machines[['RWB_EFFECTIVE_DATE', 'ClientItemKey', 'Name0']], on=['RWB_EFFECTIVE_DATE', 'ClientItemKey'], how='left')"
   ],
   "metadata": {
    "collapsed": false,
    "ExecuteTime": {
     "end_time": "2023-08-06T20:00:38.138475202Z",
     "start_time": "2023-08-06T20:00:37.641726622Z"
    }
   }
  },
  {
   "cell_type": "code",
   "execution_count": 17,
   "outputs": [],
   "source": [
    "# Convert the TimeCreatedSystemTime CST column from Datetime to a date datatype (formatted like YYYY-MM-DD).\n",
    "machines_events['TimeCreatedSystemTimeFormatted'] = machines_events['TimeCreatedSystemTime'].dt.strftime('%Y-%m-%d')"
   ],
   "metadata": {
    "collapsed": false,
    "ExecuteTime": {
     "end_time": "2023-08-06T20:00:39.281311665Z",
     "start_time": "2023-08-06T20:00:38.139897784Z"
    }
   }
  },
  {
   "cell_type": "code",
   "execution_count": 18,
   "outputs": [],
   "source": [
    "# msno.matrix(machines_events, labels=True, fontsize=8)"
   ],
   "metadata": {
    "collapsed": false,
    "ExecuteTime": {
     "end_time": "2023-08-06T20:00:39.286319866Z",
     "start_time": "2023-08-06T20:00:39.282796065Z"
    }
   }
  },
  {
   "cell_type": "code",
   "execution_count": 19,
   "outputs": [],
   "source": [
    "# Convert local time values to Central.\n",
    "def convert_to_cst(df:pd.DataFrame, utc_column_name:str, cst_column_name:str):\n",
    "    \"\"\"\n",
    "    Create a new column in the events dataframe that converts the TimeCreatedSystemTime from UTC to CST.\n",
    "    (this is necessary because RWB_EFFECTIVE_DATE is in CST)\n",
    "    \"\"\"\n",
    "\n",
    "    # Make sure the UTC column is in datetime format\n",
    "    df[utc_column_name] = pd.to_datetime(df[utc_column_name])\n",
    "\n",
    "    # Convert to UTC timezone\n",
    "    utc_timezone = pytz.timezone('UTC')\n",
    "    df[utc_column_name] = df[utc_column_name].dt.tz_localize(utc_timezone)\n",
    "\n",
    "    # Convert to Central Standard Time (CST) timezone\n",
    "    cst_timezone = pytz.timezone('America/Chicago')\n",
    "    df[cst_column_name] = df[utc_column_name].dt.tz_convert(cst_timezone)\n",
    "\n",
    "    # Drop the original UTC column if desired (optional)\n",
    "    # df.drop(columns=[utc_column_name], inplace=True)\n",
    "\n",
    "    return df"
   ],
   "metadata": {
    "collapsed": false,
    "ExecuteTime": {
     "end_time": "2023-08-06T20:00:39.290881139Z",
     "start_time": "2023-08-06T20:00:39.285820450Z"
    }
   }
  },
  {
   "cell_type": "code",
   "execution_count": 20,
   "outputs": [
    {
     "data": {
      "text/plain": "                  TimeCreatedSystemTime            CreatedSystemTime_CST\n218173 2023-05-18 12:40:34.953000+00:00 2023-05-18 07:40:34.953000-05:00\n266042 2023-04-13 15:53:06.710000+00:00 2023-04-13 10:53:06.710000-05:00\n237729 2023-05-02 07:06:24.597000+00:00 2023-05-02 02:06:24.597000-05:00\n137712 2023-01-17 22:45:44.883000+00:00 2023-01-17 16:45:44.883000-06:00\n174843 2023-06-20 13:18:37.710000+00:00 2023-06-20 08:18:37.710000-05:00",
      "text/html": "<div>\n<style scoped>\n    .dataframe tbody tr th:only-of-type {\n        vertical-align: middle;\n    }\n\n    .dataframe tbody tr th {\n        vertical-align: top;\n    }\n\n    .dataframe thead th {\n        text-align: right;\n    }\n</style>\n<table border=\"1\" class=\"dataframe\">\n  <thead>\n    <tr style=\"text-align: right;\">\n      <th></th>\n      <th>TimeCreatedSystemTime</th>\n      <th>CreatedSystemTime_CST</th>\n    </tr>\n  </thead>\n  <tbody>\n    <tr>\n      <th>218173</th>\n      <td>2023-05-18 12:40:34.953000+00:00</td>\n      <td>2023-05-18 07:40:34.953000-05:00</td>\n    </tr>\n    <tr>\n      <th>266042</th>\n      <td>2023-04-13 15:53:06.710000+00:00</td>\n      <td>2023-04-13 10:53:06.710000-05:00</td>\n    </tr>\n    <tr>\n      <th>237729</th>\n      <td>2023-05-02 07:06:24.597000+00:00</td>\n      <td>2023-05-02 02:06:24.597000-05:00</td>\n    </tr>\n    <tr>\n      <th>137712</th>\n      <td>2023-01-17 22:45:44.883000+00:00</td>\n      <td>2023-01-17 16:45:44.883000-06:00</td>\n    </tr>\n    <tr>\n      <th>174843</th>\n      <td>2023-06-20 13:18:37.710000+00:00</td>\n      <td>2023-06-20 08:18:37.710000-05:00</td>\n    </tr>\n  </tbody>\n</table>\n</div>"
     },
     "execution_count": 20,
     "metadata": {},
     "output_type": "execute_result"
    }
   ],
   "source": [
    "machines_events = convert_to_cst(machines_events, utc_column_name='TimeCreatedSystemTime', cst_column_name='CreatedSystemTime_CST')\n",
    "machines_events[['TimeCreatedSystemTime', 'CreatedSystemTime_CST']].sample(5) # Check all times are -05:00 or -06:00 from UTC (Daylight Savings Time)."
   ],
   "metadata": {
    "collapsed": false,
    "ExecuteTime": {
     "end_time": "2023-08-06T20:00:39.500297821Z",
     "start_time": "2023-08-06T20:00:39.294215016Z"
    }
   }
  },
  {
   "cell_type": "code",
   "execution_count": 21,
   "outputs": [
    {
     "data": {
      "text/plain": "'2023-04-10'"
     },
     "execution_count": 21,
     "metadata": {},
     "output_type": "execute_result"
    }
   ],
   "source": [
    "# Convert the TimeCreatedSystemTime CST column from Datetime to a date datatype (formatted like YYYY-MM-DD).\n",
    "machines_events['CreatedSystemTime_CST_formatted'] = machines_events['CreatedSystemTime_CST'].dt.strftime('%Y-%m-%d')\n",
    "machines_events['CreatedSystemTime_CST_formatted'][0]"
   ],
   "metadata": {
    "collapsed": false,
    "ExecuteTime": {
     "end_time": "2023-08-06T20:00:42.343667415Z",
     "start_time": "2023-08-06T20:00:39.920873159Z"
    }
   }
  },
  {
   "cell_type": "markdown",
   "source": [
    "\n",
    "# Join Boot events with machines separately.\n"
   ],
   "metadata": {
    "collapsed": false
   }
  },
  {
   "cell_type": "code",
   "execution_count": 22,
   "outputs": [
    {
     "name": "stdout",
     "output_type": "stream",
     "text": [
      "1593485\n"
     ]
    }
   ],
   "source": [
    "df_boot = pd.read_parquet('../do_not_commit/Datasets/BootEvents.parquet')\n",
    "print(len(df_boot))"
   ],
   "metadata": {
    "collapsed": false,
    "ExecuteTime": {
     "end_time": "2023-08-06T20:00:43.378094613Z",
     "start_time": "2023-08-06T20:00:42.341512033Z"
    }
   }
  },
  {
   "cell_type": "code",
   "execution_count": 23,
   "outputs": [],
   "source": [
    "df_boot['error_type'] = 'Boot'"
   ],
   "metadata": {
    "collapsed": false,
    "ExecuteTime": {
     "end_time": "2023-08-06T20:00:43.383227261Z",
     "start_time": "2023-08-06T20:00:43.373931116Z"
    }
   }
  },
  {
   "cell_type": "code",
   "execution_count": 24,
   "outputs": [
    {
     "data": {
      "text/plain": "array(['ClientItemKey', 'ID', 'RWB_CREATE_TIMESTAMP',\n       'RWB_EFFECTIVE_DATE', 'RWB_ETL_EVENT_DESTINATION_IDENTIFIER',\n       'SchemaVersion', 'error_type'], dtype=object)"
     },
     "execution_count": 24,
     "metadata": {},
     "output_type": "execute_result"
    }
   ],
   "source": [
    "# What columns do all four event types have in common?\n",
    "common_columns = reduce(np.intersect1d, (df_app.columns, df_boot.columns, df_hang.columns, df_win.columns))\n",
    "common_columns"
   ],
   "metadata": {
    "collapsed": false,
    "ExecuteTime": {
     "end_time": "2023-08-06T20:00:43.383561737Z",
     "start_time": "2023-08-06T20:00:43.380242786Z"
    }
   }
  },
  {
   "cell_type": "code",
   "execution_count": 25,
   "outputs": [],
   "source": [
    "df_boot.rename(\n",
    "    columns={\n",
    "        'BootId':'BootID',\n",
    "        'ProgramId':'ProgramID',\n",
    "        'FileId':'FileID',\n",
    "        'AppVersion':'Combined_Version',\n",
    "        'ExceptionCode':'Combined_Exception',\n",
    "        'ReportId':'ReportID'\n",
    "    },\n",
    "    inplace=True\n",
    ")"
   ],
   "metadata": {
    "collapsed": false,
    "ExecuteTime": {
     "end_time": "2023-08-06T20:00:43.388860479Z",
     "start_time": "2023-08-06T20:00:43.385858196Z"
    }
   }
  },
  {
   "cell_type": "code",
   "execution_count": 26,
   "outputs": [],
   "source": [
    "# Needs to be a str to join later w/ 'opened_at_formatted'.\n",
    "# BootID is synonymous with 'TimeCreatedSystemTime'\n",
    "# since it is the time on the machine when the boot event occurred.\n",
    "df_boot['BootID_formatted'] = df_boot['BootID'].dt.strftime('%Y-%m-%d')"
   ],
   "metadata": {
    "collapsed": false,
    "ExecuteTime": {
     "end_time": "2023-08-06T20:00:48.819093370Z",
     "start_time": "2023-08-06T20:00:43.389063221Z"
    }
   }
  },
  {
   "cell_type": "code",
   "execution_count": 27,
   "outputs": [],
   "source": [
    "# Join machine name to boot events, similar to other section.\n",
    "machines_boot = df_boot.merge(machines[['RWB_EFFECTIVE_DATE', 'ClientItemKey', 'Name0']], on=['RWB_EFFECTIVE_DATE', 'ClientItemKey'])"
   ],
   "metadata": {
    "collapsed": false,
    "ExecuteTime": {
     "end_time": "2023-08-06T20:00:49.895245487Z",
     "start_time": "2023-08-06T20:00:48.830020227Z"
    }
   }
  },
  {
   "cell_type": "markdown",
   "source": [
    "\n",
    "# Join machines and events with INCs.\n"
   ],
   "metadata": {
    "collapsed": false
   }
  },
  {
   "cell_type": "code",
   "execution_count": 28,
   "outputs": [],
   "source": [
    "# From blob storage:\n",
    "# incs = pd.read_csv('../do_not_commit/Datasets/ServiceNow_Incident.csv', low_memory=False)\n",
    "incs = pd.read_csv('../do_not_commit/Datasets/ServiceNow_INC_20230730.csv', low_memory=False)"
   ],
   "metadata": {
    "collapsed": false,
    "ExecuteTime": {
     "end_time": "2023-08-06T20:00:49.996319049Z",
     "start_time": "2023-08-06T20:00:49.897781351Z"
    }
   }
  },
  {
   "cell_type": "code",
   "execution_count": 29,
   "outputs": [],
   "source": [
    "# DateTime formatting.\n",
    "incs['opened_at'] = pd.to_datetime(incs['opened_at'])\n",
    "incs['opened_at_formatted'] = incs['opened_at'].dt.strftime('%Y-%m-%d')"
   ],
   "metadata": {
    "collapsed": false,
    "ExecuteTime": {
     "end_time": "2023-08-06T20:00:50.026703212Z",
     "start_time": "2023-08-06T20:00:50.001021967Z"
    }
   }
  },
  {
   "cell_type": "code",
   "execution_count": 30,
   "outputs": [
    {
     "name": "stdout",
     "output_type": "stream",
     "text": [
      "320374\n"
     ]
    }
   ],
   "source": [
    "# Join INCs to events on 1. Machine name, and 2. The event and the INC both occurred on the same day.\n",
    "incs_merged = machines_events.merge(incs, left_on=['Name0', 'CreatedSystemTime_CST_formatted'], right_on=['configuration_item', 'opened_at_formatted'], how='left')\n",
    "print(len(incs_merged))"
   ],
   "metadata": {
    "collapsed": false,
    "ExecuteTime": {
     "end_time": "2023-08-06T20:00:50.429919907Z",
     "start_time": "2023-08-06T20:00:50.039786720Z"
    }
   }
  },
  {
   "cell_type": "code",
   "execution_count": 31,
   "outputs": [],
   "source": [
    "# Drop columns with nothing in them.\n",
    "incs_merged.dropna(axis=1, how='all', inplace=True)"
   ],
   "metadata": {
    "collapsed": false,
    "ExecuteTime": {
     "end_time": "2023-08-06T20:00:53.733459282Z",
     "start_time": "2023-08-06T20:00:50.426886166Z"
    }
   }
  },
  {
   "cell_type": "code",
   "execution_count": 32,
   "outputs": [],
   "source": [
    "# msno.matrix(incs_merged, labels=True, fontsize=7)"
   ],
   "metadata": {
    "collapsed": false,
    "ExecuteTime": {
     "end_time": "2023-08-06T20:00:53.738909588Z",
     "start_time": "2023-08-06T20:00:53.734988091Z"
    }
   }
  },
  {
   "cell_type": "code",
   "execution_count": 33,
   "outputs": [
    {
     "name": "stdout",
     "output_type": "stream",
     "text": [
      "6104 INC rows originally\n",
      "Now 5134\n"
     ]
    }
   ],
   "source": [
    "# Should be many more. Why only still 4,000?\n",
    "print(len(incs), \"INC rows originally\")\n",
    "print(\"Now\", incs_merged['number'].notnull().sum())"
   ],
   "metadata": {
    "collapsed": false,
    "ExecuteTime": {
     "end_time": "2023-08-06T20:00:53.750118400Z",
     "start_time": "2023-08-06T20:00:53.744283742Z"
    }
   }
  },
  {
   "cell_type": "code",
   "execution_count": 34,
   "outputs": [
    {
     "data": {
      "text/plain": "       CreatedSystemTime_CST_formatted            CreatedSystemTime_CST  \\\n74                          2023-04-10 2023-04-10 08:28:18.740000-05:00   \n75                          2023-04-10 2023-04-10 15:23:56.900000-05:00   \n269500                      2023-04-10 2023-04-10 12:35:27.050000-05:00   \n\n                 opened_at opened_at_formatted         Name0  \\\n74     2023-04-10 11:20:00          2023-04-10  TIB-L-U32432   \n75     2023-04-10 11:20:00          2023-04-10  TIB-L-U32432   \n269500 2023-04-10 11:20:00          2023-04-10  TIB-L-U32432   \n\n       configuration_item      number                  short_description_NER  \n74           TIB-L-U32432  INC0515837  URGENT| Repeated Blue Screen of Death  \n75           TIB-L-U32432  INC0515837  URGENT| Repeated Blue Screen of Death  \n269500       TIB-L-U32432  INC0515837  URGENT| Repeated Blue Screen of Death  ",
      "text/html": "<div>\n<style scoped>\n    .dataframe tbody tr th:only-of-type {\n        vertical-align: middle;\n    }\n\n    .dataframe tbody tr th {\n        vertical-align: top;\n    }\n\n    .dataframe thead th {\n        text-align: right;\n    }\n</style>\n<table border=\"1\" class=\"dataframe\">\n  <thead>\n    <tr style=\"text-align: right;\">\n      <th></th>\n      <th>CreatedSystemTime_CST_formatted</th>\n      <th>CreatedSystemTime_CST</th>\n      <th>opened_at</th>\n      <th>opened_at_formatted</th>\n      <th>Name0</th>\n      <th>configuration_item</th>\n      <th>number</th>\n      <th>short_description_NER</th>\n    </tr>\n  </thead>\n  <tbody>\n    <tr>\n      <th>74</th>\n      <td>2023-04-10</td>\n      <td>2023-04-10 08:28:18.740000-05:00</td>\n      <td>2023-04-10 11:20:00</td>\n      <td>2023-04-10</td>\n      <td>TIB-L-U32432</td>\n      <td>TIB-L-U32432</td>\n      <td>INC0515837</td>\n      <td>URGENT| Repeated Blue Screen of Death</td>\n    </tr>\n    <tr>\n      <th>75</th>\n      <td>2023-04-10</td>\n      <td>2023-04-10 15:23:56.900000-05:00</td>\n      <td>2023-04-10 11:20:00</td>\n      <td>2023-04-10</td>\n      <td>TIB-L-U32432</td>\n      <td>TIB-L-U32432</td>\n      <td>INC0515837</td>\n      <td>URGENT| Repeated Blue Screen of Death</td>\n    </tr>\n    <tr>\n      <th>269500</th>\n      <td>2023-04-10</td>\n      <td>2023-04-10 12:35:27.050000-05:00</td>\n      <td>2023-04-10 11:20:00</td>\n      <td>2023-04-10</td>\n      <td>TIB-L-U32432</td>\n      <td>TIB-L-U32432</td>\n      <td>INC0515837</td>\n      <td>URGENT| Repeated Blue Screen of Death</td>\n    </tr>\n  </tbody>\n</table>\n</div>"
     },
     "execution_count": 34,
     "metadata": {},
     "output_type": "execute_result"
    }
   ],
   "source": [
    "# INCs w/ multiple events assc. may attribute the event to the INC\n",
    "# despite the event occurring *after* the INC was already filed.\n",
    "incs_merged[incs_merged['number'] == 'INC0515837'][[\n",
    "    'CreatedSystemTime_CST_formatted',\n",
    "    'CreatedSystemTime_CST',\n",
    "    'opened_at',\n",
    "    'opened_at_formatted',\n",
    "    'Name0',\n",
    "    'configuration_item',\n",
    "    'number',\n",
    "    # 'FaultingApplicationName',\n",
    "    # 'FaultingModuleName',\n",
    "    'short_description_NER'\n",
    "]]"
   ],
   "metadata": {
    "collapsed": false,
    "ExecuteTime": {
     "end_time": "2023-08-06T20:00:53.831373305Z",
     "start_time": "2023-08-06T20:00:53.747068762Z"
    }
   }
  },
  {
   "cell_type": "code",
   "execution_count": 35,
   "outputs": [],
   "source": [
    "incs_merged['opened_at_utc'] = incs_merged['opened_at'].dt.tz_localize('UTC')"
   ],
   "metadata": {
    "collapsed": false,
    "ExecuteTime": {
     "end_time": "2023-08-06T20:00:53.832025597Z",
     "start_time": "2023-08-06T20:00:53.762434257Z"
    }
   }
  },
  {
   "cell_type": "code",
   "execution_count": 36,
   "outputs": [
    {
     "name": "stdout",
     "output_type": "stream",
     "text": [
      "2023-04-10 08:28:18.740000-05:00\n",
      "2023-04-10 11:20:00+00:00\n",
      "0 days 02:08:18.740000\n"
     ]
    }
   ],
   "source": [
    "print(incs_merged.loc[74, 'CreatedSystemTime_CST'])\n",
    "print(incs_merged.loc[74, 'opened_at_utc'])\n",
    "print(incs_merged.loc[74, 'CreatedSystemTime_CST'] - incs_merged.loc[74, 'opened_at_utc'])\n",
    "# This event happened after the INC was filed, at 13:28 UTC:"
   ],
   "metadata": {
    "collapsed": false,
    "ExecuteTime": {
     "end_time": "2023-08-06T20:00:53.832233003Z",
     "start_time": "2023-08-06T20:00:53.804960824Z"
    }
   }
  },
  {
   "cell_type": "code",
   "execution_count": 37,
   "outputs": [
    {
     "data": {
      "text/plain": "                  CreatedSystemTime_CST           opened_at      number\n502    2023-04-10 07:47:01.750000-05:00 2023-04-10 20:43:00  INC0516099\n570    2023-04-10 07:29:33.643000-05:00 2023-04-10 17:39:00  INC0516019\n571    2023-04-10 07:51:04.520000-05:00 2023-04-10 17:39:00  INC0516019\n572    2023-04-10 10:59:19.490000-05:00 2023-04-10 17:39:00  INC0516019\n635    2023-04-11 05:04:46.600000-05:00 2023-04-11 17:45:00  INC0516374\n...                                 ...                 ...         ...\n320201 2023-04-11 10:27:57.903000-05:00 2023-04-11 15:52:00  INC0516309\n320202 2023-04-11 10:28:02.510000-05:00 2023-04-11 15:52:00  INC0516309\n320346 2023-04-13 04:29:30.073000-05:00 2023-04-13 11:37:00  INC0516805\n320347 2023-04-13 05:25:58.367000-05:00 2023-04-13 11:37:00  INC0516805\n320348 2023-04-13 05:26:29.357000-05:00 2023-04-13 11:37:00  INC0516805\n\n[2933 rows x 3 columns]",
      "text/html": "<div>\n<style scoped>\n    .dataframe tbody tr th:only-of-type {\n        vertical-align: middle;\n    }\n\n    .dataframe tbody tr th {\n        vertical-align: top;\n    }\n\n    .dataframe thead th {\n        text-align: right;\n    }\n</style>\n<table border=\"1\" class=\"dataframe\">\n  <thead>\n    <tr style=\"text-align: right;\">\n      <th></th>\n      <th>CreatedSystemTime_CST</th>\n      <th>opened_at</th>\n      <th>number</th>\n    </tr>\n  </thead>\n  <tbody>\n    <tr>\n      <th>502</th>\n      <td>2023-04-10 07:47:01.750000-05:00</td>\n      <td>2023-04-10 20:43:00</td>\n      <td>INC0516099</td>\n    </tr>\n    <tr>\n      <th>570</th>\n      <td>2023-04-10 07:29:33.643000-05:00</td>\n      <td>2023-04-10 17:39:00</td>\n      <td>INC0516019</td>\n    </tr>\n    <tr>\n      <th>571</th>\n      <td>2023-04-10 07:51:04.520000-05:00</td>\n      <td>2023-04-10 17:39:00</td>\n      <td>INC0516019</td>\n    </tr>\n    <tr>\n      <th>572</th>\n      <td>2023-04-10 10:59:19.490000-05:00</td>\n      <td>2023-04-10 17:39:00</td>\n      <td>INC0516019</td>\n    </tr>\n    <tr>\n      <th>635</th>\n      <td>2023-04-11 05:04:46.600000-05:00</td>\n      <td>2023-04-11 17:45:00</td>\n      <td>INC0516374</td>\n    </tr>\n    <tr>\n      <th>...</th>\n      <td>...</td>\n      <td>...</td>\n      <td>...</td>\n    </tr>\n    <tr>\n      <th>320201</th>\n      <td>2023-04-11 10:27:57.903000-05:00</td>\n      <td>2023-04-11 15:52:00</td>\n      <td>INC0516309</td>\n    </tr>\n    <tr>\n      <th>320202</th>\n      <td>2023-04-11 10:28:02.510000-05:00</td>\n      <td>2023-04-11 15:52:00</td>\n      <td>INC0516309</td>\n    </tr>\n    <tr>\n      <th>320346</th>\n      <td>2023-04-13 04:29:30.073000-05:00</td>\n      <td>2023-04-13 11:37:00</td>\n      <td>INC0516805</td>\n    </tr>\n    <tr>\n      <th>320347</th>\n      <td>2023-04-13 05:25:58.367000-05:00</td>\n      <td>2023-04-13 11:37:00</td>\n      <td>INC0516805</td>\n    </tr>\n    <tr>\n      <th>320348</th>\n      <td>2023-04-13 05:26:29.357000-05:00</td>\n      <td>2023-04-13 11:37:00</td>\n      <td>INC0516805</td>\n    </tr>\n  </tbody>\n</table>\n<p>2933 rows × 3 columns</p>\n</div>"
     },
     "execution_count": 37,
     "metadata": {},
     "output_type": "execute_result"
    }
   ],
   "source": [
    "# Delete INCs across rows when the event occurs before the INC on the same day.\n",
    "mask = incs_merged['CreatedSystemTime_CST'] >= incs_merged['opened_at_utc']\n",
    "columns_to_set_none = incs.columns\n",
    "incs_merged.loc[mask, columns_to_set_none] = None\n",
    "\n",
    "# Looks like no 'CreatedSystemTime_CST value is > 'opened_at'.\n",
    "incs_merged[incs_merged['number'].notnull()][['CreatedSystemTime_CST', 'opened_at', 'number']]"
   ],
   "metadata": {
    "collapsed": false,
    "ExecuteTime": {
     "end_time": "2023-08-06T20:00:54.353284739Z",
     "start_time": "2023-08-06T20:00:53.805067716Z"
    }
   }
  },
  {
   "cell_type": "code",
   "execution_count": 38,
   "outputs": [
    {
     "data": {
      "text/plain": "74         0 days 02:08:18.740000\n75         0 days 09:03:56.900000\n502      -1 days +16:04:01.750000\n570      -1 days +18:50:33.643000\n571      -1 days +19:12:04.520000\n                   ...           \n320202   -1 days +23:36:02.510000\n320346   -1 days +21:52:30.073000\n320347   -1 days +22:48:58.367000\n320348   -1 days +22:49:29.357000\n320349     0 days 00:47:37.237000\nLength: 5134, dtype: timedelta64[ns]"
     },
     "execution_count": 38,
     "metadata": {},
     "output_type": "execute_result"
    }
   ],
   "source": [
    "# Check to make sure. Positive = delete. Negative = keep.\n",
    "(incs_merged['CreatedSystemTime_CST'] - incs_merged['opened_at_utc']).dropna()"
   ],
   "metadata": {
    "collapsed": false,
    "ExecuteTime": {
     "end_time": "2023-08-06T20:00:54.429615368Z",
     "start_time": "2023-08-06T20:00:54.353099914Z"
    }
   }
  },
  {
   "cell_type": "code",
   "execution_count": 39,
   "outputs": [
    {
     "data": {
      "text/plain": "CreatedSystemTime_CST    2023-04-10 07:47:01.750000-05:00\nopened_at_utc                   2023-04-10 20:43:00+00:00\nName: 502, dtype: object"
     },
     "execution_count": 39,
     "metadata": {},
     "output_type": "execute_result"
    }
   ],
   "source": [
    "# Timedelta of -1 days (24h) + 16:04 = 8h 04m difference in true time.\n",
    "incs_merged.loc[502, ['CreatedSystemTime_CST', 'opened_at_utc']]"
   ],
   "metadata": {
    "collapsed": false,
    "ExecuteTime": {
     "end_time": "2023-08-06T20:00:54.429886838Z",
     "start_time": "2023-08-06T20:00:54.402146047Z"
    }
   }
  },
  {
   "cell_type": "markdown",
   "source": [
    "\n",
    "# Join machines and boot events with INCs separately.\n"
   ],
   "metadata": {
    "collapsed": false
   }
  },
  {
   "cell_type": "code",
   "execution_count": 40,
   "outputs": [],
   "source": [
    "incs_boot = machines_boot.merge(incs, left_on=['Name0', 'BootID_formatted'], right_on=['configuration_item', 'opened_at_formatted'], how='left')"
   ],
   "metadata": {
    "collapsed": false,
    "ExecuteTime": {
     "end_time": "2023-08-06T20:00:55.724657151Z",
     "start_time": "2023-08-06T20:00:54.442559852Z"
    }
   }
  },
  {
   "cell_type": "code",
   "execution_count": 41,
   "outputs": [
    {
     "name": "stdout",
     "output_type": "stream",
     "text": [
      "7154 Boot INCs\n"
     ]
    }
   ],
   "source": [
    "print(incs_boot['number'].notnull().sum(), \"Boot INCs\")"
   ],
   "metadata": {
    "collapsed": false,
    "ExecuteTime": {
     "end_time": "2023-08-06T20:00:55.772600371Z",
     "start_time": "2023-08-06T20:00:55.754054199Z"
    }
   }
  },
  {
   "cell_type": "code",
   "execution_count": 42,
   "outputs": [],
   "source": [
    "# Dropping columns with nothing in them.\n",
    "incs_boot.dropna(axis=1, how='all', inplace=True)"
   ],
   "metadata": {
    "collapsed": false,
    "ExecuteTime": {
     "end_time": "2023-08-06T20:01:07.995302027Z",
     "start_time": "2023-08-06T20:00:55.798616113Z"
    }
   }
  },
  {
   "cell_type": "code",
   "execution_count": 43,
   "outputs": [
    {
     "name": "stdout",
     "output_type": "stream",
     "text": [
      "0\n"
     ]
    },
    {
     "data": {
      "text/plain": "Series([], dtype: int64)"
     },
     "execution_count": 43,
     "metadata": {},
     "output_type": "execute_result"
    }
   ],
   "source": [
    "# How many multiple INCs were filed on the same day for a given machine?\n",
    "grouped_counts = incs.groupby(['opened_at_formatted', 'configuration_item']).size()\n",
    "print(grouped_counts[grouped_counts > 1].sum())\n",
    "grouped_counts[grouped_counts > 1]"
   ],
   "metadata": {
    "collapsed": false,
    "ExecuteTime": {
     "end_time": "2023-08-06T20:01:08.046195181Z",
     "start_time": "2023-08-06T20:01:08.038643775Z"
    }
   }
  },
  {
   "cell_type": "code",
   "execution_count": 44,
   "outputs": [
    {
     "data": {
      "text/plain": "         RWB_EVENTBOOTRESULT_ID  RWB_ETL_EVENT_DESTINATION_IDENTIFIER  \\\n86                       949656                                  1251   \n87                       949657                                  1251   \n88                       949659                                  1251   \n89                       949655                                  1251   \n90                       949660                                  1251   \n...                         ...                                   ...   \n1527830                 1691933                                 10903   \n1527834                 1691938                                 10903   \n1527835                 1691939                                 10903   \n1528126                 1692269                                 10903   \n1528127                 1692270                                 10903   \n\n               RWB_CREATE_TIMESTAMP RWB_EFFECTIVE_DATE                 ID  \\\n86       2023-02-01 09:02:13 -06:00         2023-02-01  72057594043080687   \n87       2023-02-01 09:02:13 -06:00         2023-02-01  72057594043080688   \n88       2023-02-01 09:02:13 -06:00         2023-02-01  72057594043080690   \n89       2023-02-01 09:02:13 -06:00         2023-02-01  72057594043080686   \n90       2023-02-01 09:02:13 -06:00         2023-02-01  72057594043080691   \n...                             ...                ...                ...   \n1527830  2023-07-04 08:35:26 -05:00         2023-07-04  72057594043849976   \n1527834  2023-07-04 08:35:26 -05:00         2023-07-04  72057594043849981   \n1527835  2023-07-04 08:35:26 -05:00         2023-07-04  72057594043849982   \n1528126  2023-07-04 08:35:26 -05:00         2023-07-04  72057594043850312   \n1528127  2023-07-04 08:35:26 -05:00         2023-07-04  72057594043850313   \n\n         EventListID  ClientItemKey           GeneratedTime  \\\n86                 3       16792948 2023-02-01 09:22:37.737   \n87                 3       16792948 2023-02-01 09:22:37.737   \n88                 3       16792948 2023-02-01 09:22:37.737   \n89                 3       16792948 2023-02-01 09:22:37.737   \n90                 3       16792948 2023-02-01 09:22:37.737   \n...              ...            ...                     ...   \n1527830            3       16809497 2023-07-04 09:13:57.197   \n1527834            3       16811719 2023-07-04 09:14:59.450   \n1527835            3       16811719 2023-07-04 09:14:59.450   \n1528126            3       16813708 2023-07-04 11:57:56.087   \n1528127            3       16813708 2023-07-04 11:57:56.087   \n\n         UpdateDurationInMilliseconds  GPDurationInMilliseconds  ...  \\\n86                                  0                         0  ...   \n87                                  0                         0  ...   \n88                                  0                         0  ...   \n89                                  0                     13514  ...   \n90                                  0                     11379  ...   \n...                               ...                       ...  ...   \n1527830                             0                     17795  ...   \n1527834                             0                     13923  ...   \n1527835                             0                     15521  ...   \n1528126                             0                     16158  ...   \n1528127                             0                     15772  ...   \n\n         is_server                              short_description_NER  \\\n86             0.0                       pc not connecting to network   \n87             0.0                       pc not connecting to network   \n88             0.0                       pc not connecting to network   \n89             0.0                       pc not connecting to network   \n90             0.0                       pc not connecting to network   \n...            ...                                                ...   \n1527830        0.0    Thomson One / Start menu unresponsive in Citrix   \n1527834        0.0                              AD account locked out   \n1527835        0.0                              AD account locked out   \n1528126        0.0  User is stating that her entitlements are inco...   \n1528127        0.0  User is stating that her entitlements are inco...   \n\n        configuration_item  calling_user_id  opened_at_date  \\\n86            ASH-D-U25377           1521.0      2023-01-31   \n87            ASH-D-U25377           1521.0      2023-01-31   \n88            ASH-D-U25377           1521.0      2023-01-31   \n89            ASH-D-U25377           1521.0      2023-01-31   \n90            ASH-D-U25377           1521.0      2023-01-31   \n...                    ...              ...             ...   \n1527830       ECL-L-U32327           1456.0      2023-07-03   \n1527834       PIT-L-U33237          13468.0      2023-07-03   \n1527835       PIT-L-U33237          13468.0      2023-07-03   \n1528126       HDV-L-U33839          10020.0      2023-07-03   \n1528127       HDV-L-U33839          10020.0      2023-07-03   \n\n         machine_user_test  opened_at_formatted count  dup group_index_orig  \n86            ASH-D-U25377           2023-01-31   1.0  0.0           1018.0  \n87            ASH-D-U25377           2023-01-31   1.0  0.0           1018.0  \n88            ASH-D-U25377           2023-01-31   1.0  0.0           1018.0  \n89            ASH-D-U25377           2023-01-31   1.0  0.0           1018.0  \n90            ASH-D-U25377           2023-01-31   1.0  0.0           1018.0  \n...                    ...                  ...   ...  ...              ...  \n1527830       ECL-L-U32327           2023-07-03   1.0  0.0           5907.0  \n1527834       PIT-L-U33237           2023-07-03   1.0  0.0           5925.0  \n1527835       PIT-L-U33237           2023-07-03   1.0  0.0           5925.0  \n1528126       HDV-L-U33839           2023-07-03   1.0  0.0           5910.0  \n1528127       HDV-L-U33839           2023-07-03   1.0  0.0           5910.0  \n\n[7154 rows x 124 columns]",
      "text/html": "<div>\n<style scoped>\n    .dataframe tbody tr th:only-of-type {\n        vertical-align: middle;\n    }\n\n    .dataframe tbody tr th {\n        vertical-align: top;\n    }\n\n    .dataframe thead th {\n        text-align: right;\n    }\n</style>\n<table border=\"1\" class=\"dataframe\">\n  <thead>\n    <tr style=\"text-align: right;\">\n      <th></th>\n      <th>RWB_EVENTBOOTRESULT_ID</th>\n      <th>RWB_ETL_EVENT_DESTINATION_IDENTIFIER</th>\n      <th>RWB_CREATE_TIMESTAMP</th>\n      <th>RWB_EFFECTIVE_DATE</th>\n      <th>ID</th>\n      <th>EventListID</th>\n      <th>ClientItemKey</th>\n      <th>GeneratedTime</th>\n      <th>UpdateDurationInMilliseconds</th>\n      <th>GPDurationInMilliseconds</th>\n      <th>...</th>\n      <th>is_server</th>\n      <th>short_description_NER</th>\n      <th>configuration_item</th>\n      <th>calling_user_id</th>\n      <th>opened_at_date</th>\n      <th>machine_user_test</th>\n      <th>opened_at_formatted</th>\n      <th>count</th>\n      <th>dup</th>\n      <th>group_index_orig</th>\n    </tr>\n  </thead>\n  <tbody>\n    <tr>\n      <th>86</th>\n      <td>949656</td>\n      <td>1251</td>\n      <td>2023-02-01 09:02:13 -06:00</td>\n      <td>2023-02-01</td>\n      <td>72057594043080687</td>\n      <td>3</td>\n      <td>16792948</td>\n      <td>2023-02-01 09:22:37.737</td>\n      <td>0</td>\n      <td>0</td>\n      <td>...</td>\n      <td>0.0</td>\n      <td>pc not connecting to network</td>\n      <td>ASH-D-U25377</td>\n      <td>1521.0</td>\n      <td>2023-01-31</td>\n      <td>ASH-D-U25377</td>\n      <td>2023-01-31</td>\n      <td>1.0</td>\n      <td>0.0</td>\n      <td>1018.0</td>\n    </tr>\n    <tr>\n      <th>87</th>\n      <td>949657</td>\n      <td>1251</td>\n      <td>2023-02-01 09:02:13 -06:00</td>\n      <td>2023-02-01</td>\n      <td>72057594043080688</td>\n      <td>3</td>\n      <td>16792948</td>\n      <td>2023-02-01 09:22:37.737</td>\n      <td>0</td>\n      <td>0</td>\n      <td>...</td>\n      <td>0.0</td>\n      <td>pc not connecting to network</td>\n      <td>ASH-D-U25377</td>\n      <td>1521.0</td>\n      <td>2023-01-31</td>\n      <td>ASH-D-U25377</td>\n      <td>2023-01-31</td>\n      <td>1.0</td>\n      <td>0.0</td>\n      <td>1018.0</td>\n    </tr>\n    <tr>\n      <th>88</th>\n      <td>949659</td>\n      <td>1251</td>\n      <td>2023-02-01 09:02:13 -06:00</td>\n      <td>2023-02-01</td>\n      <td>72057594043080690</td>\n      <td>3</td>\n      <td>16792948</td>\n      <td>2023-02-01 09:22:37.737</td>\n      <td>0</td>\n      <td>0</td>\n      <td>...</td>\n      <td>0.0</td>\n      <td>pc not connecting to network</td>\n      <td>ASH-D-U25377</td>\n      <td>1521.0</td>\n      <td>2023-01-31</td>\n      <td>ASH-D-U25377</td>\n      <td>2023-01-31</td>\n      <td>1.0</td>\n      <td>0.0</td>\n      <td>1018.0</td>\n    </tr>\n    <tr>\n      <th>89</th>\n      <td>949655</td>\n      <td>1251</td>\n      <td>2023-02-01 09:02:13 -06:00</td>\n      <td>2023-02-01</td>\n      <td>72057594043080686</td>\n      <td>3</td>\n      <td>16792948</td>\n      <td>2023-02-01 09:22:37.737</td>\n      <td>0</td>\n      <td>13514</td>\n      <td>...</td>\n      <td>0.0</td>\n      <td>pc not connecting to network</td>\n      <td>ASH-D-U25377</td>\n      <td>1521.0</td>\n      <td>2023-01-31</td>\n      <td>ASH-D-U25377</td>\n      <td>2023-01-31</td>\n      <td>1.0</td>\n      <td>0.0</td>\n      <td>1018.0</td>\n    </tr>\n    <tr>\n      <th>90</th>\n      <td>949660</td>\n      <td>1251</td>\n      <td>2023-02-01 09:02:13 -06:00</td>\n      <td>2023-02-01</td>\n      <td>72057594043080691</td>\n      <td>3</td>\n      <td>16792948</td>\n      <td>2023-02-01 09:22:37.737</td>\n      <td>0</td>\n      <td>11379</td>\n      <td>...</td>\n      <td>0.0</td>\n      <td>pc not connecting to network</td>\n      <td>ASH-D-U25377</td>\n      <td>1521.0</td>\n      <td>2023-01-31</td>\n      <td>ASH-D-U25377</td>\n      <td>2023-01-31</td>\n      <td>1.0</td>\n      <td>0.0</td>\n      <td>1018.0</td>\n    </tr>\n    <tr>\n      <th>...</th>\n      <td>...</td>\n      <td>...</td>\n      <td>...</td>\n      <td>...</td>\n      <td>...</td>\n      <td>...</td>\n      <td>...</td>\n      <td>...</td>\n      <td>...</td>\n      <td>...</td>\n      <td>...</td>\n      <td>...</td>\n      <td>...</td>\n      <td>...</td>\n      <td>...</td>\n      <td>...</td>\n      <td>...</td>\n      <td>...</td>\n      <td>...</td>\n      <td>...</td>\n      <td>...</td>\n    </tr>\n    <tr>\n      <th>1527830</th>\n      <td>1691933</td>\n      <td>10903</td>\n      <td>2023-07-04 08:35:26 -05:00</td>\n      <td>2023-07-04</td>\n      <td>72057594043849976</td>\n      <td>3</td>\n      <td>16809497</td>\n      <td>2023-07-04 09:13:57.197</td>\n      <td>0</td>\n      <td>17795</td>\n      <td>...</td>\n      <td>0.0</td>\n      <td>Thomson One / Start menu unresponsive in Citrix</td>\n      <td>ECL-L-U32327</td>\n      <td>1456.0</td>\n      <td>2023-07-03</td>\n      <td>ECL-L-U32327</td>\n      <td>2023-07-03</td>\n      <td>1.0</td>\n      <td>0.0</td>\n      <td>5907.0</td>\n    </tr>\n    <tr>\n      <th>1527834</th>\n      <td>1691938</td>\n      <td>10903</td>\n      <td>2023-07-04 08:35:26 -05:00</td>\n      <td>2023-07-04</td>\n      <td>72057594043849981</td>\n      <td>3</td>\n      <td>16811719</td>\n      <td>2023-07-04 09:14:59.450</td>\n      <td>0</td>\n      <td>13923</td>\n      <td>...</td>\n      <td>0.0</td>\n      <td>AD account locked out</td>\n      <td>PIT-L-U33237</td>\n      <td>13468.0</td>\n      <td>2023-07-03</td>\n      <td>PIT-L-U33237</td>\n      <td>2023-07-03</td>\n      <td>1.0</td>\n      <td>0.0</td>\n      <td>5925.0</td>\n    </tr>\n    <tr>\n      <th>1527835</th>\n      <td>1691939</td>\n      <td>10903</td>\n      <td>2023-07-04 08:35:26 -05:00</td>\n      <td>2023-07-04</td>\n      <td>72057594043849982</td>\n      <td>3</td>\n      <td>16811719</td>\n      <td>2023-07-04 09:14:59.450</td>\n      <td>0</td>\n      <td>15521</td>\n      <td>...</td>\n      <td>0.0</td>\n      <td>AD account locked out</td>\n      <td>PIT-L-U33237</td>\n      <td>13468.0</td>\n      <td>2023-07-03</td>\n      <td>PIT-L-U33237</td>\n      <td>2023-07-03</td>\n      <td>1.0</td>\n      <td>0.0</td>\n      <td>5925.0</td>\n    </tr>\n    <tr>\n      <th>1528126</th>\n      <td>1692269</td>\n      <td>10903</td>\n      <td>2023-07-04 08:35:26 -05:00</td>\n      <td>2023-07-04</td>\n      <td>72057594043850312</td>\n      <td>3</td>\n      <td>16813708</td>\n      <td>2023-07-04 11:57:56.087</td>\n      <td>0</td>\n      <td>16158</td>\n      <td>...</td>\n      <td>0.0</td>\n      <td>User is stating that her entitlements are inco...</td>\n      <td>HDV-L-U33839</td>\n      <td>10020.0</td>\n      <td>2023-07-03</td>\n      <td>HDV-L-U33839</td>\n      <td>2023-07-03</td>\n      <td>1.0</td>\n      <td>0.0</td>\n      <td>5910.0</td>\n    </tr>\n    <tr>\n      <th>1528127</th>\n      <td>1692270</td>\n      <td>10903</td>\n      <td>2023-07-04 08:35:26 -05:00</td>\n      <td>2023-07-04</td>\n      <td>72057594043850313</td>\n      <td>3</td>\n      <td>16813708</td>\n      <td>2023-07-04 11:57:56.087</td>\n      <td>0</td>\n      <td>15772</td>\n      <td>...</td>\n      <td>0.0</td>\n      <td>User is stating that her entitlements are inco...</td>\n      <td>HDV-L-U33839</td>\n      <td>10020.0</td>\n      <td>2023-07-03</td>\n      <td>HDV-L-U33839</td>\n      <td>2023-07-03</td>\n      <td>1.0</td>\n      <td>0.0</td>\n      <td>5910.0</td>\n    </tr>\n  </tbody>\n</table>\n<p>7154 rows × 124 columns</p>\n</div>"
     },
     "execution_count": 44,
     "metadata": {},
     "output_type": "execute_result"
    }
   ],
   "source": [
    "incs_boot[incs_boot['number'].notnull()]"
   ],
   "metadata": {
    "collapsed": false
   }
  },
  {
   "cell_type": "markdown",
   "source": [
    "\n",
    "# Bring machines, events, and INCs together for both regular events and Boot events.\n"
   ],
   "metadata": {
    "collapsed": false
   }
  },
  {
   "cell_type": "code",
   "execution_count": 45,
   "outputs": [],
   "source": [
    "df = pd.concat([incs_merged, incs_boot])\n",
    "df.reset_index(inplace=True)\n",
    "\n",
    "# Dropping columns with nothing in them.\n",
    "df.dropna(axis=1, how='all', inplace=True)\n",
    "\n",
    "# Drop all data for May 20th, 2023.\n",
    "df = df[df['RWB_EFFECTIVE_DATE'] != '2023-05-20']"
   ],
   "metadata": {
    "collapsed": false,
    "ExecuteTime": {
     "end_time": "2023-08-06T20:01:31.407881268Z",
     "start_time": "2023-08-06T20:01:08.080366875Z"
    }
   }
  },
  {
   "cell_type": "code",
   "execution_count": 46,
   "outputs": [
    {
     "data": {
      "text/plain": "<AxesSubplot:>"
     },
     "execution_count": 46,
     "metadata": {},
     "output_type": "execute_result"
    },
    {
     "data": {
      "text/plain": "<Figure size 432x288 with 1 Axes>",
      "image/png": "[encoded data removed]"
     },
     "metadata": {
      "needs_background": "light"
     },
     "output_type": "display_data"
    }
   ],
   "source": [
    "df['error_type'].hist()"
   ],
   "metadata": {
    "collapsed": false,
    "ExecuteTime": {
     "end_time": "2023-08-06T20:01:31.868113772Z",
     "start_time": "2023-08-06T20:01:31.408861110Z"
    }
   }
  },
  {
   "cell_type": "code",
   "execution_count": 47,
   "outputs": [
    {
     "name": "stdout",
     "output_type": "stream",
     "text": [
      "(1835089, 173)\n"
     ]
    },
    {
     "data": {
      "text/plain": "level_0                                   int64\nindex                                   float64\nRWB_EVENTRAWRESULTITEM_ID               float64\nRWB_ETL_EVENT_DESTINATION_IDENTIFIER      int64\nRWB_CREATE_TIMESTAMP                     object\n                                         ...   \nMachineName                              object\nReason                                   object\nparam5                                   object\nActionDescription                        object\nBootID_formatted                         object\nLength: 173, dtype: object"
     },
     "execution_count": 47,
     "metadata": {},
     "output_type": "execute_result"
    }
   ],
   "source": [
    "print(df.shape)\n",
    "df.dtypes"
   ],
   "metadata": {
    "collapsed": false,
    "ExecuteTime": {
     "end_time": "2023-08-06T20:01:31.872441330Z",
     "start_time": "2023-08-06T20:01:31.870012410Z"
    }
   }
  },
  {
   "cell_type": "code",
   "execution_count": 48,
   "outputs": [],
   "source": [
    "# How many boot events occurred after an INC was filed?\n",
    "# df[df['error_type'] == 'Boot']['BootID'] - df[df['error_type'] == 'Boot']['opened_at_utc']"
   ],
   "metadata": {
    "collapsed": false,
    "ExecuteTime": {
     "end_time": "2023-08-06T20:01:31.876220542Z",
     "start_time": "2023-08-06T20:01:31.873420517Z"
    }
   }
  },
  {
   "cell_type": "markdown",
   "source": [
    "\n",
    "# Create 'num_events' feature.\n"
   ],
   "metadata": {
    "collapsed": false
   }
  },
  {
   "cell_type": "code",
   "execution_count": 57,
   "outputs": [
    {
     "data": {
      "text/plain": "True"
     },
     "execution_count": 57,
     "metadata": {},
     "output_type": "execute_result"
    }
   ],
   "source": [
    "'CreatedSystemTime_CST_formatted' in list(df.columns)"
   ],
   "metadata": {
    "collapsed": false,
    "ExecuteTime": {
     "end_time": "2023-08-06T20:02:46.238706015Z",
     "start_time": "2023-08-06T20:02:46.223528028Z"
    }
   }
  },
  {
   "cell_type": "code",
   "execution_count": 76,
   "outputs": [
    {
     "data": {
      "text/plain": "<DatetimeArray>\n['NaT']\nLength: 1, dtype: datetime64[ns, America/Chicago]"
     },
     "execution_count": 76,
     "metadata": {},
     "output_type": "execute_result"
    }
   ],
   "source": [
    "# Because 'TimeCreatedSystemTime' never exists in 'df_boot',\n",
    "# 'CreatedSystemTime_CST_formatted' will always be pd.NaT for Boot events,\n",
    "# because it is unique to the regular events only.\n",
    "df[df['error_type'] == 'Boot']['CreatedSystemTime_CST'].unique()"
   ],
   "metadata": {
    "collapsed": false,
    "ExecuteTime": {
     "end_time": "2023-08-06T20:23:36.362067582Z",
     "start_time": "2023-08-06T20:23:34.779380774Z"
    }
   }
  },
  {
   "cell_type": "code",
   "execution_count": 74,
   "outputs": [
    {
     "data": {
      "text/plain": "        ClientItemKey CreatedSystemTime_CST_formatted  events\n0            16783564                      2023-03-13       1\n1            16783564                      2023-04-03       2\n2            16783835                      2023-01-10       1\n3            16783835                      2023-01-20       1\n4            16783835                      2023-02-10       1\n...               ...                             ...     ...\n188461       16819018                      2023-05-15       1\n188462       16819018                      2023-06-28       1\n188463       16819018                      2023-06-30       3\n188464       16819021                      2023-06-30       1\n188465       16819028                      2023-07-03       1\n\n[188466 rows x 3 columns]",
      "text/html": "<div>\n<style scoped>\n    .dataframe tbody tr th:only-of-type {\n        vertical-align: middle;\n    }\n\n    .dataframe tbody tr th {\n        vertical-align: top;\n    }\n\n    .dataframe thead th {\n        text-align: right;\n    }\n</style>\n<table border=\"1\" class=\"dataframe\">\n  <thead>\n    <tr style=\"text-align: right;\">\n      <th></th>\n      <th>ClientItemKey</th>\n      <th>CreatedSystemTime_CST_formatted</th>\n      <th>events</th>\n    </tr>\n  </thead>\n  <tbody>\n    <tr>\n      <th>0</th>\n      <td>16783564</td>\n      <td>2023-03-13</td>\n      <td>1</td>\n    </tr>\n    <tr>\n      <th>1</th>\n      <td>16783564</td>\n      <td>2023-04-03</td>\n      <td>2</td>\n    </tr>\n    <tr>\n      <th>2</th>\n      <td>16783835</td>\n      <td>2023-01-10</td>\n      <td>1</td>\n    </tr>\n    <tr>\n      <th>3</th>\n      <td>16783835</td>\n      <td>2023-01-20</td>\n      <td>1</td>\n    </tr>\n    <tr>\n      <th>4</th>\n      <td>16783835</td>\n      <td>2023-02-10</td>\n      <td>1</td>\n    </tr>\n    <tr>\n      <th>...</th>\n      <td>...</td>\n      <td>...</td>\n      <td>...</td>\n    </tr>\n    <tr>\n      <th>188461</th>\n      <td>16819018</td>\n      <td>2023-05-15</td>\n      <td>1</td>\n    </tr>\n    <tr>\n      <th>188462</th>\n      <td>16819018</td>\n      <td>2023-06-28</td>\n      <td>1</td>\n    </tr>\n    <tr>\n      <th>188463</th>\n      <td>16819018</td>\n      <td>2023-06-30</td>\n      <td>3</td>\n    </tr>\n    <tr>\n      <th>188464</th>\n      <td>16819021</td>\n      <td>2023-06-30</td>\n      <td>1</td>\n    </tr>\n    <tr>\n      <th>188465</th>\n      <td>16819028</td>\n      <td>2023-07-03</td>\n      <td>1</td>\n    </tr>\n  </tbody>\n</table>\n<p>188466 rows × 3 columns</p>\n</div>"
     },
     "execution_count": 74,
     "metadata": {},
     "output_type": "execute_result"
    }
   ],
   "source": [
    "# Create the events feature by grouping by ClientItemKey and the TimeCreatedSystemTime CST date column,\n",
    "# and get the count of events for each machine each day.\n",
    "# Boot events excluded by default on basis of the .groupby() columns.\n",
    "\n",
    "# num_events = df.groupby(['RWB_EFFECTIVE_DATE', 'ClientItemKey']).agg('size').reset_index().rename(columns={0:'events'})\n",
    "num_events = df.groupby(['ClientItemKey', 'CreatedSystemTime_CST_formatted']).agg('size').reset_index().rename(columns={0:'events'})\n",
    "num_events"
   ],
   "metadata": {
    "collapsed": false,
    "ExecuteTime": {
     "end_time": "2023-08-06T20:22:22.061029145Z",
     "start_time": "2023-08-06T20:22:21.893121973Z"
    }
   }
  },
  {
   "cell_type": "code",
   "execution_count": 66,
   "outputs": [
    {
     "data": {
      "text/plain": "<AxesSubplot:>"
     },
     "execution_count": 66,
     "metadata": {},
     "output_type": "execute_result"
    },
    {
     "data": {
      "text/plain": "<Figure size 432x288 with 1 Axes>",
      "image/png": "[encoded data removed]"
     },
     "metadata": {
      "needs_background": "light"
     },
     "output_type": "display_data"
    }
   ],
   "source": [
    "num_events['events'].hist(bins=30)"
   ],
   "metadata": {
    "collapsed": false,
    "ExecuteTime": {
     "end_time": "2023-08-06T20:14:36.261665674Z",
     "start_time": "2023-08-06T20:14:36.130875373Z"
    }
   }
  },
  {
   "cell_type": "code",
   "execution_count": 60,
   "outputs": [],
   "source": [
    "check_this_df = pd.read_parquet('../do_not_commit/Datasets/num_events.pq')\n",
    "check_this_df"
   ],
   "metadata": {
    "collapsed": false,
    "ExecuteTime": {
     "end_time": "2023-08-06T20:05:42.218809045Z",
     "start_time": "2023-08-06T20:05:42.182355938Z"
    }
   }
  },
  {
   "cell_type": "code",
   "execution_count": 67,
   "outputs": [],
   "source": [
    "# Export the result to parquet and save to blob storage.\n",
    "num_events.to_parquet('../do_not_commit/FeatureDatasets/num_events.pq')"
   ],
   "metadata": {
    "collapsed": false
   }
  },
  {
   "cell_type": "markdown",
   "source": [
    "\n",
    "#### How many INCs contain direct reference to BSOD?\n"
   ],
   "metadata": {
    "collapsed": false
   }
  },
  {
   "cell_type": "code",
   "execution_count": null,
   "outputs": [],
   "source": [
    "df['short_description_NER'].unique()"
   ],
   "metadata": {
    "collapsed": false,
    "ExecuteTime": {
     "start_time": "2023-08-01T17:33:19.865801900Z"
    }
   }
  },
  {
   "cell_type": "code",
   "execution_count": null,
   "outputs": [],
   "source": [
    "# How many short descriptions talk about BSODs?\n",
    "len(df.dropna(subset='short_description_NER')[df.dropna(subset='short_description_NER')['short_description_NER'].str.contains(\"(?i)Blue Screen|BSOD|[Dd]eath\")]['number'].unique())"
   ],
   "metadata": {
    "collapsed": false
   }
  },
  {
   "cell_type": "code",
   "execution_count": null,
   "outputs": [],
   "source": [
    "# What is the frequency of each error type for BSOD tickets?\n",
    "df.dropna(subset='short_description_NER')[df.dropna(subset='short_description_NER')['short_description_NER'].str.contains(\"(?i)Blue Screen|BSOD|[Dd]eath\")].drop_duplicates('number', keep='first')['error_type'].hist()"
   ],
   "metadata": {
    "collapsed": false
   }
  },
  {
   "cell_type": "code",
   "execution_count": null,
   "outputs": [],
   "source": [
    "df.dropna(subset='short_description_NER')[(df.dropna(subset='short_description_NER')['short_description_NER'].str.contains(\"(?i)Blue Screen|BSOD|[Dd]eath\"))].drop_duplicates('number', keep='first')[['error_type', 'Combined_Application', 'Combined_dll', 'Combined_Exception']]"
   ],
   "metadata": {
    "collapsed": false
   }
  },
  {
   "cell_type": "code",
   "execution_count": null,
   "outputs": [],
   "source": [
    "df.dropna(subset='short_description_NER')[(df.dropna(subset='short_description_NER')['short_description_NER'].str.contains(\"(?i)Blue Screen|BSOD|[Dd]eath\")) & (df['error_type'] == 'Application')].drop_duplicates('number', keep='first')['Combined_Application']"
   ],
   "metadata": {
    "collapsed": false
   }
  },
  {
   "cell_type": "code",
   "execution_count": null,
   "outputs": [],
   "source": [
    "df.dropna(subset='short_description_NER')[(df.dropna(subset='short_description_NER')['short_description_NER'].str.contains(\"(?i)Blue Screen|BSOD|[Dd]eath\")) & (df['error_type'] == 'Boot')].drop_duplicates('number', keep='first')['short_description_NER']"
   ],
   "metadata": {
    "collapsed": false
   }
  },
  {
   "cell_type": "markdown",
   "source": [
    "\n",
    "#### What is the distribution of FaultApplicationName among INCs?\n"
   ],
   "metadata": {
    "collapsed": false
   }
  },
  {
   "cell_type": "code",
   "execution_count": null,
   "outputs": [],
   "source": [
    "df_check = df[df['error_type'] == 'Application']"
   ],
   "metadata": {
    "collapsed": false
   }
  },
  {
   "cell_type": "code",
   "execution_count": null,
   "outputs": [],
   "source": [
    "df_check['Combined_Application'].value_counts()"
   ],
   "metadata": {
    "collapsed": false
   }
  },
  {
   "cell_type": "markdown",
   "source": [
    "\n",
    "#### What is the distribution of modules among INCs?\n"
   ],
   "metadata": {
    "collapsed": false
   }
  },
  {
   "cell_type": "code",
   "execution_count": null,
   "outputs": [],
   "source": [
    "df_check['Combined_dll'].value_counts()"
   ],
   "metadata": {
    "collapsed": false
   }
  },
  {
   "cell_type": "markdown",
   "source": [
    "\n",
    "#### Which exception codes are most common among INCs?\n"
   ],
   "metadata": {
    "collapsed": false
   }
  },
  {
   "cell_type": "code",
   "execution_count": null,
   "outputs": [],
   "source": [
    "df_check[['Combined_Application', 'Combined_Exception']].value_counts()"
   ],
   "metadata": {
    "collapsed": false
   }
  }
 ],
 "metadata": {
  "kernelspec": {
   "display_name": "Python 3",
   "language": "python",
   "name": "python3"
  },
  "language_info": {
   "codemirror_mode": {
    "name": "ipython",
    "version": 2
   },
   "file_extension": ".py",
   "mimetype": "text/x-python",
   "name": "python",
   "nbconvert_exporter": "python",
   "pygments_lexer": "ipython2",
   "version": "2.7.6"
  }
 },
 "nbformat": 4,
 "nbformat_minor": 0
}

{
 "cells": [
  {
   "cell_type": "code",
   "execution_count": 2,
   "metadata": {
    "collapsed": true,
    "ExecuteTime": {
     "end_time": "2023-08-11T16:48:00.770666485Z",
     "start_time": "2023-08-11T16:48:00.767027515Z"
    }
   },
   "outputs": [],
   "source": [
    "import pandas as pd\n",
    "import numpy as np"
   ]
  },
  {
   "cell_type": "code",
   "execution_count": 4,
   "outputs": [],
   "source": [
    "df = pd.read_parquet('../DatabaseTableUpload/assets/training_set_v2.parquet')"
   ],
   "metadata": {
    "collapsed": false,
    "ExecuteTime": {
     "end_time": "2023-08-11T16:48:10.677937103Z",
     "start_time": "2023-08-11T16:48:10.631892988Z"
    }
   }
  },
  {
   "cell_type": "code",
   "execution_count": 8,
   "outputs": [],
   "source": [
    "cardinalities = {}\n",
    "for col in df.columns:\n",
    "    cardinalities[col] = len(df[col].unique())"
   ],
   "metadata": {
    "collapsed": false,
    "ExecuteTime": {
     "end_time": "2023-08-11T16:49:48.212483248Z",
     "start_time": "2023-08-11T16:49:48.153310143Z"
    }
   }
  },
  {
   "cell_type": "code",
   "execution_count": 18,
   "outputs": [
    {
     "data": {
      "text/plain": "                                0\navg_software_age            54332\nItemKey                      7050\nOutlookx86_addin_filesize    5411\nOutlookx64_addin_filesize    2766\nExcelx86_addin_filesize      2172\n...                           ...\nModel_OptiPlex 5050             2\nModel_Precision Tower 3430      2\nModel_Latitude 7290             2\nCaseType_Laptop                 2\nActive0                         1\n\n[93 rows x 1 columns]",
      "text/html": "<div>\n<style scoped>\n    .dataframe tbody tr th:only-of-type {\n        vertical-align: middle;\n    }\n\n    .dataframe tbody tr th {\n        vertical-align: top;\n    }\n\n    .dataframe thead th {\n        text-align: right;\n    }\n</style>\n<table border=\"1\" class=\"dataframe\">\n  <thead>\n    <tr style=\"text-align: right;\">\n      <th></th>\n      <th>0</th>\n    </tr>\n  </thead>\n  <tbody>\n    <tr>\n      <th>avg_software_age</th>\n      <td>54332</td>\n    </tr>\n    <tr>\n      <th>ItemKey</th>\n      <td>7050</td>\n    </tr>\n    <tr>\n      <th>Outlookx86_addin_filesize</th>\n      <td>5411</td>\n    </tr>\n    <tr>\n      <th>Outlookx64_addin_filesize</th>\n      <td>2766</td>\n    </tr>\n    <tr>\n      <th>Excelx86_addin_filesize</th>\n      <td>2172</td>\n    </tr>\n    <tr>\n      <th>...</th>\n      <td>...</td>\n    </tr>\n    <tr>\n      <th>Model_OptiPlex 5050</th>\n      <td>2</td>\n    </tr>\n    <tr>\n      <th>Model_Precision Tower 3430</th>\n      <td>2</td>\n    </tr>\n    <tr>\n      <th>Model_Latitude 7290</th>\n      <td>2</td>\n    </tr>\n    <tr>\n      <th>CaseType_Laptop</th>\n      <td>2</td>\n    </tr>\n    <tr>\n      <th>Active0</th>\n      <td>1</td>\n    </tr>\n  </tbody>\n</table>\n<p>93 rows × 1 columns</p>\n</div>"
     },
     "execution_count": 18,
     "metadata": {},
     "output_type": "execute_result"
    }
   ],
   "source": [
    "pd.DataFrame(cardinalities, index=[0]).T.sort_values(by=0, ascending=False)"
   ],
   "metadata": {
    "collapsed": false,
    "ExecuteTime": {
     "end_time": "2023-08-11T16:51:25.190614711Z",
     "start_time": "2023-08-11T16:51:25.184845645Z"
    }
   }
  }
 ],
 "metadata": {
  "kernelspec": {
   "display_name": "Python 3",
   "language": "python",
   "name": "python3"
  },
  "language_info": {
   "codemirror_mode": {
    "name": "ipython",
    "version": 2
   },
   "file_extension": ".py",
   "mimetype": "text/x-python",
   "name": "python",
   "nbconvert_exporter": "python",
   "pygments_lexer": "ipython2",
   "version": "2.7.6"
  }
 },
 "nbformat": 4,
 "nbformat_minor": 0
}

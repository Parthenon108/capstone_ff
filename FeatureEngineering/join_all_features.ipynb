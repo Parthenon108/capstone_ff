{
 "cells": [
  {
   "cell_type": "code",
   "execution_count": null,
   "metadata": {},
   "outputs": [],
   "source": [
    "from sklearn.preprocessing import OneHotEncoder\n",
    "from sklearn.compose import make_column_transformer\n",
    "from sklearn.pipeline import make_pipeline\n",
    "\n",
    "def encode_attr(in_df, attrs):\n",
    "    \n",
    "    # Get the category labels and  categories\n",
    "    categories = [(attr, list(in_df[attr].unique())) for attr in attrs]\n",
    "    ohe_columns = [x[0] for x in categories]\n",
    "    ohe_categories = [x[1] for x in categories]\n",
    "\n",
    "    # Instantiate the one hot encoder and fit it \n",
    "    enc = OneHotEncoder(sparse_output=False, categories=ohe_categories)\n",
    "    transformer = make_column_transformer((enc, ohe_columns), remainder='passthrough')\n",
    "    output = transformer.fit_transform(in_df)\n",
    "\n",
    "    # Put results in dataframe and clean up columns\n",
    "    out_df = pd.DataFrame(output, columns=transformer.get_feature_names_out())\n",
    "    remainder_cols =  [col[11:] for col in out_df.columns if 'remainder' in col]\n",
    "    encoded_cols = [col[15:] for col in out_df.columns if 'onehotencoder' in col]\n",
    "    out_df.columns = encoded_cols + remainder_cols\n",
    "    out_df = out_df[remainder_cols + encoded_cols]\n",
    "\n",
    "    return out_df"
   ]
  }
 ],
 "metadata": {
  "language_info": {
   "name": "python"
  },
  "orig_nbformat": 4
 },
 "nbformat": 4,
 "nbformat_minor": 2
}

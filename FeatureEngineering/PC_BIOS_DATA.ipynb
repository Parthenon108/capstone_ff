{
 "cells": [
  {
   "cell_type": "code",
   "execution_count": 4,
   "metadata": {
    "collapsed": true,
    "ExecuteTime": {
     "end_time": "2023-08-04T02:33:02.064480439Z",
     "start_time": "2023-08-04T02:33:02.052027090Z"
    }
   },
   "outputs": [],
   "source": [
    "import pandas as pd\n",
    "from datetime import datetime\n",
    "from datetime import date\n",
    "import numpy as np"
   ]
  },
  {
   "cell_type": "code",
   "execution_count": 5,
   "outputs": [],
   "source": [
    "df = pd.read_parquet('../do_not_commit/Datasets/Persist_PC_BIOS_DATA.pq')"
   ],
   "metadata": {
    "collapsed": false,
    "ExecuteTime": {
     "end_time": "2023-08-04T02:33:02.640119313Z",
     "start_time": "2023-08-04T02:33:02.373874649Z"
    }
   }
  },
  {
   "cell_type": "markdown",
   "source": [
    "\n",
    "# bios_release_date_age\n"
   ],
   "metadata": {
    "collapsed": false
   }
  },
  {
   "cell_type": "code",
   "execution_count": 6,
   "outputs": [
    {
     "data": {
      "text/plain": "         MachineID RWB_EFFECTIVE_DATE        BIOS Release Date\n0         16783564         2023-01-19  2018-12-12 00:00:00.000\n1         16783564         2023-01-20  2018-12-12 00:00:00.000\n2         16783564         2023-01-21  2018-12-12 00:00:00.000\n3         16783564         2023-01-22  2018-12-12 00:00:00.000\n4         16783564         2023-01-23  2018-12-12 00:00:00.000\n...            ...                ...                      ...\n1042055   16818954         2023-06-28  2022-08-18 00:00:00.000\n1042056   16818955         2023-06-28  2023-02-24 00:00:00.000\n1042057   16818958         2023-06-28  2022-08-18 00:00:00.000\n1042058   16818959         2023-06-28  2022-07-06 00:00:00.000\n1042059   16818962         2023-06-28  2022-12-23 00:00:00.000\n\n[1042060 rows x 3 columns]",
      "text/html": "<div>\n<style scoped>\n    .dataframe tbody tr th:only-of-type {\n        vertical-align: middle;\n    }\n\n    .dataframe tbody tr th {\n        vertical-align: top;\n    }\n\n    .dataframe thead th {\n        text-align: right;\n    }\n</style>\n<table border=\"1\" class=\"dataframe\">\n  <thead>\n    <tr style=\"text-align: right;\">\n      <th></th>\n      <th>MachineID</th>\n      <th>RWB_EFFECTIVE_DATE</th>\n      <th>BIOS Release Date</th>\n    </tr>\n  </thead>\n  <tbody>\n    <tr>\n      <th>0</th>\n      <td>16783564</td>\n      <td>2023-01-19</td>\n      <td>2018-12-12 00:00:00.000</td>\n    </tr>\n    <tr>\n      <th>1</th>\n      <td>16783564</td>\n      <td>2023-01-20</td>\n      <td>2018-12-12 00:00:00.000</td>\n    </tr>\n    <tr>\n      <th>2</th>\n      <td>16783564</td>\n      <td>2023-01-21</td>\n      <td>2018-12-12 00:00:00.000</td>\n    </tr>\n    <tr>\n      <th>3</th>\n      <td>16783564</td>\n      <td>2023-01-22</td>\n      <td>2018-12-12 00:00:00.000</td>\n    </tr>\n    <tr>\n      <th>4</th>\n      <td>16783564</td>\n      <td>2023-01-23</td>\n      <td>2018-12-12 00:00:00.000</td>\n    </tr>\n    <tr>\n      <th>...</th>\n      <td>...</td>\n      <td>...</td>\n      <td>...</td>\n    </tr>\n    <tr>\n      <th>1042055</th>\n      <td>16818954</td>\n      <td>2023-06-28</td>\n      <td>2022-08-18 00:00:00.000</td>\n    </tr>\n    <tr>\n      <th>1042056</th>\n      <td>16818955</td>\n      <td>2023-06-28</td>\n      <td>2023-02-24 00:00:00.000</td>\n    </tr>\n    <tr>\n      <th>1042057</th>\n      <td>16818958</td>\n      <td>2023-06-28</td>\n      <td>2022-08-18 00:00:00.000</td>\n    </tr>\n    <tr>\n      <th>1042058</th>\n      <td>16818959</td>\n      <td>2023-06-28</td>\n      <td>2022-07-06 00:00:00.000</td>\n    </tr>\n    <tr>\n      <th>1042059</th>\n      <td>16818962</td>\n      <td>2023-06-28</td>\n      <td>2022-12-23 00:00:00.000</td>\n    </tr>\n  </tbody>\n</table>\n<p>1042060 rows × 3 columns</p>\n</div>"
     },
     "execution_count": 6,
     "metadata": {},
     "output_type": "execute_result"
    }
   ],
   "source": [
    "# Number of days since the BIOS version was released.\n",
    "# Calculate this from the 'ReleaseDate00'.\n",
    "# Take the .max() 'ReleaseDate00' to account for duplicate records for machineID 1681622.\n",
    "bios_release_date = df.groupby(['MachineID', 'RWB_EFFECTIVE_DATE'])['ReleaseDate00'].agg('max').reset_index().rename(columns={'ReleaseDate00':'BIOS Release Date'})\n",
    "bios_release_date"
   ],
   "metadata": {
    "collapsed": false,
    "ExecuteTime": {
     "end_time": "2023-08-04T02:34:07.616268354Z",
     "start_time": "2023-08-04T02:33:03.059431368Z"
    }
   }
  },
  {
   "cell_type": "code",
   "execution_count": 7,
   "outputs": [],
   "source": [
    "def calculate_age_in_days(target_date_str, in_date):\n",
    "\n",
    "    # Convert target_date_str to a Python datetime object\n",
    "    target_date = datetime.strptime(target_date_str, '%Y-%m-%d').date()\n",
    "\n",
    "    # Calculate the age in days\n",
    "    age_in_days = (in_date - target_date).days\n",
    "\n",
    "    return age_in_days\n",
    "\n",
    "\n",
    "def create_bios_features(in_df):\n",
    "\n",
    "    # Change effective date to type date\n",
    "    in_df['BIOS Release Date'] = pd.to_datetime(in_df['BIOS Release Date']).dt.strftime('%Y-%m-%d')\n",
    "\n",
    "    # Get age in days\n",
    "    todaydate = date(2023, 7, 4)\n",
    "    in_df['BIOSReleaseAge'] = in_df['BIOS Release Date'].apply(lambda x: calculate_age_in_days(x, todaydate)\n",
    "    if pd.notnull(x) else np.nan)\n",
    "    return in_df"
   ],
   "metadata": {
    "collapsed": false,
    "ExecuteTime": {
     "end_time": "2023-08-04T02:34:07.646931793Z",
     "start_time": "2023-08-04T02:34:07.529034687Z"
    }
   }
  },
  {
   "cell_type": "code",
   "execution_count": 8,
   "outputs": [],
   "source": [
    "df = create_bios_features(bios_release_date)"
   ],
   "metadata": {
    "collapsed": false,
    "ExecuteTime": {
     "end_time": "2023-08-04T02:34:30.840302442Z",
     "start_time": "2023-08-04T02:34:21.354932112Z"
    }
   }
  },
  {
   "cell_type": "code",
   "execution_count": 9,
   "outputs": [
    {
     "data": {
      "text/plain": "         MachineID RWB_EFFECTIVE_DATE BIOS Release Date  BIOSReleaseAge\n0         16783564         2023-01-19        2018-12-12          1665.0\n1         16783564         2023-01-20        2018-12-12          1665.0\n2         16783564         2023-01-21        2018-12-12          1665.0\n3         16783564         2023-01-22        2018-12-12          1665.0\n4         16783564         2023-01-23        2018-12-12          1665.0\n...            ...                ...               ...             ...\n1042055   16818954         2023-06-28        2022-08-18           320.0\n1042056   16818955         2023-06-28        2023-02-24           130.0\n1042057   16818958         2023-06-28        2022-08-18           320.0\n1042058   16818959         2023-06-28        2022-07-06           363.0\n1042059   16818962         2023-06-28        2022-12-23           193.0\n\n[1042060 rows x 4 columns]",
      "text/html": "<div>\n<style scoped>\n    .dataframe tbody tr th:only-of-type {\n        vertical-align: middle;\n    }\n\n    .dataframe tbody tr th {\n        vertical-align: top;\n    }\n\n    .dataframe thead th {\n        text-align: right;\n    }\n</style>\n<table border=\"1\" class=\"dataframe\">\n  <thead>\n    <tr style=\"text-align: right;\">\n      <th></th>\n      <th>MachineID</th>\n      <th>RWB_EFFECTIVE_DATE</th>\n      <th>BIOS Release Date</th>\n      <th>BIOSReleaseAge</th>\n    </tr>\n  </thead>\n  <tbody>\n    <tr>\n      <th>0</th>\n      <td>16783564</td>\n      <td>2023-01-19</td>\n      <td>2018-12-12</td>\n      <td>1665.0</td>\n    </tr>\n    <tr>\n      <th>1</th>\n      <td>16783564</td>\n      <td>2023-01-20</td>\n      <td>2018-12-12</td>\n      <td>1665.0</td>\n    </tr>\n    <tr>\n      <th>2</th>\n      <td>16783564</td>\n      <td>2023-01-21</td>\n      <td>2018-12-12</td>\n      <td>1665.0</td>\n    </tr>\n    <tr>\n      <th>3</th>\n      <td>16783564</td>\n      <td>2023-01-22</td>\n      <td>2018-12-12</td>\n      <td>1665.0</td>\n    </tr>\n    <tr>\n      <th>4</th>\n      <td>16783564</td>\n      <td>2023-01-23</td>\n      <td>2018-12-12</td>\n      <td>1665.0</td>\n    </tr>\n    <tr>\n      <th>...</th>\n      <td>...</td>\n      <td>...</td>\n      <td>...</td>\n      <td>...</td>\n    </tr>\n    <tr>\n      <th>1042055</th>\n      <td>16818954</td>\n      <td>2023-06-28</td>\n      <td>2022-08-18</td>\n      <td>320.0</td>\n    </tr>\n    <tr>\n      <th>1042056</th>\n      <td>16818955</td>\n      <td>2023-06-28</td>\n      <td>2023-02-24</td>\n      <td>130.0</td>\n    </tr>\n    <tr>\n      <th>1042057</th>\n      <td>16818958</td>\n      <td>2023-06-28</td>\n      <td>2022-08-18</td>\n      <td>320.0</td>\n    </tr>\n    <tr>\n      <th>1042058</th>\n      <td>16818959</td>\n      <td>2023-06-28</td>\n      <td>2022-07-06</td>\n      <td>363.0</td>\n    </tr>\n    <tr>\n      <th>1042059</th>\n      <td>16818962</td>\n      <td>2023-06-28</td>\n      <td>2022-12-23</td>\n      <td>193.0</td>\n    </tr>\n  </tbody>\n</table>\n<p>1042060 rows × 4 columns</p>\n</div>"
     },
     "execution_count": 9,
     "metadata": {},
     "output_type": "execute_result"
    }
   ],
   "source": [
    "df"
   ],
   "metadata": {
    "collapsed": false,
    "ExecuteTime": {
     "end_time": "2023-08-04T02:34:30.891582806Z",
     "start_time": "2023-08-04T02:34:30.845959049Z"
    }
   }
  },
  {
   "cell_type": "code",
   "execution_count": 10,
   "outputs": [],
   "source": [
    "df.to_parquet('../do_not_commit/FeatureDatasets/pc_bios_data.pq')"
   ],
   "metadata": {
    "collapsed": false,
    "ExecuteTime": {
     "end_time": "2023-08-04T02:34:46.107415168Z",
     "start_time": "2023-08-04T02:34:45.947458468Z"
    }
   }
  }
 ],
 "metadata": {
  "kernelspec": {
   "display_name": "Python 3",
   "language": "python",
   "name": "python3"
  },
  "language_info": {
   "codemirror_mode": {
    "name": "ipython",
    "version": 2
   },
   "file_extension": ".py",
   "mimetype": "text/x-python",
   "name": "python",
   "nbconvert_exporter": "python",
   "pygments_lexer": "ipython2",
   "version": "2.7.6"
  }
 },
 "nbformat": 4,
 "nbformat_minor": 0
}

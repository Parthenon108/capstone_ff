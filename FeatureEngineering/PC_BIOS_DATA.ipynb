{
 "cells": [
  {
   "cell_type": "code",
   "execution_count": 7,
   "metadata": {
    "collapsed": true,
    "ExecuteTime": {
     "end_time": "2023-08-06T17:22:44.614907123Z",
     "start_time": "2023-08-06T17:22:44.410956546Z"
    }
   },
   "outputs": [],
   "source": [
    "import pandas as pd\n",
    "from datetime import datetime\n",
    "from datetime import date\n",
    "import numpy as np"
   ]
  },
  {
   "cell_type": "code",
   "execution_count": 8,
   "outputs": [],
   "source": [
    "df = pd.read_parquet('../do_not_commit/Datasets/Persist_PC_BIOS_DATA.pq')"
   ],
   "metadata": {
    "collapsed": false,
    "ExecuteTime": {
     "end_time": "2023-08-06T17:22:44.827213477Z",
     "start_time": "2023-08-06T17:22:44.436832279Z"
    }
   }
  },
  {
   "cell_type": "code",
   "execution_count": 9,
   "outputs": [
    {
     "data": {
      "text/plain": "'2023-07-04'"
     },
     "execution_count": 9,
     "metadata": {},
     "output_type": "execute_result"
    }
   ],
   "source": [
    "df['RWB_EFFECTIVE_DATE'].max()"
   ],
   "metadata": {
    "collapsed": false,
    "ExecuteTime": {
     "end_time": "2023-08-06T17:22:44.859559989Z",
     "start_time": "2023-08-06T17:22:44.826645601Z"
    }
   }
  },
  {
   "cell_type": "markdown",
   "source": [
    "\n",
    "# bios_release_date_age\n"
   ],
   "metadata": {
    "collapsed": false
   }
  },
  {
   "cell_type": "code",
   "execution_count": 10,
   "outputs": [
    {
     "data": {
      "text/plain": "         MachineID RWB_EFFECTIVE_DATE        BIOS Release Date\n0         16783564         2023-01-19  2018-12-12 00:00:00.000\n1         16783564         2023-01-20  2018-12-12 00:00:00.000\n2         16783564         2023-01-21  2018-12-12 00:00:00.000\n3         16783564         2023-01-22  2018-12-12 00:00:00.000\n4         16783564         2023-01-23  2018-12-12 00:00:00.000\n...            ...                ...                      ...\n1078096   16819026         2023-07-03  2022-11-16 00:00:00.000\n1078097   16819026         2023-07-04  2022-11-16 00:00:00.000\n1078098   16819027         2023-07-03  2022-11-10 00:00:00.000\n1078099   16819027         2023-07-04  2022-11-10 00:00:00.000\n1078100   16819028         2023-07-04  2022-08-18 00:00:00.000\n\n[1078101 rows x 3 columns]",
      "text/html": "<div>\n<style scoped>\n    .dataframe tbody tr th:only-of-type {\n        vertical-align: middle;\n    }\n\n    .dataframe tbody tr th {\n        vertical-align: top;\n    }\n\n    .dataframe thead th {\n        text-align: right;\n    }\n</style>\n<table border=\"1\" class=\"dataframe\">\n  <thead>\n    <tr style=\"text-align: right;\">\n      <th></th>\n      <th>MachineID</th>\n      <th>RWB_EFFECTIVE_DATE</th>\n      <th>BIOS Release Date</th>\n    </tr>\n  </thead>\n  <tbody>\n    <tr>\n      <th>0</th>\n      <td>16783564</td>\n      <td>2023-01-19</td>\n      <td>2018-12-12 00:00:00.000</td>\n    </tr>\n    <tr>\n      <th>1</th>\n      <td>16783564</td>\n      <td>2023-01-20</td>\n      <td>2018-12-12 00:00:00.000</td>\n    </tr>\n    <tr>\n      <th>2</th>\n      <td>16783564</td>\n      <td>2023-01-21</td>\n      <td>2018-12-12 00:00:00.000</td>\n    </tr>\n    <tr>\n      <th>3</th>\n      <td>16783564</td>\n      <td>2023-01-22</td>\n      <td>2018-12-12 00:00:00.000</td>\n    </tr>\n    <tr>\n      <th>4</th>\n      <td>16783564</td>\n      <td>2023-01-23</td>\n      <td>2018-12-12 00:00:00.000</td>\n    </tr>\n    <tr>\n      <th>...</th>\n      <td>...</td>\n      <td>...</td>\n      <td>...</td>\n    </tr>\n    <tr>\n      <th>1078096</th>\n      <td>16819026</td>\n      <td>2023-07-03</td>\n      <td>2022-11-16 00:00:00.000</td>\n    </tr>\n    <tr>\n      <th>1078097</th>\n      <td>16819026</td>\n      <td>2023-07-04</td>\n      <td>2022-11-16 00:00:00.000</td>\n    </tr>\n    <tr>\n      <th>1078098</th>\n      <td>16819027</td>\n      <td>2023-07-03</td>\n      <td>2022-11-10 00:00:00.000</td>\n    </tr>\n    <tr>\n      <th>1078099</th>\n      <td>16819027</td>\n      <td>2023-07-04</td>\n      <td>2022-11-10 00:00:00.000</td>\n    </tr>\n    <tr>\n      <th>1078100</th>\n      <td>16819028</td>\n      <td>2023-07-04</td>\n      <td>2022-08-18 00:00:00.000</td>\n    </tr>\n  </tbody>\n</table>\n<p>1078101 rows × 3 columns</p>\n</div>"
     },
     "execution_count": 10,
     "metadata": {},
     "output_type": "execute_result"
    }
   ],
   "source": [
    "# Number of days since the BIOS version was released.\n",
    "# Calculate this from the 'ReleaseDate00'.\n",
    "# Take the .max() 'ReleaseDate00' to account for duplicate records for machineID 1681622.\n",
    "bios_release_date = df.groupby(['MachineID', 'RWB_EFFECTIVE_DATE'])['ReleaseDate00'].agg('max').reset_index().rename(columns={'ReleaseDate00':'BIOS Release Date'})\n",
    "bios_release_date"
   ],
   "metadata": {
    "collapsed": false,
    "ExecuteTime": {
     "end_time": "2023-08-06T17:23:54.190139103Z",
     "start_time": "2023-08-06T17:22:44.861471317Z"
    }
   }
  },
  {
   "cell_type": "code",
   "execution_count": 11,
   "outputs": [],
   "source": [
    "def calculate_age_in_days(target_date_str, in_date):\n",
    "\n",
    "    # Convert target_date_str to a Python datetime object\n",
    "    target_date = datetime.strptime(target_date_str, '%Y-%m-%d').date()\n",
    "\n",
    "    # Calculate the age in days\n",
    "    age_in_days = (in_date - target_date).days\n",
    "\n",
    "    return age_in_days\n",
    "\n",
    "\n",
    "def create_bios_features(in_df):\n",
    "\n",
    "    # Change effective date to type date\n",
    "    in_df['BIOS Release Date'] = pd.to_datetime(in_df['BIOS Release Date']).dt.strftime('%Y-%m-%d')\n",
    "\n",
    "    # Get age in days\n",
    "    todaydate = date(2023, 7, 4)\n",
    "    in_df['BIOSReleaseAge'] = in_df['BIOS Release Date'].apply(lambda x: calculate_age_in_days(x, todaydate)\n",
    "    if pd.notnull(x) else np.nan)\n",
    "    return in_df"
   ],
   "metadata": {
    "collapsed": false,
    "ExecuteTime": {
     "end_time": "2023-08-06T17:23:54.274166033Z",
     "start_time": "2023-08-06T17:23:54.192071015Z"
    }
   }
  },
  {
   "cell_type": "code",
   "execution_count": 12,
   "outputs": [],
   "source": [
    "df = create_bios_features(bios_release_date)"
   ],
   "metadata": {
    "collapsed": false,
    "ExecuteTime": {
     "end_time": "2023-08-06T17:24:03.776873682Z",
     "start_time": "2023-08-06T17:23:54.236855678Z"
    }
   }
  },
  {
   "cell_type": "code",
   "execution_count": 13,
   "outputs": [
    {
     "data": {
      "text/plain": "         MachineID RWB_EFFECTIVE_DATE BIOS Release Date  BIOSReleaseAge\n0         16783564         2023-01-19        2018-12-12          1665.0\n1         16783564         2023-01-20        2018-12-12          1665.0\n2         16783564         2023-01-21        2018-12-12          1665.0\n3         16783564         2023-01-22        2018-12-12          1665.0\n4         16783564         2023-01-23        2018-12-12          1665.0\n...            ...                ...               ...             ...\n1078096   16819026         2023-07-03        2022-11-16           230.0\n1078097   16819026         2023-07-04        2022-11-16           230.0\n1078098   16819027         2023-07-03        2022-11-10           236.0\n1078099   16819027         2023-07-04        2022-11-10           236.0\n1078100   16819028         2023-07-04        2022-08-18           320.0\n\n[1078101 rows x 4 columns]",
      "text/html": "<div>\n<style scoped>\n    .dataframe tbody tr th:only-of-type {\n        vertical-align: middle;\n    }\n\n    .dataframe tbody tr th {\n        vertical-align: top;\n    }\n\n    .dataframe thead th {\n        text-align: right;\n    }\n</style>\n<table border=\"1\" class=\"dataframe\">\n  <thead>\n    <tr style=\"text-align: right;\">\n      <th></th>\n      <th>MachineID</th>\n      <th>RWB_EFFECTIVE_DATE</th>\n      <th>BIOS Release Date</th>\n      <th>BIOSReleaseAge</th>\n    </tr>\n  </thead>\n  <tbody>\n    <tr>\n      <th>0</th>\n      <td>16783564</td>\n      <td>2023-01-19</td>\n      <td>2018-12-12</td>\n      <td>1665.0</td>\n    </tr>\n    <tr>\n      <th>1</th>\n      <td>16783564</td>\n      <td>2023-01-20</td>\n      <td>2018-12-12</td>\n      <td>1665.0</td>\n    </tr>\n    <tr>\n      <th>2</th>\n      <td>16783564</td>\n      <td>2023-01-21</td>\n      <td>2018-12-12</td>\n      <td>1665.0</td>\n    </tr>\n    <tr>\n      <th>3</th>\n      <td>16783564</td>\n      <td>2023-01-22</td>\n      <td>2018-12-12</td>\n      <td>1665.0</td>\n    </tr>\n    <tr>\n      <th>4</th>\n      <td>16783564</td>\n      <td>2023-01-23</td>\n      <td>2018-12-12</td>\n      <td>1665.0</td>\n    </tr>\n    <tr>\n      <th>...</th>\n      <td>...</td>\n      <td>...</td>\n      <td>...</td>\n      <td>...</td>\n    </tr>\n    <tr>\n      <th>1078096</th>\n      <td>16819026</td>\n      <td>2023-07-03</td>\n      <td>2022-11-16</td>\n      <td>230.0</td>\n    </tr>\n    <tr>\n      <th>1078097</th>\n      <td>16819026</td>\n      <td>2023-07-04</td>\n      <td>2022-11-16</td>\n      <td>230.0</td>\n    </tr>\n    <tr>\n      <th>1078098</th>\n      <td>16819027</td>\n      <td>2023-07-03</td>\n      <td>2022-11-10</td>\n      <td>236.0</td>\n    </tr>\n    <tr>\n      <th>1078099</th>\n      <td>16819027</td>\n      <td>2023-07-04</td>\n      <td>2022-11-10</td>\n      <td>236.0</td>\n    </tr>\n    <tr>\n      <th>1078100</th>\n      <td>16819028</td>\n      <td>2023-07-04</td>\n      <td>2022-08-18</td>\n      <td>320.0</td>\n    </tr>\n  </tbody>\n</table>\n<p>1078101 rows × 4 columns</p>\n</div>"
     },
     "execution_count": 13,
     "metadata": {},
     "output_type": "execute_result"
    }
   ],
   "source": [
    "df"
   ],
   "metadata": {
    "collapsed": false,
    "ExecuteTime": {
     "end_time": "2023-08-06T17:24:03.819132897Z",
     "start_time": "2023-08-06T17:24:03.818636683Z"
    }
   }
  },
  {
   "cell_type": "code",
   "execution_count": 14,
   "outputs": [],
   "source": [
    "df.to_parquet('../do_not_commit/FeatureDatasets/pc_bios_data.pq')"
   ],
   "metadata": {
    "collapsed": false,
    "ExecuteTime": {
     "end_time": "2023-08-06T17:24:04.022076800Z",
     "start_time": "2023-08-06T17:24:03.818856061Z"
    }
   }
  }
 ],
 "metadata": {
  "kernelspec": {
   "display_name": "Python 3",
   "language": "python",
   "name": "python3"
  },
  "language_info": {
   "codemirror_mode": {
    "name": "ipython",
    "version": 2
   },
   "file_extension": ".py",
   "mimetype": "text/x-python",
   "name": "python",
   "nbconvert_exporter": "python",
   "pygments_lexer": "ipython2",
   "version": "2.7.6"
  }
 },
 "nbformat": 4,
 "nbformat_minor": 0
}

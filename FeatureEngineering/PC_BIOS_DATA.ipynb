{
 "cells": [
  {
   "cell_type": "code",
   "execution_count": 1,
   "metadata": {
    "collapsed": true,
    "ExecuteTime": {
     "end_time": "2023-08-01T19:30:22.758543913Z",
     "start_time": "2023-08-01T19:30:22.549190656Z"
    }
   },
   "outputs": [],
   "source": [
    "import pandas as pd"
   ]
  },
  {
   "cell_type": "code",
   "execution_count": 4,
   "outputs": [],
   "source": [
    "df = pd.read_parquet('../do_not_commit/Datasets/Persist_PC_BIOS_DATA.pq')"
   ],
   "metadata": {
    "collapsed": false,
    "ExecuteTime": {
     "end_time": "2023-08-01T19:35:56.032558498Z",
     "start_time": "2023-08-01T19:35:55.791014510Z"
    }
   }
  },
  {
   "cell_type": "markdown",
   "source": [
    "\n",
    "# bios_release_date_age\n"
   ],
   "metadata": {
    "collapsed": false
   }
  },
  {
   "cell_type": "code",
   "execution_count": 8,
   "outputs": [
    {
     "data": {
      "text/plain": "         MachineID RWB_EFFECTIVE_DATE        BIOS Release Date\n0         16783564         2023-01-19  2018-12-12 00:00:00.000\n1         16783564         2023-01-20  2018-12-12 00:00:00.000\n2         16783564         2023-01-21  2018-12-12 00:00:00.000\n3         16783564         2023-01-22  2018-12-12 00:00:00.000\n4         16783564         2023-01-23  2018-12-12 00:00:00.000\n...            ...                ...                      ...\n1042055   16818954         2023-06-28  2022-08-18 00:00:00.000\n1042056   16818955         2023-06-28  2023-02-24 00:00:00.000\n1042057   16818958         2023-06-28  2022-08-18 00:00:00.000\n1042058   16818959         2023-06-28  2022-07-06 00:00:00.000\n1042059   16818962         2023-06-28  2022-12-23 00:00:00.000\n\n[1042060 rows x 3 columns]",
      "text/html": "<div>\n<style scoped>\n    .dataframe tbody tr th:only-of-type {\n        vertical-align: middle;\n    }\n\n    .dataframe tbody tr th {\n        vertical-align: top;\n    }\n\n    .dataframe thead th {\n        text-align: right;\n    }\n</style>\n<table border=\"1\" class=\"dataframe\">\n  <thead>\n    <tr style=\"text-align: right;\">\n      <th></th>\n      <th>MachineID</th>\n      <th>RWB_EFFECTIVE_DATE</th>\n      <th>BIOS Release Date</th>\n    </tr>\n  </thead>\n  <tbody>\n    <tr>\n      <th>0</th>\n      <td>16783564</td>\n      <td>2023-01-19</td>\n      <td>2018-12-12 00:00:00.000</td>\n    </tr>\n    <tr>\n      <th>1</th>\n      <td>16783564</td>\n      <td>2023-01-20</td>\n      <td>2018-12-12 00:00:00.000</td>\n    </tr>\n    <tr>\n      <th>2</th>\n      <td>16783564</td>\n      <td>2023-01-21</td>\n      <td>2018-12-12 00:00:00.000</td>\n    </tr>\n    <tr>\n      <th>3</th>\n      <td>16783564</td>\n      <td>2023-01-22</td>\n      <td>2018-12-12 00:00:00.000</td>\n    </tr>\n    <tr>\n      <th>4</th>\n      <td>16783564</td>\n      <td>2023-01-23</td>\n      <td>2018-12-12 00:00:00.000</td>\n    </tr>\n    <tr>\n      <th>...</th>\n      <td>...</td>\n      <td>...</td>\n      <td>...</td>\n    </tr>\n    <tr>\n      <th>1042055</th>\n      <td>16818954</td>\n      <td>2023-06-28</td>\n      <td>2022-08-18 00:00:00.000</td>\n    </tr>\n    <tr>\n      <th>1042056</th>\n      <td>16818955</td>\n      <td>2023-06-28</td>\n      <td>2023-02-24 00:00:00.000</td>\n    </tr>\n    <tr>\n      <th>1042057</th>\n      <td>16818958</td>\n      <td>2023-06-28</td>\n      <td>2022-08-18 00:00:00.000</td>\n    </tr>\n    <tr>\n      <th>1042058</th>\n      <td>16818959</td>\n      <td>2023-06-28</td>\n      <td>2022-07-06 00:00:00.000</td>\n    </tr>\n    <tr>\n      <th>1042059</th>\n      <td>16818962</td>\n      <td>2023-06-28</td>\n      <td>2022-12-23 00:00:00.000</td>\n    </tr>\n  </tbody>\n</table>\n<p>1042060 rows × 3 columns</p>\n</div>"
     },
     "execution_count": 8,
     "metadata": {},
     "output_type": "execute_result"
    }
   ],
   "source": [
    "# Number of days since the BIOS version was released.\n",
    "# Calculate this from the 'ReleaseDate00'.\n",
    "# Take the .max() 'ReleaseDate00' to account for duplicate records for machineID 1681622.\n",
    "bios_release_date = df.groupby(['MachineID', 'RWB_EFFECTIVE_DATE'])['ReleaseDate00'].agg('max').reset_index().rename(columns={'ReleaseDate00':'BIOS Release Date'})\n",
    "bios_release_date.to_parquet('../do_not_commit/FeatureDatasets/pc_bios_data.pq')\n",
    "bios_release_date"
   ],
   "metadata": {
    "collapsed": false,
    "ExecuteTime": {
     "end_time": "2023-08-01T19:42:23.202373232Z",
     "start_time": "2023-08-01T19:41:14.469109085Z"
    }
   }
  }
 ],
 "metadata": {
  "kernelspec": {
   "display_name": "Python 3",
   "language": "python",
   "name": "python3"
  },
  "language_info": {
   "codemirror_mode": {
    "name": "ipython",
    "version": 2
   },
   "file_extension": ".py",
   "mimetype": "text/x-python",
   "name": "python",
   "nbconvert_exporter": "python",
   "pygments_lexer": "ipython2",
   "version": "2.7.6"
  }
 },
 "nbformat": 4,
 "nbformat_minor": 0
}

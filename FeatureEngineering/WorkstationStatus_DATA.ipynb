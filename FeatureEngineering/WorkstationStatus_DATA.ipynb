{
 "cells": [
  {
   "cell_type": "code",
   "execution_count": 7,
   "metadata": {
    "collapsed": true,
    "ExecuteTime": {
     "end_time": "2023-08-06T17:18:52.561235959Z",
     "start_time": "2023-08-06T17:18:52.412172145Z"
    }
   },
   "outputs": [],
   "source": [
    "import pandas as pd"
   ]
  },
  {
   "cell_type": "code",
   "execution_count": 8,
   "outputs": [],
   "source": [
    "df = pd.read_parquet('../do_not_commit/Datasets/Persist_WorkstationStatus_Data.pq')"
   ],
   "metadata": {
    "collapsed": false,
    "ExecuteTime": {
     "end_time": "2023-08-06T17:18:53.029378538Z",
     "start_time": "2023-08-06T17:18:52.440483872Z"
    }
   }
  },
  {
   "cell_type": "code",
   "execution_count": 9,
   "outputs": [
    {
     "data": {
      "text/plain": "'2023-07-02'"
     },
     "execution_count": 9,
     "metadata": {},
     "output_type": "execute_result"
    }
   ],
   "source": [
    "df['RWB_EFFECTIVE_DATE'].max()"
   ],
   "metadata": {
    "collapsed": false,
    "ExecuteTime": {
     "end_time": "2023-08-06T17:18:53.122920393Z",
     "start_time": "2023-08-06T17:18:53.078109197Z"
    }
   }
  },
  {
   "cell_type": "markdown",
   "source": [
    "\n",
    "# last_hw_scan_datetime\n"
   ],
   "metadata": {
    "collapsed": false
   }
  },
  {
   "cell_type": "code",
   "execution_count": 10,
   "outputs": [
    {
     "data": {
      "text/plain": "         MachineID RWB_EFFECTIVE_DATE               LastHWScan\n0         16783564         2023-01-19  2023-01-18 14:43:36.000\n1         16783564         2023-01-20  2023-01-19 12:44:36.000\n2         16783564         2023-01-21  2023-01-21 06:52:59.000\n3         16783564         2023-01-22  2023-01-22 07:16:54.000\n4         16783564         2023-01-23  2023-01-23 05:09:56.000\n...            ...                ...                      ...\n1064877   16819023         2023-07-01  2023-06-30 12:42:05.000\n1064878   16819023         2023-07-02  2023-07-02 05:46:22.000\n1064879   16819024         2023-07-01  2023-06-30 19:31:29.000\n1064880   16819024         2023-07-02  2023-07-02 02:30:37.000\n1064881   16819025         2023-07-02  2023-07-02 07:20:52.000\n\n[1064882 rows x 3 columns]",
      "text/html": "<div>\n<style scoped>\n    .dataframe tbody tr th:only-of-type {\n        vertical-align: middle;\n    }\n\n    .dataframe tbody tr th {\n        vertical-align: top;\n    }\n\n    .dataframe thead th {\n        text-align: right;\n    }\n</style>\n<table border=\"1\" class=\"dataframe\">\n  <thead>\n    <tr style=\"text-align: right;\">\n      <th></th>\n      <th>MachineID</th>\n      <th>RWB_EFFECTIVE_DATE</th>\n      <th>LastHWScan</th>\n    </tr>\n  </thead>\n  <tbody>\n    <tr>\n      <th>0</th>\n      <td>16783564</td>\n      <td>2023-01-19</td>\n      <td>2023-01-18 14:43:36.000</td>\n    </tr>\n    <tr>\n      <th>1</th>\n      <td>16783564</td>\n      <td>2023-01-20</td>\n      <td>2023-01-19 12:44:36.000</td>\n    </tr>\n    <tr>\n      <th>2</th>\n      <td>16783564</td>\n      <td>2023-01-21</td>\n      <td>2023-01-21 06:52:59.000</td>\n    </tr>\n    <tr>\n      <th>3</th>\n      <td>16783564</td>\n      <td>2023-01-22</td>\n      <td>2023-01-22 07:16:54.000</td>\n    </tr>\n    <tr>\n      <th>4</th>\n      <td>16783564</td>\n      <td>2023-01-23</td>\n      <td>2023-01-23 05:09:56.000</td>\n    </tr>\n    <tr>\n      <th>...</th>\n      <td>...</td>\n      <td>...</td>\n      <td>...</td>\n    </tr>\n    <tr>\n      <th>1064877</th>\n      <td>16819023</td>\n      <td>2023-07-01</td>\n      <td>2023-06-30 12:42:05.000</td>\n    </tr>\n    <tr>\n      <th>1064878</th>\n      <td>16819023</td>\n      <td>2023-07-02</td>\n      <td>2023-07-02 05:46:22.000</td>\n    </tr>\n    <tr>\n      <th>1064879</th>\n      <td>16819024</td>\n      <td>2023-07-01</td>\n      <td>2023-06-30 19:31:29.000</td>\n    </tr>\n    <tr>\n      <th>1064880</th>\n      <td>16819024</td>\n      <td>2023-07-02</td>\n      <td>2023-07-02 02:30:37.000</td>\n    </tr>\n    <tr>\n      <th>1064881</th>\n      <td>16819025</td>\n      <td>2023-07-02</td>\n      <td>2023-07-02 07:20:52.000</td>\n    </tr>\n  </tbody>\n</table>\n<p>1064882 rows × 3 columns</p>\n</div>"
     },
     "execution_count": 10,
     "metadata": {},
     "output_type": "execute_result"
    }
   ],
   "source": [
    "# Datetime of the last hardware scan. Grab this from LastHWScan from WorkstationStatus_Data.\n",
    "last_time = df.groupby(['MachineID', 'RWB_EFFECTIVE_DATE']).agg({'LastHWScan':'min'}).reset_index()\n",
    "last_time"
   ],
   "metadata": {
    "collapsed": false,
    "ExecuteTime": {
     "end_time": "2023-08-06T17:20:02.022491888Z",
     "start_time": "2023-08-06T17:18:53.123100413Z"
    }
   }
  },
  {
   "cell_type": "markdown",
   "source": [
    "\n",
    "# last_hw_scan_age\n"
   ],
   "metadata": {
    "collapsed": false
   }
  },
  {
   "cell_type": "code",
   "execution_count": 11,
   "outputs": [],
   "source": [
    "# Age in days of the last hardware scan. Calculate this from LastHWScan from WorkstationStatus_Data."
   ],
   "metadata": {
    "collapsed": false,
    "ExecuteTime": {
     "end_time": "2023-08-06T17:20:02.024877213Z",
     "start_time": "2023-08-06T17:20:02.022905229Z"
    }
   }
  },
  {
   "cell_type": "code",
   "execution_count": 12,
   "outputs": [],
   "source": [
    "last_hw_scan_days = df.groupby(['MachineID', 'RWB_EFFECTIVE_DATE'])['LastHWScan'].agg('min').reset_index()"
   ],
   "metadata": {
    "collapsed": false,
    "ExecuteTime": {
     "end_time": "2023-08-06T17:21:08.916571354Z",
     "start_time": "2023-08-06T17:20:02.025478362Z"
    }
   }
  },
  {
   "cell_type": "code",
   "execution_count": 13,
   "outputs": [],
   "source": [
    "last_hw_scan_days['RWB_EFFECTIVE_DATE'] = pd.to_datetime(last_hw_scan_days['RWB_EFFECTIVE_DATE']).dt.date\n",
    "last_hw_scan_days['LastHWScan'] = pd.to_datetime(last_hw_scan_days['LastHWScan'])"
   ],
   "metadata": {
    "collapsed": false,
    "ExecuteTime": {
     "end_time": "2023-08-06T17:21:09.612717408Z",
     "start_time": "2023-08-06T17:21:08.941063893Z"
    }
   }
  },
  {
   "cell_type": "code",
   "execution_count": 14,
   "outputs": [],
   "source": [
    "last_hw_scan_days['LastHWScan_Date'] = last_hw_scan_days['LastHWScan'].apply(lambda x: x.date())\n",
    "last_hw_scan_days['LastHWScan_Days'] = last_hw_scan_days['RWB_EFFECTIVE_DATE'] - last_hw_scan_days['LastHWScan_Date']"
   ],
   "metadata": {
    "collapsed": false,
    "ExecuteTime": {
     "end_time": "2023-08-06T17:21:12.068409374Z",
     "start_time": "2023-08-06T17:21:09.614311209Z"
    }
   }
  },
  {
   "cell_type": "code",
   "execution_count": 15,
   "outputs": [
    {
     "data": {
      "text/plain": "         MachineID RWB_EFFECTIVE_DATE          LastHWScan LastHWScan_Date  \\\n0         16783564         2023-01-19 2023-01-18 14:43:36      2023-01-18   \n1         16783564         2023-01-20 2023-01-19 12:44:36      2023-01-19   \n2         16783564         2023-01-21 2023-01-21 06:52:59      2023-01-21   \n3         16783564         2023-01-22 2023-01-22 07:16:54      2023-01-22   \n4         16783564         2023-01-23 2023-01-23 05:09:56      2023-01-23   \n...            ...                ...                 ...             ...   \n1064877   16819023         2023-07-01 2023-06-30 12:42:05      2023-06-30   \n1064878   16819023         2023-07-02 2023-07-02 05:46:22      2023-07-02   \n1064879   16819024         2023-07-01 2023-06-30 19:31:29      2023-06-30   \n1064880   16819024         2023-07-02 2023-07-02 02:30:37      2023-07-02   \n1064881   16819025         2023-07-02 2023-07-02 07:20:52      2023-07-02   \n\n         LastHWScan_Days  \n0                      1  \n1                      1  \n2                      0  \n3                      0  \n4                      0  \n...                  ...  \n1064877                1  \n1064878                0  \n1064879                1  \n1064880                0  \n1064881                0  \n\n[1064882 rows x 5 columns]",
      "text/html": "<div>\n<style scoped>\n    .dataframe tbody tr th:only-of-type {\n        vertical-align: middle;\n    }\n\n    .dataframe tbody tr th {\n        vertical-align: top;\n    }\n\n    .dataframe thead th {\n        text-align: right;\n    }\n</style>\n<table border=\"1\" class=\"dataframe\">\n  <thead>\n    <tr style=\"text-align: right;\">\n      <th></th>\n      <th>MachineID</th>\n      <th>RWB_EFFECTIVE_DATE</th>\n      <th>LastHWScan</th>\n      <th>LastHWScan_Date</th>\n      <th>LastHWScan_Days</th>\n    </tr>\n  </thead>\n  <tbody>\n    <tr>\n      <th>0</th>\n      <td>16783564</td>\n      <td>2023-01-19</td>\n      <td>2023-01-18 14:43:36</td>\n      <td>2023-01-18</td>\n      <td>1</td>\n    </tr>\n    <tr>\n      <th>1</th>\n      <td>16783564</td>\n      <td>2023-01-20</td>\n      <td>2023-01-19 12:44:36</td>\n      <td>2023-01-19</td>\n      <td>1</td>\n    </tr>\n    <tr>\n      <th>2</th>\n      <td>16783564</td>\n      <td>2023-01-21</td>\n      <td>2023-01-21 06:52:59</td>\n      <td>2023-01-21</td>\n      <td>0</td>\n    </tr>\n    <tr>\n      <th>3</th>\n      <td>16783564</td>\n      <td>2023-01-22</td>\n      <td>2023-01-22 07:16:54</td>\n      <td>2023-01-22</td>\n      <td>0</td>\n    </tr>\n    <tr>\n      <th>4</th>\n      <td>16783564</td>\n      <td>2023-01-23</td>\n      <td>2023-01-23 05:09:56</td>\n      <td>2023-01-23</td>\n      <td>0</td>\n    </tr>\n    <tr>\n      <th>...</th>\n      <td>...</td>\n      <td>...</td>\n      <td>...</td>\n      <td>...</td>\n      <td>...</td>\n    </tr>\n    <tr>\n      <th>1064877</th>\n      <td>16819023</td>\n      <td>2023-07-01</td>\n      <td>2023-06-30 12:42:05</td>\n      <td>2023-06-30</td>\n      <td>1</td>\n    </tr>\n    <tr>\n      <th>1064878</th>\n      <td>16819023</td>\n      <td>2023-07-02</td>\n      <td>2023-07-02 05:46:22</td>\n      <td>2023-07-02</td>\n      <td>0</td>\n    </tr>\n    <tr>\n      <th>1064879</th>\n      <td>16819024</td>\n      <td>2023-07-01</td>\n      <td>2023-06-30 19:31:29</td>\n      <td>2023-06-30</td>\n      <td>1</td>\n    </tr>\n    <tr>\n      <th>1064880</th>\n      <td>16819024</td>\n      <td>2023-07-02</td>\n      <td>2023-07-02 02:30:37</td>\n      <td>2023-07-02</td>\n      <td>0</td>\n    </tr>\n    <tr>\n      <th>1064881</th>\n      <td>16819025</td>\n      <td>2023-07-02</td>\n      <td>2023-07-02 07:20:52</td>\n      <td>2023-07-02</td>\n      <td>0</td>\n    </tr>\n  </tbody>\n</table>\n<p>1064882 rows × 5 columns</p>\n</div>"
     },
     "execution_count": 15,
     "metadata": {},
     "output_type": "execute_result"
    }
   ],
   "source": [
    "last_hw_scan_days['LastHWScan_Days'] = last_hw_scan_days['LastHWScan_Days'].apply(lambda x: x.days)\n",
    "last_hw_scan_days"
   ],
   "metadata": {
    "collapsed": false,
    "ExecuteTime": {
     "end_time": "2023-08-06T17:21:16.988789969Z",
     "start_time": "2023-08-06T17:21:12.068639364Z"
    }
   }
  },
  {
   "cell_type": "code",
   "execution_count": 16,
   "outputs": [],
   "source": [
    "last_time['RWB_EFFECTIVE_DATE'] = last_time['RWB_EFFECTIVE_DATE'].astype('str')\n",
    "last_hw_scan_days['RWB_EFFECTIVE_DATE'] = last_hw_scan_days['RWB_EFFECTIVE_DATE'].astype('str')"
   ],
   "metadata": {
    "collapsed": false,
    "ExecuteTime": {
     "end_time": "2023-08-06T17:21:17.518445792Z",
     "start_time": "2023-08-06T17:21:16.993681496Z"
    }
   }
  },
  {
   "cell_type": "code",
   "execution_count": 17,
   "outputs": [
    {
     "data": {
      "text/plain": "         MachineID RWB_EFFECTIVE_DATE               LastHWScan  \\\n0         16783564         2023-01-19  2023-01-18 14:43:36.000   \n1         16783564         2023-01-20  2023-01-19 12:44:36.000   \n2         16783564         2023-01-21  2023-01-21 06:52:59.000   \n3         16783564         2023-01-22  2023-01-22 07:16:54.000   \n4         16783564         2023-01-23  2023-01-23 05:09:56.000   \n...            ...                ...                      ...   \n1064877   16819023         2023-07-01  2023-06-30 12:42:05.000   \n1064878   16819023         2023-07-02  2023-07-02 05:46:22.000   \n1064879   16819024         2023-07-01  2023-06-30 19:31:29.000   \n1064880   16819024         2023-07-02  2023-07-02 02:30:37.000   \n1064881   16819025         2023-07-02  2023-07-02 07:20:52.000   \n\n         LastHWScan_Days  \n0                      1  \n1                      1  \n2                      0  \n3                      0  \n4                      0  \n...                  ...  \n1064877                1  \n1064878                0  \n1064879                1  \n1064880                0  \n1064881                0  \n\n[1064882 rows x 4 columns]",
      "text/html": "<div>\n<style scoped>\n    .dataframe tbody tr th:only-of-type {\n        vertical-align: middle;\n    }\n\n    .dataframe tbody tr th {\n        vertical-align: top;\n    }\n\n    .dataframe thead th {\n        text-align: right;\n    }\n</style>\n<table border=\"1\" class=\"dataframe\">\n  <thead>\n    <tr style=\"text-align: right;\">\n      <th></th>\n      <th>MachineID</th>\n      <th>RWB_EFFECTIVE_DATE</th>\n      <th>LastHWScan</th>\n      <th>LastHWScan_Days</th>\n    </tr>\n  </thead>\n  <tbody>\n    <tr>\n      <th>0</th>\n      <td>16783564</td>\n      <td>2023-01-19</td>\n      <td>2023-01-18 14:43:36.000</td>\n      <td>1</td>\n    </tr>\n    <tr>\n      <th>1</th>\n      <td>16783564</td>\n      <td>2023-01-20</td>\n      <td>2023-01-19 12:44:36.000</td>\n      <td>1</td>\n    </tr>\n    <tr>\n      <th>2</th>\n      <td>16783564</td>\n      <td>2023-01-21</td>\n      <td>2023-01-21 06:52:59.000</td>\n      <td>0</td>\n    </tr>\n    <tr>\n      <th>3</th>\n      <td>16783564</td>\n      <td>2023-01-22</td>\n      <td>2023-01-22 07:16:54.000</td>\n      <td>0</td>\n    </tr>\n    <tr>\n      <th>4</th>\n      <td>16783564</td>\n      <td>2023-01-23</td>\n      <td>2023-01-23 05:09:56.000</td>\n      <td>0</td>\n    </tr>\n    <tr>\n      <th>...</th>\n      <td>...</td>\n      <td>...</td>\n      <td>...</td>\n      <td>...</td>\n    </tr>\n    <tr>\n      <th>1064877</th>\n      <td>16819023</td>\n      <td>2023-07-01</td>\n      <td>2023-06-30 12:42:05.000</td>\n      <td>1</td>\n    </tr>\n    <tr>\n      <th>1064878</th>\n      <td>16819023</td>\n      <td>2023-07-02</td>\n      <td>2023-07-02 05:46:22.000</td>\n      <td>0</td>\n    </tr>\n    <tr>\n      <th>1064879</th>\n      <td>16819024</td>\n      <td>2023-07-01</td>\n      <td>2023-06-30 19:31:29.000</td>\n      <td>1</td>\n    </tr>\n    <tr>\n      <th>1064880</th>\n      <td>16819024</td>\n      <td>2023-07-02</td>\n      <td>2023-07-02 02:30:37.000</td>\n      <td>0</td>\n    </tr>\n    <tr>\n      <th>1064881</th>\n      <td>16819025</td>\n      <td>2023-07-02</td>\n      <td>2023-07-02 07:20:52.000</td>\n      <td>0</td>\n    </tr>\n  </tbody>\n</table>\n<p>1064882 rows × 4 columns</p>\n</div>"
     },
     "execution_count": 17,
     "metadata": {},
     "output_type": "execute_result"
    }
   ],
   "source": [
    "combined = last_time.merge(last_hw_scan_days[['MachineID', 'RWB_EFFECTIVE_DATE', 'LastHWScan_Days']], on=['MachineID', 'RWB_EFFECTIVE_DATE'])\n",
    "combined"
   ],
   "metadata": {
    "collapsed": false,
    "ExecuteTime": {
     "end_time": "2023-08-06T17:21:17.859367997Z",
     "start_time": "2023-08-06T17:21:17.558705872Z"
    }
   }
  },
  {
   "cell_type": "code",
   "execution_count": 18,
   "outputs": [],
   "source": [
    "combined.to_parquet('../do_not_commit/FeatureDatasets/workstationstatus_features.pq')"
   ],
   "metadata": {
    "collapsed": false,
    "ExecuteTime": {
     "end_time": "2023-08-06T17:21:18.088367450Z",
     "start_time": "2023-08-06T17:21:17.875537090Z"
    }
   }
  },
  {
   "cell_type": "code",
   "execution_count": 19,
   "outputs": [],
   "source": [
    "# df.groupby().agg(lambda x: pd.Series(dict{}))"
   ],
   "metadata": {
    "collapsed": false,
    "ExecuteTime": {
     "end_time": "2023-08-06T17:21:18.090096847Z",
     "start_time": "2023-08-06T17:21:18.088658252Z"
    }
   }
  }
 ],
 "metadata": {
  "kernelspec": {
   "display_name": "Python 3",
   "language": "python",
   "name": "python3"
  },
  "language_info": {
   "codemirror_mode": {
    "name": "ipython",
    "version": 2
   },
   "file_extension": ".py",
   "mimetype": "text/x-python",
   "name": "python",
   "nbconvert_exporter": "python",
   "pygments_lexer": "ipython2",
   "version": "2.7.6"
  }
 },
 "nbformat": 4,
 "nbformat_minor": 0
}

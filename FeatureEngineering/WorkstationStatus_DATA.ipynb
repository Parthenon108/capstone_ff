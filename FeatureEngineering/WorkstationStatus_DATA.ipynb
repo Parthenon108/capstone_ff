{
 "cells": [
  {
   "cell_type": "code",
   "execution_count": 2,
   "metadata": {
    "collapsed": true,
    "ExecuteTime": {
     "end_time": "2023-08-01T23:31:05.920033028Z",
     "start_time": "2023-08-01T23:31:05.676315156Z"
    }
   },
   "outputs": [],
   "source": [
    "import pandas as pd"
   ]
  },
  {
   "cell_type": "code",
   "execution_count": 4,
   "outputs": [],
   "source": [
    "df = pd.read_parquet('../do_not_commit/Datasets/Persist_WorkstationStatus_Data.pq')"
   ],
   "metadata": {
    "collapsed": false,
    "ExecuteTime": {
     "end_time": "2023-08-01T23:33:59.391425204Z",
     "start_time": "2023-08-01T23:33:58.889169658Z"
    }
   }
  },
  {
   "cell_type": "code",
   "execution_count": 5,
   "outputs": [
    {
     "data": {
      "text/plain": "         RWB_WorkstationStatus_Data_ID  RWB_ETL_EVENT_DESTINATION_IDENTIFIER  \\\n0                                  310                                   879   \n1                                  311                                   879   \n2                                  312                                   879   \n3                                  313                                   879   \n4                                  314                                   879   \n...                                ...                                   ...   \n1048570                        1231583                                 10531   \n1048571                        1231584                                 10531   \n1048572                        1231586                                 10531   \n1048573                        1231587                                 10531   \n1048574                        1231588                                 10531   \n\n               RWB_CREATE_TIMESTAMP RWB_EFFECTIVE_DATE  MachineID  \\\n0        2023-01-19 09:35:25 -06:00         2023-01-19   16783564   \n1        2023-01-19 09:35:25 -06:00         2023-01-19   16783835   \n2        2023-01-19 09:35:25 -06:00         2023-01-19   16784339   \n3        2023-01-19 09:35:25 -06:00         2023-01-19   16784657   \n4        2023-01-19 09:35:25 -06:00         2023-01-19   16785825   \n...                             ...                ...        ...   \n1048570  2023-06-29 08:03:24 -05:00         2023-06-29   16813153   \n1048571  2023-06-29 08:03:24 -05:00         2023-06-29   16813157   \n1048572  2023-06-29 08:03:24 -05:00         2023-06-29   16813161   \n1048573  2023-06-29 08:03:24 -05:00         2023-06-29   16813163   \n1048574  2023-06-29 08:03:24 -05:00         2023-06-29   16813165   \n\n         InstanceKey  RevisionID  AgentID                  TimeKey  \\\n0                  5          27        1  2023-01-18 14:44:10.000   \n1                  6           2        1  2023-01-18 12:45:55.000   \n2                  4          29        1  2023-01-19 05:44:24.000   \n3                  4          29        1  2023-01-19 06:33:40.000   \n4                  3          29        1  2023-01-18 05:28:00.000   \n...              ...         ...      ...                      ...   \n1048570            3         117        1  2023-06-28 08:42:32.000   \n1048571            2         192        1  2023-06-29 04:34:11.000   \n1048572            4         118        1  2023-06-28 11:46:53.000   \n1048573            5         154        1  2023-06-28 05:53:21.000   \n1048574            5         142        1  2023-06-29 08:01:25.000   \n\n                 rowversion               LastHWScan  SystemDefaultLCID  \\\n0        0x000000011B24E822  2023-01-18 14:43:36.000               1033   \n1        0x000000011B1DD7CC  2023-01-18 12:44:59.000               1033   \n2        0x000000011B4E3D40  2023-01-19 05:43:05.000               1033   \n3        0x000000011B50D360  2023-01-19 06:31:46.000               1033   \n4        0x000000011AF971FD  2023-01-18 05:26:20.000               1033   \n...                     ...                      ...                ...   \n1048570  0x000000014183D5F2  2023-06-28 08:31:38.000               1033   \n1048571  0x0000000141C445CD  2023-06-29 05:31:15.000               1033   \n1048572  0x00000001419A5A60  2023-06-28 11:45:08.000               1033   \n1048573  0x000000014176892C  2023-06-28 06:20:07.000               1033   \n1048574  0x0000000141D01DBB  2023-06-29 07:59:58.000               1033   \n\n         TimezoneOffset  LastReportVersion  \n0                  -360        30064771098  \n1                  -360        34359738369  \n2                  -360        30064771100  \n3                  -360        25769803804  \n4                  -360        21474836508  \n...                 ...                ...  \n1048570            -300        12884902004  \n1048571            -240         8589934783  \n1048572            -300        30064771189  \n1048573            -240        21474836633  \n1048574            -300        21474836621  \n\n[1048575 rows x 14 columns]",
      "text/html": "<div>\n<style scoped>\n    .dataframe tbody tr th:only-of-type {\n        vertical-align: middle;\n    }\n\n    .dataframe tbody tr th {\n        vertical-align: top;\n    }\n\n    .dataframe thead th {\n        text-align: right;\n    }\n</style>\n<table border=\"1\" class=\"dataframe\">\n  <thead>\n    <tr style=\"text-align: right;\">\n      <th></th>\n      <th>RWB_WorkstationStatus_Data_ID</th>\n      <th>RWB_ETL_EVENT_DESTINATION_IDENTIFIER</th>\n      <th>RWB_CREATE_TIMESTAMP</th>\n      <th>RWB_EFFECTIVE_DATE</th>\n      <th>MachineID</th>\n      <th>InstanceKey</th>\n      <th>RevisionID</th>\n      <th>AgentID</th>\n      <th>TimeKey</th>\n      <th>rowversion</th>\n      <th>LastHWScan</th>\n      <th>SystemDefaultLCID</th>\n      <th>TimezoneOffset</th>\n      <th>LastReportVersion</th>\n    </tr>\n  </thead>\n  <tbody>\n    <tr>\n      <th>0</th>\n      <td>310</td>\n      <td>879</td>\n      <td>2023-01-19 09:35:25 -06:00</td>\n      <td>2023-01-19</td>\n      <td>16783564</td>\n      <td>5</td>\n      <td>27</td>\n      <td>1</td>\n      <td>2023-01-18 14:44:10.000</td>\n      <td>0x000000011B24E822</td>\n      <td>2023-01-18 14:43:36.000</td>\n      <td>1033</td>\n      <td>-360</td>\n      <td>30064771098</td>\n    </tr>\n    <tr>\n      <th>1</th>\n      <td>311</td>\n      <td>879</td>\n      <td>2023-01-19 09:35:25 -06:00</td>\n      <td>2023-01-19</td>\n      <td>16783835</td>\n      <td>6</td>\n      <td>2</td>\n      <td>1</td>\n      <td>2023-01-18 12:45:55.000</td>\n      <td>0x000000011B1DD7CC</td>\n      <td>2023-01-18 12:44:59.000</td>\n      <td>1033</td>\n      <td>-360</td>\n      <td>34359738369</td>\n    </tr>\n    <tr>\n      <th>2</th>\n      <td>312</td>\n      <td>879</td>\n      <td>2023-01-19 09:35:25 -06:00</td>\n      <td>2023-01-19</td>\n      <td>16784339</td>\n      <td>4</td>\n      <td>29</td>\n      <td>1</td>\n      <td>2023-01-19 05:44:24.000</td>\n      <td>0x000000011B4E3D40</td>\n      <td>2023-01-19 05:43:05.000</td>\n      <td>1033</td>\n      <td>-360</td>\n      <td>30064771100</td>\n    </tr>\n    <tr>\n      <th>3</th>\n      <td>313</td>\n      <td>879</td>\n      <td>2023-01-19 09:35:25 -06:00</td>\n      <td>2023-01-19</td>\n      <td>16784657</td>\n      <td>4</td>\n      <td>29</td>\n      <td>1</td>\n      <td>2023-01-19 06:33:40.000</td>\n      <td>0x000000011B50D360</td>\n      <td>2023-01-19 06:31:46.000</td>\n      <td>1033</td>\n      <td>-360</td>\n      <td>25769803804</td>\n    </tr>\n    <tr>\n      <th>4</th>\n      <td>314</td>\n      <td>879</td>\n      <td>2023-01-19 09:35:25 -06:00</td>\n      <td>2023-01-19</td>\n      <td>16785825</td>\n      <td>3</td>\n      <td>29</td>\n      <td>1</td>\n      <td>2023-01-18 05:28:00.000</td>\n      <td>0x000000011AF971FD</td>\n      <td>2023-01-18 05:26:20.000</td>\n      <td>1033</td>\n      <td>-360</td>\n      <td>21474836508</td>\n    </tr>\n    <tr>\n      <th>...</th>\n      <td>...</td>\n      <td>...</td>\n      <td>...</td>\n      <td>...</td>\n      <td>...</td>\n      <td>...</td>\n      <td>...</td>\n      <td>...</td>\n      <td>...</td>\n      <td>...</td>\n      <td>...</td>\n      <td>...</td>\n      <td>...</td>\n      <td>...</td>\n    </tr>\n    <tr>\n      <th>1048570</th>\n      <td>1231583</td>\n      <td>10531</td>\n      <td>2023-06-29 08:03:24 -05:00</td>\n      <td>2023-06-29</td>\n      <td>16813153</td>\n      <td>3</td>\n      <td>117</td>\n      <td>1</td>\n      <td>2023-06-28 08:42:32.000</td>\n      <td>0x000000014183D5F2</td>\n      <td>2023-06-28 08:31:38.000</td>\n      <td>1033</td>\n      <td>-300</td>\n      <td>12884902004</td>\n    </tr>\n    <tr>\n      <th>1048571</th>\n      <td>1231584</td>\n      <td>10531</td>\n      <td>2023-06-29 08:03:24 -05:00</td>\n      <td>2023-06-29</td>\n      <td>16813157</td>\n      <td>2</td>\n      <td>192</td>\n      <td>1</td>\n      <td>2023-06-29 04:34:11.000</td>\n      <td>0x0000000141C445CD</td>\n      <td>2023-06-29 05:31:15.000</td>\n      <td>1033</td>\n      <td>-240</td>\n      <td>8589934783</td>\n    </tr>\n    <tr>\n      <th>1048572</th>\n      <td>1231586</td>\n      <td>10531</td>\n      <td>2023-06-29 08:03:24 -05:00</td>\n      <td>2023-06-29</td>\n      <td>16813161</td>\n      <td>4</td>\n      <td>118</td>\n      <td>1</td>\n      <td>2023-06-28 11:46:53.000</td>\n      <td>0x00000001419A5A60</td>\n      <td>2023-06-28 11:45:08.000</td>\n      <td>1033</td>\n      <td>-300</td>\n      <td>30064771189</td>\n    </tr>\n    <tr>\n      <th>1048573</th>\n      <td>1231587</td>\n      <td>10531</td>\n      <td>2023-06-29 08:03:24 -05:00</td>\n      <td>2023-06-29</td>\n      <td>16813163</td>\n      <td>5</td>\n      <td>154</td>\n      <td>1</td>\n      <td>2023-06-28 05:53:21.000</td>\n      <td>0x000000014176892C</td>\n      <td>2023-06-28 06:20:07.000</td>\n      <td>1033</td>\n      <td>-240</td>\n      <td>21474836633</td>\n    </tr>\n    <tr>\n      <th>1048574</th>\n      <td>1231588</td>\n      <td>10531</td>\n      <td>2023-06-29 08:03:24 -05:00</td>\n      <td>2023-06-29</td>\n      <td>16813165</td>\n      <td>5</td>\n      <td>142</td>\n      <td>1</td>\n      <td>2023-06-29 08:01:25.000</td>\n      <td>0x0000000141D01DBB</td>\n      <td>2023-06-29 07:59:58.000</td>\n      <td>1033</td>\n      <td>-300</td>\n      <td>21474836621</td>\n    </tr>\n  </tbody>\n</table>\n<p>1048575 rows × 14 columns</p>\n</div>"
     },
     "execution_count": 5,
     "metadata": {},
     "output_type": "execute_result"
    }
   ],
   "source": [
    "df"
   ],
   "metadata": {
    "collapsed": false,
    "ExecuteTime": {
     "end_time": "2023-08-01T23:34:25.454449428Z",
     "start_time": "2023-08-01T23:34:25.442090395Z"
    }
   }
  },
  {
   "cell_type": "markdown",
   "source": [
    "\n",
    "# last_hw_scan_datetime\n"
   ],
   "metadata": {
    "collapsed": false
   }
  },
  {
   "cell_type": "code",
   "execution_count": 28,
   "outputs": [
    {
     "data": {
      "text/plain": "         MachineID RWB_EFFECTIVE_DATE               LastHWScan\n0         16783564         2023-01-19  2023-01-18 14:43:36.000\n1         16783564         2023-01-20  2023-01-19 12:44:36.000\n2         16783564         2023-01-21  2023-01-21 06:52:59.000\n3         16783564         2023-01-22  2023-01-22 07:16:54.000\n4         16783564         2023-01-23  2023-01-23 05:09:56.000\n...            ...                ...                      ...\n1042092   16818954         2023-06-28  2023-06-27 11:47:06.000\n1042093   16818955         2023-06-28  2023-06-27 12:32:15.000\n1042094   16818958         2023-06-28  2023-06-27 15:32:13.000\n1042095   16818959         2023-06-28  2023-06-27 16:15:28.000\n1042096   16818962         2023-06-28  2023-06-27 16:00:52.000\n\n[1042097 rows x 3 columns]",
      "text/html": "<div>\n<style scoped>\n    .dataframe tbody tr th:only-of-type {\n        vertical-align: middle;\n    }\n\n    .dataframe tbody tr th {\n        vertical-align: top;\n    }\n\n    .dataframe thead th {\n        text-align: right;\n    }\n</style>\n<table border=\"1\" class=\"dataframe\">\n  <thead>\n    <tr style=\"text-align: right;\">\n      <th></th>\n      <th>MachineID</th>\n      <th>RWB_EFFECTIVE_DATE</th>\n      <th>LastHWScan</th>\n    </tr>\n  </thead>\n  <tbody>\n    <tr>\n      <th>0</th>\n      <td>16783564</td>\n      <td>2023-01-19</td>\n      <td>2023-01-18 14:43:36.000</td>\n    </tr>\n    <tr>\n      <th>1</th>\n      <td>16783564</td>\n      <td>2023-01-20</td>\n      <td>2023-01-19 12:44:36.000</td>\n    </tr>\n    <tr>\n      <th>2</th>\n      <td>16783564</td>\n      <td>2023-01-21</td>\n      <td>2023-01-21 06:52:59.000</td>\n    </tr>\n    <tr>\n      <th>3</th>\n      <td>16783564</td>\n      <td>2023-01-22</td>\n      <td>2023-01-22 07:16:54.000</td>\n    </tr>\n    <tr>\n      <th>4</th>\n      <td>16783564</td>\n      <td>2023-01-23</td>\n      <td>2023-01-23 05:09:56.000</td>\n    </tr>\n    <tr>\n      <th>...</th>\n      <td>...</td>\n      <td>...</td>\n      <td>...</td>\n    </tr>\n    <tr>\n      <th>1042092</th>\n      <td>16818954</td>\n      <td>2023-06-28</td>\n      <td>2023-06-27 11:47:06.000</td>\n    </tr>\n    <tr>\n      <th>1042093</th>\n      <td>16818955</td>\n      <td>2023-06-28</td>\n      <td>2023-06-27 12:32:15.000</td>\n    </tr>\n    <tr>\n      <th>1042094</th>\n      <td>16818958</td>\n      <td>2023-06-28</td>\n      <td>2023-06-27 15:32:13.000</td>\n    </tr>\n    <tr>\n      <th>1042095</th>\n      <td>16818959</td>\n      <td>2023-06-28</td>\n      <td>2023-06-27 16:15:28.000</td>\n    </tr>\n    <tr>\n      <th>1042096</th>\n      <td>16818962</td>\n      <td>2023-06-28</td>\n      <td>2023-06-27 16:00:52.000</td>\n    </tr>\n  </tbody>\n</table>\n<p>1042097 rows × 3 columns</p>\n</div>"
     },
     "execution_count": 28,
     "metadata": {},
     "output_type": "execute_result"
    }
   ],
   "source": [
    "# Datetime of the last hardware scan. Grab this from LastHWScan from WorkstationStatus_Data.\n",
    "last_time = df.groupby(['MachineID', 'RWB_EFFECTIVE_DATE']).agg({'LastHWScan':'min'}).reset_index()\n",
    "last_time"
   ],
   "metadata": {
    "collapsed": false,
    "ExecuteTime": {
     "end_time": "2023-08-01T23:51:39.976646178Z",
     "start_time": "2023-08-01T23:50:31.212226022Z"
    }
   }
  },
  {
   "cell_type": "markdown",
   "source": [
    "\n",
    "# last_hw_scan_age\n"
   ],
   "metadata": {
    "collapsed": false
   }
  },
  {
   "cell_type": "code",
   "execution_count": 21,
   "outputs": [],
   "source": [
    "# Age in days of the last hardware scan. Calculate this from LastHWScan from WorkstationStatus_Data."
   ],
   "metadata": {
    "collapsed": false,
    "ExecuteTime": {
     "end_time": "2023-08-01T23:48:33.513779971Z",
     "start_time": "2023-08-01T23:48:33.512445733Z"
    }
   }
  },
  {
   "cell_type": "code",
   "execution_count": 22,
   "outputs": [],
   "source": [
    "last_hw_scan_days = df.groupby(['MachineID', 'RWB_EFFECTIVE_DATE'])['LastHWScan'].agg('min').reset_index()"
   ],
   "metadata": {
    "collapsed": false,
    "ExecuteTime": {
     "end_time": "2023-08-01T23:49:40.521554678Z",
     "start_time": "2023-08-01T23:48:33.512569252Z"
    }
   }
  },
  {
   "cell_type": "code",
   "execution_count": 23,
   "outputs": [],
   "source": [
    "last_hw_scan_days['RWB_EFFECTIVE_DATE'] = pd.to_datetime(last_hw_scan_days['RWB_EFFECTIVE_DATE']).dt.date\n",
    "last_hw_scan_days['LastHWScan'] = pd.to_datetime(last_hw_scan_days['LastHWScan'])"
   ],
   "metadata": {
    "collapsed": false,
    "ExecuteTime": {
     "end_time": "2023-08-01T23:49:41.225803672Z",
     "start_time": "2023-08-01T23:49:40.565251268Z"
    }
   }
  },
  {
   "cell_type": "code",
   "execution_count": 24,
   "outputs": [],
   "source": [
    "last_hw_scan_days['LastHWScan_Date'] = last_hw_scan_days['LastHWScan'].apply(lambda x: x.date())\n",
    "last_hw_scan_days['LastHWScan_Days'] = last_hw_scan_days['RWB_EFFECTIVE_DATE'] - last_hw_scan_days['LastHWScan_Date']"
   ],
   "metadata": {
    "collapsed": false,
    "ExecuteTime": {
     "end_time": "2023-08-01T23:49:43.573119232Z",
     "start_time": "2023-08-01T23:49:42.149847617Z"
    }
   }
  },
  {
   "cell_type": "code",
   "execution_count": 25,
   "outputs": [
    {
     "data": {
      "text/plain": "         MachineID RWB_EFFECTIVE_DATE          LastHWScan LastHWScan_Date  \\\n0         16783564         2023-01-19 2023-01-18 14:43:36      2023-01-18   \n1         16783564         2023-01-20 2023-01-19 12:44:36      2023-01-19   \n2         16783564         2023-01-21 2023-01-21 06:52:59      2023-01-21   \n3         16783564         2023-01-22 2023-01-22 07:16:54      2023-01-22   \n4         16783564         2023-01-23 2023-01-23 05:09:56      2023-01-23   \n...            ...                ...                 ...             ...   \n1042092   16818954         2023-06-28 2023-06-27 11:47:06      2023-06-27   \n1042093   16818955         2023-06-28 2023-06-27 12:32:15      2023-06-27   \n1042094   16818958         2023-06-28 2023-06-27 15:32:13      2023-06-27   \n1042095   16818959         2023-06-28 2023-06-27 16:15:28      2023-06-27   \n1042096   16818962         2023-06-28 2023-06-27 16:00:52      2023-06-27   \n\n         LastHWScan_Days  \n0                      1  \n1                      1  \n2                      0  \n3                      0  \n4                      0  \n...                  ...  \n1042092                1  \n1042093                1  \n1042094                1  \n1042095                1  \n1042096                1  \n\n[1042097 rows x 5 columns]",
      "text/html": "<div>\n<style scoped>\n    .dataframe tbody tr th:only-of-type {\n        vertical-align: middle;\n    }\n\n    .dataframe tbody tr th {\n        vertical-align: top;\n    }\n\n    .dataframe thead th {\n        text-align: right;\n    }\n</style>\n<table border=\"1\" class=\"dataframe\">\n  <thead>\n    <tr style=\"text-align: right;\">\n      <th></th>\n      <th>MachineID</th>\n      <th>RWB_EFFECTIVE_DATE</th>\n      <th>LastHWScan</th>\n      <th>LastHWScan_Date</th>\n      <th>LastHWScan_Days</th>\n    </tr>\n  </thead>\n  <tbody>\n    <tr>\n      <th>0</th>\n      <td>16783564</td>\n      <td>2023-01-19</td>\n      <td>2023-01-18 14:43:36</td>\n      <td>2023-01-18</td>\n      <td>1</td>\n    </tr>\n    <tr>\n      <th>1</th>\n      <td>16783564</td>\n      <td>2023-01-20</td>\n      <td>2023-01-19 12:44:36</td>\n      <td>2023-01-19</td>\n      <td>1</td>\n    </tr>\n    <tr>\n      <th>2</th>\n      <td>16783564</td>\n      <td>2023-01-21</td>\n      <td>2023-01-21 06:52:59</td>\n      <td>2023-01-21</td>\n      <td>0</td>\n    </tr>\n    <tr>\n      <th>3</th>\n      <td>16783564</td>\n      <td>2023-01-22</td>\n      <td>2023-01-22 07:16:54</td>\n      <td>2023-01-22</td>\n      <td>0</td>\n    </tr>\n    <tr>\n      <th>4</th>\n      <td>16783564</td>\n      <td>2023-01-23</td>\n      <td>2023-01-23 05:09:56</td>\n      <td>2023-01-23</td>\n      <td>0</td>\n    </tr>\n    <tr>\n      <th>...</th>\n      <td>...</td>\n      <td>...</td>\n      <td>...</td>\n      <td>...</td>\n      <td>...</td>\n    </tr>\n    <tr>\n      <th>1042092</th>\n      <td>16818954</td>\n      <td>2023-06-28</td>\n      <td>2023-06-27 11:47:06</td>\n      <td>2023-06-27</td>\n      <td>1</td>\n    </tr>\n    <tr>\n      <th>1042093</th>\n      <td>16818955</td>\n      <td>2023-06-28</td>\n      <td>2023-06-27 12:32:15</td>\n      <td>2023-06-27</td>\n      <td>1</td>\n    </tr>\n    <tr>\n      <th>1042094</th>\n      <td>16818958</td>\n      <td>2023-06-28</td>\n      <td>2023-06-27 15:32:13</td>\n      <td>2023-06-27</td>\n      <td>1</td>\n    </tr>\n    <tr>\n      <th>1042095</th>\n      <td>16818959</td>\n      <td>2023-06-28</td>\n      <td>2023-06-27 16:15:28</td>\n      <td>2023-06-27</td>\n      <td>1</td>\n    </tr>\n    <tr>\n      <th>1042096</th>\n      <td>16818962</td>\n      <td>2023-06-28</td>\n      <td>2023-06-27 16:00:52</td>\n      <td>2023-06-27</td>\n      <td>1</td>\n    </tr>\n  </tbody>\n</table>\n<p>1042097 rows × 5 columns</p>\n</div>"
     },
     "execution_count": 25,
     "metadata": {},
     "output_type": "execute_result"
    }
   ],
   "source": [
    "last_hw_scan_days['LastHWScan_Days'] = last_hw_scan_days['LastHWScan_Days'].apply(lambda x: x.days)\n",
    "last_hw_scan_days"
   ],
   "metadata": {
    "collapsed": false,
    "ExecuteTime": {
     "end_time": "2023-08-01T23:49:48.691851911Z",
     "start_time": "2023-08-01T23:49:43.574918740Z"
    }
   }
  },
  {
   "cell_type": "code",
   "execution_count": 29,
   "outputs": [],
   "source": [
    "last_time['RWB_EFFECTIVE_DATE'] = last_time['RWB_EFFECTIVE_DATE'].astype('str')\n",
    "last_hw_scan_days['RWB_EFFECTIVE_DATE'] = last_hw_scan_days['RWB_EFFECTIVE_DATE'].astype('str')"
   ],
   "metadata": {
    "collapsed": false,
    "ExecuteTime": {
     "end_time": "2023-08-01T23:51:45.014251838Z",
     "start_time": "2023-08-01T23:51:44.528866871Z"
    }
   }
  },
  {
   "cell_type": "code",
   "execution_count": 30,
   "outputs": [
    {
     "data": {
      "text/plain": "         MachineID RWB_EFFECTIVE_DATE               LastHWScan  \\\n0         16783564         2023-01-19  2023-01-18 14:43:36.000   \n1         16783564         2023-01-20  2023-01-19 12:44:36.000   \n2         16783564         2023-01-21  2023-01-21 06:52:59.000   \n3         16783564         2023-01-22  2023-01-22 07:16:54.000   \n4         16783564         2023-01-23  2023-01-23 05:09:56.000   \n...            ...                ...                      ...   \n1042092   16818954         2023-06-28  2023-06-27 11:47:06.000   \n1042093   16818955         2023-06-28  2023-06-27 12:32:15.000   \n1042094   16818958         2023-06-28  2023-06-27 15:32:13.000   \n1042095   16818959         2023-06-28  2023-06-27 16:15:28.000   \n1042096   16818962         2023-06-28  2023-06-27 16:00:52.000   \n\n         LastHWScan_Days  \n0                      1  \n1                      1  \n2                      0  \n3                      0  \n4                      0  \n...                  ...  \n1042092                1  \n1042093                1  \n1042094                1  \n1042095                1  \n1042096                1  \n\n[1042097 rows x 4 columns]",
      "text/html": "<div>\n<style scoped>\n    .dataframe tbody tr th:only-of-type {\n        vertical-align: middle;\n    }\n\n    .dataframe tbody tr th {\n        vertical-align: top;\n    }\n\n    .dataframe thead th {\n        text-align: right;\n    }\n</style>\n<table border=\"1\" class=\"dataframe\">\n  <thead>\n    <tr style=\"text-align: right;\">\n      <th></th>\n      <th>MachineID</th>\n      <th>RWB_EFFECTIVE_DATE</th>\n      <th>LastHWScan</th>\n      <th>LastHWScan_Days</th>\n    </tr>\n  </thead>\n  <tbody>\n    <tr>\n      <th>0</th>\n      <td>16783564</td>\n      <td>2023-01-19</td>\n      <td>2023-01-18 14:43:36.000</td>\n      <td>1</td>\n    </tr>\n    <tr>\n      <th>1</th>\n      <td>16783564</td>\n      <td>2023-01-20</td>\n      <td>2023-01-19 12:44:36.000</td>\n      <td>1</td>\n    </tr>\n    <tr>\n      <th>2</th>\n      <td>16783564</td>\n      <td>2023-01-21</td>\n      <td>2023-01-21 06:52:59.000</td>\n      <td>0</td>\n    </tr>\n    <tr>\n      <th>3</th>\n      <td>16783564</td>\n      <td>2023-01-22</td>\n      <td>2023-01-22 07:16:54.000</td>\n      <td>0</td>\n    </tr>\n    <tr>\n      <th>4</th>\n      <td>16783564</td>\n      <td>2023-01-23</td>\n      <td>2023-01-23 05:09:56.000</td>\n      <td>0</td>\n    </tr>\n    <tr>\n      <th>...</th>\n      <td>...</td>\n      <td>...</td>\n      <td>...</td>\n      <td>...</td>\n    </tr>\n    <tr>\n      <th>1042092</th>\n      <td>16818954</td>\n      <td>2023-06-28</td>\n      <td>2023-06-27 11:47:06.000</td>\n      <td>1</td>\n    </tr>\n    <tr>\n      <th>1042093</th>\n      <td>16818955</td>\n      <td>2023-06-28</td>\n      <td>2023-06-27 12:32:15.000</td>\n      <td>1</td>\n    </tr>\n    <tr>\n      <th>1042094</th>\n      <td>16818958</td>\n      <td>2023-06-28</td>\n      <td>2023-06-27 15:32:13.000</td>\n      <td>1</td>\n    </tr>\n    <tr>\n      <th>1042095</th>\n      <td>16818959</td>\n      <td>2023-06-28</td>\n      <td>2023-06-27 16:15:28.000</td>\n      <td>1</td>\n    </tr>\n    <tr>\n      <th>1042096</th>\n      <td>16818962</td>\n      <td>2023-06-28</td>\n      <td>2023-06-27 16:00:52.000</td>\n      <td>1</td>\n    </tr>\n  </tbody>\n</table>\n<p>1042097 rows × 4 columns</p>\n</div>"
     },
     "execution_count": 30,
     "metadata": {},
     "output_type": "execute_result"
    }
   ],
   "source": [
    "combined = last_time.merge(last_hw_scan_days[['MachineID', 'RWB_EFFECTIVE_DATE', 'LastHWScan_Days']], on=['MachineID', 'RWB_EFFECTIVE_DATE'])\n",
    "combined"
   ],
   "metadata": {
    "collapsed": false,
    "ExecuteTime": {
     "end_time": "2023-08-01T23:51:47.501145945Z",
     "start_time": "2023-08-01T23:51:47.138850661Z"
    }
   }
  },
  {
   "cell_type": "code",
   "execution_count": 31,
   "outputs": [],
   "source": [
    "combined.to_parquet('../do_not_commit/FeatureDatasets/workstationstatus_features.pq')"
   ],
   "metadata": {
    "collapsed": false,
    "ExecuteTime": {
     "end_time": "2023-08-01T23:52:48.883524241Z",
     "start_time": "2023-08-01T23:52:48.736598868Z"
    }
   }
  },
  {
   "cell_type": "code",
   "execution_count": null,
   "outputs": [],
   "source": [
    "# df.groupby().agg(lambda x: pd.Series(dict{}))"
   ],
   "metadata": {
    "collapsed": false
   }
  }
 ],
 "metadata": {
  "kernelspec": {
   "display_name": "Python 3",
   "language": "python",
   "name": "python3"
  },
  "language_info": {
   "codemirror_mode": {
    "name": "ipython",
    "version": 2
   },
   "file_extension": ".py",
   "mimetype": "text/x-python",
   "name": "python",
   "nbconvert_exporter": "python",
   "pygments_lexer": "ipython2",
   "version": "2.7.6"
  }
 },
 "nbformat": 4,
 "nbformat_minor": 0
}

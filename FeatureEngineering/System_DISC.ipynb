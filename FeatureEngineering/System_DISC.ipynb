{
 "cells": [
  {
   "cell_type": "code",
   "execution_count": 1,
   "metadata": {
    "collapsed": true,
    "ExecuteTime": {
     "end_time": "2023-08-06T17:28:52.356828471Z",
     "start_time": "2023-08-06T17:28:51.330540593Z"
    }
   },
   "outputs": [],
   "source": [
    "import pandas as pd\n",
    "import missingno as msno"
   ]
  },
  {
   "cell_type": "code",
   "execution_count": 2,
   "outputs": [],
   "source": [
    "df = pd.read_parquet('../do_not_commit/Datasets/Persist_System_DISC.pq')"
   ],
   "metadata": {
    "collapsed": false,
    "ExecuteTime": {
     "end_time": "2023-08-06T17:28:55.071920543Z",
     "start_time": "2023-08-06T17:28:52.359500532Z"
    }
   }
  },
  {
   "cell_type": "code",
   "execution_count": 3,
   "outputs": [
    {
     "data": {
      "text/plain": "'2023-07-04'"
     },
     "execution_count": 3,
     "metadata": {},
     "output_type": "execute_result"
    }
   ],
   "source": [
    "df['RWB_EFFECTIVE_DATE'].max()"
   ],
   "metadata": {
    "collapsed": false,
    "ExecuteTime": {
     "end_time": "2023-08-06T17:28:55.160315253Z",
     "start_time": "2023-08-06T17:28:55.154037684Z"
    }
   }
  },
  {
   "cell_type": "markdown",
   "source": [
    "\n",
    "# days_since_creation\n"
   ],
   "metadata": {
    "collapsed": false
   }
  },
  {
   "cell_type": "code",
   "execution_count": 4,
   "outputs": [],
   "source": [
    "# The number of days since the machine was created.\n",
    "# This feature can be created from the Creation_Date0 field from system_DISC."
   ],
   "metadata": {
    "collapsed": false,
    "ExecuteTime": {
     "end_time": "2023-08-06T17:28:55.162979048Z",
     "start_time": "2023-08-06T17:28:55.159480883Z"
    }
   }
  },
  {
   "cell_type": "code",
   "execution_count": 5,
   "outputs": [],
   "source": [
    "days_since_creation = df.groupby(['ItemKey', 'RWB_EFFECTIVE_DATE'])['Creation_Date0'].agg('max').reset_index()"
   ],
   "metadata": {
    "collapsed": false,
    "ExecuteTime": {
     "end_time": "2023-08-06T17:31:11.430516015Z",
     "start_time": "2023-08-06T17:28:55.164627506Z"
    }
   }
  },
  {
   "cell_type": "code",
   "execution_count": 6,
   "outputs": [],
   "source": [
    "days_since_creation['RWB_EFFECTIVE_DATE'] = pd.to_datetime(days_since_creation['RWB_EFFECTIVE_DATE']).dt.date\n",
    "days_since_creation['Creation_Date0'] = pd.to_datetime(days_since_creation['Creation_Date0'])"
   ],
   "metadata": {
    "collapsed": false,
    "ExecuteTime": {
     "end_time": "2023-08-06T17:31:12.140089119Z",
     "start_time": "2023-08-06T17:31:11.476585312Z"
    }
   }
  },
  {
   "cell_type": "code",
   "execution_count": 7,
   "outputs": [],
   "source": [
    "days_since_creation['Creation_Date0_Days'] = days_since_creation['Creation_Date0'].apply(lambda x: x.date())\n",
    "days_since_creation['Days Since Creation'] = days_since_creation['RWB_EFFECTIVE_DATE'] - days_since_creation['Creation_Date0_Days']"
   ],
   "metadata": {
    "collapsed": false,
    "ExecuteTime": {
     "end_time": "2023-08-06T17:31:16.907776615Z",
     "start_time": "2023-08-06T17:31:12.142553262Z"
    }
   }
  },
  {
   "cell_type": "code",
   "execution_count": 8,
   "outputs": [
    {
     "data": {
      "text/plain": "            ItemKey RWB_EFFECTIVE_DATE      Creation_Date0  \\\n0          16783564         2022-08-30 2018-06-07 14:53:07   \n1          16783564         2022-08-31 2018-06-07 14:53:07   \n2          16783564         2022-09-01 2018-06-07 14:53:07   \n3          16783564         2022-09-02 2018-06-07 14:53:07   \n4          16783564         2022-09-03 2018-06-07 14:53:07   \n...             ...                ...                 ...   \n2088306  2097181630         2023-07-03 2023-07-01 05:28:36   \n2088307  2097181630         2023-07-04 2023-07-01 05:28:36   \n2088308  2097181631         2023-07-02 2023-07-01 15:05:04   \n2088309  2097181632         2023-07-03 2023-07-03 13:50:11   \n2088310  2097181632         2023-07-04 2023-07-03 13:50:11   \n\n        Creation_Date0_Days  Days Since Creation  \n0                2018-06-07                 1545  \n1                2018-06-07                 1546  \n2                2018-06-07                 1547  \n3                2018-06-07                 1548  \n4                2018-06-07                 1549  \n...                     ...                  ...  \n2088306          2023-07-01                    2  \n2088307          2023-07-01                    3  \n2088308          2023-07-01                    1  \n2088309          2023-07-03                    0  \n2088310          2023-07-03                    1  \n\n[2088311 rows x 5 columns]",
      "text/html": "<div>\n<style scoped>\n    .dataframe tbody tr th:only-of-type {\n        vertical-align: middle;\n    }\n\n    .dataframe tbody tr th {\n        vertical-align: top;\n    }\n\n    .dataframe thead th {\n        text-align: right;\n    }\n</style>\n<table border=\"1\" class=\"dataframe\">\n  <thead>\n    <tr style=\"text-align: right;\">\n      <th></th>\n      <th>ItemKey</th>\n      <th>RWB_EFFECTIVE_DATE</th>\n      <th>Creation_Date0</th>\n      <th>Creation_Date0_Days</th>\n      <th>Days Since Creation</th>\n    </tr>\n  </thead>\n  <tbody>\n    <tr>\n      <th>0</th>\n      <td>16783564</td>\n      <td>2022-08-30</td>\n      <td>2018-06-07 14:53:07</td>\n      <td>2018-06-07</td>\n      <td>1545</td>\n    </tr>\n    <tr>\n      <th>1</th>\n      <td>16783564</td>\n      <td>2022-08-31</td>\n      <td>2018-06-07 14:53:07</td>\n      <td>2018-06-07</td>\n      <td>1546</td>\n    </tr>\n    <tr>\n      <th>2</th>\n      <td>16783564</td>\n      <td>2022-09-01</td>\n      <td>2018-06-07 14:53:07</td>\n      <td>2018-06-07</td>\n      <td>1547</td>\n    </tr>\n    <tr>\n      <th>3</th>\n      <td>16783564</td>\n      <td>2022-09-02</td>\n      <td>2018-06-07 14:53:07</td>\n      <td>2018-06-07</td>\n      <td>1548</td>\n    </tr>\n    <tr>\n      <th>4</th>\n      <td>16783564</td>\n      <td>2022-09-03</td>\n      <td>2018-06-07 14:53:07</td>\n      <td>2018-06-07</td>\n      <td>1549</td>\n    </tr>\n    <tr>\n      <th>...</th>\n      <td>...</td>\n      <td>...</td>\n      <td>...</td>\n      <td>...</td>\n      <td>...</td>\n    </tr>\n    <tr>\n      <th>2088306</th>\n      <td>2097181630</td>\n      <td>2023-07-03</td>\n      <td>2023-07-01 05:28:36</td>\n      <td>2023-07-01</td>\n      <td>2</td>\n    </tr>\n    <tr>\n      <th>2088307</th>\n      <td>2097181630</td>\n      <td>2023-07-04</td>\n      <td>2023-07-01 05:28:36</td>\n      <td>2023-07-01</td>\n      <td>3</td>\n    </tr>\n    <tr>\n      <th>2088308</th>\n      <td>2097181631</td>\n      <td>2023-07-02</td>\n      <td>2023-07-01 15:05:04</td>\n      <td>2023-07-01</td>\n      <td>1</td>\n    </tr>\n    <tr>\n      <th>2088309</th>\n      <td>2097181632</td>\n      <td>2023-07-03</td>\n      <td>2023-07-03 13:50:11</td>\n      <td>2023-07-03</td>\n      <td>0</td>\n    </tr>\n    <tr>\n      <th>2088310</th>\n      <td>2097181632</td>\n      <td>2023-07-04</td>\n      <td>2023-07-03 13:50:11</td>\n      <td>2023-07-03</td>\n      <td>1</td>\n    </tr>\n  </tbody>\n</table>\n<p>2088311 rows × 5 columns</p>\n</div>"
     },
     "execution_count": 8,
     "metadata": {},
     "output_type": "execute_result"
    }
   ],
   "source": [
    "# days_since_creation.drop(columns='Creation_Date0', inplace=True)\n",
    "days_since_creation['Days Since Creation'] = days_since_creation['Days Since Creation'].apply(lambda x: x.days)\n",
    "days_since_creation"
   ],
   "metadata": {
    "collapsed": false,
    "ExecuteTime": {
     "end_time": "2023-08-06T17:31:26.835755853Z",
     "start_time": "2023-08-06T17:31:16.909718705Z"
    }
   }
  },
  {
   "cell_type": "code",
   "execution_count": 9,
   "outputs": [],
   "source": [
    "# is_virtual_machine\n",
    "# Identifies if the machine is a virtual machine or not.\n",
    "# This can be pulled directly from the Is_Virtual_Macihine0.\n",
    "\n",
    "# is_client\n",
    "# Identifies if the machine is a SCCM client or not.\n",
    "# This can be pulled directly from the Client0 attribute in Persist.System_DISC.\n",
    "\n",
    "# is_active\n",
    "# Identifies if the machine is active or not.\n",
    "# This can be pulled directly from the Active0 attribute in Persist.System_DISC."
   ],
   "metadata": {
    "collapsed": false,
    "ExecuteTime": {
     "end_time": "2023-08-06T17:31:26.835969559Z",
     "start_time": "2023-08-06T17:31:26.807664718Z"
    }
   }
  },
  {
   "cell_type": "code",
   "execution_count": 10,
   "outputs": [
    {
     "data": {
      "text/plain": "            ItemKey RWB_EFFECTIVE_DATE Is_Virtual_Machine0  Client0  Active0\n0          16783564         2022-08-30                True      1.0      1.0\n1          16783564         2022-08-31                True      1.0      1.0\n2          16783564         2022-09-01                True      1.0      1.0\n3          16783564         2022-09-02                True      1.0      1.0\n4          16783564         2022-09-03                True      1.0      1.0\n...             ...                ...                 ...      ...      ...\n2088306  2097181630         2023-07-03                 NaN      NaN      NaN\n2088307  2097181630         2023-07-04                 NaN      NaN      NaN\n2088308  2097181631         2023-07-02                 NaN      NaN      NaN\n2088309  2097181632         2023-07-03                 NaN      NaN      NaN\n2088310  2097181632         2023-07-04                 NaN      NaN      NaN\n\n[2088311 rows x 5 columns]",
      "text/html": "<div>\n<style scoped>\n    .dataframe tbody tr th:only-of-type {\n        vertical-align: middle;\n    }\n\n    .dataframe tbody tr th {\n        vertical-align: top;\n    }\n\n    .dataframe thead th {\n        text-align: right;\n    }\n</style>\n<table border=\"1\" class=\"dataframe\">\n  <thead>\n    <tr style=\"text-align: right;\">\n      <th></th>\n      <th>ItemKey</th>\n      <th>RWB_EFFECTIVE_DATE</th>\n      <th>Is_Virtual_Machine0</th>\n      <th>Client0</th>\n      <th>Active0</th>\n    </tr>\n  </thead>\n  <tbody>\n    <tr>\n      <th>0</th>\n      <td>16783564</td>\n      <td>2022-08-30</td>\n      <td>True</td>\n      <td>1.0</td>\n      <td>1.0</td>\n    </tr>\n    <tr>\n      <th>1</th>\n      <td>16783564</td>\n      <td>2022-08-31</td>\n      <td>True</td>\n      <td>1.0</td>\n      <td>1.0</td>\n    </tr>\n    <tr>\n      <th>2</th>\n      <td>16783564</td>\n      <td>2022-09-01</td>\n      <td>True</td>\n      <td>1.0</td>\n      <td>1.0</td>\n    </tr>\n    <tr>\n      <th>3</th>\n      <td>16783564</td>\n      <td>2022-09-02</td>\n      <td>True</td>\n      <td>1.0</td>\n      <td>1.0</td>\n    </tr>\n    <tr>\n      <th>4</th>\n      <td>16783564</td>\n      <td>2022-09-03</td>\n      <td>True</td>\n      <td>1.0</td>\n      <td>1.0</td>\n    </tr>\n    <tr>\n      <th>...</th>\n      <td>...</td>\n      <td>...</td>\n      <td>...</td>\n      <td>...</td>\n      <td>...</td>\n    </tr>\n    <tr>\n      <th>2088306</th>\n      <td>2097181630</td>\n      <td>2023-07-03</td>\n      <td>NaN</td>\n      <td>NaN</td>\n      <td>NaN</td>\n    </tr>\n    <tr>\n      <th>2088307</th>\n      <td>2097181630</td>\n      <td>2023-07-04</td>\n      <td>NaN</td>\n      <td>NaN</td>\n      <td>NaN</td>\n    </tr>\n    <tr>\n      <th>2088308</th>\n      <td>2097181631</td>\n      <td>2023-07-02</td>\n      <td>NaN</td>\n      <td>NaN</td>\n      <td>NaN</td>\n    </tr>\n    <tr>\n      <th>2088309</th>\n      <td>2097181632</td>\n      <td>2023-07-03</td>\n      <td>NaN</td>\n      <td>NaN</td>\n      <td>NaN</td>\n    </tr>\n    <tr>\n      <th>2088310</th>\n      <td>2097181632</td>\n      <td>2023-07-04</td>\n      <td>NaN</td>\n      <td>NaN</td>\n      <td>NaN</td>\n    </tr>\n  </tbody>\n</table>\n<p>2088311 rows × 5 columns</p>\n</div>"
     },
     "execution_count": 10,
     "metadata": {},
     "output_type": "execute_result"
    }
   ],
   "source": [
    "features = df.groupby(['ItemKey', 'RWB_EFFECTIVE_DATE']).agg(\n",
    "    {\n",
    "        'Is_Virtual_Machine0':'max',\n",
    "        'Client0':'max',\n",
    "        'Active0':'max'\n",
    "    }\n",
    ").reset_index()\n",
    "features"
   ],
   "metadata": {
    "collapsed": false,
    "ExecuteTime": {
     "end_time": "2023-08-06T17:33:44.048524369Z",
     "start_time": "2023-08-06T17:31:26.807878534Z"
    }
   }
  },
  {
   "cell_type": "markdown",
   "source": [
    "\n",
    "# last_logon_date_age\n"
   ],
   "metadata": {
    "collapsed": false
   }
  },
  {
   "cell_type": "code",
   "execution_count": 11,
   "outputs": [],
   "source": [
    "# Number of days since a user has logged onto the machine.\n",
    "# Calculate using the Last_Logon_Timestamp0 attribute from Persist.System_DISC\n",
    "df['Last_Logon_Timestamp0'] = pd.to_datetime(df['Last_Logon_Timestamp0'])\n",
    "days_since_last_logon = df.groupby(['ItemKey', 'RWB_EFFECTIVE_DATE'])['Last_Logon_Timestamp0'].agg('max').reset_index()"
   ],
   "metadata": {
    "collapsed": false,
    "ExecuteTime": {
     "end_time": "2023-08-06T17:33:45.498247533Z",
     "start_time": "2023-08-06T17:33:43.995989650Z"
    }
   }
  },
  {
   "cell_type": "code",
   "execution_count": 12,
   "outputs": [],
   "source": [
    "days_since_last_logon['RWB_EFFECTIVE_DATE'] = pd.to_datetime(days_since_last_logon['RWB_EFFECTIVE_DATE']).dt.date\n",
    "days_since_last_logon['Last_Logon_Timestamp0_Date'] = days_since_last_logon['Last_Logon_Timestamp0'].apply(lambda x: x.date())"
   ],
   "metadata": {
    "collapsed": false,
    "ExecuteTime": {
     "end_time": "2023-08-06T17:33:48.215888885Z",
     "start_time": "2023-08-06T17:33:45.544324404Z"
    }
   }
  },
  {
   "cell_type": "code",
   "execution_count": 13,
   "outputs": [
    {
     "data": {
      "text/plain": "            ItemKey RWB_EFFECTIVE_DATE Last_Logon_Timestamp0  \\\n0          16783564         2022-08-30   2022-08-25 11:50:30   \n1          16783564         2022-08-31   2022-08-25 11:50:30   \n2          16783564         2022-09-01   2022-08-25 11:50:30   \n3          16783564         2022-09-02   2022-08-25 11:50:30   \n4          16783564         2022-09-03   2022-08-25 11:50:30   \n...             ...                ...                   ...   \n2088306  2097181630         2023-07-03   2023-06-28 13:53:22   \n2088307  2097181630         2023-07-04   2023-06-28 13:53:22   \n2088308  2097181631         2023-07-02   2023-07-01 15:02:35   \n2088309  2097181632         2023-07-03   2023-07-03 13:24:08   \n2088310  2097181632         2023-07-04   2023-07-03 13:24:08   \n\n        Last_Logon_Timestamp0_Date  Days Since Last Logon  \n0                       2022-08-25                    5.0  \n1                       2022-08-25                    6.0  \n2                       2022-08-25                    7.0  \n3                       2022-08-25                    8.0  \n4                       2022-08-25                    9.0  \n...                            ...                    ...  \n2088306                 2023-06-28                    5.0  \n2088307                 2023-06-28                    6.0  \n2088308                 2023-07-01                    1.0  \n2088309                 2023-07-03                    0.0  \n2088310                 2023-07-03                    1.0  \n\n[2088311 rows x 5 columns]",
      "text/html": "<div>\n<style scoped>\n    .dataframe tbody tr th:only-of-type {\n        vertical-align: middle;\n    }\n\n    .dataframe tbody tr th {\n        vertical-align: top;\n    }\n\n    .dataframe thead th {\n        text-align: right;\n    }\n</style>\n<table border=\"1\" class=\"dataframe\">\n  <thead>\n    <tr style=\"text-align: right;\">\n      <th></th>\n      <th>ItemKey</th>\n      <th>RWB_EFFECTIVE_DATE</th>\n      <th>Last_Logon_Timestamp0</th>\n      <th>Last_Logon_Timestamp0_Date</th>\n      <th>Days Since Last Logon</th>\n    </tr>\n  </thead>\n  <tbody>\n    <tr>\n      <th>0</th>\n      <td>16783564</td>\n      <td>2022-08-30</td>\n      <td>2022-08-25 11:50:30</td>\n      <td>2022-08-25</td>\n      <td>5.0</td>\n    </tr>\n    <tr>\n      <th>1</th>\n      <td>16783564</td>\n      <td>2022-08-31</td>\n      <td>2022-08-25 11:50:30</td>\n      <td>2022-08-25</td>\n      <td>6.0</td>\n    </tr>\n    <tr>\n      <th>2</th>\n      <td>16783564</td>\n      <td>2022-09-01</td>\n      <td>2022-08-25 11:50:30</td>\n      <td>2022-08-25</td>\n      <td>7.0</td>\n    </tr>\n    <tr>\n      <th>3</th>\n      <td>16783564</td>\n      <td>2022-09-02</td>\n      <td>2022-08-25 11:50:30</td>\n      <td>2022-08-25</td>\n      <td>8.0</td>\n    </tr>\n    <tr>\n      <th>4</th>\n      <td>16783564</td>\n      <td>2022-09-03</td>\n      <td>2022-08-25 11:50:30</td>\n      <td>2022-08-25</td>\n      <td>9.0</td>\n    </tr>\n    <tr>\n      <th>...</th>\n      <td>...</td>\n      <td>...</td>\n      <td>...</td>\n      <td>...</td>\n      <td>...</td>\n    </tr>\n    <tr>\n      <th>2088306</th>\n      <td>2097181630</td>\n      <td>2023-07-03</td>\n      <td>2023-06-28 13:53:22</td>\n      <td>2023-06-28</td>\n      <td>5.0</td>\n    </tr>\n    <tr>\n      <th>2088307</th>\n      <td>2097181630</td>\n      <td>2023-07-04</td>\n      <td>2023-06-28 13:53:22</td>\n      <td>2023-06-28</td>\n      <td>6.0</td>\n    </tr>\n    <tr>\n      <th>2088308</th>\n      <td>2097181631</td>\n      <td>2023-07-02</td>\n      <td>2023-07-01 15:02:35</td>\n      <td>2023-07-01</td>\n      <td>1.0</td>\n    </tr>\n    <tr>\n      <th>2088309</th>\n      <td>2097181632</td>\n      <td>2023-07-03</td>\n      <td>2023-07-03 13:24:08</td>\n      <td>2023-07-03</td>\n      <td>0.0</td>\n    </tr>\n    <tr>\n      <th>2088310</th>\n      <td>2097181632</td>\n      <td>2023-07-04</td>\n      <td>2023-07-03 13:24:08</td>\n      <td>2023-07-03</td>\n      <td>1.0</td>\n    </tr>\n  </tbody>\n</table>\n<p>2088311 rows × 5 columns</p>\n</div>"
     },
     "execution_count": 13,
     "metadata": {},
     "output_type": "execute_result"
    }
   ],
   "source": [
    "days_since_last_logon['Days Since Last Logon'] = days_since_last_logon['RWB_EFFECTIVE_DATE'] - days_since_last_logon['Last_Logon_Timestamp0_Date']\n",
    "days_since_last_logon['Days Since Last Logon'] = days_since_last_logon['Days Since Last Logon'].apply(lambda x: x.days)\n",
    "days_since_last_logon"
   ],
   "metadata": {
    "collapsed": false,
    "ExecuteTime": {
     "end_time": "2023-08-06T17:34:00.525220489Z",
     "start_time": "2023-08-06T17:33:48.217778682Z"
    }
   }
  },
  {
   "cell_type": "code",
   "execution_count": 14,
   "outputs": [],
   "source": [
    "days_since_creation['RWB_EFFECTIVE_DATE'] = days_since_creation['RWB_EFFECTIVE_DATE'].astype('str')\n",
    "days_since_last_logon['RWB_EFFECTIVE_DATE'] = days_since_last_logon['RWB_EFFECTIVE_DATE'].astype('str')"
   ],
   "metadata": {
    "collapsed": false,
    "ExecuteTime": {
     "end_time": "2023-08-06T17:34:02.961659429Z",
     "start_time": "2023-08-06T17:34:00.526720908Z"
    }
   }
  },
  {
   "cell_type": "markdown",
   "source": [
    "\n",
    "# Join them together.\n"
   ],
   "metadata": {
    "collapsed": false
   }
  },
  {
   "cell_type": "code",
   "execution_count": 15,
   "outputs": [
    {
     "data": {
      "text/plain": "            ItemKey RWB_EFFECTIVE_DATE Is_Virtual_Machine0  Client0  Active0  \\\n0          16783564         2022-08-30                True      1.0      1.0   \n1          16783564         2022-08-31                True      1.0      1.0   \n2          16783564         2022-09-01                True      1.0      1.0   \n3          16783564         2022-09-02                True      1.0      1.0   \n4          16783564         2022-09-03                True      1.0      1.0   \n...             ...                ...                 ...      ...      ...   \n2088306  2097181630         2023-07-03                 NaN      NaN      NaN   \n2088307  2097181630         2023-07-04                 NaN      NaN      NaN   \n2088308  2097181631         2023-07-02                 NaN      NaN      NaN   \n2088309  2097181632         2023-07-03                 NaN      NaN      NaN   \n2088310  2097181632         2023-07-04                 NaN      NaN      NaN   \n\n         Days Since Creation  Days Since Last Logon  \n0                       1545                    5.0  \n1                       1546                    6.0  \n2                       1547                    7.0  \n3                       1548                    8.0  \n4                       1549                    9.0  \n...                      ...                    ...  \n2088306                    2                    5.0  \n2088307                    3                    6.0  \n2088308                    1                    1.0  \n2088309                    0                    0.0  \n2088310                    1                    1.0  \n\n[2088311 rows x 7 columns]",
      "text/html": "<div>\n<style scoped>\n    .dataframe tbody tr th:only-of-type {\n        vertical-align: middle;\n    }\n\n    .dataframe tbody tr th {\n        vertical-align: top;\n    }\n\n    .dataframe thead th {\n        text-align: right;\n    }\n</style>\n<table border=\"1\" class=\"dataframe\">\n  <thead>\n    <tr style=\"text-align: right;\">\n      <th></th>\n      <th>ItemKey</th>\n      <th>RWB_EFFECTIVE_DATE</th>\n      <th>Is_Virtual_Machine0</th>\n      <th>Client0</th>\n      <th>Active0</th>\n      <th>Days Since Creation</th>\n      <th>Days Since Last Logon</th>\n    </tr>\n  </thead>\n  <tbody>\n    <tr>\n      <th>0</th>\n      <td>16783564</td>\n      <td>2022-08-30</td>\n      <td>True</td>\n      <td>1.0</td>\n      <td>1.0</td>\n      <td>1545</td>\n      <td>5.0</td>\n    </tr>\n    <tr>\n      <th>1</th>\n      <td>16783564</td>\n      <td>2022-08-31</td>\n      <td>True</td>\n      <td>1.0</td>\n      <td>1.0</td>\n      <td>1546</td>\n      <td>6.0</td>\n    </tr>\n    <tr>\n      <th>2</th>\n      <td>16783564</td>\n      <td>2022-09-01</td>\n      <td>True</td>\n      <td>1.0</td>\n      <td>1.0</td>\n      <td>1547</td>\n      <td>7.0</td>\n    </tr>\n    <tr>\n      <th>3</th>\n      <td>16783564</td>\n      <td>2022-09-02</td>\n      <td>True</td>\n      <td>1.0</td>\n      <td>1.0</td>\n      <td>1548</td>\n      <td>8.0</td>\n    </tr>\n    <tr>\n      <th>4</th>\n      <td>16783564</td>\n      <td>2022-09-03</td>\n      <td>True</td>\n      <td>1.0</td>\n      <td>1.0</td>\n      <td>1549</td>\n      <td>9.0</td>\n    </tr>\n    <tr>\n      <th>...</th>\n      <td>...</td>\n      <td>...</td>\n      <td>...</td>\n      <td>...</td>\n      <td>...</td>\n      <td>...</td>\n      <td>...</td>\n    </tr>\n    <tr>\n      <th>2088306</th>\n      <td>2097181630</td>\n      <td>2023-07-03</td>\n      <td>NaN</td>\n      <td>NaN</td>\n      <td>NaN</td>\n      <td>2</td>\n      <td>5.0</td>\n    </tr>\n    <tr>\n      <th>2088307</th>\n      <td>2097181630</td>\n      <td>2023-07-04</td>\n      <td>NaN</td>\n      <td>NaN</td>\n      <td>NaN</td>\n      <td>3</td>\n      <td>6.0</td>\n    </tr>\n    <tr>\n      <th>2088308</th>\n      <td>2097181631</td>\n      <td>2023-07-02</td>\n      <td>NaN</td>\n      <td>NaN</td>\n      <td>NaN</td>\n      <td>1</td>\n      <td>1.0</td>\n    </tr>\n    <tr>\n      <th>2088309</th>\n      <td>2097181632</td>\n      <td>2023-07-03</td>\n      <td>NaN</td>\n      <td>NaN</td>\n      <td>NaN</td>\n      <td>0</td>\n      <td>0.0</td>\n    </tr>\n    <tr>\n      <th>2088310</th>\n      <td>2097181632</td>\n      <td>2023-07-04</td>\n      <td>NaN</td>\n      <td>NaN</td>\n      <td>NaN</td>\n      <td>1</td>\n      <td>1.0</td>\n    </tr>\n  </tbody>\n</table>\n<p>2088311 rows × 7 columns</p>\n</div>"
     },
     "execution_count": 15,
     "metadata": {},
     "output_type": "execute_result"
    }
   ],
   "source": [
    "combined = features.merge(days_since_creation[['ItemKey', 'RWB_EFFECTIVE_DATE', 'Days Since Creation']], on=['ItemKey', 'RWB_EFFECTIVE_DATE'])\n",
    "combined = combined.merge(days_since_last_logon[['ItemKey', 'RWB_EFFECTIVE_DATE', 'Days Since Last Logon']], on=['ItemKey', 'RWB_EFFECTIVE_DATE'])\n",
    "combined"
   ],
   "metadata": {
    "collapsed": false,
    "ExecuteTime": {
     "end_time": "2023-08-06T17:34:04.170949925Z",
     "start_time": "2023-08-06T17:34:02.963527397Z"
    }
   }
  },
  {
   "cell_type": "code",
   "execution_count": 16,
   "outputs": [
    {
     "data": {
      "text/plain": "<AxesSubplot:>"
     },
     "execution_count": 16,
     "metadata": {},
     "output_type": "execute_result"
    },
    {
     "data": {
      "text/plain": "<Figure size 1800x720 with 2 Axes>",
      "image/png": "[encoded data removed]"
     },
     "metadata": {
      "needs_background": "light"
     },
     "output_type": "display_data"
    }
   ],
   "source": [
    "msno.matrix(combined)"
   ],
   "metadata": {
    "collapsed": false,
    "ExecuteTime": {
     "end_time": "2023-08-06T17:34:07.034542177Z",
     "start_time": "2023-08-06T17:34:04.171339605Z"
    }
   }
  },
  {
   "cell_type": "code",
   "execution_count": 17,
   "outputs": [],
   "source": [
    "# combined.to_parquet('../do_not_commit/FeatureDatasets/system_disc_features.pq')"
   ],
   "metadata": {
    "collapsed": false,
    "ExecuteTime": {
     "end_time": "2023-08-06T17:34:07.037418338Z",
     "start_time": "2023-08-06T17:34:07.035507113Z"
    }
   }
  },
  {
   "cell_type": "code",
   "execution_count": 18,
   "outputs": [
    {
     "data": {
      "text/plain": "'2023-07-04'"
     },
     "execution_count": 18,
     "metadata": {},
     "output_type": "execute_result"
    }
   ],
   "source": [
    "combined['RWB_EFFECTIVE_DATE'].max()"
   ],
   "metadata": {
    "collapsed": false,
    "ExecuteTime": {
     "end_time": "2023-08-06T17:34:07.116492322Z",
     "start_time": "2023-08-06T17:34:07.085389694Z"
    }
   }
  }
 ],
 "metadata": {
  "kernelspec": {
   "display_name": "Python 3",
   "language": "python",
   "name": "python3"
  },
  "language_info": {
   "codemirror_mode": {
    "name": "ipython",
    "version": 2
   },
   "file_extension": ".py",
   "mimetype": "text/x-python",
   "name": "python",
   "nbconvert_exporter": "python",
   "pygments_lexer": "ipython2",
   "version": "2.7.6"
  }
 },
 "nbformat": 4,
 "nbformat_minor": 0
}

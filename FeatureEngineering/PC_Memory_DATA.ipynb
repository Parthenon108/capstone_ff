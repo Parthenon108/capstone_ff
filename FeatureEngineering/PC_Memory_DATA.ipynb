{
 "cells": [
  {
   "cell_type": "code",
   "execution_count": 2,
   "metadata": {
    "collapsed": true,
    "ExecuteTime": {
     "end_time": "2023-08-01T19:50:55.524936161Z",
     "start_time": "2023-08-01T19:50:55.252884284Z"
    }
   },
   "outputs": [],
   "source": [
    "import pandas as pd"
   ]
  },
  {
   "cell_type": "code",
   "execution_count": 6,
   "outputs": [],
   "source": [
    "df = pd.read_parquet('../do_not_commit/Datasets/Persist_PC_Memory_DATA.pq')"
   ],
   "metadata": {
    "collapsed": false,
    "ExecuteTime": {
     "end_time": "2023-08-01T19:57:38.584714724Z",
     "start_time": "2023-08-01T19:57:38.409912294Z"
    }
   }
  },
  {
   "cell_type": "code",
   "execution_count": 7,
   "outputs": [
    {
     "data": {
      "text/plain": "         RWB_PC_Memory_DATA_ID  RWB_ETL_EVENT_DESTINATION_IDENTIFIER  \\\n0                         1398                                  1016   \n1                         1662                                  1016   \n2                         1863                                  1016   \n3                         2153                                  1016   \n4                         2462                                  1016   \n...                        ...                                   ...   \n1048570                3289985                                  7307   \n1048571                3289986                                  7307   \n1048572                3289987                                  7307   \n1048573                3289988                                  7307   \n1048574                3289989                                  7307   \n\n               RWB_CREATE_TIMESTAMP RWB_EFFECTIVE_DATE  \\\n0        2023-01-25 09:35:25 -06:00         2023-01-25   \n1        2023-01-25 09:35:25 -06:00         2023-01-25   \n2        2023-01-25 09:35:25 -06:00         2023-01-25   \n3        2023-01-25 09:35:25 -06:00         2023-01-25   \n4        2023-01-25 09:35:25 -06:00         2023-01-25   \n...                             ...                ...   \n1048570  2023-05-09 08:11:25 -05:00         2023-05-09   \n1048571  2023-05-09 08:11:25 -05:00         2023-05-09   \n1048572  2023-05-09 08:11:25 -05:00         2023-05-09   \n1048573  2023-05-09 08:11:25 -05:00         2023-05-09   \n1048574  2023-05-09 08:11:25 -05:00         2023-05-09   \n\n         AvailableVirtualMemory00  Name00  TotalPageFileSpace00  \\\n0                             NaN      29               8912896   \n1                             NaN      38               8912896   \n2                             NaN      38              26214400   \n3                             NaN      29               8912896   \n4                             NaN      29               8912896   \n...                           ...     ...                   ...   \n1048570                       NaN      38              16777216   \n1048571                       NaN      38              16777216   \n1048572                       NaN      38              16777216   \n1048573                       NaN      38              16777216   \n1048574                       NaN      38              16777216   \n\n         TotalPhysicalMemory00  TotalVirtualMemory00  MachineID  InstanceKey  \\\n0                      8388016              17300912   16783564            1   \n1                      8281672              17194568   16783835            1   \n2                     25042872              51257272   16784042            1   \n3                      8388084              17300980   16784339            1   \n4                      8388084              17300980   16784657            1   \n...                        ...                   ...        ...          ...   \n1048570               16492932              33270148   16812754            1   \n1048571               16492932              33270148   16812755            1   \n1048572               16492932              33270148   16812756            3   \n1048573               16492932              33270148   16812759            1   \n1048574               16492932              33270148   16812760            1   \n\n                         TimeKey  RevisionID  AgentID          rowversion  \n0        2022-12-23 12:18:32.000          46        1  0x0000000114E19E89  \n1        2023-01-20 15:02:44.000          95        1  0x000000011BC57563  \n2        2022-09-28 09:08:23.000          12        1  0x00000000FE23CE69  \n3        2022-12-23 06:16:23.000          16        1  0x0000000114C6EF12  \n4        2022-12-23 10:30:48.000          34        1  0x0000000114DA52B0  \n...                          ...         ...      ...                 ...  \n1048570  2023-02-14 10:40:49.000           5        1  0x0000000121915981  \n1048571  2022-12-20 09:45:32.000           4        1  0x00000001132254CD  \n1048572  2023-02-25 16:08:23.000           3        1  0x0000000124148FAC  \n1048573  2022-12-20 12:41:11.000           3        1  0x00000001138469F2  \n1048574  2022-09-02 09:34:43.000           2        1  0x00000000F8913124  \n\n[1048575 rows x 15 columns]",
      "text/html": "<div>\n<style scoped>\n    .dataframe tbody tr th:only-of-type {\n        vertical-align: middle;\n    }\n\n    .dataframe tbody tr th {\n        vertical-align: top;\n    }\n\n    .dataframe thead th {\n        text-align: right;\n    }\n</style>\n<table border=\"1\" class=\"dataframe\">\n  <thead>\n    <tr style=\"text-align: right;\">\n      <th></th>\n      <th>RWB_PC_Memory_DATA_ID</th>\n      <th>RWB_ETL_EVENT_DESTINATION_IDENTIFIER</th>\n      <th>RWB_CREATE_TIMESTAMP</th>\n      <th>RWB_EFFECTIVE_DATE</th>\n      <th>AvailableVirtualMemory00</th>\n      <th>Name00</th>\n      <th>TotalPageFileSpace00</th>\n      <th>TotalPhysicalMemory00</th>\n      <th>TotalVirtualMemory00</th>\n      <th>MachineID</th>\n      <th>InstanceKey</th>\n      <th>TimeKey</th>\n      <th>RevisionID</th>\n      <th>AgentID</th>\n      <th>rowversion</th>\n    </tr>\n  </thead>\n  <tbody>\n    <tr>\n      <th>0</th>\n      <td>1398</td>\n      <td>1016</td>\n      <td>2023-01-25 09:35:25 -06:00</td>\n      <td>2023-01-25</td>\n      <td>NaN</td>\n      <td>29</td>\n      <td>8912896</td>\n      <td>8388016</td>\n      <td>17300912</td>\n      <td>16783564</td>\n      <td>1</td>\n      <td>2022-12-23 12:18:32.000</td>\n      <td>46</td>\n      <td>1</td>\n      <td>0x0000000114E19E89</td>\n    </tr>\n    <tr>\n      <th>1</th>\n      <td>1662</td>\n      <td>1016</td>\n      <td>2023-01-25 09:35:25 -06:00</td>\n      <td>2023-01-25</td>\n      <td>NaN</td>\n      <td>38</td>\n      <td>8912896</td>\n      <td>8281672</td>\n      <td>17194568</td>\n      <td>16783835</td>\n      <td>1</td>\n      <td>2023-01-20 15:02:44.000</td>\n      <td>95</td>\n      <td>1</td>\n      <td>0x000000011BC57563</td>\n    </tr>\n    <tr>\n      <th>2</th>\n      <td>1863</td>\n      <td>1016</td>\n      <td>2023-01-25 09:35:25 -06:00</td>\n      <td>2023-01-25</td>\n      <td>NaN</td>\n      <td>38</td>\n      <td>26214400</td>\n      <td>25042872</td>\n      <td>51257272</td>\n      <td>16784042</td>\n      <td>1</td>\n      <td>2022-09-28 09:08:23.000</td>\n      <td>12</td>\n      <td>1</td>\n      <td>0x00000000FE23CE69</td>\n    </tr>\n    <tr>\n      <th>3</th>\n      <td>2153</td>\n      <td>1016</td>\n      <td>2023-01-25 09:35:25 -06:00</td>\n      <td>2023-01-25</td>\n      <td>NaN</td>\n      <td>29</td>\n      <td>8912896</td>\n      <td>8388084</td>\n      <td>17300980</td>\n      <td>16784339</td>\n      <td>1</td>\n      <td>2022-12-23 06:16:23.000</td>\n      <td>16</td>\n      <td>1</td>\n      <td>0x0000000114C6EF12</td>\n    </tr>\n    <tr>\n      <th>4</th>\n      <td>2462</td>\n      <td>1016</td>\n      <td>2023-01-25 09:35:25 -06:00</td>\n      <td>2023-01-25</td>\n      <td>NaN</td>\n      <td>29</td>\n      <td>8912896</td>\n      <td>8388084</td>\n      <td>17300980</td>\n      <td>16784657</td>\n      <td>1</td>\n      <td>2022-12-23 10:30:48.000</td>\n      <td>34</td>\n      <td>1</td>\n      <td>0x0000000114DA52B0</td>\n    </tr>\n    <tr>\n      <th>...</th>\n      <td>...</td>\n      <td>...</td>\n      <td>...</td>\n      <td>...</td>\n      <td>...</td>\n      <td>...</td>\n      <td>...</td>\n      <td>...</td>\n      <td>...</td>\n      <td>...</td>\n      <td>...</td>\n      <td>...</td>\n      <td>...</td>\n      <td>...</td>\n      <td>...</td>\n    </tr>\n    <tr>\n      <th>1048570</th>\n      <td>3289985</td>\n      <td>7307</td>\n      <td>2023-05-09 08:11:25 -05:00</td>\n      <td>2023-05-09</td>\n      <td>NaN</td>\n      <td>38</td>\n      <td>16777216</td>\n      <td>16492932</td>\n      <td>33270148</td>\n      <td>16812754</td>\n      <td>1</td>\n      <td>2023-02-14 10:40:49.000</td>\n      <td>5</td>\n      <td>1</td>\n      <td>0x0000000121915981</td>\n    </tr>\n    <tr>\n      <th>1048571</th>\n      <td>3289986</td>\n      <td>7307</td>\n      <td>2023-05-09 08:11:25 -05:00</td>\n      <td>2023-05-09</td>\n      <td>NaN</td>\n      <td>38</td>\n      <td>16777216</td>\n      <td>16492932</td>\n      <td>33270148</td>\n      <td>16812755</td>\n      <td>1</td>\n      <td>2022-12-20 09:45:32.000</td>\n      <td>4</td>\n      <td>1</td>\n      <td>0x00000001132254CD</td>\n    </tr>\n    <tr>\n      <th>1048572</th>\n      <td>3289987</td>\n      <td>7307</td>\n      <td>2023-05-09 08:11:25 -05:00</td>\n      <td>2023-05-09</td>\n      <td>NaN</td>\n      <td>38</td>\n      <td>16777216</td>\n      <td>16492932</td>\n      <td>33270148</td>\n      <td>16812756</td>\n      <td>3</td>\n      <td>2023-02-25 16:08:23.000</td>\n      <td>3</td>\n      <td>1</td>\n      <td>0x0000000124148FAC</td>\n    </tr>\n    <tr>\n      <th>1048573</th>\n      <td>3289988</td>\n      <td>7307</td>\n      <td>2023-05-09 08:11:25 -05:00</td>\n      <td>2023-05-09</td>\n      <td>NaN</td>\n      <td>38</td>\n      <td>16777216</td>\n      <td>16492932</td>\n      <td>33270148</td>\n      <td>16812759</td>\n      <td>1</td>\n      <td>2022-12-20 12:41:11.000</td>\n      <td>3</td>\n      <td>1</td>\n      <td>0x00000001138469F2</td>\n    </tr>\n    <tr>\n      <th>1048574</th>\n      <td>3289989</td>\n      <td>7307</td>\n      <td>2023-05-09 08:11:25 -05:00</td>\n      <td>2023-05-09</td>\n      <td>NaN</td>\n      <td>38</td>\n      <td>16777216</td>\n      <td>16492932</td>\n      <td>33270148</td>\n      <td>16812760</td>\n      <td>1</td>\n      <td>2022-09-02 09:34:43.000</td>\n      <td>2</td>\n      <td>1</td>\n      <td>0x00000000F8913124</td>\n    </tr>\n  </tbody>\n</table>\n<p>1048575 rows × 15 columns</p>\n</div>"
     },
     "execution_count": 7,
     "metadata": {},
     "output_type": "execute_result"
    }
   ],
   "source": [
    "df"
   ],
   "metadata": {
    "collapsed": false,
    "ExecuteTime": {
     "end_time": "2023-08-01T19:58:23.681385955Z",
     "start_time": "2023-08-01T19:58:23.670481971Z"
    }
   }
  },
  {
   "cell_type": "markdown",
   "source": [
    "\n",
    "# total_ram_size\n"
   ],
   "metadata": {
    "collapsed": false
   }
  },
  {
   "cell_type": "code",
   "execution_count": 9,
   "outputs": [],
   "source": [
    "# Lists the total amount of RAM on the device (in GB).\n",
    "# The feature is available as TotalPhysicalMemory00 in PC_Memory_DATA.\n",
    "# .groupby() the unique identifier (effective date and machine ID) and use .max() value to avoid duplication due to virtualization."
   ],
   "metadata": {
    "collapsed": false,
    "ExecuteTime": {
     "end_time": "2023-08-01T20:02:46.967442196Z",
     "start_time": "2023-08-01T20:02:46.908378103Z"
    }
   }
  },
  {
   "cell_type": "markdown",
   "source": [
    "\n",
    "# total_page_file_space\n"
   ],
   "metadata": {
    "collapsed": false
   }
  },
  {
   "cell_type": "code",
   "execution_count": null,
   "outputs": [],
   "source": [
    "# Total page file space available on the machine.\n",
    "# This feature is available as the TotalPageFileSpace00 from PC_Memory_DATA.\n",
    "# Groupby the unique identifier (effective date and machine ID) and use the MAX value to avoid duplication due to virtualization."
   ],
   "metadata": {
    "collapsed": false
   }
  },
  {
   "cell_type": "code",
   "execution_count": 11,
   "outputs": [
    {
     "data": {
      "text/plain": "         MachineID RWB_EFFECTIVE_DATE  Total RAM  Total Page File Space\n0         16783564         2023-01-25    8388016                8912896\n1         16783564         2023-01-26    8388016                8912896\n2         16783564         2023-01-27    8388016                8912896\n3         16783564         2023-01-28    8388016                8912896\n4         16783564         2023-01-29    8388016                8912896\n...            ...                ...        ...                    ...\n1048569   16818143         2023-05-06   16492932               16777216\n1048570   16818143         2023-05-07   16492932               16777216\n1048571   16818143         2023-05-08   16492932               16777216\n1048572   16818147         2023-05-08   16492932               16777216\n1048573   16818148         2023-05-08   16492932               16777216\n\n[1048574 rows x 4 columns]",
      "text/html": "<div>\n<style scoped>\n    .dataframe tbody tr th:only-of-type {\n        vertical-align: middle;\n    }\n\n    .dataframe tbody tr th {\n        vertical-align: top;\n    }\n\n    .dataframe thead th {\n        text-align: right;\n    }\n</style>\n<table border=\"1\" class=\"dataframe\">\n  <thead>\n    <tr style=\"text-align: right;\">\n      <th></th>\n      <th>MachineID</th>\n      <th>RWB_EFFECTIVE_DATE</th>\n      <th>Total RAM</th>\n      <th>Total Page File Space</th>\n    </tr>\n  </thead>\n  <tbody>\n    <tr>\n      <th>0</th>\n      <td>16783564</td>\n      <td>2023-01-25</td>\n      <td>8388016</td>\n      <td>8912896</td>\n    </tr>\n    <tr>\n      <th>1</th>\n      <td>16783564</td>\n      <td>2023-01-26</td>\n      <td>8388016</td>\n      <td>8912896</td>\n    </tr>\n    <tr>\n      <th>2</th>\n      <td>16783564</td>\n      <td>2023-01-27</td>\n      <td>8388016</td>\n      <td>8912896</td>\n    </tr>\n    <tr>\n      <th>3</th>\n      <td>16783564</td>\n      <td>2023-01-28</td>\n      <td>8388016</td>\n      <td>8912896</td>\n    </tr>\n    <tr>\n      <th>4</th>\n      <td>16783564</td>\n      <td>2023-01-29</td>\n      <td>8388016</td>\n      <td>8912896</td>\n    </tr>\n    <tr>\n      <th>...</th>\n      <td>...</td>\n      <td>...</td>\n      <td>...</td>\n      <td>...</td>\n    </tr>\n    <tr>\n      <th>1048569</th>\n      <td>16818143</td>\n      <td>2023-05-06</td>\n      <td>16492932</td>\n      <td>16777216</td>\n    </tr>\n    <tr>\n      <th>1048570</th>\n      <td>16818143</td>\n      <td>2023-05-07</td>\n      <td>16492932</td>\n      <td>16777216</td>\n    </tr>\n    <tr>\n      <th>1048571</th>\n      <td>16818143</td>\n      <td>2023-05-08</td>\n      <td>16492932</td>\n      <td>16777216</td>\n    </tr>\n    <tr>\n      <th>1048572</th>\n      <td>16818147</td>\n      <td>2023-05-08</td>\n      <td>16492932</td>\n      <td>16777216</td>\n    </tr>\n    <tr>\n      <th>1048573</th>\n      <td>16818148</td>\n      <td>2023-05-08</td>\n      <td>16492932</td>\n      <td>16777216</td>\n    </tr>\n  </tbody>\n</table>\n<p>1048574 rows × 4 columns</p>\n</div>"
     },
     "execution_count": 11,
     "metadata": {},
     "output_type": "execute_result"
    }
   ],
   "source": [
    "features = df.groupby(['MachineID', 'RWB_EFFECTIVE_DATE']).agg(\n",
    "    {\n",
    "        'TotalPhysicalMemory00':'max',\n",
    "        'TotalPageFileSpace00':'max'\n",
    "    }\n",
    ").reset_index().rename(columns={'TotalPhysicalMemory00':'Total RAM', 'TotalPageFileSpace00':'Total Page File Space'})\n",
    "features"
   ],
   "metadata": {
    "collapsed": false,
    "ExecuteTime": {
     "end_time": "2023-08-01T20:06:34.028925249Z",
     "start_time": "2023-08-01T20:05:14.016943862Z"
    }
   }
  },
  {
   "cell_type": "code",
   "execution_count": 12,
   "outputs": [],
   "source": [
    "features.to_parquet('../do_not_commit/FeatureDatasets/pc_memory_data.pq')"
   ],
   "metadata": {
    "collapsed": false,
    "ExecuteTime": {
     "end_time": "2023-08-01T20:06:48.902950415Z",
     "start_time": "2023-08-01T20:06:48.836775394Z"
    }
   }
  }
 ],
 "metadata": {
  "kernelspec": {
   "display_name": "Python 3",
   "language": "python",
   "name": "python3"
  },
  "language_info": {
   "codemirror_mode": {
    "name": "ipython",
    "version": 2
   },
   "file_extension": ".py",
   "mimetype": "text/x-python",
   "name": "python",
   "nbconvert_exporter": "python",
   "pygments_lexer": "ipython2",
   "version": "2.7.6"
  }
 },
 "nbformat": 4,
 "nbformat_minor": 0
}

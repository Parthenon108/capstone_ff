{
 "cells": [
  {
   "cell_type": "code",
   "execution_count": 1,
   "metadata": {
    "collapsed": true,
    "ExecuteTime": {
     "end_time": "2023-08-04T01:45:03.818519632Z",
     "start_time": "2023-08-04T01:45:03.621933559Z"
    }
   },
   "outputs": [],
   "source": [
    "import pandas as pd"
   ]
  },
  {
   "cell_type": "code",
   "execution_count": 2,
   "outputs": [],
   "source": [
    "df = pd.read_parquet('../do_not_commit/Datasets/Persist_Operating_System_DATA.pq')"
   ],
   "metadata": {
    "collapsed": false,
    "ExecuteTime": {
     "end_time": "2023-08-04T01:45:04.596267360Z",
     "start_time": "2023-08-04T01:45:03.909885708Z"
    }
   }
  },
  {
   "cell_type": "code",
   "execution_count": 3,
   "outputs": [
    {
     "data": {
      "text/plain": "         MachineID RWB_EFFECTIVE_DATE            InstallDate00  \\\n0         16783564         2023-01-19  2021-04-02 14:25:05.000   \n1         16783564         2023-01-20  2021-04-02 14:25:05.000   \n2         16783564         2023-01-21  2021-04-02 14:25:05.000   \n3         16783564         2023-01-22  2021-04-02 14:25:05.000   \n4         16783564         2023-01-23  2021-04-02 14:25:05.000   \n...            ...                ...                      ...   \n1041725   16818954         2023-06-28  2022-12-01 12:37:51.000   \n1041726   16818955         2023-06-28  2023-06-27 11:53:37.000   \n1041727   16818958         2023-06-28  2022-12-01 07:21:03.000   \n1041728   16818959         2023-06-28  2023-06-27 14:51:45.000   \n1041729   16818962         2023-06-28  2023-06-27 16:20:45.000   \n\n                LastBootUpTime00  TotalVirtualMemorySize00  \n0        2023-01-16 02:00:46.000                     16895  \n1        2023-01-16 02:00:46.000                     16895  \n2        2023-01-16 02:00:46.000                     16895  \n3        2023-01-16 02:00:46.000                     16895  \n4        2023-01-23 02:02:49.000                     16895  \n...                          ...                       ...  \n1041725  2023-06-27 10:07:20.000                     64963  \n1041726  2023-06-27 12:20:35.000                     32490  \n1041727  2022-12-01 07:52:38.000                     64963  \n1041728  2023-06-27 15:49:41.000                     33573  \n1041729  2023-06-27 15:48:35.000                     32490  \n\n[1041730 rows x 5 columns]",
      "text/html": "<div>\n<style scoped>\n    .dataframe tbody tr th:only-of-type {\n        vertical-align: middle;\n    }\n\n    .dataframe tbody tr th {\n        vertical-align: top;\n    }\n\n    .dataframe thead th {\n        text-align: right;\n    }\n</style>\n<table border=\"1\" class=\"dataframe\">\n  <thead>\n    <tr style=\"text-align: right;\">\n      <th></th>\n      <th>MachineID</th>\n      <th>RWB_EFFECTIVE_DATE</th>\n      <th>InstallDate00</th>\n      <th>LastBootUpTime00</th>\n      <th>TotalVirtualMemorySize00</th>\n    </tr>\n  </thead>\n  <tbody>\n    <tr>\n      <th>0</th>\n      <td>16783564</td>\n      <td>2023-01-19</td>\n      <td>2021-04-02 14:25:05.000</td>\n      <td>2023-01-16 02:00:46.000</td>\n      <td>16895</td>\n    </tr>\n    <tr>\n      <th>1</th>\n      <td>16783564</td>\n      <td>2023-01-20</td>\n      <td>2021-04-02 14:25:05.000</td>\n      <td>2023-01-16 02:00:46.000</td>\n      <td>16895</td>\n    </tr>\n    <tr>\n      <th>2</th>\n      <td>16783564</td>\n      <td>2023-01-21</td>\n      <td>2021-04-02 14:25:05.000</td>\n      <td>2023-01-16 02:00:46.000</td>\n      <td>16895</td>\n    </tr>\n    <tr>\n      <th>3</th>\n      <td>16783564</td>\n      <td>2023-01-22</td>\n      <td>2021-04-02 14:25:05.000</td>\n      <td>2023-01-16 02:00:46.000</td>\n      <td>16895</td>\n    </tr>\n    <tr>\n      <th>4</th>\n      <td>16783564</td>\n      <td>2023-01-23</td>\n      <td>2021-04-02 14:25:05.000</td>\n      <td>2023-01-23 02:02:49.000</td>\n      <td>16895</td>\n    </tr>\n    <tr>\n      <th>...</th>\n      <td>...</td>\n      <td>...</td>\n      <td>...</td>\n      <td>...</td>\n      <td>...</td>\n    </tr>\n    <tr>\n      <th>1041725</th>\n      <td>16818954</td>\n      <td>2023-06-28</td>\n      <td>2022-12-01 12:37:51.000</td>\n      <td>2023-06-27 10:07:20.000</td>\n      <td>64963</td>\n    </tr>\n    <tr>\n      <th>1041726</th>\n      <td>16818955</td>\n      <td>2023-06-28</td>\n      <td>2023-06-27 11:53:37.000</td>\n      <td>2023-06-27 12:20:35.000</td>\n      <td>32490</td>\n    </tr>\n    <tr>\n      <th>1041727</th>\n      <td>16818958</td>\n      <td>2023-06-28</td>\n      <td>2022-12-01 07:21:03.000</td>\n      <td>2022-12-01 07:52:38.000</td>\n      <td>64963</td>\n    </tr>\n    <tr>\n      <th>1041728</th>\n      <td>16818959</td>\n      <td>2023-06-28</td>\n      <td>2023-06-27 14:51:45.000</td>\n      <td>2023-06-27 15:49:41.000</td>\n      <td>33573</td>\n    </tr>\n    <tr>\n      <th>1041729</th>\n      <td>16818962</td>\n      <td>2023-06-28</td>\n      <td>2023-06-27 16:20:45.000</td>\n      <td>2023-06-27 15:48:35.000</td>\n      <td>32490</td>\n    </tr>\n  </tbody>\n</table>\n<p>1041730 rows × 5 columns</p>\n</div>"
     },
     "execution_count": 3,
     "metadata": {},
     "output_type": "execute_result"
    }
   ],
   "source": [
    "features = df.groupby(['MachineID', 'RWB_EFFECTIVE_DATE']).agg(\n",
    "    {\n",
    "        'InstallDate00':'max',\n",
    "        'LastBootUpTime00':'min',\n",
    "        'TotalVirtualMemorySize00':'max'\n",
    "    }\n",
    ").reset_index()\n",
    "features"
   ],
   "metadata": {
    "collapsed": false,
    "ExecuteTime": {
     "end_time": "2023-08-04T01:47:17.610690338Z",
     "start_time": "2023-08-04T01:45:04.787151888Z"
    }
   }
  },
  {
   "cell_type": "code",
   "execution_count": 11,
   "outputs": [],
   "source": [
    "from datetime import datetime\n",
    "from datetime import date\n",
    "import numpy as np\n",
    "\n",
    "def calculate_age_in_days(target_date_str, in_date):\n",
    "\n",
    "    # Convert target_date_str to a Python datetime object\n",
    "    target_date = datetime.strptime(target_date_str, '%Y-%m-%d').date()\n",
    "\n",
    "    # Calculate the age in days\n",
    "    age_in_days = (in_date - target_date).days\n",
    "\n",
    "    return age_in_days\n",
    "\n",
    "\n",
    "def create_program_features(in_df):\n",
    "\n",
    "    # Change effective date to type date\n",
    "    in_df['InstallDate00'] = pd.to_datetime(in_df['InstallDate00']).dt.strftime('%Y-%m-%d')\n",
    "\n",
    "    # Get age in days\n",
    "    todaydate = date(2023, 7, 4)\n",
    "    in_df['InstallAge'] = in_df['InstallDate00'].apply(lambda x: calculate_age_in_days(x, todaydate)\n",
    "    if pd.notnull(x) else np.nan)\n",
    "    return in_df\n",
    "\n",
    "\n",
    "def create_last_boot_features(in_df):\n",
    "\n",
    "    # Change effective date to type date\n",
    "    in_df['LastBootUpTime00'] = pd.to_datetime(in_df['LastBootUpTime00']).dt.strftime('%Y-%m-%d')\n",
    "\n",
    "    # Get age in days\n",
    "    todaydate = date(2023, 7, 4)\n",
    "    in_df['LastBootAge'] = in_df['LastBootUpTime00'].apply(lambda x: calculate_age_in_days(x, todaydate)\n",
    "    if pd.notnull(x) else np.nan)\n",
    "    return in_df"
   ],
   "metadata": {
    "collapsed": false,
    "ExecuteTime": {
     "end_time": "2023-08-04T02:26:32.388881553Z",
     "start_time": "2023-08-04T02:26:32.383852887Z"
    }
   }
  },
  {
   "cell_type": "code",
   "execution_count": 9,
   "outputs": [],
   "source": [
    "df = create_program_features(features)"
   ],
   "metadata": {
    "collapsed": false,
    "ExecuteTime": {
     "end_time": "2023-08-04T02:26:20.934783172Z",
     "start_time": "2023-08-04T02:26:11.302227105Z"
    }
   }
  },
  {
   "cell_type": "code",
   "execution_count": 12,
   "outputs": [],
   "source": [
    "df = create_last_boot_features(df)"
   ],
   "metadata": {
    "collapsed": false,
    "ExecuteTime": {
     "end_time": "2023-08-04T02:26:43.985494489Z",
     "start_time": "2023-08-04T02:26:34.486369960Z"
    }
   }
  },
  {
   "cell_type": "code",
   "execution_count": 14,
   "outputs": [
    {
     "data": {
      "text/plain": "         MachineID RWB_EFFECTIVE_DATE InstallDate00 LastBootUpTime00  \\\n0         16783564         2023-01-19    2021-04-02       2023-01-16   \n1         16783564         2023-01-20    2021-04-02       2023-01-16   \n2         16783564         2023-01-21    2021-04-02       2023-01-16   \n3         16783564         2023-01-22    2021-04-02       2023-01-16   \n4         16783564         2023-01-23    2021-04-02       2023-01-23   \n...            ...                ...           ...              ...   \n1041725   16818954         2023-06-28    2022-12-01       2023-06-27   \n1041726   16818955         2023-06-28    2023-06-27       2023-06-27   \n1041727   16818958         2023-06-28    2022-12-01       2022-12-01   \n1041728   16818959         2023-06-28    2023-06-27       2023-06-27   \n1041729   16818962         2023-06-28    2023-06-27       2023-06-27   \n\n         TotalVirtualMemorySize00  InstallAge  LastBootAge  \n0                           16895       823.0        169.0  \n1                           16895       823.0        169.0  \n2                           16895       823.0        169.0  \n3                           16895       823.0        169.0  \n4                           16895       823.0        162.0  \n...                           ...         ...          ...  \n1041725                     64963       215.0          7.0  \n1041726                     32490         7.0          7.0  \n1041727                     64963       215.0        215.0  \n1041728                     33573         7.0          7.0  \n1041729                     32490         7.0          7.0  \n\n[1041730 rows x 7 columns]",
      "text/html": "<div>\n<style scoped>\n    .dataframe tbody tr th:only-of-type {\n        vertical-align: middle;\n    }\n\n    .dataframe tbody tr th {\n        vertical-align: top;\n    }\n\n    .dataframe thead th {\n        text-align: right;\n    }\n</style>\n<table border=\"1\" class=\"dataframe\">\n  <thead>\n    <tr style=\"text-align: right;\">\n      <th></th>\n      <th>MachineID</th>\n      <th>RWB_EFFECTIVE_DATE</th>\n      <th>InstallDate00</th>\n      <th>LastBootUpTime00</th>\n      <th>TotalVirtualMemorySize00</th>\n      <th>InstallAge</th>\n      <th>LastBootAge</th>\n    </tr>\n  </thead>\n  <tbody>\n    <tr>\n      <th>0</th>\n      <td>16783564</td>\n      <td>2023-01-19</td>\n      <td>2021-04-02</td>\n      <td>2023-01-16</td>\n      <td>16895</td>\n      <td>823.0</td>\n      <td>169.0</td>\n    </tr>\n    <tr>\n      <th>1</th>\n      <td>16783564</td>\n      <td>2023-01-20</td>\n      <td>2021-04-02</td>\n      <td>2023-01-16</td>\n      <td>16895</td>\n      <td>823.0</td>\n      <td>169.0</td>\n    </tr>\n    <tr>\n      <th>2</th>\n      <td>16783564</td>\n      <td>2023-01-21</td>\n      <td>2021-04-02</td>\n      <td>2023-01-16</td>\n      <td>16895</td>\n      <td>823.0</td>\n      <td>169.0</td>\n    </tr>\n    <tr>\n      <th>3</th>\n      <td>16783564</td>\n      <td>2023-01-22</td>\n      <td>2021-04-02</td>\n      <td>2023-01-16</td>\n      <td>16895</td>\n      <td>823.0</td>\n      <td>169.0</td>\n    </tr>\n    <tr>\n      <th>4</th>\n      <td>16783564</td>\n      <td>2023-01-23</td>\n      <td>2021-04-02</td>\n      <td>2023-01-23</td>\n      <td>16895</td>\n      <td>823.0</td>\n      <td>162.0</td>\n    </tr>\n    <tr>\n      <th>...</th>\n      <td>...</td>\n      <td>...</td>\n      <td>...</td>\n      <td>...</td>\n      <td>...</td>\n      <td>...</td>\n      <td>...</td>\n    </tr>\n    <tr>\n      <th>1041725</th>\n      <td>16818954</td>\n      <td>2023-06-28</td>\n      <td>2022-12-01</td>\n      <td>2023-06-27</td>\n      <td>64963</td>\n      <td>215.0</td>\n      <td>7.0</td>\n    </tr>\n    <tr>\n      <th>1041726</th>\n      <td>16818955</td>\n      <td>2023-06-28</td>\n      <td>2023-06-27</td>\n      <td>2023-06-27</td>\n      <td>32490</td>\n      <td>7.0</td>\n      <td>7.0</td>\n    </tr>\n    <tr>\n      <th>1041727</th>\n      <td>16818958</td>\n      <td>2023-06-28</td>\n      <td>2022-12-01</td>\n      <td>2022-12-01</td>\n      <td>64963</td>\n      <td>215.0</td>\n      <td>215.0</td>\n    </tr>\n    <tr>\n      <th>1041728</th>\n      <td>16818959</td>\n      <td>2023-06-28</td>\n      <td>2023-06-27</td>\n      <td>2023-06-27</td>\n      <td>33573</td>\n      <td>7.0</td>\n      <td>7.0</td>\n    </tr>\n    <tr>\n      <th>1041729</th>\n      <td>16818962</td>\n      <td>2023-06-28</td>\n      <td>2023-06-27</td>\n      <td>2023-06-27</td>\n      <td>32490</td>\n      <td>7.0</td>\n      <td>7.0</td>\n    </tr>\n  </tbody>\n</table>\n<p>1041730 rows × 7 columns</p>\n</div>"
     },
     "execution_count": 14,
     "metadata": {},
     "output_type": "execute_result"
    }
   ],
   "source": [
    "df"
   ],
   "metadata": {
    "collapsed": false,
    "ExecuteTime": {
     "end_time": "2023-08-04T02:27:34.822280423Z",
     "start_time": "2023-08-04T02:27:34.774712409Z"
    }
   }
  },
  {
   "cell_type": "code",
   "execution_count": 15,
   "outputs": [],
   "source": [
    "features.to_parquet('../do_not_commit/FeatureDatasets/operating_system_features.pq')"
   ],
   "metadata": {
    "collapsed": false,
    "ExecuteTime": {
     "end_time": "2023-08-04T02:27:38.725699352Z",
     "start_time": "2023-08-04T02:27:38.510399408Z"
    }
   }
  },
  {
   "cell_type": "markdown",
   "source": [
    "\n",
    "# DEPRECATED.\n"
   ],
   "metadata": {
    "collapsed": false
   }
  },
  {
   "cell_type": "markdown",
   "source": [
    "\n",
    "# os_install_date_age\n"
   ],
   "metadata": {
    "collapsed": false
   }
  },
  {
   "cell_type": "code",
   "execution_count": 4,
   "outputs": [],
   "source": [
    "# Age of the operating system calculated from the os_install_age.\n",
    "# .groupby([MachineID, RWB_effective_date]) and use the .max() value of 'os_install_age'.\n",
    "\n",
    "# RJ 08/01/23: 'os_install_age' doesn't exist. Using 'InstallDate00'.\n",
    "# os_install_age = df.groupby(['MachineID', 'RWB_EFFECTIVE_DATE'])['InstallDate00'].agg('max').reset_index()\n",
    "# os_install_age.to_parquet('../do_not_commit/FeatureDatasets/os_install_age.pq')\n",
    "# os_install_age"
   ],
   "metadata": {
    "collapsed": false,
    "ExecuteTime": {
     "end_time": "2023-08-04T01:47:17.613603438Z",
     "start_time": "2023-08-04T01:47:17.611921563Z"
    }
   }
  },
  {
   "cell_type": "markdown",
   "source": [
    "\n",
    "# last_boot_up_time\n"
   ],
   "metadata": {
    "collapsed": false
   }
  },
  {
   "cell_type": "code",
   "execution_count": 5,
   "outputs": [],
   "source": [
    "# Number of days since the machine was last booted.\n",
    "# Can calculate this from the Operating_System_DATA table using the LastBootUpTime0 attribute.\n",
    "# .groupby([MachineID, RWB_effective_date]) and use the .min() value of 'LastBootUpTime00'.\n",
    "\n",
    "# last_boot = df.groupby(['MachineID', 'RWB_EFFECTIVE_DATE'])['LastBootUpTime00'].agg('min').reset_index()\n",
    "# last_boot.to_parquet('../do_not_commit/FeatureDatasets/last_boot_up_time.pq')\n",
    "# last_boot"
   ],
   "metadata": {
    "collapsed": false,
    "ExecuteTime": {
     "end_time": "2023-08-04T01:47:17.616303760Z",
     "start_time": "2023-08-04T01:47:17.614063360Z"
    }
   }
  },
  {
   "cell_type": "markdown",
   "source": [
    "\n",
    "# os_total_virtual_memory_size\n"
   ],
   "metadata": {
    "collapsed": false
   }
  },
  {
   "cell_type": "code",
   "execution_count": 6,
   "outputs": [],
   "source": [
    "# Total virtual operating system memory size.\n",
    "# .groupby([MachineId, RWB_effective_date]) and use the .max() value of 'TotalVirtualMemorySize00'.\n",
    "\n",
    "# os_total_virtual_memory_size = df.groupby(['MachineID', 'RWB_EFFECTIVE_DATE'])['TotalVirtualMemorySize00'].agg('max').reset_index()\n",
    "# os_total_virtual_memory_size.to_parquet('../do_not_commit/FeatureDatasets/os_total_virtual_memory_size.pq')\n",
    "# os_total_virtual_memory_size"
   ],
   "metadata": {
    "collapsed": false,
    "ExecuteTime": {
     "end_time": "2023-08-04T01:47:17.619584787Z",
     "start_time": "2023-08-04T01:47:17.618176837Z"
    }
   }
  }
 ],
 "metadata": {
  "kernelspec": {
   "display_name": "Python 3",
   "language": "python",
   "name": "python3"
  },
  "language_info": {
   "codemirror_mode": {
    "name": "ipython",
    "version": 2
   },
   "file_extension": ".py",
   "mimetype": "text/x-python",
   "name": "python",
   "nbconvert_exporter": "python",
   "pygments_lexer": "ipython2",
   "version": "2.7.6"
  }
 },
 "nbformat": 4,
 "nbformat_minor": 0
}

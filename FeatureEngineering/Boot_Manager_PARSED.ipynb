{
 "cells": [
  {
   "cell_type": "code",
   "execution_count": 4,
   "metadata": {
    "collapsed": true,
    "ExecuteTime": {
     "end_time": "2023-08-02T23:25:18.011020327Z",
     "start_time": "2023-08-02T23:25:17.990984360Z"
    }
   },
   "outputs": [],
   "source": [
    "import pandas as pd"
   ]
  },
  {
   "cell_type": "code",
   "execution_count": 5,
   "outputs": [],
   "source": [
    "df = pd.read_parquet('../do_not_commit/Datasets/Boot_Events_PARSED.parquet')"
   ],
   "metadata": {
    "collapsed": false,
    "ExecuteTime": {
     "end_time": "2023-08-02T23:25:19.108049490Z",
     "start_time": "2023-08-02T23:25:18.005449130Z"
    }
   }
  },
  {
   "cell_type": "code",
   "execution_count": 6,
   "outputs": [
    {
     "name": "stdout",
     "output_type": "stream",
     "text": [
      "<class 'pandas.core.frame.DataFrame'>\n",
      "Index: 1593485 entries, 0 to 4357\n",
      "Data columns (total 32 columns):\n",
      " #   Column                                Non-Null Count    Dtype         \n",
      "---  ------                                --------------    -----         \n",
      " 0   RWB_EVENTBOOTRESULT_ID                1593485 non-null  int64         \n",
      " 1   RWB_ETL_EVENT_DESTINATION_IDENTIFIER  1593485 non-null  int64         \n",
      " 2   RWB_CREATE_TIMESTAMP                  1593485 non-null  object        \n",
      " 3   RWB_EFFECTIVE_DATE                    1593485 non-null  object        \n",
      " 4   ID                                    1593485 non-null  int64         \n",
      " 5   EventListID                           1593485 non-null  int64         \n",
      " 6   ClientItemKey                         1593485 non-null  int64         \n",
      " 7   GeneratedTime                         1593485 non-null  datetime64[ns]\n",
      " 8   UpdateDurationInMilliseconds          1593485 non-null  int64         \n",
      " 9   GPDurationInMilliseconds              1593485 non-null  int64         \n",
      " 10  CoreBootDurationInMilliseconds        1593485 non-null  int64         \n",
      " 11  TotalBootDurationInMilliseconds       1593485 non-null  int64         \n",
      " 12  BootId                                1593485 non-null  datetime64[ns]\n",
      " 13  BiosDurationInMilliseconds            1593485 non-null  int64         \n",
      " 14  BootDiskMediaType                     1593485 non-null  int64         \n",
      " 15  OSVersion                             1593485 non-null  int64         \n",
      " 16  BootReason                            1593485 non-null  int64         \n",
      " 17  SchemaVersion                         1593448 non-null  object        \n",
      " 18  SystemPowerOffTime                    1593485 non-null  object        \n",
      " 19  MachineName                           1593485 non-null  object        \n",
      " 20  AppVersion                            1593485 non-null  object        \n",
      " 21  Reason                                1593485 non-null  object        \n",
      " 22  ExceptionCode                         1593485 non-null  object        \n",
      " 23  param5                                1593485 non-null  object        \n",
      " 24  ActionDescription                     983586 non-null   object        \n",
      " 25  ProductVersion                        1593485 non-null  int64         \n",
      " 26  ProductName                           1593485 non-null  object        \n",
      " 27  Publisher                             1593485 non-null  object        \n",
      " 28  ProgramId                             1592892 non-null  object        \n",
      " 29  FileId                                1592892 non-null  object        \n",
      " 30  FileVersion                           1593485 non-null  int64         \n",
      " 31  ReportId                              0 non-null        object        \n",
      "dtypes: datetime64[ns](2), int64(15), object(15)\n",
      "memory usage: 401.2+ MB\n"
     ]
    }
   ],
   "source": [
    "df.info()"
   ],
   "metadata": {
    "collapsed": false,
    "ExecuteTime": {
     "end_time": "2023-08-02T23:25:19.564177749Z",
     "start_time": "2023-08-02T23:25:19.150809599Z"
    }
   }
  },
  {
   "cell_type": "markdown",
   "source": [
    "\n",
    "# Average Boot Time.\n"
   ],
   "metadata": {
    "collapsed": false
   }
  },
  {
   "cell_type": "code",
   "execution_count": 7,
   "outputs": [
    {
     "data": {
      "text/plain": "       RWB_EFFECTIVE_DATE  ClientItemKey  TotalBootDurationInMilliseconds\n0              2022-08-30       16783564                          88739.0\n1              2022-08-30       16783835                          46895.0\n2              2022-08-30       16784042                          23363.0\n3              2022-08-30       16784339                         107468.0\n4              2022-08-30       16784657                         122708.0\n...                   ...            ...                              ...\n979823         2023-07-18       16819191                          19822.0\n979824         2023-07-18       16819194                          27542.0\n979825         2023-07-18       16819195                          61762.0\n979826         2023-07-18       16819196                          39291.0\n979827         2023-07-18       16819202                          36152.0\n\n[979828 rows x 3 columns]",
      "text/html": "<div>\n<style scoped>\n    .dataframe tbody tr th:only-of-type {\n        vertical-align: middle;\n    }\n\n    .dataframe tbody tr th {\n        vertical-align: top;\n    }\n\n    .dataframe thead th {\n        text-align: right;\n    }\n</style>\n<table border=\"1\" class=\"dataframe\">\n  <thead>\n    <tr style=\"text-align: right;\">\n      <th></th>\n      <th>RWB_EFFECTIVE_DATE</th>\n      <th>ClientItemKey</th>\n      <th>TotalBootDurationInMilliseconds</th>\n    </tr>\n  </thead>\n  <tbody>\n    <tr>\n      <th>0</th>\n      <td>2022-08-30</td>\n      <td>16783564</td>\n      <td>88739.0</td>\n    </tr>\n    <tr>\n      <th>1</th>\n      <td>2022-08-30</td>\n      <td>16783835</td>\n      <td>46895.0</td>\n    </tr>\n    <tr>\n      <th>2</th>\n      <td>2022-08-30</td>\n      <td>16784042</td>\n      <td>23363.0</td>\n    </tr>\n    <tr>\n      <th>3</th>\n      <td>2022-08-30</td>\n      <td>16784339</td>\n      <td>107468.0</td>\n    </tr>\n    <tr>\n      <th>4</th>\n      <td>2022-08-30</td>\n      <td>16784657</td>\n      <td>122708.0</td>\n    </tr>\n    <tr>\n      <th>...</th>\n      <td>...</td>\n      <td>...</td>\n      <td>...</td>\n    </tr>\n    <tr>\n      <th>979823</th>\n      <td>2023-07-18</td>\n      <td>16819191</td>\n      <td>19822.0</td>\n    </tr>\n    <tr>\n      <th>979824</th>\n      <td>2023-07-18</td>\n      <td>16819194</td>\n      <td>27542.0</td>\n    </tr>\n    <tr>\n      <th>979825</th>\n      <td>2023-07-18</td>\n      <td>16819195</td>\n      <td>61762.0</td>\n    </tr>\n    <tr>\n      <th>979826</th>\n      <td>2023-07-18</td>\n      <td>16819196</td>\n      <td>39291.0</td>\n    </tr>\n    <tr>\n      <th>979827</th>\n      <td>2023-07-18</td>\n      <td>16819202</td>\n      <td>36152.0</td>\n    </tr>\n  </tbody>\n</table>\n<p>979828 rows × 3 columns</p>\n</div>"
     },
     "execution_count": 7,
     "metadata": {},
     "output_type": "execute_result"
    }
   ],
   "source": [
    "# For each machine on a given day, calculate the average boot time\n",
    "# in milliseconds using the 'TotalBootDurationInMilliseconds' field.\n",
    "\n",
    "# 'AppVersion' appears to actually be machine name.\n",
    "average_boot_time = df.groupby(['RWB_EFFECTIVE_DATE', 'ClientItemKey'])['TotalBootDurationInMilliseconds'].agg('mean').round().reset_index()\n",
    "average_boot_time"
   ],
   "metadata": {
    "collapsed": false,
    "ExecuteTime": {
     "end_time": "2023-08-02T23:25:19.935716753Z",
     "start_time": "2023-08-02T23:25:19.572883753Z"
    }
   }
  },
  {
   "cell_type": "code",
   "execution_count": 8,
   "outputs": [],
   "source": [
    "average_boot_time.to_parquet('../do_not_commit/FeatureDatasets/boot_events_parsed_features.pq')"
   ],
   "metadata": {
    "collapsed": false,
    "ExecuteTime": {
     "end_time": "2023-08-02T23:25:19.960906710Z",
     "start_time": "2023-08-02T23:25:19.889558738Z"
    }
   }
  }
 ],
 "metadata": {
  "kernelspec": {
   "display_name": "Python 3",
   "language": "python",
   "name": "python3"
  },
  "language_info": {
   "codemirror_mode": {
    "name": "ipython",
    "version": 2
   },
   "file_extension": ".py",
   "mimetype": "text/x-python",
   "name": "python",
   "nbconvert_exporter": "python",
   "pygments_lexer": "ipython2",
   "version": "2.7.6"
  }
 },
 "nbformat": 4,
 "nbformat_minor": 0
}
